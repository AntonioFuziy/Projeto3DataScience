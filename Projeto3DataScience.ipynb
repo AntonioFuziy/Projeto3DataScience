{
 "cells": [
  {
   "cell_type": "markdown",
   "metadata": {},
   "source": [
    "___\n",
    "# **Insper - Ciência dos Dados**\n",
    "\n",
    "## **Projeto 3:**\n",
    "\n",
    "Membros:\n",
    "* Antonio Vieira Fuziy\n",
    "* Willian Kenzo\n",
    "* Ramon Menegatto\n",
    "* André Rocco\n",
    "\n",
    "___\n",
    "### Pergunta e Contexto:\n",
    "\n",
    "* A base de dados escolhida pelo grupo foi retirada do site Kaggle, esse DataFrame é fictício e foi criado por cientistas de dados da IBM com a finalidade de gerar um desafio para que as pessoas tentassem analisar atributos e o desempenho de funcionários da IBM HR Analytics. Assim, a partir desses dados o desafio do nosso grupo seria analisar não só o desempenho e os atributos dos funcionários da IBM, mas também tentar prever a demissão ou saída de um funcionário com auxílio de machine learning.\n",
    "\n",
    "**Link para a base de dados:** [IBM HR Analytics Employee Attrition & Performance](https://www.kaggle.com/pavansubhasht/ibm-hr-analytics-attrition-dataset)\n",
    "\n",
    "**DataFrame principal do projeto:** `IBM`\n",
    "\n",
    "* Utilizando a base de dados da empresa, formulamos a seguinte pergunta:\n",
    "\n",
    "    Qual seriam os parâmetros e as variáveis que influenciam na saída de funcionários da empresa, e a partir dessas variáveis, quais seriam os perfis das pessoas que podem acabar saindo por opinião própria ou sendo demitidas da empresa?"
   ]
  },
  {
   "cell_type": "markdown",
   "metadata": {},
   "source": [
    "___\n",
    "**Importando Bibliotecas:**"
   ]
  },
  {
   "cell_type": "code",
<<<<<<< HEAD
   "execution_count": 55,
=======
   "execution_count": 440,
>>>>>>> a083f58117c24ecf875146665f41926c284f5015
   "metadata": {},
   "outputs": [],
   "source": [
    "import pandas as pd\n",
    "import numpy as np\n",
    "import matplotlib.pyplot as plt\n",
    "import statsmodels.api as sm\n",
    "import seaborn as sns\n",
    "import plotly.express as px\n",
    "import plotly.offline as py\n",
    "import plotly.graph_objs as go\n",
    "import plotly.tools as tls\n",
    "import plotly.figure_factory as ff\n",
    "from sklearn.ensemble import RandomForestRegressor\n",
    "from sklearn.preprocessing import StandardScaler\n",
    "from sklearn.model_selection import train_test_split\n",
    "from imblearn.over_sampling import SMOTE\n",
    "from sklearn.ensemble import RandomForestClassifier, GradientBoostingClassifier\n",
    "from sklearn.metrics import accuracy_score, log_loss\n",
    "from xgboost import XGBClassifier\n",
    "from sklearn import datasets, linear_model, metrics \n",
    "from sklearn.svm import SVC\n",
    "from sklearn.metrics import classification_report, confusion_matrix\n",
    "\n",
    "from sklearn.model_selection import KFold\n",
    "from sklearn.preprocessing import MinMaxScaler\n",
    "from sklearn.svm import SVR\n",
    "from sklearn.model_selection import cross_val_predict, cross_val_score\n",
    "from sklearn.ensemble import AdaBoostClassifier\n",
    "from sklearn.tree import DecisionTreeClassifier\n",
    "from sklearn.datasets import load_breast_cancer\n",
    "\n",
    "from sklearn.model_selection import train_test_split\n",
    "from sklearn.metrics import confusion_matrix\n",
    "from sklearn.preprocessing import LabelEncoder\n",
    "from sklearn.pipeline import Pipeline\n",
    "\n",
    "import h2o\n",
    "from h2o.estimators.glm import H2OGeneralizedLinearEstimator"
   ]
  },
  {
   "cell_type": "code",
<<<<<<< HEAD
   "execution_count": 56,
=======
   "execution_count": 441,
>>>>>>> a083f58117c24ecf875146665f41926c284f5015
   "metadata": {},
   "outputs": [
    {
     "data": {
      "text/html": [
       "<div>\n",
       "<style scoped>\n",
       "    .dataframe tbody tr th:only-of-type {\n",
       "        vertical-align: middle;\n",
       "    }\n",
       "\n",
       "    .dataframe tbody tr th {\n",
       "        vertical-align: top;\n",
       "    }\n",
       "\n",
       "    .dataframe thead th {\n",
       "        text-align: right;\n",
       "    }\n",
       "</style>\n",
       "<table border=\"1\" class=\"dataframe\">\n",
       "  <thead>\n",
       "    <tr style=\"text-align: right;\">\n",
       "      <th></th>\n",
       "      <th>Age</th>\n",
       "      <th>Attrition</th>\n",
       "      <th>BusinessTravel</th>\n",
       "      <th>Department</th>\n",
       "      <th>DistanceFromHome</th>\n",
       "      <th>Education</th>\n",
       "      <th>EducationField</th>\n",
       "      <th>EmployeeNumber</th>\n",
       "      <th>EnvironmentSatisfaction</th>\n",
       "      <th>Gender</th>\n",
       "      <th>...</th>\n",
       "      <th>PerformanceRating</th>\n",
       "      <th>RelationshipSatisfaction</th>\n",
       "      <th>StockOptionLevel</th>\n",
       "      <th>TotalWorkingYears</th>\n",
       "      <th>TrainingTimesLastYear</th>\n",
       "      <th>WorkLifeBalance</th>\n",
       "      <th>YearsAtCompany</th>\n",
       "      <th>YearsInCurrentRole</th>\n",
       "      <th>YearsSinceLastPromotion</th>\n",
       "      <th>YearsWithCurrManager</th>\n",
       "    </tr>\n",
       "  </thead>\n",
       "  <tbody>\n",
       "    <tr>\n",
       "      <th>0</th>\n",
       "      <td>41</td>\n",
       "      <td>Yes</td>\n",
       "      <td>Travel_Rarely</td>\n",
       "      <td>Sales</td>\n",
       "      <td>1</td>\n",
       "      <td>2</td>\n",
       "      <td>Life Sciences</td>\n",
       "      <td>1</td>\n",
       "      <td>2</td>\n",
       "      <td>Female</td>\n",
       "      <td>...</td>\n",
       "      <td>3</td>\n",
       "      <td>1</td>\n",
       "      <td>0</td>\n",
       "      <td>8</td>\n",
       "      <td>0</td>\n",
       "      <td>1</td>\n",
       "      <td>6</td>\n",
       "      <td>4</td>\n",
       "      <td>0</td>\n",
       "      <td>5</td>\n",
       "    </tr>\n",
       "    <tr>\n",
       "      <th>1</th>\n",
       "      <td>49</td>\n",
       "      <td>No</td>\n",
       "      <td>Travel_Frequently</td>\n",
       "      <td>Research &amp; Development</td>\n",
       "      <td>8</td>\n",
       "      <td>1</td>\n",
       "      <td>Life Sciences</td>\n",
       "      <td>2</td>\n",
       "      <td>3</td>\n",
       "      <td>Male</td>\n",
       "      <td>...</td>\n",
       "      <td>4</td>\n",
       "      <td>4</td>\n",
       "      <td>1</td>\n",
       "      <td>10</td>\n",
       "      <td>3</td>\n",
       "      <td>3</td>\n",
       "      <td>10</td>\n",
       "      <td>7</td>\n",
       "      <td>1</td>\n",
       "      <td>7</td>\n",
       "    </tr>\n",
       "    <tr>\n",
       "      <th>2</th>\n",
       "      <td>37</td>\n",
       "      <td>Yes</td>\n",
       "      <td>Travel_Rarely</td>\n",
       "      <td>Research &amp; Development</td>\n",
       "      <td>2</td>\n",
       "      <td>2</td>\n",
       "      <td>Other</td>\n",
       "      <td>4</td>\n",
       "      <td>4</td>\n",
       "      <td>Male</td>\n",
       "      <td>...</td>\n",
       "      <td>3</td>\n",
       "      <td>2</td>\n",
       "      <td>0</td>\n",
       "      <td>7</td>\n",
       "      <td>3</td>\n",
       "      <td>3</td>\n",
       "      <td>0</td>\n",
       "      <td>0</td>\n",
       "      <td>0</td>\n",
       "      <td>0</td>\n",
       "    </tr>\n",
       "    <tr>\n",
       "      <th>3</th>\n",
       "      <td>33</td>\n",
       "      <td>No</td>\n",
       "      <td>Travel_Frequently</td>\n",
       "      <td>Research &amp; Development</td>\n",
       "      <td>3</td>\n",
       "      <td>4</td>\n",
       "      <td>Life Sciences</td>\n",
       "      <td>5</td>\n",
       "      <td>4</td>\n",
       "      <td>Female</td>\n",
       "      <td>...</td>\n",
       "      <td>3</td>\n",
       "      <td>3</td>\n",
       "      <td>0</td>\n",
       "      <td>8</td>\n",
       "      <td>3</td>\n",
       "      <td>3</td>\n",
       "      <td>8</td>\n",
       "      <td>7</td>\n",
       "      <td>3</td>\n",
       "      <td>0</td>\n",
       "    </tr>\n",
       "    <tr>\n",
       "      <th>4</th>\n",
       "      <td>27</td>\n",
       "      <td>No</td>\n",
       "      <td>Travel_Rarely</td>\n",
       "      <td>Research &amp; Development</td>\n",
       "      <td>2</td>\n",
       "      <td>1</td>\n",
       "      <td>Medical</td>\n",
       "      <td>7</td>\n",
       "      <td>1</td>\n",
       "      <td>Male</td>\n",
       "      <td>...</td>\n",
       "      <td>3</td>\n",
       "      <td>4</td>\n",
       "      <td>1</td>\n",
       "      <td>6</td>\n",
       "      <td>3</td>\n",
       "      <td>3</td>\n",
       "      <td>2</td>\n",
       "      <td>2</td>\n",
       "      <td>2</td>\n",
       "      <td>2</td>\n",
       "    </tr>\n",
       "  </tbody>\n",
       "</table>\n",
       "<p>5 rows × 31 columns</p>\n",
       "</div>"
      ],
      "text/plain": [
       "   Age Attrition     BusinessTravel              Department  DistanceFromHome  \\\n",
       "0   41       Yes      Travel_Rarely                   Sales                 1   \n",
       "1   49        No  Travel_Frequently  Research & Development                 8   \n",
       "2   37       Yes      Travel_Rarely  Research & Development                 2   \n",
       "3   33        No  Travel_Frequently  Research & Development                 3   \n",
       "4   27        No      Travel_Rarely  Research & Development                 2   \n",
       "\n",
       "   Education EducationField  EmployeeNumber  EnvironmentSatisfaction  Gender  \\\n",
       "0          2  Life Sciences               1                        2  Female   \n",
       "1          1  Life Sciences               2                        3    Male   \n",
       "2          2          Other               4                        4    Male   \n",
       "3          4  Life Sciences               5                        4  Female   \n",
       "4          1        Medical               7                        1    Male   \n",
       "\n",
       "          ...           PerformanceRating  RelationshipSatisfaction  \\\n",
       "0         ...                           3                         1   \n",
       "1         ...                           4                         4   \n",
       "2         ...                           3                         2   \n",
       "3         ...                           3                         3   \n",
       "4         ...                           3                         4   \n",
       "\n",
       "   StockOptionLevel TotalWorkingYears  TrainingTimesLastYear WorkLifeBalance  \\\n",
       "0                 0                 8                      0               1   \n",
       "1                 1                10                      3               3   \n",
       "2                 0                 7                      3               3   \n",
       "3                 0                 8                      3               3   \n",
       "4                 1                 6                      3               3   \n",
       "\n",
       "   YearsAtCompany  YearsInCurrentRole  YearsSinceLastPromotion  \\\n",
       "0               6                   4                        0   \n",
       "1              10                   7                        1   \n",
       "2               0                   0                        0   \n",
       "3               8                   7                        3   \n",
       "4               2                   2                        2   \n",
       "\n",
       "  YearsWithCurrManager  \n",
       "0                    5  \n",
       "1                    7  \n",
       "2                    0  \n",
       "3                    0  \n",
       "4                    2  \n",
       "\n",
       "[5 rows x 31 columns]"
      ]
     },
<<<<<<< HEAD
     "execution_count": 56,
=======
     "execution_count": 441,
>>>>>>> a083f58117c24ecf875146665f41926c284f5015
     "metadata": {},
     "output_type": "execute_result"
    }
   ],
   "source": [
    "#Importando Excel:\n",
    "IBM_semfiltro = pd.read_csv('IBM.csv')\n",
    "\n",
    "#Filtrando colunas do DataFrame:\n",
    "IBM = IBM_semfiltro.drop(columns=['EmployeeCount','StandardHours','Over18','DailyRate'])\n",
    "\n",
    "IBM.head()"
   ]
  },
  {
   "cell_type": "code",
<<<<<<< HEAD
   "execution_count": 57,
=======
   "execution_count": 442,
>>>>>>> a083f58117c24ecf875146665f41926c284f5015
   "metadata": {},
   "outputs": [],
   "source": [
    "#Criando DataFrame que substitui a coluna Attrition = 'Yes' por 1:\n",
    "IBM.loc[IBM['Attrition'] == 'Yes', 'Attrition'] = 1\n",
    "\n",
    "#Criando DataFrame que substitui a coluna Attrition = 'No' por 0:\n",
    "IBM.loc[IBM['Attrition'] == 'No', 'Attrition'] = 0"
   ]
  },
  {
   "cell_type": "markdown",
   "metadata": {},
   "source": [
    "___\n",
    "* **Gráfico de Correlação das variáveis do DataFrame:**\n",
    "\n",
    "___\n",
    "**Legenda:**\n",
    "* **Vermelho:  Correlação Positiva**\n",
    "* **Azul:  Correlação Negativa**"
   ]
  },
  {
   "cell_type": "code",
<<<<<<< HEAD
   "execution_count": 58,
=======
   "execution_count": 443,
>>>>>>> a083f58117c24ecf875146665f41926c284f5015
   "metadata": {},
   "outputs": [
    {
     "data": {
      "image/png": "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\n",
      "text/plain": [
       "<Figure size 1080x864 with 2 Axes>"
      ]
     },
     "metadata": {
      "needs_background": "light"
     },
     "output_type": "display_data"
    }
   ],
   "source": [
    "#Criando correlação das variáveis:\n",
    "corr=IBM.corr()\n",
    "\n",
    "mask = np.zeros_like(corr, dtype=np.bool)\n",
    "mask[np.triu_indices_from(mask)] = True\n",
    "\n",
    "#Setando a figura:\n",
    "f, ax = plt.subplots(figsize=(15, 12))\n",
    "\n",
    "#Gerando as cores do as corelações:\n",
    "cmap = sns.diverging_palette(220, 10, as_cmap=True)\n",
    "\n",
    "#Printando Matriz de correlação:\n",
    "sns.heatmap(corr, mask=mask, cmap=cmap, vmax=.3, center=0,\n",
    "            square=True, linewidths=.5, cbar_kws={\"shrink\": .5});"
   ]
  },
  {
   "cell_type": "markdown",
   "metadata": {},
   "source": [
    "Nesse gráfico feito por heatmap conseguimos detectar que diversas de nossas variáveis possuem correlações entre si, mesmo se consideradas baixas, como idade e anos na empresa, ou salário mensal e idade, o que já era esperado"
   ]
  },
  {
   "cell_type": "markdown",
   "metadata": {},
   "source": [
    "___\n",
    "* **Gráfico de correlação das variáveis da empresa plotado de forma diferente para ter uma visualização diferente do gráfico acima:**"
   ]
  },
  {
   "cell_type": "code",
<<<<<<< HEAD
   "execution_count": 59,
=======
   "execution_count": 444,
>>>>>>> a083f58117c24ecf875146665f41926c284f5015
   "metadata": {},
   "outputs": [
    {
     "data": {
      "image/png": "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\n",
      "text/plain": [
       "<Figure size 1440x720 with 1 Axes>"
      ]
     },
     "metadata": {
      "needs_background": "light"
     },
     "output_type": "display_data"
    }
   ],
   "source": [
    "continuous_columns = ['Age','DistanceFromHome', 'Education', 'EnvironmentSatisfaction','HourlyRate','JobInvolvement','JobLevel','JobSatisfaction', 'MonthlyIncome', 'MonthlyRate', 'NumCompaniesWorked','PercentSalaryHike',  'PerformanceRating', 'RelationshipSatisfaction','StockOptionLevel', 'TotalWorkingYears', 'TrainingTimesLastYear','WorkLifeBalance', 'YearsAtCompany', 'YearsInCurrentRole', 'YearsSinceLastPromotion','YearsWithCurrManager'] \n",
    "b=IBM[continuous_columns]\n",
    "\n",
    "a=b.corrwith(IBM['Attrition']).plot.bar(\n",
    "        figsize = (20,10), title = \"Correlation with E Signed\", fontsize = 15,\n",
    "        rot = 45, grid = True)\n",
    "plt.ylabel('Grau de correlação das variáveis');"
   ]
  },
  {
   "cell_type": "markdown",
   "metadata": {},
   "source": [
    "Pode-se notar que a maioria de nossas variáveis tem correlação negativa com a principal(Attrition) o que nos leva a deduzir que quando uma aumenta, a outra diminui, mas o mais importante que pode ser retirado do gráfico feito é que a maioria de nossas variáveis não tem um grande impacto, já que o grau de correlação vai de 1 a -1 e no gráfico acima o máximo que temos é de 0.18"
   ]
  },
  {
   "cell_type": "code",
<<<<<<< HEAD
   "execution_count": 60,
=======
   "execution_count": 445,
>>>>>>> a083f58117c24ecf875146665f41926c284f5015
   "metadata": {
    "scrolled": false
   },
   "outputs": [
    {
     "data": {
      "text/html": [
       "<div>\n",
       "<style scoped>\n",
       "    .dataframe tbody tr th:only-of-type {\n",
       "        vertical-align: middle;\n",
       "    }\n",
       "\n",
       "    .dataframe tbody tr th {\n",
       "        vertical-align: top;\n",
       "    }\n",
       "\n",
       "    .dataframe thead th {\n",
       "        text-align: right;\n",
       "    }\n",
       "</style>\n",
       "<table border=\"1\" class=\"dataframe\">\n",
       "  <thead>\n",
       "    <tr style=\"text-align: right;\">\n",
       "      <th></th>\n",
       "      <th>Age</th>\n",
       "      <th>Attrition</th>\n",
       "      <th>BusinessTravel</th>\n",
       "      <th>Department</th>\n",
       "      <th>DistanceFromHome</th>\n",
       "      <th>Education</th>\n",
       "      <th>EducationField</th>\n",
       "      <th>EmployeeNumber</th>\n",
       "      <th>EnvironmentSatisfaction</th>\n",
       "      <th>Gender</th>\n",
       "      <th>HourlyRate</th>\n",
       "      <th>JobInvolvement</th>\n",
       "      <th>JobLevel</th>\n",
       "      <th>JobRole</th>\n",
       "      <th>JobSatisfaction</th>\n",
       "      <th>MaritalStatus</th>\n",
       "      <th>MonthlyIncome</th>\n",
       "      <th>MonthlyRate</th>\n",
       "      <th>NumCompaniesWorked</th>\n",
       "      <th>OverTime</th>\n",
       "    </tr>\n",
       "  </thead>\n",
       "  <tbody>\n",
       "    <tr>\n",
       "      <th>0</th>\n",
       "      <td>41</td>\n",
       "      <td>1</td>\n",
       "      <td>Travel_Rarely</td>\n",
       "      <td>Sales</td>\n",
       "      <td>1</td>\n",
       "      <td>2</td>\n",
       "      <td>Life Sciences</td>\n",
       "      <td>1</td>\n",
       "      <td>2</td>\n",
       "      <td>Female</td>\n",
       "      <td>94</td>\n",
       "      <td>3</td>\n",
       "      <td>2</td>\n",
       "      <td>Sales Executive</td>\n",
       "      <td>4</td>\n",
       "      <td>Single</td>\n",
       "      <td>5993</td>\n",
       "      <td>19479</td>\n",
       "      <td>8</td>\n",
       "      <td>Yes</td>\n",
       "    </tr>\n",
       "    <tr>\n",
       "      <th>1</th>\n",
       "      <td>49</td>\n",
       "      <td>0</td>\n",
       "      <td>Travel_Frequently</td>\n",
       "      <td>Research &amp; Development</td>\n",
       "      <td>8</td>\n",
       "      <td>1</td>\n",
       "      <td>Life Sciences</td>\n",
       "      <td>2</td>\n",
       "      <td>3</td>\n",
       "      <td>Male</td>\n",
       "      <td>61</td>\n",
       "      <td>2</td>\n",
       "      <td>2</td>\n",
       "      <td>Research Scientist</td>\n",
       "      <td>2</td>\n",
       "      <td>Married</td>\n",
       "      <td>5130</td>\n",
       "      <td>24907</td>\n",
       "      <td>1</td>\n",
       "      <td>No</td>\n",
       "    </tr>\n",
       "    <tr>\n",
       "      <th>2</th>\n",
       "      <td>37</td>\n",
       "      <td>1</td>\n",
       "      <td>Travel_Rarely</td>\n",
       "      <td>Research &amp; Development</td>\n",
       "      <td>2</td>\n",
       "      <td>2</td>\n",
       "      <td>Other</td>\n",
       "      <td>4</td>\n",
       "      <td>4</td>\n",
       "      <td>Male</td>\n",
       "      <td>92</td>\n",
       "      <td>2</td>\n",
       "      <td>1</td>\n",
       "      <td>Laboratory Technician</td>\n",
       "      <td>3</td>\n",
       "      <td>Single</td>\n",
       "      <td>2090</td>\n",
       "      <td>2396</td>\n",
       "      <td>6</td>\n",
       "      <td>Yes</td>\n",
       "    </tr>\n",
       "    <tr>\n",
       "      <th>3</th>\n",
       "      <td>33</td>\n",
       "      <td>0</td>\n",
       "      <td>Travel_Frequently</td>\n",
       "      <td>Research &amp; Development</td>\n",
       "      <td>3</td>\n",
       "      <td>4</td>\n",
       "      <td>Life Sciences</td>\n",
       "      <td>5</td>\n",
       "      <td>4</td>\n",
       "      <td>Female</td>\n",
       "      <td>56</td>\n",
       "      <td>3</td>\n",
       "      <td>1</td>\n",
       "      <td>Research Scientist</td>\n",
       "      <td>3</td>\n",
       "      <td>Married</td>\n",
       "      <td>2909</td>\n",
       "      <td>23159</td>\n",
       "      <td>1</td>\n",
       "      <td>Yes</td>\n",
       "    </tr>\n",
       "    <tr>\n",
       "      <th>4</th>\n",
       "      <td>27</td>\n",
       "      <td>0</td>\n",
       "      <td>Travel_Rarely</td>\n",
       "      <td>Research &amp; Development</td>\n",
       "      <td>2</td>\n",
       "      <td>1</td>\n",
       "      <td>Medical</td>\n",
       "      <td>7</td>\n",
       "      <td>1</td>\n",
       "      <td>Male</td>\n",
       "      <td>40</td>\n",
       "      <td>3</td>\n",
       "      <td>1</td>\n",
       "      <td>Laboratory Technician</td>\n",
       "      <td>2</td>\n",
       "      <td>Married</td>\n",
       "      <td>3468</td>\n",
       "      <td>16632</td>\n",
       "      <td>9</td>\n",
       "      <td>No</td>\n",
       "    </tr>\n",
       "  </tbody>\n",
       "</table>\n",
       "</div>"
      ],
      "text/plain": [
       "   Age  Attrition     BusinessTravel              Department  \\\n",
       "0   41          1      Travel_Rarely                   Sales   \n",
       "1   49          0  Travel_Frequently  Research & Development   \n",
       "2   37          1      Travel_Rarely  Research & Development   \n",
       "3   33          0  Travel_Frequently  Research & Development   \n",
       "4   27          0      Travel_Rarely  Research & Development   \n",
       "\n",
       "   DistanceFromHome  Education EducationField  EmployeeNumber  \\\n",
       "0                 1          2  Life Sciences               1   \n",
       "1                 8          1  Life Sciences               2   \n",
       "2                 2          2          Other               4   \n",
       "3                 3          4  Life Sciences               5   \n",
       "4                 2          1        Medical               7   \n",
       "\n",
       "   EnvironmentSatisfaction  Gender  HourlyRate  JobInvolvement  JobLevel  \\\n",
       "0                        2  Female          94               3         2   \n",
       "1                        3    Male          61               2         2   \n",
       "2                        4    Male          92               2         1   \n",
       "3                        4  Female          56               3         1   \n",
       "4                        1    Male          40               3         1   \n",
       "\n",
       "                 JobRole  JobSatisfaction MaritalStatus  MonthlyIncome  \\\n",
       "0        Sales Executive                4        Single           5993   \n",
       "1     Research Scientist                2       Married           5130   \n",
       "2  Laboratory Technician                3        Single           2090   \n",
       "3     Research Scientist                3       Married           2909   \n",
       "4  Laboratory Technician                2       Married           3468   \n",
       "\n",
       "   MonthlyRate  NumCompaniesWorked OverTime  \n",
       "0        19479                   8      Yes  \n",
       "1        24907                   1       No  \n",
       "2         2396                   6      Yes  \n",
       "3        23159                   1      Yes  \n",
       "4        16632                   9       No  "
      ]
     },
<<<<<<< HEAD
     "execution_count": 60,
=======
     "execution_count": 445,
>>>>>>> a083f58117c24ecf875146665f41926c284f5015
     "metadata": {},
     "output_type": "execute_result"
    }
   ],
   "source": [
    "#Printando DataFrame para visualização dos parâmetros.\n",
    "IBM.iloc[:,0:20].head()"
   ]
  },
  {
   "cell_type": "code",
<<<<<<< HEAD
   "execution_count": 61,
=======
   "execution_count": 446,
>>>>>>> a083f58117c24ecf875146665f41926c284f5015
   "metadata": {},
   "outputs": [
    {
     "data": {
      "text/html": [
       "<div>\n",
       "<style scoped>\n",
       "    .dataframe tbody tr th:only-of-type {\n",
       "        vertical-align: middle;\n",
       "    }\n",
       "\n",
       "    .dataframe tbody tr th {\n",
       "        vertical-align: top;\n",
       "    }\n",
       "\n",
       "    .dataframe thead th {\n",
       "        text-align: right;\n",
       "    }\n",
       "</style>\n",
       "<table border=\"1\" class=\"dataframe\">\n",
       "  <thead>\n",
       "    <tr style=\"text-align: right;\">\n",
       "      <th></th>\n",
       "      <th>PercentSalaryHike</th>\n",
       "      <th>PerformanceRating</th>\n",
       "      <th>RelationshipSatisfaction</th>\n",
       "      <th>StockOptionLevel</th>\n",
       "      <th>TotalWorkingYears</th>\n",
       "      <th>TrainingTimesLastYear</th>\n",
       "      <th>WorkLifeBalance</th>\n",
       "      <th>YearsAtCompany</th>\n",
       "      <th>YearsInCurrentRole</th>\n",
       "      <th>YearsSinceLastPromotion</th>\n",
       "      <th>YearsWithCurrManager</th>\n",
       "    </tr>\n",
       "  </thead>\n",
       "  <tbody>\n",
       "    <tr>\n",
       "      <th>0</th>\n",
       "      <td>11</td>\n",
       "      <td>3</td>\n",
       "      <td>1</td>\n",
       "      <td>0</td>\n",
       "      <td>8</td>\n",
       "      <td>0</td>\n",
       "      <td>1</td>\n",
       "      <td>6</td>\n",
       "      <td>4</td>\n",
       "      <td>0</td>\n",
       "      <td>5</td>\n",
       "    </tr>\n",
       "    <tr>\n",
       "      <th>1</th>\n",
       "      <td>23</td>\n",
       "      <td>4</td>\n",
       "      <td>4</td>\n",
       "      <td>1</td>\n",
       "      <td>10</td>\n",
       "      <td>3</td>\n",
       "      <td>3</td>\n",
       "      <td>10</td>\n",
       "      <td>7</td>\n",
       "      <td>1</td>\n",
       "      <td>7</td>\n",
       "    </tr>\n",
       "    <tr>\n",
       "      <th>2</th>\n",
       "      <td>15</td>\n",
       "      <td>3</td>\n",
       "      <td>2</td>\n",
       "      <td>0</td>\n",
       "      <td>7</td>\n",
       "      <td>3</td>\n",
       "      <td>3</td>\n",
       "      <td>0</td>\n",
       "      <td>0</td>\n",
       "      <td>0</td>\n",
       "      <td>0</td>\n",
       "    </tr>\n",
       "    <tr>\n",
       "      <th>3</th>\n",
       "      <td>11</td>\n",
       "      <td>3</td>\n",
       "      <td>3</td>\n",
       "      <td>0</td>\n",
       "      <td>8</td>\n",
       "      <td>3</td>\n",
       "      <td>3</td>\n",
       "      <td>8</td>\n",
       "      <td>7</td>\n",
       "      <td>3</td>\n",
       "      <td>0</td>\n",
       "    </tr>\n",
       "    <tr>\n",
       "      <th>4</th>\n",
       "      <td>12</td>\n",
       "      <td>3</td>\n",
       "      <td>4</td>\n",
       "      <td>1</td>\n",
       "      <td>6</td>\n",
       "      <td>3</td>\n",
       "      <td>3</td>\n",
       "      <td>2</td>\n",
       "      <td>2</td>\n",
       "      <td>2</td>\n",
       "      <td>2</td>\n",
       "    </tr>\n",
       "  </tbody>\n",
       "</table>\n",
       "</div>"
      ],
      "text/plain": [
       "   PercentSalaryHike  PerformanceRating  RelationshipSatisfaction  \\\n",
       "0                 11                  3                         1   \n",
       "1                 23                  4                         4   \n",
       "2                 15                  3                         2   \n",
       "3                 11                  3                         3   \n",
       "4                 12                  3                         4   \n",
       "\n",
       "   StockOptionLevel  TotalWorkingYears  TrainingTimesLastYear  \\\n",
       "0                 0                  8                      0   \n",
       "1                 1                 10                      3   \n",
       "2                 0                  7                      3   \n",
       "3                 0                  8                      3   \n",
       "4                 1                  6                      3   \n",
       "\n",
       "   WorkLifeBalance  YearsAtCompany  YearsInCurrentRole  \\\n",
       "0                1               6                   4   \n",
       "1                3              10                   7   \n",
       "2                3               0                   0   \n",
       "3                3               8                   7   \n",
       "4                3               2                   2   \n",
       "\n",
       "   YearsSinceLastPromotion  YearsWithCurrManager  \n",
       "0                        0                     5  \n",
       "1                        1                     7  \n",
       "2                        0                     0  \n",
       "3                        3                     0  \n",
       "4                        2                     2  "
      ]
     },
<<<<<<< HEAD
     "execution_count": 61,
=======
     "execution_count": 446,
>>>>>>> a083f58117c24ecf875146665f41926c284f5015
     "metadata": {},
     "output_type": "execute_result"
    }
   ],
   "source": [
    "#Printando DataFrame para visualização dos parâmetros.\n",
    "IBM.iloc[:,20:35].head()"
   ]
  },
  {
   "cell_type": "code",
<<<<<<< HEAD
   "execution_count": 62,
=======
   "execution_count": 447,
>>>>>>> a083f58117c24ecf875146665f41926c284f5015
   "metadata": {},
   "outputs": [],
   "source": [
    "#DataFrame das pessoas com Sem Atrito com a empresa:\n",
    "NoAttrition = IBM.loc[(IBM['Attrition']==0)]\n",
    "\n",
    "#DataFrame das pessoas com Atrito com a empresa:\n",
    "Attrition = IBM.loc[(IBM['Attrition']==1)]"
   ]
  },
  {
   "cell_type": "code",
<<<<<<< HEAD
   "execution_count": 63,
=======
   "execution_count": 448,
>>>>>>> a083f58117c24ecf875146665f41926c284f5015
   "metadata": {},
   "outputs": [
    {
     "data": {
      "text/html": [
       "<div>\n",
       "<style scoped>\n",
       "    .dataframe tbody tr th:only-of-type {\n",
       "        vertical-align: middle;\n",
       "    }\n",
       "\n",
       "    .dataframe tbody tr th {\n",
       "        vertical-align: top;\n",
       "    }\n",
       "\n",
       "    .dataframe thead th {\n",
       "        text-align: right;\n",
       "    }\n",
       "</style>\n",
       "<table border=\"1\" class=\"dataframe\">\n",
       "  <thead>\n",
       "    <tr style=\"text-align: right;\">\n",
       "      <th></th>\n",
       "      <th>Age</th>\n",
       "      <th>Attrition</th>\n",
       "      <th>BusinessTravel</th>\n",
       "      <th>Department</th>\n",
       "      <th>DistanceFromHome</th>\n",
       "      <th>Education</th>\n",
       "      <th>EducationField</th>\n",
       "      <th>EmployeeNumber</th>\n",
       "      <th>EnvironmentSatisfaction</th>\n",
       "      <th>Gender</th>\n",
       "      <th>HourlyRate</th>\n",
       "      <th>JobInvolvement</th>\n",
       "      <th>JobLevel</th>\n",
       "      <th>JobRole</th>\n",
       "      <th>JobSatisfaction</th>\n",
       "      <th>MaritalStatus</th>\n",
       "      <th>MonthlyIncome</th>\n",
       "      <th>MonthlyRate</th>\n",
       "      <th>NumCompaniesWorked</th>\n",
       "      <th>OverTime</th>\n",
       "    </tr>\n",
       "  </thead>\n",
       "  <tbody>\n",
       "    <tr>\n",
       "      <th>0</th>\n",
       "      <td>41</td>\n",
       "      <td>1</td>\n",
       "      <td>Travel_Rarely</td>\n",
       "      <td>Sales</td>\n",
       "      <td>1</td>\n",
       "      <td>2</td>\n",
       "      <td>Life Sciences</td>\n",
       "      <td>1</td>\n",
       "      <td>2</td>\n",
       "      <td>Female</td>\n",
       "      <td>94</td>\n",
       "      <td>3</td>\n",
       "      <td>2</td>\n",
       "      <td>Sales Executive</td>\n",
       "      <td>4</td>\n",
       "      <td>Single</td>\n",
       "      <td>5993</td>\n",
       "      <td>19479</td>\n",
       "      <td>8</td>\n",
       "      <td>Yes</td>\n",
       "    </tr>\n",
       "    <tr>\n",
       "      <th>1</th>\n",
       "      <td>49</td>\n",
       "      <td>0</td>\n",
       "      <td>Travel_Frequently</td>\n",
       "      <td>Research &amp; Development</td>\n",
       "      <td>8</td>\n",
       "      <td>1</td>\n",
       "      <td>Life Sciences</td>\n",
       "      <td>2</td>\n",
       "      <td>3</td>\n",
       "      <td>Male</td>\n",
       "      <td>61</td>\n",
       "      <td>2</td>\n",
       "      <td>2</td>\n",
       "      <td>Research Scientist</td>\n",
       "      <td>2</td>\n",
       "      <td>Married</td>\n",
       "      <td>5130</td>\n",
       "      <td>24907</td>\n",
       "      <td>1</td>\n",
       "      <td>No</td>\n",
       "    </tr>\n",
       "    <tr>\n",
       "      <th>2</th>\n",
       "      <td>37</td>\n",
       "      <td>1</td>\n",
       "      <td>Travel_Rarely</td>\n",
       "      <td>Research &amp; Development</td>\n",
       "      <td>2</td>\n",
       "      <td>2</td>\n",
       "      <td>Other</td>\n",
       "      <td>4</td>\n",
       "      <td>4</td>\n",
       "      <td>Male</td>\n",
       "      <td>92</td>\n",
       "      <td>2</td>\n",
       "      <td>1</td>\n",
       "      <td>Laboratory Technician</td>\n",
       "      <td>3</td>\n",
       "      <td>Single</td>\n",
       "      <td>2090</td>\n",
       "      <td>2396</td>\n",
       "      <td>6</td>\n",
       "      <td>Yes</td>\n",
       "    </tr>\n",
       "    <tr>\n",
       "      <th>3</th>\n",
       "      <td>33</td>\n",
       "      <td>0</td>\n",
       "      <td>Travel_Frequently</td>\n",
       "      <td>Research &amp; Development</td>\n",
       "      <td>3</td>\n",
       "      <td>4</td>\n",
       "      <td>Life Sciences</td>\n",
       "      <td>5</td>\n",
       "      <td>4</td>\n",
       "      <td>Female</td>\n",
       "      <td>56</td>\n",
       "      <td>3</td>\n",
       "      <td>1</td>\n",
       "      <td>Research Scientist</td>\n",
       "      <td>3</td>\n",
       "      <td>Married</td>\n",
       "      <td>2909</td>\n",
       "      <td>23159</td>\n",
       "      <td>1</td>\n",
       "      <td>Yes</td>\n",
       "    </tr>\n",
       "    <tr>\n",
       "      <th>4</th>\n",
       "      <td>27</td>\n",
       "      <td>0</td>\n",
       "      <td>Travel_Rarely</td>\n",
       "      <td>Research &amp; Development</td>\n",
       "      <td>2</td>\n",
       "      <td>1</td>\n",
       "      <td>Medical</td>\n",
       "      <td>7</td>\n",
       "      <td>1</td>\n",
       "      <td>Male</td>\n",
       "      <td>40</td>\n",
       "      <td>3</td>\n",
       "      <td>1</td>\n",
       "      <td>Laboratory Technician</td>\n",
       "      <td>2</td>\n",
       "      <td>Married</td>\n",
       "      <td>3468</td>\n",
       "      <td>16632</td>\n",
       "      <td>9</td>\n",
       "      <td>No</td>\n",
       "    </tr>\n",
       "  </tbody>\n",
       "</table>\n",
       "</div>"
      ],
      "text/plain": [
       "   Age  Attrition     BusinessTravel              Department  \\\n",
       "0   41          1      Travel_Rarely                   Sales   \n",
       "1   49          0  Travel_Frequently  Research & Development   \n",
       "2   37          1      Travel_Rarely  Research & Development   \n",
       "3   33          0  Travel_Frequently  Research & Development   \n",
       "4   27          0      Travel_Rarely  Research & Development   \n",
       "\n",
       "   DistanceFromHome  Education EducationField  EmployeeNumber  \\\n",
       "0                 1          2  Life Sciences               1   \n",
       "1                 8          1  Life Sciences               2   \n",
       "2                 2          2          Other               4   \n",
       "3                 3          4  Life Sciences               5   \n",
       "4                 2          1        Medical               7   \n",
       "\n",
       "   EnvironmentSatisfaction  Gender  HourlyRate  JobInvolvement  JobLevel  \\\n",
       "0                        2  Female          94               3         2   \n",
       "1                        3    Male          61               2         2   \n",
       "2                        4    Male          92               2         1   \n",
       "3                        4  Female          56               3         1   \n",
       "4                        1    Male          40               3         1   \n",
       "\n",
       "                 JobRole  JobSatisfaction MaritalStatus  MonthlyIncome  \\\n",
       "0        Sales Executive                4        Single           5993   \n",
       "1     Research Scientist                2       Married           5130   \n",
       "2  Laboratory Technician                3        Single           2090   \n",
       "3     Research Scientist                3       Married           2909   \n",
       "4  Laboratory Technician                2       Married           3468   \n",
       "\n",
       "   MonthlyRate  NumCompaniesWorked OverTime  \n",
       "0        19479                   8      Yes  \n",
       "1        24907                   1       No  \n",
       "2         2396                   6      Yes  \n",
       "3        23159                   1      Yes  \n",
       "4        16632                   9       No  "
      ]
     },
<<<<<<< HEAD
     "execution_count": 63,
=======
     "execution_count": 448,
>>>>>>> a083f58117c24ecf875146665f41926c284f5015
     "metadata": {},
     "output_type": "execute_result"
    }
   ],
   "source": [
    "IBM.iloc[:,0:20].head()"
   ]
  },
  {
   "cell_type": "markdown",
   "metadata": {},
   "source": [
    "___\n",
    "* **Criando função para plotar os gráficos de pizza para comparar as variáveis qualitativas do DataFrame:**"
   ]
  },
  {
   "cell_type": "code",
<<<<<<< HEAD
   "execution_count": 64,
=======
   "execution_count": 449,
>>>>>>> a083f58117c24ecf875146665f41926c284f5015
   "metadata": {},
   "outputs": [],
   "source": [
    "#foi usado um def encontrado na internet como referencia, erro no codigo legenda errada\n",
    "def plot(va) :\n",
    "\n",
    "    colors = ['darkblue', 'darkorange', 'darkgreen', 'darkred', 'lightgrey', 'orange', 'white', 'lightpink']\n",
    "    trace1 = go.Pie(values  = Attrition[va].value_counts().values.tolist(),\n",
    "                    labels  = Attrition[va].value_counts().keys().tolist(),\n",
    "                    textfont=dict(size=15), opacity = 0.8,\n",
    "                    hoverinfo = \"label+percent+name\",\n",
    "                    domain  = dict(x = [0,.48]),\n",
    "                    name    = \"attrition employes\",\n",
    "                    marker  = dict(colors = colors, line = dict(width = 1.5)))\n",
    "    trace2 = go.Pie(values  = NoAttrition[va].value_counts().values.tolist(),\n",
    "                    labels  = NoAttrition[va].value_counts().keys().tolist(),\n",
    "                    textfont=dict(size=15), opacity = 0.8,\n",
    "                    hoverinfo = \"label+percent+name\",\n",
    "                    marker  = dict(colors = colors, line = dict(width = 1.5)),\n",
    "                    domain  = dict(x = [.52,1]),\n",
    "                    name    = \"Non attrition employes\" )\n",
    "\n",
    "    layout = go.Layout(dict(title = va + \" distribution in employes attrition \",\n",
    "                            annotations = [dict(text = \"Yes_attrition\",\n",
    "                                                font = dict(size = 13),\n",
    "                                                showarrow = False,\n",
    "                                                x = .22, y = -0.1),\n",
    "                                            dict(text = \"No_attrition\",\n",
    "                                                font = dict(size = 13),\n",
    "                                                showarrow = False,\n",
    "                                                x = .8,y = -.1)]))\n",
    "                                          \n",
    "\n",
    "    fig  = go.Figure(data = [trace1,trace2],layout = layout)\n",
    "    py.iplot(fig)"
   ]
  },
  {
   "cell_type": "markdown",
   "metadata": {},
   "source": [
    "#### **Gráfico que mostra a quantidade de pessoas com attrition e sem da empresa**\n",
    "**Estamos utilizando 1 como sendo que teve atrito e 0 como não**"
   ]
  },
  {
   "cell_type": "code",
<<<<<<< HEAD
   "execution_count": 65,
=======
   "execution_count": 450,
>>>>>>> a083f58117c24ecf875146665f41926c284f5015
   "metadata": {},
   "outputs": [
    {
     "data": {
      "text/plain": [
<<<<<<< HEAD
       "<matplotlib.axes._subplots.AxesSubplot at 0x15a964f0a58>"
      ]
     },
     "execution_count": 65,
=======
       "<matplotlib.axes._subplots.AxesSubplot at 0x26bea3a79b0>"
      ]
     },
     "execution_count": 450,
>>>>>>> a083f58117c24ecf875146665f41926c284f5015
     "metadata": {},
     "output_type": "execute_result"
    },
    {
     "data": {
      "image/png": "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\n",
      "text/plain": [
       "<Figure size 1080x576 with 2 Axes>"
      ]
     },
     "metadata": {
      "needs_background": "light"
     },
     "output_type": "display_data"
    }
   ],
   "source": [
    "attri=IBM.Attrition.value_counts()\n",
    "plt.figure(figsize=(15,8))\n",
    "plt.subplot(121)\n",
    "x = sns.countplot(y=\"Attrition\",  data=IBM)\n",
    "plt.subplot(122)\n",
    "attri.plot(kind='pie', colors=('#E1812D','#3174A1'), autopct=\"%.2f\", legend=False)"
   ]
  },
  {
   "cell_type": "markdown",
   "metadata": {},
   "source": [
    "Como podemos notar, existe um desequilibrio entre as duas classes, esse desequilibrio prejudicara nossas técnicas que serão utilizdas para ML, ja que tais algoritmos tem dificuldade de aprender quando uma classe predomina a outra. Para resolver tal situação será utilizada o *SMOTE*(Synthetic Minority Over-sampling TEchnique line by line).\n",
    "\n",
    "Pequeno artigo explicando como o Smoto funciona: http://rikunert.com/SMOTE_explained"
   ]
  },
  {
   "cell_type": "markdown",
   "metadata": {},
   "source": [
    "___\n",
    "* **Plotando os gráficos de pessoas que tem atrito e não tem atrito com a empresa, relacionando-as a satisfação dos funcionários com o trabalho:**\n",
    "___\n",
    "\n",
    "Legenda:\n",
    "\n",
    "JobSatisfaction: \n",
    "* **1: Low** \n",
    "* **2: Medium**\n",
    "* **3: High** \n",
    "* **4: Very High**"
   ]
  },
  {
   "cell_type": "code",
<<<<<<< HEAD
   "execution_count": 66,
=======
   "execution_count": 451,
>>>>>>> a083f58117c24ecf875146665f41926c284f5015
   "metadata": {},
   "outputs": [
    {
     "data": {
      "application/vnd.plotly.v1+json": {
       "config": {
        "linkText": "Export to plot.ly",
        "plotlyServerURL": "https://plot.ly",
        "showLink": false
       },
       "data": [
        {
         "domain": {
          "x": [
           0,
           0.48
          ]
         },
         "hoverinfo": "label+percent+name",
         "labels": [
          3,
          1,
          4,
          2
         ],
         "marker": {
          "colors": [
           "darkblue",
           "darkorange",
           "darkgreen",
           "darkred",
           "lightgrey",
           "orange",
           "white",
           "lightpink"
          ],
          "line": {
           "width": 1.5
          }
         },
         "name": "attrition employes",
         "opacity": 0.8,
         "textfont": {
          "size": 15
         },
         "type": "pie",
         "values": [
          73,
          66,
          52,
          46
         ]
        },
        {
         "domain": {
          "x": [
           0.52,
           1
          ]
         },
         "hoverinfo": "label+percent+name",
         "labels": [
          4,
          3,
          2,
          1
         ],
         "marker": {
          "colors": [
           "darkblue",
           "darkorange",
           "darkgreen",
           "darkred",
           "lightgrey",
           "orange",
           "white",
           "lightpink"
          ],
          "line": {
           "width": 1.5
          }
         },
         "name": "Non attrition employes",
         "opacity": 0.8,
         "textfont": {
          "size": 15
         },
         "type": "pie",
         "values": [
          407,
          369,
          234,
          223
         ]
        }
       ],
       "layout": {
        "annotations": [
         {
          "font": {
           "size": 13
          },
          "showarrow": false,
          "text": "Yes_attrition",
          "x": 0.22,
          "y": -0.1
         },
         {
          "font": {
           "size": 13
          },
          "showarrow": false,
          "text": "No_attrition",
          "x": 0.8,
          "y": -0.1
         }
        ],
        "template": {
         "data": {
          "bar": [
           {
            "error_x": {
             "color": "#2a3f5f"
            },
            "error_y": {
             "color": "#2a3f5f"
            },
            "marker": {
             "line": {
              "color": "#E5ECF6",
              "width": 0.5
             }
            },
            "type": "bar"
           }
          ],
          "barpolar": [
           {
            "marker": {
             "line": {
              "color": "#E5ECF6",
              "width": 0.5
             }
            },
            "type": "barpolar"
           }
          ],
          "carpet": [
           {
            "aaxis": {
             "endlinecolor": "#2a3f5f",
             "gridcolor": "white",
             "linecolor": "white",
             "minorgridcolor": "white",
             "startlinecolor": "#2a3f5f"
            },
            "baxis": {
             "endlinecolor": "#2a3f5f",
             "gridcolor": "white",
             "linecolor": "white",
             "minorgridcolor": "white",
             "startlinecolor": "#2a3f5f"
            },
            "type": "carpet"
           }
          ],
          "choropleth": [
           {
            "colorbar": {
             "outlinewidth": 0,
             "ticks": ""
            },
            "type": "choropleth"
           }
          ],
          "contour": [
           {
            "colorbar": {
             "outlinewidth": 0,
             "ticks": ""
            },
            "colorscale": [
             [
              0,
              "#0d0887"
             ],
             [
              0.1111111111111111,
              "#46039f"
             ],
             [
              0.2222222222222222,
              "#7201a8"
             ],
             [
              0.3333333333333333,
              "#9c179e"
             ],
             [
              0.4444444444444444,
              "#bd3786"
             ],
             [
              0.5555555555555556,
              "#d8576b"
             ],
             [
              0.6666666666666666,
              "#ed7953"
             ],
             [
              0.7777777777777778,
              "#fb9f3a"
             ],
             [
              0.8888888888888888,
              "#fdca26"
             ],
             [
              1,
              "#f0f921"
             ]
            ],
            "type": "contour"
           }
          ],
          "contourcarpet": [
           {
            "colorbar": {
             "outlinewidth": 0,
             "ticks": ""
            },
            "type": "contourcarpet"
           }
          ],
          "heatmap": [
           {
            "colorbar": {
             "outlinewidth": 0,
             "ticks": ""
            },
            "colorscale": [
             [
              0,
              "#0d0887"
             ],
             [
              0.1111111111111111,
              "#46039f"
             ],
             [
              0.2222222222222222,
              "#7201a8"
             ],
             [
              0.3333333333333333,
              "#9c179e"
             ],
             [
              0.4444444444444444,
              "#bd3786"
             ],
             [
              0.5555555555555556,
              "#d8576b"
             ],
             [
              0.6666666666666666,
              "#ed7953"
             ],
             [
              0.7777777777777778,
              "#fb9f3a"
             ],
             [
              0.8888888888888888,
              "#fdca26"
             ],
             [
              1,
              "#f0f921"
             ]
            ],
            "type": "heatmap"
           }
          ],
          "heatmapgl": [
           {
            "colorbar": {
             "outlinewidth": 0,
             "ticks": ""
            },
            "colorscale": [
             [
              0,
              "#0d0887"
             ],
             [
              0.1111111111111111,
              "#46039f"
             ],
             [
              0.2222222222222222,
              "#7201a8"
             ],
             [
              0.3333333333333333,
              "#9c179e"
             ],
             [
              0.4444444444444444,
              "#bd3786"
             ],
             [
              0.5555555555555556,
              "#d8576b"
             ],
             [
              0.6666666666666666,
              "#ed7953"
             ],
             [
              0.7777777777777778,
              "#fb9f3a"
             ],
             [
              0.8888888888888888,
              "#fdca26"
             ],
             [
              1,
              "#f0f921"
             ]
            ],
            "type": "heatmapgl"
           }
          ],
          "histogram": [
           {
            "marker": {
             "colorbar": {
              "outlinewidth": 0,
              "ticks": ""
             }
            },
            "type": "histogram"
           }
          ],
          "histogram2d": [
           {
            "colorbar": {
             "outlinewidth": 0,
             "ticks": ""
            },
            "colorscale": [
             [
              0,
              "#0d0887"
             ],
             [
              0.1111111111111111,
              "#46039f"
             ],
             [
              0.2222222222222222,
              "#7201a8"
             ],
             [
              0.3333333333333333,
              "#9c179e"
             ],
             [
              0.4444444444444444,
              "#bd3786"
             ],
             [
              0.5555555555555556,
              "#d8576b"
             ],
             [
              0.6666666666666666,
              "#ed7953"
             ],
             [
              0.7777777777777778,
              "#fb9f3a"
             ],
             [
              0.8888888888888888,
              "#fdca26"
             ],
             [
              1,
              "#f0f921"
             ]
            ],
            "type": "histogram2d"
           }
          ],
          "histogram2dcontour": [
           {
            "colorbar": {
             "outlinewidth": 0,
             "ticks": ""
            },
            "colorscale": [
             [
              0,
              "#0d0887"
             ],
             [
              0.1111111111111111,
              "#46039f"
             ],
             [
              0.2222222222222222,
              "#7201a8"
             ],
             [
              0.3333333333333333,
              "#9c179e"
             ],
             [
              0.4444444444444444,
              "#bd3786"
             ],
             [
              0.5555555555555556,
              "#d8576b"
             ],
             [
              0.6666666666666666,
              "#ed7953"
             ],
             [
              0.7777777777777778,
              "#fb9f3a"
             ],
             [
              0.8888888888888888,
              "#fdca26"
             ],
             [
              1,
              "#f0f921"
             ]
            ],
            "type": "histogram2dcontour"
           }
          ],
          "mesh3d": [
           {
            "colorbar": {
             "outlinewidth": 0,
             "ticks": ""
            },
            "type": "mesh3d"
           }
          ],
          "parcoords": [
           {
            "line": {
             "colorbar": {
              "outlinewidth": 0,
              "ticks": ""
             }
            },
            "type": "parcoords"
           }
          ],
          "scatter": [
           {
            "marker": {
             "colorbar": {
              "outlinewidth": 0,
              "ticks": ""
             }
            },
            "type": "scatter"
           }
          ],
          "scatter3d": [
           {
            "line": {
             "colorbar": {
              "outlinewidth": 0,
              "ticks": ""
             }
            },
            "marker": {
             "colorbar": {
              "outlinewidth": 0,
              "ticks": ""
             }
            },
            "type": "scatter3d"
           }
          ],
          "scattercarpet": [
           {
            "marker": {
             "colorbar": {
              "outlinewidth": 0,
              "ticks": ""
             }
            },
            "type": "scattercarpet"
           }
          ],
          "scattergeo": [
           {
            "marker": {
             "colorbar": {
              "outlinewidth": 0,
              "ticks": ""
             }
            },
            "type": "scattergeo"
           }
          ],
          "scattergl": [
           {
            "marker": {
             "colorbar": {
              "outlinewidth": 0,
              "ticks": ""
             }
            },
            "type": "scattergl"
           }
          ],
          "scattermapbox": [
           {
            "marker": {
             "colorbar": {
              "outlinewidth": 0,
              "ticks": ""
             }
            },
            "type": "scattermapbox"
           }
          ],
          "scatterpolar": [
           {
            "marker": {
             "colorbar": {
              "outlinewidth": 0,
              "ticks": ""
             }
            },
            "type": "scatterpolar"
           }
          ],
          "scatterpolargl": [
           {
            "marker": {
             "colorbar": {
              "outlinewidth": 0,
              "ticks": ""
             }
            },
            "type": "scatterpolargl"
           }
          ],
          "scatterternary": [
           {
            "marker": {
             "colorbar": {
              "outlinewidth": 0,
              "ticks": ""
             }
            },
            "type": "scatterternary"
           }
          ],
          "surface": [
           {
            "colorbar": {
             "outlinewidth": 0,
             "ticks": ""
            },
            "colorscale": [
             [
              0,
              "#0d0887"
             ],
             [
              0.1111111111111111,
              "#46039f"
             ],
             [
              0.2222222222222222,
              "#7201a8"
             ],
             [
              0.3333333333333333,
              "#9c179e"
             ],
             [
              0.4444444444444444,
              "#bd3786"
             ],
             [
              0.5555555555555556,
              "#d8576b"
             ],
             [
              0.6666666666666666,
              "#ed7953"
             ],
             [
              0.7777777777777778,
              "#fb9f3a"
             ],
             [
              0.8888888888888888,
              "#fdca26"
             ],
             [
              1,
              "#f0f921"
             ]
            ],
            "type": "surface"
           }
          ],
          "table": [
           {
            "cells": {
             "fill": {
              "color": "#EBF0F8"
             },
             "line": {
              "color": "white"
             }
            },
            "header": {
             "fill": {
              "color": "#C8D4E3"
             },
             "line": {
              "color": "white"
             }
            },
            "type": "table"
           }
          ]
         },
         "layout": {
          "annotationdefaults": {
           "arrowcolor": "#2a3f5f",
           "arrowhead": 0,
           "arrowwidth": 1
          },
          "colorscale": {
           "diverging": [
            [
             0,
             "#8e0152"
            ],
            [
             0.1,
             "#c51b7d"
            ],
            [
             0.2,
             "#de77ae"
            ],
            [
             0.3,
             "#f1b6da"
            ],
            [
             0.4,
             "#fde0ef"
            ],
            [
             0.5,
             "#f7f7f7"
            ],
            [
             0.6,
             "#e6f5d0"
            ],
            [
             0.7,
             "#b8e186"
            ],
            [
             0.8,
             "#7fbc41"
            ],
            [
             0.9,
             "#4d9221"
            ],
            [
             1,
             "#276419"
            ]
           ],
           "sequential": [
            [
             0,
             "#0d0887"
            ],
            [
             0.1111111111111111,
             "#46039f"
            ],
            [
             0.2222222222222222,
             "#7201a8"
            ],
            [
             0.3333333333333333,
             "#9c179e"
            ],
            [
             0.4444444444444444,
             "#bd3786"
            ],
            [
             0.5555555555555556,
             "#d8576b"
            ],
            [
             0.6666666666666666,
             "#ed7953"
            ],
            [
             0.7777777777777778,
             "#fb9f3a"
            ],
            [
             0.8888888888888888,
             "#fdca26"
            ],
            [
             1,
             "#f0f921"
            ]
           ],
           "sequentialminus": [
            [
             0,
             "#0d0887"
            ],
            [
             0.1111111111111111,
             "#46039f"
            ],
            [
             0.2222222222222222,
             "#7201a8"
            ],
            [
             0.3333333333333333,
             "#9c179e"
            ],
            [
             0.4444444444444444,
             "#bd3786"
            ],
            [
             0.5555555555555556,
             "#d8576b"
            ],
            [
             0.6666666666666666,
             "#ed7953"
            ],
            [
             0.7777777777777778,
             "#fb9f3a"
            ],
            [
             0.8888888888888888,
             "#fdca26"
            ],
            [
             1,
             "#f0f921"
            ]
           ]
          },
          "colorway": [
           "#636efa",
           "#EF553B",
           "#00cc96",
           "#ab63fa",
           "#FFA15A",
           "#19d3f3",
           "#FF6692",
           "#B6E880",
           "#FF97FF",
           "#FECB52"
          ],
          "font": {
           "color": "#2a3f5f"
          },
          "geo": {
           "bgcolor": "white",
           "lakecolor": "white",
           "landcolor": "#E5ECF6",
           "showlakes": true,
           "showland": true,
           "subunitcolor": "white"
          },
          "hoverlabel": {
           "align": "left"
          },
          "hovermode": "closest",
          "mapbox": {
           "style": "light"
          },
          "paper_bgcolor": "white",
          "plot_bgcolor": "#E5ECF6",
          "polar": {
           "angularaxis": {
            "gridcolor": "white",
            "linecolor": "white",
            "ticks": ""
           },
           "bgcolor": "#E5ECF6",
           "radialaxis": {
            "gridcolor": "white",
            "linecolor": "white",
            "ticks": ""
           }
          },
          "scene": {
           "xaxis": {
            "backgroundcolor": "#E5ECF6",
            "gridcolor": "white",
            "gridwidth": 2,
            "linecolor": "white",
            "showbackground": true,
            "ticks": "",
            "zerolinecolor": "white"
           },
           "yaxis": {
            "backgroundcolor": "#E5ECF6",
            "gridcolor": "white",
            "gridwidth": 2,
            "linecolor": "white",
            "showbackground": true,
            "ticks": "",
            "zerolinecolor": "white"
           },
           "zaxis": {
            "backgroundcolor": "#E5ECF6",
            "gridcolor": "white",
            "gridwidth": 2,
            "linecolor": "white",
            "showbackground": true,
            "ticks": "",
            "zerolinecolor": "white"
           }
          },
          "shapedefaults": {
           "line": {
            "color": "#2a3f5f"
           }
          },
          "ternary": {
           "aaxis": {
            "gridcolor": "white",
            "linecolor": "white",
            "ticks": ""
           },
           "baxis": {
            "gridcolor": "white",
            "linecolor": "white",
            "ticks": ""
           },
           "bgcolor": "#E5ECF6",
           "caxis": {
            "gridcolor": "white",
            "linecolor": "white",
            "ticks": ""
           }
          },
          "title": {
           "x": 0.05
          },
          "xaxis": {
           "automargin": true,
           "gridcolor": "white",
           "linecolor": "white",
           "ticks": "",
           "zerolinecolor": "white",
           "zerolinewidth": 2
          },
          "yaxis": {
           "automargin": true,
           "gridcolor": "white",
           "linecolor": "white",
           "ticks": "",
           "zerolinecolor": "white",
           "zerolinewidth": 2
          }
         }
        },
        "title": {
         "text": "JobSatisfaction distribution in employes attrition "
        }
       }
      },
      "text/html": [
       "<div>\n",
       "        \n",
       "        \n",
<<<<<<< HEAD
       "            <div id=\"e5b32bd4-5efd-485e-9937-b4e63aa62041\" class=\"plotly-graph-div\" style=\"height:525px; width:100%;\"></div>\n",
=======
       "            <div id=\"e079bb31-135b-4860-8d45-da1bbbdaebb9\" class=\"plotly-graph-div\" style=\"height:525px; width:100%;\"></div>\n",
>>>>>>> a083f58117c24ecf875146665f41926c284f5015
       "            <script type=\"text/javascript\">\n",
       "                require([\"plotly\"], function(Plotly) {\n",
       "                    window.PLOTLYENV=window.PLOTLYENV || {};\n",
       "                    \n",
<<<<<<< HEAD
       "                if (document.getElementById(\"e5b32bd4-5efd-485e-9937-b4e63aa62041\")) {\n",
       "                    Plotly.newPlot(\n",
       "                        'e5b32bd4-5efd-485e-9937-b4e63aa62041',\n",
=======
       "                if (document.getElementById(\"e079bb31-135b-4860-8d45-da1bbbdaebb9\")) {\n",
       "                    Plotly.newPlot(\n",
       "                        'e079bb31-135b-4860-8d45-da1bbbdaebb9',\n",
>>>>>>> a083f58117c24ecf875146665f41926c284f5015
       "                        [{\"domain\": {\"x\": [0, 0.48]}, \"hoverinfo\": \"label+percent+name\", \"labels\": [3, 1, 4, 2], \"marker\": {\"colors\": [\"darkblue\", \"darkorange\", \"darkgreen\", \"darkred\", \"lightgrey\", \"orange\", \"white\", \"lightpink\"], \"line\": {\"width\": 1.5}}, \"name\": \"attrition employes\", \"opacity\": 0.8, \"textfont\": {\"size\": 15}, \"type\": \"pie\", \"values\": [73, 66, 52, 46]}, {\"domain\": {\"x\": [0.52, 1]}, \"hoverinfo\": \"label+percent+name\", \"labels\": [4, 3, 2, 1], \"marker\": {\"colors\": [\"darkblue\", \"darkorange\", \"darkgreen\", \"darkred\", \"lightgrey\", \"orange\", \"white\", \"lightpink\"], \"line\": {\"width\": 1.5}}, \"name\": \"Non attrition employes\", \"opacity\": 0.8, \"textfont\": {\"size\": 15}, \"type\": \"pie\", \"values\": [407, 369, 234, 223]}],\n",
       "                        {\"annotations\": [{\"font\": {\"size\": 13}, \"showarrow\": false, \"text\": \"Yes_attrition\", \"x\": 0.22, \"y\": -0.1}, {\"font\": {\"size\": 13}, \"showarrow\": false, \"text\": \"No_attrition\", \"x\": 0.8, \"y\": -0.1}], \"template\": {\"data\": {\"bar\": [{\"error_x\": {\"color\": \"#2a3f5f\"}, \"error_y\": {\"color\": \"#2a3f5f\"}, \"marker\": {\"line\": {\"color\": \"#E5ECF6\", \"width\": 0.5}}, \"type\": \"bar\"}], \"barpolar\": [{\"marker\": {\"line\": {\"color\": \"#E5ECF6\", \"width\": 0.5}}, \"type\": \"barpolar\"}], \"carpet\": [{\"aaxis\": {\"endlinecolor\": \"#2a3f5f\", \"gridcolor\": \"white\", \"linecolor\": \"white\", \"minorgridcolor\": \"white\", \"startlinecolor\": \"#2a3f5f\"}, \"baxis\": {\"endlinecolor\": \"#2a3f5f\", \"gridcolor\": \"white\", \"linecolor\": \"white\", \"minorgridcolor\": \"white\", \"startlinecolor\": \"#2a3f5f\"}, \"type\": \"carpet\"}], \"choropleth\": [{\"colorbar\": {\"outlinewidth\": 0, \"ticks\": \"\"}, \"type\": \"choropleth\"}], \"contour\": [{\"colorbar\": {\"outlinewidth\": 0, \"ticks\": \"\"}, \"colorscale\": [[0.0, \"#0d0887\"], [0.1111111111111111, \"#46039f\"], [0.2222222222222222, \"#7201a8\"], [0.3333333333333333, \"#9c179e\"], [0.4444444444444444, \"#bd3786\"], [0.5555555555555556, \"#d8576b\"], [0.6666666666666666, \"#ed7953\"], [0.7777777777777778, \"#fb9f3a\"], [0.8888888888888888, \"#fdca26\"], [1.0, \"#f0f921\"]], \"type\": \"contour\"}], \"contourcarpet\": [{\"colorbar\": {\"outlinewidth\": 0, \"ticks\": \"\"}, \"type\": \"contourcarpet\"}], \"heatmap\": [{\"colorbar\": {\"outlinewidth\": 0, \"ticks\": \"\"}, \"colorscale\": [[0.0, \"#0d0887\"], [0.1111111111111111, \"#46039f\"], [0.2222222222222222, \"#7201a8\"], [0.3333333333333333, \"#9c179e\"], [0.4444444444444444, \"#bd3786\"], [0.5555555555555556, \"#d8576b\"], [0.6666666666666666, \"#ed7953\"], [0.7777777777777778, \"#fb9f3a\"], [0.8888888888888888, \"#fdca26\"], [1.0, \"#f0f921\"]], \"type\": \"heatmap\"}], \"heatmapgl\": [{\"colorbar\": {\"outlinewidth\": 0, \"ticks\": \"\"}, \"colorscale\": [[0.0, \"#0d0887\"], [0.1111111111111111, \"#46039f\"], [0.2222222222222222, \"#7201a8\"], [0.3333333333333333, \"#9c179e\"], [0.4444444444444444, \"#bd3786\"], [0.5555555555555556, \"#d8576b\"], [0.6666666666666666, \"#ed7953\"], [0.7777777777777778, \"#fb9f3a\"], [0.8888888888888888, \"#fdca26\"], [1.0, \"#f0f921\"]], \"type\": \"heatmapgl\"}], \"histogram\": [{\"marker\": {\"colorbar\": {\"outlinewidth\": 0, \"ticks\": \"\"}}, \"type\": \"histogram\"}], \"histogram2d\": [{\"colorbar\": {\"outlinewidth\": 0, \"ticks\": \"\"}, \"colorscale\": [[0.0, \"#0d0887\"], [0.1111111111111111, \"#46039f\"], [0.2222222222222222, \"#7201a8\"], [0.3333333333333333, \"#9c179e\"], [0.4444444444444444, \"#bd3786\"], [0.5555555555555556, \"#d8576b\"], [0.6666666666666666, \"#ed7953\"], [0.7777777777777778, \"#fb9f3a\"], [0.8888888888888888, \"#fdca26\"], [1.0, \"#f0f921\"]], \"type\": \"histogram2d\"}], \"histogram2dcontour\": [{\"colorbar\": {\"outlinewidth\": 0, \"ticks\": \"\"}, \"colorscale\": [[0.0, \"#0d0887\"], [0.1111111111111111, \"#46039f\"], [0.2222222222222222, \"#7201a8\"], [0.3333333333333333, \"#9c179e\"], [0.4444444444444444, \"#bd3786\"], [0.5555555555555556, \"#d8576b\"], [0.6666666666666666, \"#ed7953\"], [0.7777777777777778, \"#fb9f3a\"], [0.8888888888888888, \"#fdca26\"], [1.0, \"#f0f921\"]], \"type\": \"histogram2dcontour\"}], \"mesh3d\": [{\"colorbar\": {\"outlinewidth\": 0, \"ticks\": \"\"}, \"type\": \"mesh3d\"}], \"parcoords\": [{\"line\": {\"colorbar\": {\"outlinewidth\": 0, \"ticks\": \"\"}}, \"type\": \"parcoords\"}], \"scatter\": [{\"marker\": {\"colorbar\": {\"outlinewidth\": 0, \"ticks\": \"\"}}, \"type\": \"scatter\"}], \"scatter3d\": [{\"line\": {\"colorbar\": {\"outlinewidth\": 0, \"ticks\": \"\"}}, \"marker\": {\"colorbar\": {\"outlinewidth\": 0, \"ticks\": \"\"}}, \"type\": \"scatter3d\"}], \"scattercarpet\": [{\"marker\": {\"colorbar\": {\"outlinewidth\": 0, \"ticks\": \"\"}}, \"type\": \"scattercarpet\"}], \"scattergeo\": [{\"marker\": {\"colorbar\": {\"outlinewidth\": 0, \"ticks\": \"\"}}, \"type\": \"scattergeo\"}], \"scattergl\": [{\"marker\": {\"colorbar\": {\"outlinewidth\": 0, \"ticks\": \"\"}}, \"type\": \"scattergl\"}], \"scattermapbox\": [{\"marker\": {\"colorbar\": {\"outlinewidth\": 0, \"ticks\": \"\"}}, \"type\": \"scattermapbox\"}], \"scatterpolar\": [{\"marker\": {\"colorbar\": {\"outlinewidth\": 0, \"ticks\": \"\"}}, \"type\": \"scatterpolar\"}], \"scatterpolargl\": [{\"marker\": {\"colorbar\": {\"outlinewidth\": 0, \"ticks\": \"\"}}, \"type\": \"scatterpolargl\"}], \"scatterternary\": [{\"marker\": {\"colorbar\": {\"outlinewidth\": 0, \"ticks\": \"\"}}, \"type\": \"scatterternary\"}], \"surface\": [{\"colorbar\": {\"outlinewidth\": 0, \"ticks\": \"\"}, \"colorscale\": [[0.0, \"#0d0887\"], [0.1111111111111111, \"#46039f\"], [0.2222222222222222, \"#7201a8\"], [0.3333333333333333, \"#9c179e\"], [0.4444444444444444, \"#bd3786\"], [0.5555555555555556, \"#d8576b\"], [0.6666666666666666, \"#ed7953\"], [0.7777777777777778, \"#fb9f3a\"], [0.8888888888888888, \"#fdca26\"], [1.0, \"#f0f921\"]], \"type\": \"surface\"}], \"table\": [{\"cells\": {\"fill\": {\"color\": \"#EBF0F8\"}, \"line\": {\"color\": \"white\"}}, \"header\": {\"fill\": {\"color\": \"#C8D4E3\"}, \"line\": {\"color\": \"white\"}}, \"type\": \"table\"}]}, \"layout\": {\"annotationdefaults\": {\"arrowcolor\": \"#2a3f5f\", \"arrowhead\": 0, \"arrowwidth\": 1}, \"colorscale\": {\"diverging\": [[0, \"#8e0152\"], [0.1, \"#c51b7d\"], [0.2, \"#de77ae\"], [0.3, \"#f1b6da\"], [0.4, \"#fde0ef\"], [0.5, \"#f7f7f7\"], [0.6, \"#e6f5d0\"], [0.7, \"#b8e186\"], [0.8, \"#7fbc41\"], [0.9, \"#4d9221\"], [1, \"#276419\"]], \"sequential\": [[0.0, \"#0d0887\"], [0.1111111111111111, \"#46039f\"], [0.2222222222222222, \"#7201a8\"], [0.3333333333333333, \"#9c179e\"], [0.4444444444444444, \"#bd3786\"], [0.5555555555555556, \"#d8576b\"], [0.6666666666666666, \"#ed7953\"], [0.7777777777777778, \"#fb9f3a\"], [0.8888888888888888, \"#fdca26\"], [1.0, \"#f0f921\"]], \"sequentialminus\": [[0.0, \"#0d0887\"], [0.1111111111111111, \"#46039f\"], [0.2222222222222222, \"#7201a8\"], [0.3333333333333333, \"#9c179e\"], [0.4444444444444444, \"#bd3786\"], [0.5555555555555556, \"#d8576b\"], [0.6666666666666666, \"#ed7953\"], [0.7777777777777778, \"#fb9f3a\"], [0.8888888888888888, \"#fdca26\"], [1.0, \"#f0f921\"]]}, \"colorway\": [\"#636efa\", \"#EF553B\", \"#00cc96\", \"#ab63fa\", \"#FFA15A\", \"#19d3f3\", \"#FF6692\", \"#B6E880\", \"#FF97FF\", \"#FECB52\"], \"font\": {\"color\": \"#2a3f5f\"}, \"geo\": {\"bgcolor\": \"white\", \"lakecolor\": \"white\", \"landcolor\": \"#E5ECF6\", \"showlakes\": true, \"showland\": true, \"subunitcolor\": \"white\"}, \"hoverlabel\": {\"align\": \"left\"}, \"hovermode\": \"closest\", \"mapbox\": {\"style\": \"light\"}, \"paper_bgcolor\": \"white\", \"plot_bgcolor\": \"#E5ECF6\", \"polar\": {\"angularaxis\": {\"gridcolor\": \"white\", \"linecolor\": \"white\", \"ticks\": \"\"}, \"bgcolor\": \"#E5ECF6\", \"radialaxis\": {\"gridcolor\": \"white\", \"linecolor\": \"white\", \"ticks\": \"\"}}, \"scene\": {\"xaxis\": {\"backgroundcolor\": \"#E5ECF6\", \"gridcolor\": \"white\", \"gridwidth\": 2, \"linecolor\": \"white\", \"showbackground\": true, \"ticks\": \"\", \"zerolinecolor\": \"white\"}, \"yaxis\": {\"backgroundcolor\": \"#E5ECF6\", \"gridcolor\": \"white\", \"gridwidth\": 2, \"linecolor\": \"white\", \"showbackground\": true, \"ticks\": \"\", \"zerolinecolor\": \"white\"}, \"zaxis\": {\"backgroundcolor\": \"#E5ECF6\", \"gridcolor\": \"white\", \"gridwidth\": 2, \"linecolor\": \"white\", \"showbackground\": true, \"ticks\": \"\", \"zerolinecolor\": \"white\"}}, \"shapedefaults\": {\"line\": {\"color\": \"#2a3f5f\"}}, \"ternary\": {\"aaxis\": {\"gridcolor\": \"white\", \"linecolor\": \"white\", \"ticks\": \"\"}, \"baxis\": {\"gridcolor\": \"white\", \"linecolor\": \"white\", \"ticks\": \"\"}, \"bgcolor\": \"#E5ECF6\", \"caxis\": {\"gridcolor\": \"white\", \"linecolor\": \"white\", \"ticks\": \"\"}}, \"title\": {\"x\": 0.05}, \"xaxis\": {\"automargin\": true, \"gridcolor\": \"white\", \"linecolor\": \"white\", \"ticks\": \"\", \"zerolinecolor\": \"white\", \"zerolinewidth\": 2}, \"yaxis\": {\"automargin\": true, \"gridcolor\": \"white\", \"linecolor\": \"white\", \"ticks\": \"\", \"zerolinecolor\": \"white\", \"zerolinewidth\": 2}}}, \"title\": {\"text\": \"JobSatisfaction distribution in employes attrition \"}},\n",
       "                        {\"responsive\": true}\n",
       "                    ).then(function(){\n",
       "                            \n",
<<<<<<< HEAD
       "var gd = document.getElementById('e5b32bd4-5efd-485e-9937-b4e63aa62041');\n",
=======
       "var gd = document.getElementById('e079bb31-135b-4860-8d45-da1bbbdaebb9');\n",
>>>>>>> a083f58117c24ecf875146665f41926c284f5015
       "var x = new MutationObserver(function (mutations, observer) {{\n",
       "        var display = window.getComputedStyle(gd).display;\n",
       "        if (!display || display === 'none') {{\n",
       "            console.log([gd, 'removed!']);\n",
       "            Plotly.purge(gd);\n",
       "            observer.disconnect();\n",
       "        }}\n",
       "}});\n",
       "\n",
       "// Listen for the removal of the full notebook cells\n",
       "var notebookContainer = gd.closest('#notebook-container');\n",
       "if (notebookContainer) {{\n",
       "    x.observe(notebookContainer, {childList: true});\n",
       "}}\n",
       "\n",
       "// Listen for the clearing of the current output cell\n",
       "var outputEl = gd.closest('.output');\n",
       "if (outputEl) {{\n",
       "    x.observe(outputEl, {childList: true});\n",
       "}}\n",
       "\n",
       "                        })\n",
       "                };\n",
       "                });\n",
       "            </script>\n",
       "        </div>"
      ]
     },
     "metadata": {},
     "output_type": "display_data"
    }
   ],
   "source": [
    "plot(\"JobSatisfaction\")"
   ]
  },
  {
   "cell_type": "markdown",
   "metadata": {},
   "source": [
    "___\n",
    "* **Plotando os gráficos de pessoas que tem atrito e não tem atrito com a empresa, relacionando-as com seu estado civil:**\n",
    "___"
   ]
  },
  {
   "cell_type": "code",
<<<<<<< HEAD
   "execution_count": 67,
=======
   "execution_count": 452,
>>>>>>> a083f58117c24ecf875146665f41926c284f5015
   "metadata": {},
   "outputs": [
    {
     "data": {
      "application/vnd.plotly.v1+json": {
       "config": {
        "linkText": "Export to plot.ly",
        "plotlyServerURL": "https://plot.ly",
        "showLink": false
       },
       "data": [
        {
         "domain": {
          "x": [
           0,
           0.48
          ]
         },
         "hoverinfo": "label+percent+name",
         "labels": [
          "Single",
          "Married",
          "Divorced"
         ],
         "marker": {
          "colors": [
           "darkblue",
           "darkorange",
           "darkgreen",
           "darkred",
           "lightgrey",
           "orange",
           "white",
           "lightpink"
          ],
          "line": {
           "width": 1.5
          }
         },
         "name": "attrition employes",
         "opacity": 0.8,
         "textfont": {
          "size": 15
         },
         "type": "pie",
         "values": [
          120,
          84,
          33
         ]
        },
        {
         "domain": {
          "x": [
           0.52,
           1
          ]
         },
         "hoverinfo": "label+percent+name",
         "labels": [
          "Married",
          "Single",
          "Divorced"
         ],
         "marker": {
          "colors": [
           "darkblue",
           "darkorange",
           "darkgreen",
           "darkred",
           "lightgrey",
           "orange",
           "white",
           "lightpink"
          ],
          "line": {
           "width": 1.5
          }
         },
         "name": "Non attrition employes",
         "opacity": 0.8,
         "textfont": {
          "size": 15
         },
         "type": "pie",
         "values": [
          589,
          350,
          294
         ]
        }
       ],
       "layout": {
        "annotations": [
         {
          "font": {
           "size": 13
          },
          "showarrow": false,
          "text": "Yes_attrition",
          "x": 0.22,
          "y": -0.1
         },
         {
          "font": {
           "size": 13
          },
          "showarrow": false,
          "text": "No_attrition",
          "x": 0.8,
          "y": -0.1
         }
        ],
        "template": {
         "data": {
          "bar": [
           {
            "error_x": {
             "color": "#2a3f5f"
            },
            "error_y": {
             "color": "#2a3f5f"
            },
            "marker": {
             "line": {
              "color": "#E5ECF6",
              "width": 0.5
             }
            },
            "type": "bar"
           }
          ],
          "barpolar": [
           {
            "marker": {
             "line": {
              "color": "#E5ECF6",
              "width": 0.5
             }
            },
            "type": "barpolar"
           }
          ],
          "carpet": [
           {
            "aaxis": {
             "endlinecolor": "#2a3f5f",
             "gridcolor": "white",
             "linecolor": "white",
             "minorgridcolor": "white",
             "startlinecolor": "#2a3f5f"
            },
            "baxis": {
             "endlinecolor": "#2a3f5f",
             "gridcolor": "white",
             "linecolor": "white",
             "minorgridcolor": "white",
             "startlinecolor": "#2a3f5f"
            },
            "type": "carpet"
           }
          ],
          "choropleth": [
           {
            "colorbar": {
             "outlinewidth": 0,
             "ticks": ""
            },
            "type": "choropleth"
           }
          ],
          "contour": [
           {
            "colorbar": {
             "outlinewidth": 0,
             "ticks": ""
            },
            "colorscale": [
             [
              0,
              "#0d0887"
             ],
             [
              0.1111111111111111,
              "#46039f"
             ],
             [
              0.2222222222222222,
              "#7201a8"
             ],
             [
              0.3333333333333333,
              "#9c179e"
             ],
             [
              0.4444444444444444,
              "#bd3786"
             ],
             [
              0.5555555555555556,
              "#d8576b"
             ],
             [
              0.6666666666666666,
              "#ed7953"
             ],
             [
              0.7777777777777778,
              "#fb9f3a"
             ],
             [
              0.8888888888888888,
              "#fdca26"
             ],
             [
              1,
              "#f0f921"
             ]
            ],
            "type": "contour"
           }
          ],
          "contourcarpet": [
           {
            "colorbar": {
             "outlinewidth": 0,
             "ticks": ""
            },
            "type": "contourcarpet"
           }
          ],
          "heatmap": [
           {
            "colorbar": {
             "outlinewidth": 0,
             "ticks": ""
            },
            "colorscale": [
             [
              0,
              "#0d0887"
             ],
             [
              0.1111111111111111,
              "#46039f"
             ],
             [
              0.2222222222222222,
              "#7201a8"
             ],
             [
              0.3333333333333333,
              "#9c179e"
             ],
             [
              0.4444444444444444,
              "#bd3786"
             ],
             [
              0.5555555555555556,
              "#d8576b"
             ],
             [
              0.6666666666666666,
              "#ed7953"
             ],
             [
              0.7777777777777778,
              "#fb9f3a"
             ],
             [
              0.8888888888888888,
              "#fdca26"
             ],
             [
              1,
              "#f0f921"
             ]
            ],
            "type": "heatmap"
           }
          ],
          "heatmapgl": [
           {
            "colorbar": {
             "outlinewidth": 0,
             "ticks": ""
            },
            "colorscale": [
             [
              0,
              "#0d0887"
             ],
             [
              0.1111111111111111,
              "#46039f"
             ],
             [
              0.2222222222222222,
              "#7201a8"
             ],
             [
              0.3333333333333333,
              "#9c179e"
             ],
             [
              0.4444444444444444,
              "#bd3786"
             ],
             [
              0.5555555555555556,
              "#d8576b"
             ],
             [
              0.6666666666666666,
              "#ed7953"
             ],
             [
              0.7777777777777778,
              "#fb9f3a"
             ],
             [
              0.8888888888888888,
              "#fdca26"
             ],
             [
              1,
              "#f0f921"
             ]
            ],
            "type": "heatmapgl"
           }
          ],
          "histogram": [
           {
            "marker": {
             "colorbar": {
              "outlinewidth": 0,
              "ticks": ""
             }
            },
            "type": "histogram"
           }
          ],
          "histogram2d": [
           {
            "colorbar": {
             "outlinewidth": 0,
             "ticks": ""
            },
            "colorscale": [
             [
              0,
              "#0d0887"
             ],
             [
              0.1111111111111111,
              "#46039f"
             ],
             [
              0.2222222222222222,
              "#7201a8"
             ],
             [
              0.3333333333333333,
              "#9c179e"
             ],
             [
              0.4444444444444444,
              "#bd3786"
             ],
             [
              0.5555555555555556,
              "#d8576b"
             ],
             [
              0.6666666666666666,
              "#ed7953"
             ],
             [
              0.7777777777777778,
              "#fb9f3a"
             ],
             [
              0.8888888888888888,
              "#fdca26"
             ],
             [
              1,
              "#f0f921"
             ]
            ],
            "type": "histogram2d"
           }
          ],
          "histogram2dcontour": [
           {
            "colorbar": {
             "outlinewidth": 0,
             "ticks": ""
            },
            "colorscale": [
             [
              0,
              "#0d0887"
             ],
             [
              0.1111111111111111,
              "#46039f"
             ],
             [
              0.2222222222222222,
              "#7201a8"
             ],
             [
              0.3333333333333333,
              "#9c179e"
             ],
             [
              0.4444444444444444,
              "#bd3786"
             ],
             [
              0.5555555555555556,
              "#d8576b"
             ],
             [
              0.6666666666666666,
              "#ed7953"
             ],
             [
              0.7777777777777778,
              "#fb9f3a"
             ],
             [
              0.8888888888888888,
              "#fdca26"
             ],
             [
              1,
              "#f0f921"
             ]
            ],
            "type": "histogram2dcontour"
           }
          ],
          "mesh3d": [
           {
            "colorbar": {
             "outlinewidth": 0,
             "ticks": ""
            },
            "type": "mesh3d"
           }
          ],
          "parcoords": [
           {
            "line": {
             "colorbar": {
              "outlinewidth": 0,
              "ticks": ""
             }
            },
            "type": "parcoords"
           }
          ],
          "scatter": [
           {
            "marker": {
             "colorbar": {
              "outlinewidth": 0,
              "ticks": ""
             }
            },
            "type": "scatter"
           }
          ],
          "scatter3d": [
           {
            "line": {
             "colorbar": {
              "outlinewidth": 0,
              "ticks": ""
             }
            },
            "marker": {
             "colorbar": {
              "outlinewidth": 0,
              "ticks": ""
             }
            },
            "type": "scatter3d"
           }
          ],
          "scattercarpet": [
           {
            "marker": {
             "colorbar": {
              "outlinewidth": 0,
              "ticks": ""
             }
            },
            "type": "scattercarpet"
           }
          ],
          "scattergeo": [
           {
            "marker": {
             "colorbar": {
              "outlinewidth": 0,
              "ticks": ""
             }
            },
            "type": "scattergeo"
           }
          ],
          "scattergl": [
           {
            "marker": {
             "colorbar": {
              "outlinewidth": 0,
              "ticks": ""
             }
            },
            "type": "scattergl"
           }
          ],
          "scattermapbox": [
           {
            "marker": {
             "colorbar": {
              "outlinewidth": 0,
              "ticks": ""
             }
            },
            "type": "scattermapbox"
           }
          ],
          "scatterpolar": [
           {
            "marker": {
             "colorbar": {
              "outlinewidth": 0,
              "ticks": ""
             }
            },
            "type": "scatterpolar"
           }
          ],
          "scatterpolargl": [
           {
            "marker": {
             "colorbar": {
              "outlinewidth": 0,
              "ticks": ""
             }
            },
            "type": "scatterpolargl"
           }
          ],
          "scatterternary": [
           {
            "marker": {
             "colorbar": {
              "outlinewidth": 0,
              "ticks": ""
             }
            },
            "type": "scatterternary"
           }
          ],
          "surface": [
           {
            "colorbar": {
             "outlinewidth": 0,
             "ticks": ""
            },
            "colorscale": [
             [
              0,
              "#0d0887"
             ],
             [
              0.1111111111111111,
              "#46039f"
             ],
             [
              0.2222222222222222,
              "#7201a8"
             ],
             [
              0.3333333333333333,
              "#9c179e"
             ],
             [
              0.4444444444444444,
              "#bd3786"
             ],
             [
              0.5555555555555556,
              "#d8576b"
             ],
             [
              0.6666666666666666,
              "#ed7953"
             ],
             [
              0.7777777777777778,
              "#fb9f3a"
             ],
             [
              0.8888888888888888,
              "#fdca26"
             ],
             [
              1,
              "#f0f921"
             ]
            ],
            "type": "surface"
           }
          ],
          "table": [
           {
            "cells": {
             "fill": {
              "color": "#EBF0F8"
             },
             "line": {
              "color": "white"
             }
            },
            "header": {
             "fill": {
              "color": "#C8D4E3"
             },
             "line": {
              "color": "white"
             }
            },
            "type": "table"
           }
          ]
         },
         "layout": {
          "annotationdefaults": {
           "arrowcolor": "#2a3f5f",
           "arrowhead": 0,
           "arrowwidth": 1
          },
          "colorscale": {
           "diverging": [
            [
             0,
             "#8e0152"
            ],
            [
             0.1,
             "#c51b7d"
            ],
            [
             0.2,
             "#de77ae"
            ],
            [
             0.3,
             "#f1b6da"
            ],
            [
             0.4,
             "#fde0ef"
            ],
            [
             0.5,
             "#f7f7f7"
            ],
            [
             0.6,
             "#e6f5d0"
            ],
            [
             0.7,
             "#b8e186"
            ],
            [
             0.8,
             "#7fbc41"
            ],
            [
             0.9,
             "#4d9221"
            ],
            [
             1,
             "#276419"
            ]
           ],
           "sequential": [
            [
             0,
             "#0d0887"
            ],
            [
             0.1111111111111111,
             "#46039f"
            ],
            [
             0.2222222222222222,
             "#7201a8"
            ],
            [
             0.3333333333333333,
             "#9c179e"
            ],
            [
             0.4444444444444444,
             "#bd3786"
            ],
            [
             0.5555555555555556,
             "#d8576b"
            ],
            [
             0.6666666666666666,
             "#ed7953"
            ],
            [
             0.7777777777777778,
             "#fb9f3a"
            ],
            [
             0.8888888888888888,
             "#fdca26"
            ],
            [
             1,
             "#f0f921"
            ]
           ],
           "sequentialminus": [
            [
             0,
             "#0d0887"
            ],
            [
             0.1111111111111111,
             "#46039f"
            ],
            [
             0.2222222222222222,
             "#7201a8"
            ],
            [
             0.3333333333333333,
             "#9c179e"
            ],
            [
             0.4444444444444444,
             "#bd3786"
            ],
            [
             0.5555555555555556,
             "#d8576b"
            ],
            [
             0.6666666666666666,
             "#ed7953"
            ],
            [
             0.7777777777777778,
             "#fb9f3a"
            ],
            [
             0.8888888888888888,
             "#fdca26"
            ],
            [
             1,
             "#f0f921"
            ]
           ]
          },
          "colorway": [
           "#636efa",
           "#EF553B",
           "#00cc96",
           "#ab63fa",
           "#FFA15A",
           "#19d3f3",
           "#FF6692",
           "#B6E880",
           "#FF97FF",
           "#FECB52"
          ],
          "font": {
           "color": "#2a3f5f"
          },
          "geo": {
           "bgcolor": "white",
           "lakecolor": "white",
           "landcolor": "#E5ECF6",
           "showlakes": true,
           "showland": true,
           "subunitcolor": "white"
          },
          "hoverlabel": {
           "align": "left"
          },
          "hovermode": "closest",
          "mapbox": {
           "style": "light"
          },
          "paper_bgcolor": "white",
          "plot_bgcolor": "#E5ECF6",
          "polar": {
           "angularaxis": {
            "gridcolor": "white",
            "linecolor": "white",
            "ticks": ""
           },
           "bgcolor": "#E5ECF6",
           "radialaxis": {
            "gridcolor": "white",
            "linecolor": "white",
            "ticks": ""
           }
          },
          "scene": {
           "xaxis": {
            "backgroundcolor": "#E5ECF6",
            "gridcolor": "white",
            "gridwidth": 2,
            "linecolor": "white",
            "showbackground": true,
            "ticks": "",
            "zerolinecolor": "white"
           },
           "yaxis": {
            "backgroundcolor": "#E5ECF6",
            "gridcolor": "white",
            "gridwidth": 2,
            "linecolor": "white",
            "showbackground": true,
            "ticks": "",
            "zerolinecolor": "white"
           },
           "zaxis": {
            "backgroundcolor": "#E5ECF6",
            "gridcolor": "white",
            "gridwidth": 2,
            "linecolor": "white",
            "showbackground": true,
            "ticks": "",
            "zerolinecolor": "white"
           }
          },
          "shapedefaults": {
           "line": {
            "color": "#2a3f5f"
           }
          },
          "ternary": {
           "aaxis": {
            "gridcolor": "white",
            "linecolor": "white",
            "ticks": ""
           },
           "baxis": {
            "gridcolor": "white",
            "linecolor": "white",
            "ticks": ""
           },
           "bgcolor": "#E5ECF6",
           "caxis": {
            "gridcolor": "white",
            "linecolor": "white",
            "ticks": ""
           }
          },
          "title": {
           "x": 0.05
          },
          "xaxis": {
           "automargin": true,
           "gridcolor": "white",
           "linecolor": "white",
           "ticks": "",
           "zerolinecolor": "white",
           "zerolinewidth": 2
          },
          "yaxis": {
           "automargin": true,
           "gridcolor": "white",
           "linecolor": "white",
           "ticks": "",
           "zerolinecolor": "white",
           "zerolinewidth": 2
          }
         }
        },
        "title": {
         "text": "MaritalStatus distribution in employes attrition "
        }
       }
      },
      "text/html": [
       "<div>\n",
       "        \n",
       "        \n",
<<<<<<< HEAD
       "            <div id=\"07b2b7fc-983d-4079-87a2-a48395934d54\" class=\"plotly-graph-div\" style=\"height:525px; width:100%;\"></div>\n",
=======
       "            <div id=\"dbec7022-34c0-4b04-a8a1-cf1c408f0bdb\" class=\"plotly-graph-div\" style=\"height:525px; width:100%;\"></div>\n",
>>>>>>> a083f58117c24ecf875146665f41926c284f5015
       "            <script type=\"text/javascript\">\n",
       "                require([\"plotly\"], function(Plotly) {\n",
       "                    window.PLOTLYENV=window.PLOTLYENV || {};\n",
       "                    \n",
<<<<<<< HEAD
       "                if (document.getElementById(\"07b2b7fc-983d-4079-87a2-a48395934d54\")) {\n",
       "                    Plotly.newPlot(\n",
       "                        '07b2b7fc-983d-4079-87a2-a48395934d54',\n",
=======
       "                if (document.getElementById(\"dbec7022-34c0-4b04-a8a1-cf1c408f0bdb\")) {\n",
       "                    Plotly.newPlot(\n",
       "                        'dbec7022-34c0-4b04-a8a1-cf1c408f0bdb',\n",
>>>>>>> a083f58117c24ecf875146665f41926c284f5015
       "                        [{\"domain\": {\"x\": [0, 0.48]}, \"hoverinfo\": \"label+percent+name\", \"labels\": [\"Single\", \"Married\", \"Divorced\"], \"marker\": {\"colors\": [\"darkblue\", \"darkorange\", \"darkgreen\", \"darkred\", \"lightgrey\", \"orange\", \"white\", \"lightpink\"], \"line\": {\"width\": 1.5}}, \"name\": \"attrition employes\", \"opacity\": 0.8, \"textfont\": {\"size\": 15}, \"type\": \"pie\", \"values\": [120, 84, 33]}, {\"domain\": {\"x\": [0.52, 1]}, \"hoverinfo\": \"label+percent+name\", \"labels\": [\"Married\", \"Single\", \"Divorced\"], \"marker\": {\"colors\": [\"darkblue\", \"darkorange\", \"darkgreen\", \"darkred\", \"lightgrey\", \"orange\", \"white\", \"lightpink\"], \"line\": {\"width\": 1.5}}, \"name\": \"Non attrition employes\", \"opacity\": 0.8, \"textfont\": {\"size\": 15}, \"type\": \"pie\", \"values\": [589, 350, 294]}],\n",
       "                        {\"annotations\": [{\"font\": {\"size\": 13}, \"showarrow\": false, \"text\": \"Yes_attrition\", \"x\": 0.22, \"y\": -0.1}, {\"font\": {\"size\": 13}, \"showarrow\": false, \"text\": \"No_attrition\", \"x\": 0.8, \"y\": -0.1}], \"template\": {\"data\": {\"bar\": [{\"error_x\": {\"color\": \"#2a3f5f\"}, \"error_y\": {\"color\": \"#2a3f5f\"}, \"marker\": {\"line\": {\"color\": \"#E5ECF6\", \"width\": 0.5}}, \"type\": \"bar\"}], \"barpolar\": [{\"marker\": {\"line\": {\"color\": \"#E5ECF6\", \"width\": 0.5}}, \"type\": \"barpolar\"}], \"carpet\": [{\"aaxis\": {\"endlinecolor\": \"#2a3f5f\", \"gridcolor\": \"white\", \"linecolor\": \"white\", \"minorgridcolor\": \"white\", \"startlinecolor\": \"#2a3f5f\"}, \"baxis\": {\"endlinecolor\": \"#2a3f5f\", \"gridcolor\": \"white\", \"linecolor\": \"white\", \"minorgridcolor\": \"white\", \"startlinecolor\": \"#2a3f5f\"}, \"type\": \"carpet\"}], \"choropleth\": [{\"colorbar\": {\"outlinewidth\": 0, \"ticks\": \"\"}, \"type\": \"choropleth\"}], \"contour\": [{\"colorbar\": {\"outlinewidth\": 0, \"ticks\": \"\"}, \"colorscale\": [[0.0, \"#0d0887\"], [0.1111111111111111, \"#46039f\"], [0.2222222222222222, \"#7201a8\"], [0.3333333333333333, \"#9c179e\"], [0.4444444444444444, \"#bd3786\"], [0.5555555555555556, \"#d8576b\"], [0.6666666666666666, \"#ed7953\"], [0.7777777777777778, \"#fb9f3a\"], [0.8888888888888888, \"#fdca26\"], [1.0, \"#f0f921\"]], \"type\": \"contour\"}], \"contourcarpet\": [{\"colorbar\": {\"outlinewidth\": 0, \"ticks\": \"\"}, \"type\": \"contourcarpet\"}], \"heatmap\": [{\"colorbar\": {\"outlinewidth\": 0, \"ticks\": \"\"}, \"colorscale\": [[0.0, \"#0d0887\"], [0.1111111111111111, \"#46039f\"], [0.2222222222222222, \"#7201a8\"], [0.3333333333333333, \"#9c179e\"], [0.4444444444444444, \"#bd3786\"], [0.5555555555555556, \"#d8576b\"], [0.6666666666666666, \"#ed7953\"], [0.7777777777777778, \"#fb9f3a\"], [0.8888888888888888, \"#fdca26\"], [1.0, \"#f0f921\"]], \"type\": \"heatmap\"}], \"heatmapgl\": [{\"colorbar\": {\"outlinewidth\": 0, \"ticks\": \"\"}, \"colorscale\": [[0.0, \"#0d0887\"], [0.1111111111111111, \"#46039f\"], [0.2222222222222222, \"#7201a8\"], [0.3333333333333333, \"#9c179e\"], [0.4444444444444444, \"#bd3786\"], [0.5555555555555556, \"#d8576b\"], [0.6666666666666666, \"#ed7953\"], [0.7777777777777778, \"#fb9f3a\"], [0.8888888888888888, \"#fdca26\"], [1.0, \"#f0f921\"]], \"type\": \"heatmapgl\"}], \"histogram\": [{\"marker\": {\"colorbar\": {\"outlinewidth\": 0, \"ticks\": \"\"}}, \"type\": \"histogram\"}], \"histogram2d\": [{\"colorbar\": {\"outlinewidth\": 0, \"ticks\": \"\"}, \"colorscale\": [[0.0, \"#0d0887\"], [0.1111111111111111, \"#46039f\"], [0.2222222222222222, \"#7201a8\"], [0.3333333333333333, \"#9c179e\"], [0.4444444444444444, \"#bd3786\"], [0.5555555555555556, \"#d8576b\"], [0.6666666666666666, \"#ed7953\"], [0.7777777777777778, \"#fb9f3a\"], [0.8888888888888888, \"#fdca26\"], [1.0, \"#f0f921\"]], \"type\": \"histogram2d\"}], \"histogram2dcontour\": [{\"colorbar\": {\"outlinewidth\": 0, \"ticks\": \"\"}, \"colorscale\": [[0.0, \"#0d0887\"], [0.1111111111111111, \"#46039f\"], [0.2222222222222222, \"#7201a8\"], [0.3333333333333333, \"#9c179e\"], [0.4444444444444444, \"#bd3786\"], [0.5555555555555556, \"#d8576b\"], [0.6666666666666666, \"#ed7953\"], [0.7777777777777778, \"#fb9f3a\"], [0.8888888888888888, \"#fdca26\"], [1.0, \"#f0f921\"]], \"type\": \"histogram2dcontour\"}], \"mesh3d\": [{\"colorbar\": {\"outlinewidth\": 0, \"ticks\": \"\"}, \"type\": \"mesh3d\"}], \"parcoords\": [{\"line\": {\"colorbar\": {\"outlinewidth\": 0, \"ticks\": \"\"}}, \"type\": \"parcoords\"}], \"scatter\": [{\"marker\": {\"colorbar\": {\"outlinewidth\": 0, \"ticks\": \"\"}}, \"type\": \"scatter\"}], \"scatter3d\": [{\"line\": {\"colorbar\": {\"outlinewidth\": 0, \"ticks\": \"\"}}, \"marker\": {\"colorbar\": {\"outlinewidth\": 0, \"ticks\": \"\"}}, \"type\": \"scatter3d\"}], \"scattercarpet\": [{\"marker\": {\"colorbar\": {\"outlinewidth\": 0, \"ticks\": \"\"}}, \"type\": \"scattercarpet\"}], \"scattergeo\": [{\"marker\": {\"colorbar\": {\"outlinewidth\": 0, \"ticks\": \"\"}}, \"type\": \"scattergeo\"}], \"scattergl\": [{\"marker\": {\"colorbar\": {\"outlinewidth\": 0, \"ticks\": \"\"}}, \"type\": \"scattergl\"}], \"scattermapbox\": [{\"marker\": {\"colorbar\": {\"outlinewidth\": 0, \"ticks\": \"\"}}, \"type\": \"scattermapbox\"}], \"scatterpolar\": [{\"marker\": {\"colorbar\": {\"outlinewidth\": 0, \"ticks\": \"\"}}, \"type\": \"scatterpolar\"}], \"scatterpolargl\": [{\"marker\": {\"colorbar\": {\"outlinewidth\": 0, \"ticks\": \"\"}}, \"type\": \"scatterpolargl\"}], \"scatterternary\": [{\"marker\": {\"colorbar\": {\"outlinewidth\": 0, \"ticks\": \"\"}}, \"type\": \"scatterternary\"}], \"surface\": [{\"colorbar\": {\"outlinewidth\": 0, \"ticks\": \"\"}, \"colorscale\": [[0.0, \"#0d0887\"], [0.1111111111111111, \"#46039f\"], [0.2222222222222222, \"#7201a8\"], [0.3333333333333333, \"#9c179e\"], [0.4444444444444444, \"#bd3786\"], [0.5555555555555556, \"#d8576b\"], [0.6666666666666666, \"#ed7953\"], [0.7777777777777778, \"#fb9f3a\"], [0.8888888888888888, \"#fdca26\"], [1.0, \"#f0f921\"]], \"type\": \"surface\"}], \"table\": [{\"cells\": {\"fill\": {\"color\": \"#EBF0F8\"}, \"line\": {\"color\": \"white\"}}, \"header\": {\"fill\": {\"color\": \"#C8D4E3\"}, \"line\": {\"color\": \"white\"}}, \"type\": \"table\"}]}, \"layout\": {\"annotationdefaults\": {\"arrowcolor\": \"#2a3f5f\", \"arrowhead\": 0, \"arrowwidth\": 1}, \"colorscale\": {\"diverging\": [[0, \"#8e0152\"], [0.1, \"#c51b7d\"], [0.2, \"#de77ae\"], [0.3, \"#f1b6da\"], [0.4, \"#fde0ef\"], [0.5, \"#f7f7f7\"], [0.6, \"#e6f5d0\"], [0.7, \"#b8e186\"], [0.8, \"#7fbc41\"], [0.9, \"#4d9221\"], [1, \"#276419\"]], \"sequential\": [[0.0, \"#0d0887\"], [0.1111111111111111, \"#46039f\"], [0.2222222222222222, \"#7201a8\"], [0.3333333333333333, \"#9c179e\"], [0.4444444444444444, \"#bd3786\"], [0.5555555555555556, \"#d8576b\"], [0.6666666666666666, \"#ed7953\"], [0.7777777777777778, \"#fb9f3a\"], [0.8888888888888888, \"#fdca26\"], [1.0, \"#f0f921\"]], \"sequentialminus\": [[0.0, \"#0d0887\"], [0.1111111111111111, \"#46039f\"], [0.2222222222222222, \"#7201a8\"], [0.3333333333333333, \"#9c179e\"], [0.4444444444444444, \"#bd3786\"], [0.5555555555555556, \"#d8576b\"], [0.6666666666666666, \"#ed7953\"], [0.7777777777777778, \"#fb9f3a\"], [0.8888888888888888, \"#fdca26\"], [1.0, \"#f0f921\"]]}, \"colorway\": [\"#636efa\", \"#EF553B\", \"#00cc96\", \"#ab63fa\", \"#FFA15A\", \"#19d3f3\", \"#FF6692\", \"#B6E880\", \"#FF97FF\", \"#FECB52\"], \"font\": {\"color\": \"#2a3f5f\"}, \"geo\": {\"bgcolor\": \"white\", \"lakecolor\": \"white\", \"landcolor\": \"#E5ECF6\", \"showlakes\": true, \"showland\": true, \"subunitcolor\": \"white\"}, \"hoverlabel\": {\"align\": \"left\"}, \"hovermode\": \"closest\", \"mapbox\": {\"style\": \"light\"}, \"paper_bgcolor\": \"white\", \"plot_bgcolor\": \"#E5ECF6\", \"polar\": {\"angularaxis\": {\"gridcolor\": \"white\", \"linecolor\": \"white\", \"ticks\": \"\"}, \"bgcolor\": \"#E5ECF6\", \"radialaxis\": {\"gridcolor\": \"white\", \"linecolor\": \"white\", \"ticks\": \"\"}}, \"scene\": {\"xaxis\": {\"backgroundcolor\": \"#E5ECF6\", \"gridcolor\": \"white\", \"gridwidth\": 2, \"linecolor\": \"white\", \"showbackground\": true, \"ticks\": \"\", \"zerolinecolor\": \"white\"}, \"yaxis\": {\"backgroundcolor\": \"#E5ECF6\", \"gridcolor\": \"white\", \"gridwidth\": 2, \"linecolor\": \"white\", \"showbackground\": true, \"ticks\": \"\", \"zerolinecolor\": \"white\"}, \"zaxis\": {\"backgroundcolor\": \"#E5ECF6\", \"gridcolor\": \"white\", \"gridwidth\": 2, \"linecolor\": \"white\", \"showbackground\": true, \"ticks\": \"\", \"zerolinecolor\": \"white\"}}, \"shapedefaults\": {\"line\": {\"color\": \"#2a3f5f\"}}, \"ternary\": {\"aaxis\": {\"gridcolor\": \"white\", \"linecolor\": \"white\", \"ticks\": \"\"}, \"baxis\": {\"gridcolor\": \"white\", \"linecolor\": \"white\", \"ticks\": \"\"}, \"bgcolor\": \"#E5ECF6\", \"caxis\": {\"gridcolor\": \"white\", \"linecolor\": \"white\", \"ticks\": \"\"}}, \"title\": {\"x\": 0.05}, \"xaxis\": {\"automargin\": true, \"gridcolor\": \"white\", \"linecolor\": \"white\", \"ticks\": \"\", \"zerolinecolor\": \"white\", \"zerolinewidth\": 2}, \"yaxis\": {\"automargin\": true, \"gridcolor\": \"white\", \"linecolor\": \"white\", \"ticks\": \"\", \"zerolinecolor\": \"white\", \"zerolinewidth\": 2}}}, \"title\": {\"text\": \"MaritalStatus distribution in employes attrition \"}},\n",
       "                        {\"responsive\": true}\n",
       "                    ).then(function(){\n",
       "                            \n",
<<<<<<< HEAD
       "var gd = document.getElementById('07b2b7fc-983d-4079-87a2-a48395934d54');\n",
=======
       "var gd = document.getElementById('dbec7022-34c0-4b04-a8a1-cf1c408f0bdb');\n",
>>>>>>> a083f58117c24ecf875146665f41926c284f5015
       "var x = new MutationObserver(function (mutations, observer) {{\n",
       "        var display = window.getComputedStyle(gd).display;\n",
       "        if (!display || display === 'none') {{\n",
       "            console.log([gd, 'removed!']);\n",
       "            Plotly.purge(gd);\n",
       "            observer.disconnect();\n",
       "        }}\n",
       "}});\n",
       "\n",
       "// Listen for the removal of the full notebook cells\n",
       "var notebookContainer = gd.closest('#notebook-container');\n",
       "if (notebookContainer) {{\n",
       "    x.observe(notebookContainer, {childList: true});\n",
       "}}\n",
       "\n",
       "// Listen for the clearing of the current output cell\n",
       "var outputEl = gd.closest('.output');\n",
       "if (outputEl) {{\n",
       "    x.observe(outputEl, {childList: true});\n",
       "}}\n",
       "\n",
       "                        })\n",
       "                };\n",
       "                });\n",
       "            </script>\n",
       "        </div>"
      ]
     },
     "metadata": {},
     "output_type": "display_data"
    }
   ],
   "source": [
    "plot(\"MaritalStatus\")"
   ]
  },
  {
   "cell_type": "markdown",
   "metadata": {},
   "source": [
    "O gráfico de pizza acima mostra que a maior parte das pessoas que tem atrito com a empresa é solteiro, e a maior quantida de pessoas que não tem atrito são casados, o que pode estar a ver com que quando se está solteiro, as pessoas costumam a se arriscar mais"
   ]
  },
  {
   "cell_type": "markdown",
   "metadata": {},
   "source": [
    "___\n",
    "* **Plotando os gráficos de pessoas que tem atrito e não tem atrito com a empresa, relacionando-as a Gênero dos funcinários:**"
   ]
  },
  {
   "cell_type": "code",
<<<<<<< HEAD
   "execution_count": 68,
=======
   "execution_count": 453,
>>>>>>> a083f58117c24ecf875146665f41926c284f5015
   "metadata": {},
   "outputs": [
    {
     "data": {
      "application/vnd.plotly.v1+json": {
       "config": {
        "linkText": "Export to plot.ly",
        "plotlyServerURL": "https://plot.ly",
        "showLink": false
       },
       "data": [
        {
         "domain": {
          "x": [
           0,
           0.48
          ]
         },
         "hoverinfo": "label+percent+name",
         "labels": [
          "Male",
          "Female"
         ],
         "marker": {
          "colors": [
           "darkblue",
           "darkorange",
           "darkgreen",
           "darkred",
           "lightgrey",
           "orange",
           "white",
           "lightpink"
          ],
          "line": {
           "width": 1.5
          }
         },
         "name": "attrition employes",
         "opacity": 0.8,
         "textfont": {
          "size": 15
         },
         "type": "pie",
         "values": [
          150,
          87
         ]
        },
        {
         "domain": {
          "x": [
           0.52,
           1
          ]
         },
         "hoverinfo": "label+percent+name",
         "labels": [
          "Male",
          "Female"
         ],
         "marker": {
          "colors": [
           "darkblue",
           "darkorange",
           "darkgreen",
           "darkred",
           "lightgrey",
           "orange",
           "white",
           "lightpink"
          ],
          "line": {
           "width": 1.5
          }
         },
         "name": "Non attrition employes",
         "opacity": 0.8,
         "textfont": {
          "size": 15
         },
         "type": "pie",
         "values": [
          732,
          501
         ]
        }
       ],
       "layout": {
        "annotations": [
         {
          "font": {
           "size": 13
          },
          "showarrow": false,
          "text": "Yes_attrition",
          "x": 0.22,
          "y": -0.1
         },
         {
          "font": {
           "size": 13
          },
          "showarrow": false,
          "text": "No_attrition",
          "x": 0.8,
          "y": -0.1
         }
        ],
        "template": {
         "data": {
          "bar": [
           {
            "error_x": {
             "color": "#2a3f5f"
            },
            "error_y": {
             "color": "#2a3f5f"
            },
            "marker": {
             "line": {
              "color": "#E5ECF6",
              "width": 0.5
             }
            },
            "type": "bar"
           }
          ],
          "barpolar": [
           {
            "marker": {
             "line": {
              "color": "#E5ECF6",
              "width": 0.5
             }
            },
            "type": "barpolar"
           }
          ],
          "carpet": [
           {
            "aaxis": {
             "endlinecolor": "#2a3f5f",
             "gridcolor": "white",
             "linecolor": "white",
             "minorgridcolor": "white",
             "startlinecolor": "#2a3f5f"
            },
            "baxis": {
             "endlinecolor": "#2a3f5f",
             "gridcolor": "white",
             "linecolor": "white",
             "minorgridcolor": "white",
             "startlinecolor": "#2a3f5f"
            },
            "type": "carpet"
           }
          ],
          "choropleth": [
           {
            "colorbar": {
             "outlinewidth": 0,
             "ticks": ""
            },
            "type": "choropleth"
           }
          ],
          "contour": [
           {
            "colorbar": {
             "outlinewidth": 0,
             "ticks": ""
            },
            "colorscale": [
             [
              0,
              "#0d0887"
             ],
             [
              0.1111111111111111,
              "#46039f"
             ],
             [
              0.2222222222222222,
              "#7201a8"
             ],
             [
              0.3333333333333333,
              "#9c179e"
             ],
             [
              0.4444444444444444,
              "#bd3786"
             ],
             [
              0.5555555555555556,
              "#d8576b"
             ],
             [
              0.6666666666666666,
              "#ed7953"
             ],
             [
              0.7777777777777778,
              "#fb9f3a"
             ],
             [
              0.8888888888888888,
              "#fdca26"
             ],
             [
              1,
              "#f0f921"
             ]
            ],
            "type": "contour"
           }
          ],
          "contourcarpet": [
           {
            "colorbar": {
             "outlinewidth": 0,
             "ticks": ""
            },
            "type": "contourcarpet"
           }
          ],
          "heatmap": [
           {
            "colorbar": {
             "outlinewidth": 0,
             "ticks": ""
            },
            "colorscale": [
             [
              0,
              "#0d0887"
             ],
             [
              0.1111111111111111,
              "#46039f"
             ],
             [
              0.2222222222222222,
              "#7201a8"
             ],
             [
              0.3333333333333333,
              "#9c179e"
             ],
             [
              0.4444444444444444,
              "#bd3786"
             ],
             [
              0.5555555555555556,
              "#d8576b"
             ],
             [
              0.6666666666666666,
              "#ed7953"
             ],
             [
              0.7777777777777778,
              "#fb9f3a"
             ],
             [
              0.8888888888888888,
              "#fdca26"
             ],
             [
              1,
              "#f0f921"
             ]
            ],
            "type": "heatmap"
           }
          ],
          "heatmapgl": [
           {
            "colorbar": {
             "outlinewidth": 0,
             "ticks": ""
            },
            "colorscale": [
             [
              0,
              "#0d0887"
             ],
             [
              0.1111111111111111,
              "#46039f"
             ],
             [
              0.2222222222222222,
              "#7201a8"
             ],
             [
              0.3333333333333333,
              "#9c179e"
             ],
             [
              0.4444444444444444,
              "#bd3786"
             ],
             [
              0.5555555555555556,
              "#d8576b"
             ],
             [
              0.6666666666666666,
              "#ed7953"
             ],
             [
              0.7777777777777778,
              "#fb9f3a"
             ],
             [
              0.8888888888888888,
              "#fdca26"
             ],
             [
              1,
              "#f0f921"
             ]
            ],
            "type": "heatmapgl"
           }
          ],
          "histogram": [
           {
            "marker": {
             "colorbar": {
              "outlinewidth": 0,
              "ticks": ""
             }
            },
            "type": "histogram"
           }
          ],
          "histogram2d": [
           {
            "colorbar": {
             "outlinewidth": 0,
             "ticks": ""
            },
            "colorscale": [
             [
              0,
              "#0d0887"
             ],
             [
              0.1111111111111111,
              "#46039f"
             ],
             [
              0.2222222222222222,
              "#7201a8"
             ],
             [
              0.3333333333333333,
              "#9c179e"
             ],
             [
              0.4444444444444444,
              "#bd3786"
             ],
             [
              0.5555555555555556,
              "#d8576b"
             ],
             [
              0.6666666666666666,
              "#ed7953"
             ],
             [
              0.7777777777777778,
              "#fb9f3a"
             ],
             [
              0.8888888888888888,
              "#fdca26"
             ],
             [
              1,
              "#f0f921"
             ]
            ],
            "type": "histogram2d"
           }
          ],
          "histogram2dcontour": [
           {
            "colorbar": {
             "outlinewidth": 0,
             "ticks": ""
            },
            "colorscale": [
             [
              0,
              "#0d0887"
             ],
             [
              0.1111111111111111,
              "#46039f"
             ],
             [
              0.2222222222222222,
              "#7201a8"
             ],
             [
              0.3333333333333333,
              "#9c179e"
             ],
             [
              0.4444444444444444,
              "#bd3786"
             ],
             [
              0.5555555555555556,
              "#d8576b"
             ],
             [
              0.6666666666666666,
              "#ed7953"
             ],
             [
              0.7777777777777778,
              "#fb9f3a"
             ],
             [
              0.8888888888888888,
              "#fdca26"
             ],
             [
              1,
              "#f0f921"
             ]
            ],
            "type": "histogram2dcontour"
           }
          ],
          "mesh3d": [
           {
            "colorbar": {
             "outlinewidth": 0,
             "ticks": ""
            },
            "type": "mesh3d"
           }
          ],
          "parcoords": [
           {
            "line": {
             "colorbar": {
              "outlinewidth": 0,
              "ticks": ""
             }
            },
            "type": "parcoords"
           }
          ],
          "scatter": [
           {
            "marker": {
             "colorbar": {
              "outlinewidth": 0,
              "ticks": ""
             }
            },
            "type": "scatter"
           }
          ],
          "scatter3d": [
           {
            "line": {
             "colorbar": {
              "outlinewidth": 0,
              "ticks": ""
             }
            },
            "marker": {
             "colorbar": {
              "outlinewidth": 0,
              "ticks": ""
             }
            },
            "type": "scatter3d"
           }
          ],
          "scattercarpet": [
           {
            "marker": {
             "colorbar": {
              "outlinewidth": 0,
              "ticks": ""
             }
            },
            "type": "scattercarpet"
           }
          ],
          "scattergeo": [
           {
            "marker": {
             "colorbar": {
              "outlinewidth": 0,
              "ticks": ""
             }
            },
            "type": "scattergeo"
           }
          ],
          "scattergl": [
           {
            "marker": {
             "colorbar": {
              "outlinewidth": 0,
              "ticks": ""
             }
            },
            "type": "scattergl"
           }
          ],
          "scattermapbox": [
           {
            "marker": {
             "colorbar": {
              "outlinewidth": 0,
              "ticks": ""
             }
            },
            "type": "scattermapbox"
           }
          ],
          "scatterpolar": [
           {
            "marker": {
             "colorbar": {
              "outlinewidth": 0,
              "ticks": ""
             }
            },
            "type": "scatterpolar"
           }
          ],
          "scatterpolargl": [
           {
            "marker": {
             "colorbar": {
              "outlinewidth": 0,
              "ticks": ""
             }
            },
            "type": "scatterpolargl"
           }
          ],
          "scatterternary": [
           {
            "marker": {
             "colorbar": {
              "outlinewidth": 0,
              "ticks": ""
             }
            },
            "type": "scatterternary"
           }
          ],
          "surface": [
           {
            "colorbar": {
             "outlinewidth": 0,
             "ticks": ""
            },
            "colorscale": [
             [
              0,
              "#0d0887"
             ],
             [
              0.1111111111111111,
              "#46039f"
             ],
             [
              0.2222222222222222,
              "#7201a8"
             ],
             [
              0.3333333333333333,
              "#9c179e"
             ],
             [
              0.4444444444444444,
              "#bd3786"
             ],
             [
              0.5555555555555556,
              "#d8576b"
             ],
             [
              0.6666666666666666,
              "#ed7953"
             ],
             [
              0.7777777777777778,
              "#fb9f3a"
             ],
             [
              0.8888888888888888,
              "#fdca26"
             ],
             [
              1,
              "#f0f921"
             ]
            ],
            "type": "surface"
           }
          ],
          "table": [
           {
            "cells": {
             "fill": {
              "color": "#EBF0F8"
             },
             "line": {
              "color": "white"
             }
            },
            "header": {
             "fill": {
              "color": "#C8D4E3"
             },
             "line": {
              "color": "white"
             }
            },
            "type": "table"
           }
          ]
         },
         "layout": {
          "annotationdefaults": {
           "arrowcolor": "#2a3f5f",
           "arrowhead": 0,
           "arrowwidth": 1
          },
          "colorscale": {
           "diverging": [
            [
             0,
             "#8e0152"
            ],
            [
             0.1,
             "#c51b7d"
            ],
            [
             0.2,
             "#de77ae"
            ],
            [
             0.3,
             "#f1b6da"
            ],
            [
             0.4,
             "#fde0ef"
            ],
            [
             0.5,
             "#f7f7f7"
            ],
            [
             0.6,
             "#e6f5d0"
            ],
            [
             0.7,
             "#b8e186"
            ],
            [
             0.8,
             "#7fbc41"
            ],
            [
             0.9,
             "#4d9221"
            ],
            [
             1,
             "#276419"
            ]
           ],
           "sequential": [
            [
             0,
             "#0d0887"
            ],
            [
             0.1111111111111111,
             "#46039f"
            ],
            [
             0.2222222222222222,
             "#7201a8"
            ],
            [
             0.3333333333333333,
             "#9c179e"
            ],
            [
             0.4444444444444444,
             "#bd3786"
            ],
            [
             0.5555555555555556,
             "#d8576b"
            ],
            [
             0.6666666666666666,
             "#ed7953"
            ],
            [
             0.7777777777777778,
             "#fb9f3a"
            ],
            [
             0.8888888888888888,
             "#fdca26"
            ],
            [
             1,
             "#f0f921"
            ]
           ],
           "sequentialminus": [
            [
             0,
             "#0d0887"
            ],
            [
             0.1111111111111111,
             "#46039f"
            ],
            [
             0.2222222222222222,
             "#7201a8"
            ],
            [
             0.3333333333333333,
             "#9c179e"
            ],
            [
             0.4444444444444444,
             "#bd3786"
            ],
            [
             0.5555555555555556,
             "#d8576b"
            ],
            [
             0.6666666666666666,
             "#ed7953"
            ],
            [
             0.7777777777777778,
             "#fb9f3a"
            ],
            [
             0.8888888888888888,
             "#fdca26"
            ],
            [
             1,
             "#f0f921"
            ]
           ]
          },
          "colorway": [
           "#636efa",
           "#EF553B",
           "#00cc96",
           "#ab63fa",
           "#FFA15A",
           "#19d3f3",
           "#FF6692",
           "#B6E880",
           "#FF97FF",
           "#FECB52"
          ],
          "font": {
           "color": "#2a3f5f"
          },
          "geo": {
           "bgcolor": "white",
           "lakecolor": "white",
           "landcolor": "#E5ECF6",
           "showlakes": true,
           "showland": true,
           "subunitcolor": "white"
          },
          "hoverlabel": {
           "align": "left"
          },
          "hovermode": "closest",
          "mapbox": {
           "style": "light"
          },
          "paper_bgcolor": "white",
          "plot_bgcolor": "#E5ECF6",
          "polar": {
           "angularaxis": {
            "gridcolor": "white",
            "linecolor": "white",
            "ticks": ""
           },
           "bgcolor": "#E5ECF6",
           "radialaxis": {
            "gridcolor": "white",
            "linecolor": "white",
            "ticks": ""
           }
          },
          "scene": {
           "xaxis": {
            "backgroundcolor": "#E5ECF6",
            "gridcolor": "white",
            "gridwidth": 2,
            "linecolor": "white",
            "showbackground": true,
            "ticks": "",
            "zerolinecolor": "white"
           },
           "yaxis": {
            "backgroundcolor": "#E5ECF6",
            "gridcolor": "white",
            "gridwidth": 2,
            "linecolor": "white",
            "showbackground": true,
            "ticks": "",
            "zerolinecolor": "white"
           },
           "zaxis": {
            "backgroundcolor": "#E5ECF6",
            "gridcolor": "white",
            "gridwidth": 2,
            "linecolor": "white",
            "showbackground": true,
            "ticks": "",
            "zerolinecolor": "white"
           }
          },
          "shapedefaults": {
           "line": {
            "color": "#2a3f5f"
           }
          },
          "ternary": {
           "aaxis": {
            "gridcolor": "white",
            "linecolor": "white",
            "ticks": ""
           },
           "baxis": {
            "gridcolor": "white",
            "linecolor": "white",
            "ticks": ""
           },
           "bgcolor": "#E5ECF6",
           "caxis": {
            "gridcolor": "white",
            "linecolor": "white",
            "ticks": ""
           }
          },
          "title": {
           "x": 0.05
          },
          "xaxis": {
           "automargin": true,
           "gridcolor": "white",
           "linecolor": "white",
           "ticks": "",
           "zerolinecolor": "white",
           "zerolinewidth": 2
          },
          "yaxis": {
           "automargin": true,
           "gridcolor": "white",
           "linecolor": "white",
           "ticks": "",
           "zerolinecolor": "white",
           "zerolinewidth": 2
          }
         }
        },
        "title": {
         "text": "Gender distribution in employes attrition "
        }
       }
      },
      "text/html": [
       "<div>\n",
       "        \n",
       "        \n",
<<<<<<< HEAD
       "            <div id=\"3f8a6911-6f2c-41d5-a6e4-d6d009a6369f\" class=\"plotly-graph-div\" style=\"height:525px; width:100%;\"></div>\n",
=======
       "            <div id=\"cd02b7c1-21c0-4dd3-9f2b-470e657510f4\" class=\"plotly-graph-div\" style=\"height:525px; width:100%;\"></div>\n",
>>>>>>> a083f58117c24ecf875146665f41926c284f5015
       "            <script type=\"text/javascript\">\n",
       "                require([\"plotly\"], function(Plotly) {\n",
       "                    window.PLOTLYENV=window.PLOTLYENV || {};\n",
       "                    \n",
<<<<<<< HEAD
       "                if (document.getElementById(\"3f8a6911-6f2c-41d5-a6e4-d6d009a6369f\")) {\n",
       "                    Plotly.newPlot(\n",
       "                        '3f8a6911-6f2c-41d5-a6e4-d6d009a6369f',\n",
=======
       "                if (document.getElementById(\"cd02b7c1-21c0-4dd3-9f2b-470e657510f4\")) {\n",
       "                    Plotly.newPlot(\n",
       "                        'cd02b7c1-21c0-4dd3-9f2b-470e657510f4',\n",
>>>>>>> a083f58117c24ecf875146665f41926c284f5015
       "                        [{\"domain\": {\"x\": [0, 0.48]}, \"hoverinfo\": \"label+percent+name\", \"labels\": [\"Male\", \"Female\"], \"marker\": {\"colors\": [\"darkblue\", \"darkorange\", \"darkgreen\", \"darkred\", \"lightgrey\", \"orange\", \"white\", \"lightpink\"], \"line\": {\"width\": 1.5}}, \"name\": \"attrition employes\", \"opacity\": 0.8, \"textfont\": {\"size\": 15}, \"type\": \"pie\", \"values\": [150, 87]}, {\"domain\": {\"x\": [0.52, 1]}, \"hoverinfo\": \"label+percent+name\", \"labels\": [\"Male\", \"Female\"], \"marker\": {\"colors\": [\"darkblue\", \"darkorange\", \"darkgreen\", \"darkred\", \"lightgrey\", \"orange\", \"white\", \"lightpink\"], \"line\": {\"width\": 1.5}}, \"name\": \"Non attrition employes\", \"opacity\": 0.8, \"textfont\": {\"size\": 15}, \"type\": \"pie\", \"values\": [732, 501]}],\n",
       "                        {\"annotations\": [{\"font\": {\"size\": 13}, \"showarrow\": false, \"text\": \"Yes_attrition\", \"x\": 0.22, \"y\": -0.1}, {\"font\": {\"size\": 13}, \"showarrow\": false, \"text\": \"No_attrition\", \"x\": 0.8, \"y\": -0.1}], \"template\": {\"data\": {\"bar\": [{\"error_x\": {\"color\": \"#2a3f5f\"}, \"error_y\": {\"color\": \"#2a3f5f\"}, \"marker\": {\"line\": {\"color\": \"#E5ECF6\", \"width\": 0.5}}, \"type\": \"bar\"}], \"barpolar\": [{\"marker\": {\"line\": {\"color\": \"#E5ECF6\", \"width\": 0.5}}, \"type\": \"barpolar\"}], \"carpet\": [{\"aaxis\": {\"endlinecolor\": \"#2a3f5f\", \"gridcolor\": \"white\", \"linecolor\": \"white\", \"minorgridcolor\": \"white\", \"startlinecolor\": \"#2a3f5f\"}, \"baxis\": {\"endlinecolor\": \"#2a3f5f\", \"gridcolor\": \"white\", \"linecolor\": \"white\", \"minorgridcolor\": \"white\", \"startlinecolor\": \"#2a3f5f\"}, \"type\": \"carpet\"}], \"choropleth\": [{\"colorbar\": {\"outlinewidth\": 0, \"ticks\": \"\"}, \"type\": \"choropleth\"}], \"contour\": [{\"colorbar\": {\"outlinewidth\": 0, \"ticks\": \"\"}, \"colorscale\": [[0.0, \"#0d0887\"], [0.1111111111111111, \"#46039f\"], [0.2222222222222222, \"#7201a8\"], [0.3333333333333333, \"#9c179e\"], [0.4444444444444444, \"#bd3786\"], [0.5555555555555556, \"#d8576b\"], [0.6666666666666666, \"#ed7953\"], [0.7777777777777778, \"#fb9f3a\"], [0.8888888888888888, \"#fdca26\"], [1.0, \"#f0f921\"]], \"type\": \"contour\"}], \"contourcarpet\": [{\"colorbar\": {\"outlinewidth\": 0, \"ticks\": \"\"}, \"type\": \"contourcarpet\"}], \"heatmap\": [{\"colorbar\": {\"outlinewidth\": 0, \"ticks\": \"\"}, \"colorscale\": [[0.0, \"#0d0887\"], [0.1111111111111111, \"#46039f\"], [0.2222222222222222, \"#7201a8\"], [0.3333333333333333, \"#9c179e\"], [0.4444444444444444, \"#bd3786\"], [0.5555555555555556, \"#d8576b\"], [0.6666666666666666, \"#ed7953\"], [0.7777777777777778, \"#fb9f3a\"], [0.8888888888888888, \"#fdca26\"], [1.0, \"#f0f921\"]], \"type\": \"heatmap\"}], \"heatmapgl\": [{\"colorbar\": {\"outlinewidth\": 0, \"ticks\": \"\"}, \"colorscale\": [[0.0, \"#0d0887\"], [0.1111111111111111, \"#46039f\"], [0.2222222222222222, \"#7201a8\"], [0.3333333333333333, \"#9c179e\"], [0.4444444444444444, \"#bd3786\"], [0.5555555555555556, \"#d8576b\"], [0.6666666666666666, \"#ed7953\"], [0.7777777777777778, \"#fb9f3a\"], [0.8888888888888888, \"#fdca26\"], [1.0, \"#f0f921\"]], \"type\": \"heatmapgl\"}], \"histogram\": [{\"marker\": {\"colorbar\": {\"outlinewidth\": 0, \"ticks\": \"\"}}, \"type\": \"histogram\"}], \"histogram2d\": [{\"colorbar\": {\"outlinewidth\": 0, \"ticks\": \"\"}, \"colorscale\": [[0.0, \"#0d0887\"], [0.1111111111111111, \"#46039f\"], [0.2222222222222222, \"#7201a8\"], [0.3333333333333333, \"#9c179e\"], [0.4444444444444444, \"#bd3786\"], [0.5555555555555556, \"#d8576b\"], [0.6666666666666666, \"#ed7953\"], [0.7777777777777778, \"#fb9f3a\"], [0.8888888888888888, \"#fdca26\"], [1.0, \"#f0f921\"]], \"type\": \"histogram2d\"}], \"histogram2dcontour\": [{\"colorbar\": {\"outlinewidth\": 0, \"ticks\": \"\"}, \"colorscale\": [[0.0, \"#0d0887\"], [0.1111111111111111, \"#46039f\"], [0.2222222222222222, \"#7201a8\"], [0.3333333333333333, \"#9c179e\"], [0.4444444444444444, \"#bd3786\"], [0.5555555555555556, \"#d8576b\"], [0.6666666666666666, \"#ed7953\"], [0.7777777777777778, \"#fb9f3a\"], [0.8888888888888888, \"#fdca26\"], [1.0, \"#f0f921\"]], \"type\": \"histogram2dcontour\"}], \"mesh3d\": [{\"colorbar\": {\"outlinewidth\": 0, \"ticks\": \"\"}, \"type\": \"mesh3d\"}], \"parcoords\": [{\"line\": {\"colorbar\": {\"outlinewidth\": 0, \"ticks\": \"\"}}, \"type\": \"parcoords\"}], \"scatter\": [{\"marker\": {\"colorbar\": {\"outlinewidth\": 0, \"ticks\": \"\"}}, \"type\": \"scatter\"}], \"scatter3d\": [{\"line\": {\"colorbar\": {\"outlinewidth\": 0, \"ticks\": \"\"}}, \"marker\": {\"colorbar\": {\"outlinewidth\": 0, \"ticks\": \"\"}}, \"type\": \"scatter3d\"}], \"scattercarpet\": [{\"marker\": {\"colorbar\": {\"outlinewidth\": 0, \"ticks\": \"\"}}, \"type\": \"scattercarpet\"}], \"scattergeo\": [{\"marker\": {\"colorbar\": {\"outlinewidth\": 0, \"ticks\": \"\"}}, \"type\": \"scattergeo\"}], \"scattergl\": [{\"marker\": {\"colorbar\": {\"outlinewidth\": 0, \"ticks\": \"\"}}, \"type\": \"scattergl\"}], \"scattermapbox\": [{\"marker\": {\"colorbar\": {\"outlinewidth\": 0, \"ticks\": \"\"}}, \"type\": \"scattermapbox\"}], \"scatterpolar\": [{\"marker\": {\"colorbar\": {\"outlinewidth\": 0, \"ticks\": \"\"}}, \"type\": \"scatterpolar\"}], \"scatterpolargl\": [{\"marker\": {\"colorbar\": {\"outlinewidth\": 0, \"ticks\": \"\"}}, \"type\": \"scatterpolargl\"}], \"scatterternary\": [{\"marker\": {\"colorbar\": {\"outlinewidth\": 0, \"ticks\": \"\"}}, \"type\": \"scatterternary\"}], \"surface\": [{\"colorbar\": {\"outlinewidth\": 0, \"ticks\": \"\"}, \"colorscale\": [[0.0, \"#0d0887\"], [0.1111111111111111, \"#46039f\"], [0.2222222222222222, \"#7201a8\"], [0.3333333333333333, \"#9c179e\"], [0.4444444444444444, \"#bd3786\"], [0.5555555555555556, \"#d8576b\"], [0.6666666666666666, \"#ed7953\"], [0.7777777777777778, \"#fb9f3a\"], [0.8888888888888888, \"#fdca26\"], [1.0, \"#f0f921\"]], \"type\": \"surface\"}], \"table\": [{\"cells\": {\"fill\": {\"color\": \"#EBF0F8\"}, \"line\": {\"color\": \"white\"}}, \"header\": {\"fill\": {\"color\": \"#C8D4E3\"}, \"line\": {\"color\": \"white\"}}, \"type\": \"table\"}]}, \"layout\": {\"annotationdefaults\": {\"arrowcolor\": \"#2a3f5f\", \"arrowhead\": 0, \"arrowwidth\": 1}, \"colorscale\": {\"diverging\": [[0, \"#8e0152\"], [0.1, \"#c51b7d\"], [0.2, \"#de77ae\"], [0.3, \"#f1b6da\"], [0.4, \"#fde0ef\"], [0.5, \"#f7f7f7\"], [0.6, \"#e6f5d0\"], [0.7, \"#b8e186\"], [0.8, \"#7fbc41\"], [0.9, \"#4d9221\"], [1, \"#276419\"]], \"sequential\": [[0.0, \"#0d0887\"], [0.1111111111111111, \"#46039f\"], [0.2222222222222222, \"#7201a8\"], [0.3333333333333333, \"#9c179e\"], [0.4444444444444444, \"#bd3786\"], [0.5555555555555556, \"#d8576b\"], [0.6666666666666666, \"#ed7953\"], [0.7777777777777778, \"#fb9f3a\"], [0.8888888888888888, \"#fdca26\"], [1.0, \"#f0f921\"]], \"sequentialminus\": [[0.0, \"#0d0887\"], [0.1111111111111111, \"#46039f\"], [0.2222222222222222, \"#7201a8\"], [0.3333333333333333, \"#9c179e\"], [0.4444444444444444, \"#bd3786\"], [0.5555555555555556, \"#d8576b\"], [0.6666666666666666, \"#ed7953\"], [0.7777777777777778, \"#fb9f3a\"], [0.8888888888888888, \"#fdca26\"], [1.0, \"#f0f921\"]]}, \"colorway\": [\"#636efa\", \"#EF553B\", \"#00cc96\", \"#ab63fa\", \"#FFA15A\", \"#19d3f3\", \"#FF6692\", \"#B6E880\", \"#FF97FF\", \"#FECB52\"], \"font\": {\"color\": \"#2a3f5f\"}, \"geo\": {\"bgcolor\": \"white\", \"lakecolor\": \"white\", \"landcolor\": \"#E5ECF6\", \"showlakes\": true, \"showland\": true, \"subunitcolor\": \"white\"}, \"hoverlabel\": {\"align\": \"left\"}, \"hovermode\": \"closest\", \"mapbox\": {\"style\": \"light\"}, \"paper_bgcolor\": \"white\", \"plot_bgcolor\": \"#E5ECF6\", \"polar\": {\"angularaxis\": {\"gridcolor\": \"white\", \"linecolor\": \"white\", \"ticks\": \"\"}, \"bgcolor\": \"#E5ECF6\", \"radialaxis\": {\"gridcolor\": \"white\", \"linecolor\": \"white\", \"ticks\": \"\"}}, \"scene\": {\"xaxis\": {\"backgroundcolor\": \"#E5ECF6\", \"gridcolor\": \"white\", \"gridwidth\": 2, \"linecolor\": \"white\", \"showbackground\": true, \"ticks\": \"\", \"zerolinecolor\": \"white\"}, \"yaxis\": {\"backgroundcolor\": \"#E5ECF6\", \"gridcolor\": \"white\", \"gridwidth\": 2, \"linecolor\": \"white\", \"showbackground\": true, \"ticks\": \"\", \"zerolinecolor\": \"white\"}, \"zaxis\": {\"backgroundcolor\": \"#E5ECF6\", \"gridcolor\": \"white\", \"gridwidth\": 2, \"linecolor\": \"white\", \"showbackground\": true, \"ticks\": \"\", \"zerolinecolor\": \"white\"}}, \"shapedefaults\": {\"line\": {\"color\": \"#2a3f5f\"}}, \"ternary\": {\"aaxis\": {\"gridcolor\": \"white\", \"linecolor\": \"white\", \"ticks\": \"\"}, \"baxis\": {\"gridcolor\": \"white\", \"linecolor\": \"white\", \"ticks\": \"\"}, \"bgcolor\": \"#E5ECF6\", \"caxis\": {\"gridcolor\": \"white\", \"linecolor\": \"white\", \"ticks\": \"\"}}, \"title\": {\"x\": 0.05}, \"xaxis\": {\"automargin\": true, \"gridcolor\": \"white\", \"linecolor\": \"white\", \"ticks\": \"\", \"zerolinecolor\": \"white\", \"zerolinewidth\": 2}, \"yaxis\": {\"automargin\": true, \"gridcolor\": \"white\", \"linecolor\": \"white\", \"ticks\": \"\", \"zerolinecolor\": \"white\", \"zerolinewidth\": 2}}}, \"title\": {\"text\": \"Gender distribution in employes attrition \"}},\n",
       "                        {\"responsive\": true}\n",
       "                    ).then(function(){\n",
       "                            \n",
<<<<<<< HEAD
       "var gd = document.getElementById('3f8a6911-6f2c-41d5-a6e4-d6d009a6369f');\n",
=======
       "var gd = document.getElementById('cd02b7c1-21c0-4dd3-9f2b-470e657510f4');\n",
>>>>>>> a083f58117c24ecf875146665f41926c284f5015
       "var x = new MutationObserver(function (mutations, observer) {{\n",
       "        var display = window.getComputedStyle(gd).display;\n",
       "        if (!display || display === 'none') {{\n",
       "            console.log([gd, 'removed!']);\n",
       "            Plotly.purge(gd);\n",
       "            observer.disconnect();\n",
       "        }}\n",
       "}});\n",
       "\n",
       "// Listen for the removal of the full notebook cells\n",
       "var notebookContainer = gd.closest('#notebook-container');\n",
       "if (notebookContainer) {{\n",
       "    x.observe(notebookContainer, {childList: true});\n",
       "}}\n",
       "\n",
       "// Listen for the clearing of the current output cell\n",
       "var outputEl = gd.closest('.output');\n",
       "if (outputEl) {{\n",
       "    x.observe(outputEl, {childList: true});\n",
       "}}\n",
       "\n",
       "                        })\n",
       "                };\n",
       "                });\n",
       "            </script>\n",
       "        </div>"
      ]
     },
     "metadata": {},
     "output_type": "display_data"
    }
   ],
   "source": [
    "plot(\"Gender\")"
   ]
  },
  {
   "cell_type": "markdown",
   "metadata": {},
   "source": [
    "___\n",
    "* **Plotando o gráfico de pessoas que tem atrito e não tem atrito com a empresa, relacionando-as ao Número de Companias que a pessoa trabalhou antes:**"
   ]
  },
  {
   "cell_type": "code",
<<<<<<< HEAD
   "execution_count": 69,
=======
   "execution_count": 454,
>>>>>>> a083f58117c24ecf875146665f41926c284f5015
   "metadata": {
    "scrolled": false
   },
   "outputs": [
    {
     "name": "stderr",
     "output_type": "stream",
     "text": [
      "C:\\Users\\anton\\Anaconda3\\lib\\site-packages\\scipy\\stats\\stats.py:1713: FutureWarning:\n",
      "\n",
      "Using a non-tuple sequence for multidimensional indexing is deprecated; use `arr[tuple(seq)]` instead of `arr[seq]`. In the future this will be interpreted as an array index, `arr[np.array(seq)]`, which will result either in an error or a different result.\n",
      "\n"
     ]
    },
    {
     "data": {
      "image/png": "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\n",
      "text/plain": [
       "<Figure size 432x288 with 1 Axes>"
      ]
     },
     "metadata": {
      "needs_background": "light"
     },
     "output_type": "display_data"
    }
   ],
   "source": [
    "sns.barplot(x='Attrition',y=\"Attrition\",hue=\"NumCompaniesWorked\", data=IBM, estimator=lambda x: len(x) / len(IBM) * 100);\n",
    "plt.ylabel('Frequência Relativa (%)');\n"
   ]
  },
  {
   "cell_type": "markdown",
   "metadata": {},
   "source": [
    "___\n",
    "* **Plotando o gráfico de pessoas que tem atrito e não tem atrito com a empresa, relacionando-as a Frequência que a pessoa viaja a trabalho:**"
   ]
  },
  {
   "cell_type": "code",
<<<<<<< HEAD
   "execution_count": 70,
=======
   "execution_count": 455,
>>>>>>> a083f58117c24ecf875146665f41926c284f5015
   "metadata": {},
   "outputs": [
    {
     "data": {
      "application/vnd.plotly.v1+json": {
       "config": {
        "linkText": "Export to plot.ly",
        "plotlyServerURL": "https://plot.ly",
        "showLink": false
       },
       "data": [
        {
         "domain": {
          "x": [
           0,
           0.48
          ]
         },
         "hoverinfo": "label+percent+name",
         "labels": [
          "Travel_Rarely",
          "Travel_Frequently",
          "Non-Travel"
         ],
         "marker": {
          "colors": [
           "darkblue",
           "darkorange",
           "darkgreen",
           "darkred",
           "lightgrey",
           "orange",
           "white",
           "lightpink"
          ],
          "line": {
           "width": 1.5
          }
         },
         "name": "attrition employes",
         "opacity": 0.8,
         "textfont": {
          "size": 15
         },
         "type": "pie",
         "values": [
          156,
          69,
          12
         ]
        },
        {
         "domain": {
          "x": [
           0.52,
           1
          ]
         },
         "hoverinfo": "label+percent+name",
         "labels": [
          "Travel_Rarely",
          "Travel_Frequently",
          "Non-Travel"
         ],
         "marker": {
          "colors": [
           "darkblue",
           "darkorange",
           "darkgreen",
           "darkred",
           "lightgrey",
           "orange",
           "white",
           "lightpink"
          ],
          "line": {
           "width": 1.5
          }
         },
         "name": "Non attrition employes",
         "opacity": 0.8,
         "textfont": {
          "size": 15
         },
         "type": "pie",
         "values": [
          887,
          208,
          138
         ]
        }
       ],
       "layout": {
        "annotations": [
         {
          "font": {
           "size": 13
          },
          "showarrow": false,
          "text": "Yes_attrition",
          "x": 0.22,
          "y": -0.1
         },
         {
          "font": {
           "size": 13
          },
          "showarrow": false,
          "text": "No_attrition",
          "x": 0.8,
          "y": -0.1
         }
        ],
        "template": {
         "data": {
          "bar": [
           {
            "error_x": {
             "color": "#2a3f5f"
            },
            "error_y": {
             "color": "#2a3f5f"
            },
            "marker": {
             "line": {
              "color": "#E5ECF6",
              "width": 0.5
             }
            },
            "type": "bar"
           }
          ],
          "barpolar": [
           {
            "marker": {
             "line": {
              "color": "#E5ECF6",
              "width": 0.5
             }
            },
            "type": "barpolar"
           }
          ],
          "carpet": [
           {
            "aaxis": {
             "endlinecolor": "#2a3f5f",
             "gridcolor": "white",
             "linecolor": "white",
             "minorgridcolor": "white",
             "startlinecolor": "#2a3f5f"
            },
            "baxis": {
             "endlinecolor": "#2a3f5f",
             "gridcolor": "white",
             "linecolor": "white",
             "minorgridcolor": "white",
             "startlinecolor": "#2a3f5f"
            },
            "type": "carpet"
           }
          ],
          "choropleth": [
           {
            "colorbar": {
             "outlinewidth": 0,
             "ticks": ""
            },
            "type": "choropleth"
           }
          ],
          "contour": [
           {
            "colorbar": {
             "outlinewidth": 0,
             "ticks": ""
            },
            "colorscale": [
             [
              0,
              "#0d0887"
             ],
             [
              0.1111111111111111,
              "#46039f"
             ],
             [
              0.2222222222222222,
              "#7201a8"
             ],
             [
              0.3333333333333333,
              "#9c179e"
             ],
             [
              0.4444444444444444,
              "#bd3786"
             ],
             [
              0.5555555555555556,
              "#d8576b"
             ],
             [
              0.6666666666666666,
              "#ed7953"
             ],
             [
              0.7777777777777778,
              "#fb9f3a"
             ],
             [
              0.8888888888888888,
              "#fdca26"
             ],
             [
              1,
              "#f0f921"
             ]
            ],
            "type": "contour"
           }
          ],
          "contourcarpet": [
           {
            "colorbar": {
             "outlinewidth": 0,
             "ticks": ""
            },
            "type": "contourcarpet"
           }
          ],
          "heatmap": [
           {
            "colorbar": {
             "outlinewidth": 0,
             "ticks": ""
            },
            "colorscale": [
             [
              0,
              "#0d0887"
             ],
             [
              0.1111111111111111,
              "#46039f"
             ],
             [
              0.2222222222222222,
              "#7201a8"
             ],
             [
              0.3333333333333333,
              "#9c179e"
             ],
             [
              0.4444444444444444,
              "#bd3786"
             ],
             [
              0.5555555555555556,
              "#d8576b"
             ],
             [
              0.6666666666666666,
              "#ed7953"
             ],
             [
              0.7777777777777778,
              "#fb9f3a"
             ],
             [
              0.8888888888888888,
              "#fdca26"
             ],
             [
              1,
              "#f0f921"
             ]
            ],
            "type": "heatmap"
           }
          ],
          "heatmapgl": [
           {
            "colorbar": {
             "outlinewidth": 0,
             "ticks": ""
            },
            "colorscale": [
             [
              0,
              "#0d0887"
             ],
             [
              0.1111111111111111,
              "#46039f"
             ],
             [
              0.2222222222222222,
              "#7201a8"
             ],
             [
              0.3333333333333333,
              "#9c179e"
             ],
             [
              0.4444444444444444,
              "#bd3786"
             ],
             [
              0.5555555555555556,
              "#d8576b"
             ],
             [
              0.6666666666666666,
              "#ed7953"
             ],
             [
              0.7777777777777778,
              "#fb9f3a"
             ],
             [
              0.8888888888888888,
              "#fdca26"
             ],
             [
              1,
              "#f0f921"
             ]
            ],
            "type": "heatmapgl"
           }
          ],
          "histogram": [
           {
            "marker": {
             "colorbar": {
              "outlinewidth": 0,
              "ticks": ""
             }
            },
            "type": "histogram"
           }
          ],
          "histogram2d": [
           {
            "colorbar": {
             "outlinewidth": 0,
             "ticks": ""
            },
            "colorscale": [
             [
              0,
              "#0d0887"
             ],
             [
              0.1111111111111111,
              "#46039f"
             ],
             [
              0.2222222222222222,
              "#7201a8"
             ],
             [
              0.3333333333333333,
              "#9c179e"
             ],
             [
              0.4444444444444444,
              "#bd3786"
             ],
             [
              0.5555555555555556,
              "#d8576b"
             ],
             [
              0.6666666666666666,
              "#ed7953"
             ],
             [
              0.7777777777777778,
              "#fb9f3a"
             ],
             [
              0.8888888888888888,
              "#fdca26"
             ],
             [
              1,
              "#f0f921"
             ]
            ],
            "type": "histogram2d"
           }
          ],
          "histogram2dcontour": [
           {
            "colorbar": {
             "outlinewidth": 0,
             "ticks": ""
            },
            "colorscale": [
             [
              0,
              "#0d0887"
             ],
             [
              0.1111111111111111,
              "#46039f"
             ],
             [
              0.2222222222222222,
              "#7201a8"
             ],
             [
              0.3333333333333333,
              "#9c179e"
             ],
             [
              0.4444444444444444,
              "#bd3786"
             ],
             [
              0.5555555555555556,
              "#d8576b"
             ],
             [
              0.6666666666666666,
              "#ed7953"
             ],
             [
              0.7777777777777778,
              "#fb9f3a"
             ],
             [
              0.8888888888888888,
              "#fdca26"
             ],
             [
              1,
              "#f0f921"
             ]
            ],
            "type": "histogram2dcontour"
           }
          ],
          "mesh3d": [
           {
            "colorbar": {
             "outlinewidth": 0,
             "ticks": ""
            },
            "type": "mesh3d"
           }
          ],
          "parcoords": [
           {
            "line": {
             "colorbar": {
              "outlinewidth": 0,
              "ticks": ""
             }
            },
            "type": "parcoords"
           }
          ],
          "scatter": [
           {
            "marker": {
             "colorbar": {
              "outlinewidth": 0,
              "ticks": ""
             }
            },
            "type": "scatter"
           }
          ],
          "scatter3d": [
           {
            "line": {
             "colorbar": {
              "outlinewidth": 0,
              "ticks": ""
             }
            },
            "marker": {
             "colorbar": {
              "outlinewidth": 0,
              "ticks": ""
             }
            },
            "type": "scatter3d"
           }
          ],
          "scattercarpet": [
           {
            "marker": {
             "colorbar": {
              "outlinewidth": 0,
              "ticks": ""
             }
            },
            "type": "scattercarpet"
           }
          ],
          "scattergeo": [
           {
            "marker": {
             "colorbar": {
              "outlinewidth": 0,
              "ticks": ""
             }
            },
            "type": "scattergeo"
           }
          ],
          "scattergl": [
           {
            "marker": {
             "colorbar": {
              "outlinewidth": 0,
              "ticks": ""
             }
            },
            "type": "scattergl"
           }
          ],
          "scattermapbox": [
           {
            "marker": {
             "colorbar": {
              "outlinewidth": 0,
              "ticks": ""
             }
            },
            "type": "scattermapbox"
           }
          ],
          "scatterpolar": [
           {
            "marker": {
             "colorbar": {
              "outlinewidth": 0,
              "ticks": ""
             }
            },
            "type": "scatterpolar"
           }
          ],
          "scatterpolargl": [
           {
            "marker": {
             "colorbar": {
              "outlinewidth": 0,
              "ticks": ""
             }
            },
            "type": "scatterpolargl"
           }
          ],
          "scatterternary": [
           {
            "marker": {
             "colorbar": {
              "outlinewidth": 0,
              "ticks": ""
             }
            },
            "type": "scatterternary"
           }
          ],
          "surface": [
           {
            "colorbar": {
             "outlinewidth": 0,
             "ticks": ""
            },
            "colorscale": [
             [
              0,
              "#0d0887"
             ],
             [
              0.1111111111111111,
              "#46039f"
             ],
             [
              0.2222222222222222,
              "#7201a8"
             ],
             [
              0.3333333333333333,
              "#9c179e"
             ],
             [
              0.4444444444444444,
              "#bd3786"
             ],
             [
              0.5555555555555556,
              "#d8576b"
             ],
             [
              0.6666666666666666,
              "#ed7953"
             ],
             [
              0.7777777777777778,
              "#fb9f3a"
             ],
             [
              0.8888888888888888,
              "#fdca26"
             ],
             [
              1,
              "#f0f921"
             ]
            ],
            "type": "surface"
           }
          ],
          "table": [
           {
            "cells": {
             "fill": {
              "color": "#EBF0F8"
             },
             "line": {
              "color": "white"
             }
            },
            "header": {
             "fill": {
              "color": "#C8D4E3"
             },
             "line": {
              "color": "white"
             }
            },
            "type": "table"
           }
          ]
         },
         "layout": {
          "annotationdefaults": {
           "arrowcolor": "#2a3f5f",
           "arrowhead": 0,
           "arrowwidth": 1
          },
          "colorscale": {
           "diverging": [
            [
             0,
             "#8e0152"
            ],
            [
             0.1,
             "#c51b7d"
            ],
            [
             0.2,
             "#de77ae"
            ],
            [
             0.3,
             "#f1b6da"
            ],
            [
             0.4,
             "#fde0ef"
            ],
            [
             0.5,
             "#f7f7f7"
            ],
            [
             0.6,
             "#e6f5d0"
            ],
            [
             0.7,
             "#b8e186"
            ],
            [
             0.8,
             "#7fbc41"
            ],
            [
             0.9,
             "#4d9221"
            ],
            [
             1,
             "#276419"
            ]
           ],
           "sequential": [
            [
             0,
             "#0d0887"
            ],
            [
             0.1111111111111111,
             "#46039f"
            ],
            [
             0.2222222222222222,
             "#7201a8"
            ],
            [
             0.3333333333333333,
             "#9c179e"
            ],
            [
             0.4444444444444444,
             "#bd3786"
            ],
            [
             0.5555555555555556,
             "#d8576b"
            ],
            [
             0.6666666666666666,
             "#ed7953"
            ],
            [
             0.7777777777777778,
             "#fb9f3a"
            ],
            [
             0.8888888888888888,
             "#fdca26"
            ],
            [
             1,
             "#f0f921"
            ]
           ],
           "sequentialminus": [
            [
             0,
             "#0d0887"
            ],
            [
             0.1111111111111111,
             "#46039f"
            ],
            [
             0.2222222222222222,
             "#7201a8"
            ],
            [
             0.3333333333333333,
             "#9c179e"
            ],
            [
             0.4444444444444444,
             "#bd3786"
            ],
            [
             0.5555555555555556,
             "#d8576b"
            ],
            [
             0.6666666666666666,
             "#ed7953"
            ],
            [
             0.7777777777777778,
             "#fb9f3a"
            ],
            [
             0.8888888888888888,
             "#fdca26"
            ],
            [
             1,
             "#f0f921"
            ]
           ]
          },
          "colorway": [
           "#636efa",
           "#EF553B",
           "#00cc96",
           "#ab63fa",
           "#FFA15A",
           "#19d3f3",
           "#FF6692",
           "#B6E880",
           "#FF97FF",
           "#FECB52"
          ],
          "font": {
           "color": "#2a3f5f"
          },
          "geo": {
           "bgcolor": "white",
           "lakecolor": "white",
           "landcolor": "#E5ECF6",
           "showlakes": true,
           "showland": true,
           "subunitcolor": "white"
          },
          "hoverlabel": {
           "align": "left"
          },
          "hovermode": "closest",
          "mapbox": {
           "style": "light"
          },
          "paper_bgcolor": "white",
          "plot_bgcolor": "#E5ECF6",
          "polar": {
           "angularaxis": {
            "gridcolor": "white",
            "linecolor": "white",
            "ticks": ""
           },
           "bgcolor": "#E5ECF6",
           "radialaxis": {
            "gridcolor": "white",
            "linecolor": "white",
            "ticks": ""
           }
          },
          "scene": {
           "xaxis": {
            "backgroundcolor": "#E5ECF6",
            "gridcolor": "white",
            "gridwidth": 2,
            "linecolor": "white",
            "showbackground": true,
            "ticks": "",
            "zerolinecolor": "white"
           },
           "yaxis": {
            "backgroundcolor": "#E5ECF6",
            "gridcolor": "white",
            "gridwidth": 2,
            "linecolor": "white",
            "showbackground": true,
            "ticks": "",
            "zerolinecolor": "white"
           },
           "zaxis": {
            "backgroundcolor": "#E5ECF6",
            "gridcolor": "white",
            "gridwidth": 2,
            "linecolor": "white",
            "showbackground": true,
            "ticks": "",
            "zerolinecolor": "white"
           }
          },
          "shapedefaults": {
           "line": {
            "color": "#2a3f5f"
           }
          },
          "ternary": {
           "aaxis": {
            "gridcolor": "white",
            "linecolor": "white",
            "ticks": ""
           },
           "baxis": {
            "gridcolor": "white",
            "linecolor": "white",
            "ticks": ""
           },
           "bgcolor": "#E5ECF6",
           "caxis": {
            "gridcolor": "white",
            "linecolor": "white",
            "ticks": ""
           }
          },
          "title": {
           "x": 0.05
          },
          "xaxis": {
           "automargin": true,
           "gridcolor": "white",
           "linecolor": "white",
           "ticks": "",
           "zerolinecolor": "white",
           "zerolinewidth": 2
          },
          "yaxis": {
           "automargin": true,
           "gridcolor": "white",
           "linecolor": "white",
           "ticks": "",
           "zerolinecolor": "white",
           "zerolinewidth": 2
          }
         }
        },
        "title": {
         "text": "BusinessTravel distribution in employes attrition "
        }
       }
      },
      "text/html": [
       "<div>\n",
       "        \n",
       "        \n",
<<<<<<< HEAD
       "            <div id=\"5783989c-4e56-4449-95d3-7543c5973165\" class=\"plotly-graph-div\" style=\"height:525px; width:100%;\"></div>\n",
=======
       "            <div id=\"d2cb4de3-4c0d-41e6-ad02-1c67f918e8c1\" class=\"plotly-graph-div\" style=\"height:525px; width:100%;\"></div>\n",
>>>>>>> a083f58117c24ecf875146665f41926c284f5015
       "            <script type=\"text/javascript\">\n",
       "                require([\"plotly\"], function(Plotly) {\n",
       "                    window.PLOTLYENV=window.PLOTLYENV || {};\n",
       "                    \n",
<<<<<<< HEAD
       "                if (document.getElementById(\"5783989c-4e56-4449-95d3-7543c5973165\")) {\n",
       "                    Plotly.newPlot(\n",
       "                        '5783989c-4e56-4449-95d3-7543c5973165',\n",
=======
       "                if (document.getElementById(\"d2cb4de3-4c0d-41e6-ad02-1c67f918e8c1\")) {\n",
       "                    Plotly.newPlot(\n",
       "                        'd2cb4de3-4c0d-41e6-ad02-1c67f918e8c1',\n",
>>>>>>> a083f58117c24ecf875146665f41926c284f5015
       "                        [{\"domain\": {\"x\": [0, 0.48]}, \"hoverinfo\": \"label+percent+name\", \"labels\": [\"Travel_Rarely\", \"Travel_Frequently\", \"Non-Travel\"], \"marker\": {\"colors\": [\"darkblue\", \"darkorange\", \"darkgreen\", \"darkred\", \"lightgrey\", \"orange\", \"white\", \"lightpink\"], \"line\": {\"width\": 1.5}}, \"name\": \"attrition employes\", \"opacity\": 0.8, \"textfont\": {\"size\": 15}, \"type\": \"pie\", \"values\": [156, 69, 12]}, {\"domain\": {\"x\": [0.52, 1]}, \"hoverinfo\": \"label+percent+name\", \"labels\": [\"Travel_Rarely\", \"Travel_Frequently\", \"Non-Travel\"], \"marker\": {\"colors\": [\"darkblue\", \"darkorange\", \"darkgreen\", \"darkred\", \"lightgrey\", \"orange\", \"white\", \"lightpink\"], \"line\": {\"width\": 1.5}}, \"name\": \"Non attrition employes\", \"opacity\": 0.8, \"textfont\": {\"size\": 15}, \"type\": \"pie\", \"values\": [887, 208, 138]}],\n",
       "                        {\"annotations\": [{\"font\": {\"size\": 13}, \"showarrow\": false, \"text\": \"Yes_attrition\", \"x\": 0.22, \"y\": -0.1}, {\"font\": {\"size\": 13}, \"showarrow\": false, \"text\": \"No_attrition\", \"x\": 0.8, \"y\": -0.1}], \"template\": {\"data\": {\"bar\": [{\"error_x\": {\"color\": \"#2a3f5f\"}, \"error_y\": {\"color\": \"#2a3f5f\"}, \"marker\": {\"line\": {\"color\": \"#E5ECF6\", \"width\": 0.5}}, \"type\": \"bar\"}], \"barpolar\": [{\"marker\": {\"line\": {\"color\": \"#E5ECF6\", \"width\": 0.5}}, \"type\": \"barpolar\"}], \"carpet\": [{\"aaxis\": {\"endlinecolor\": \"#2a3f5f\", \"gridcolor\": \"white\", \"linecolor\": \"white\", \"minorgridcolor\": \"white\", \"startlinecolor\": \"#2a3f5f\"}, \"baxis\": {\"endlinecolor\": \"#2a3f5f\", \"gridcolor\": \"white\", \"linecolor\": \"white\", \"minorgridcolor\": \"white\", \"startlinecolor\": \"#2a3f5f\"}, \"type\": \"carpet\"}], \"choropleth\": [{\"colorbar\": {\"outlinewidth\": 0, \"ticks\": \"\"}, \"type\": \"choropleth\"}], \"contour\": [{\"colorbar\": {\"outlinewidth\": 0, \"ticks\": \"\"}, \"colorscale\": [[0.0, \"#0d0887\"], [0.1111111111111111, \"#46039f\"], [0.2222222222222222, \"#7201a8\"], [0.3333333333333333, \"#9c179e\"], [0.4444444444444444, \"#bd3786\"], [0.5555555555555556, \"#d8576b\"], [0.6666666666666666, \"#ed7953\"], [0.7777777777777778, \"#fb9f3a\"], [0.8888888888888888, \"#fdca26\"], [1.0, \"#f0f921\"]], \"type\": \"contour\"}], \"contourcarpet\": [{\"colorbar\": {\"outlinewidth\": 0, \"ticks\": \"\"}, \"type\": \"contourcarpet\"}], \"heatmap\": [{\"colorbar\": {\"outlinewidth\": 0, \"ticks\": \"\"}, \"colorscale\": [[0.0, \"#0d0887\"], [0.1111111111111111, \"#46039f\"], [0.2222222222222222, \"#7201a8\"], [0.3333333333333333, \"#9c179e\"], [0.4444444444444444, \"#bd3786\"], [0.5555555555555556, \"#d8576b\"], [0.6666666666666666, \"#ed7953\"], [0.7777777777777778, \"#fb9f3a\"], [0.8888888888888888, \"#fdca26\"], [1.0, \"#f0f921\"]], \"type\": \"heatmap\"}], \"heatmapgl\": [{\"colorbar\": {\"outlinewidth\": 0, \"ticks\": \"\"}, \"colorscale\": [[0.0, \"#0d0887\"], [0.1111111111111111, \"#46039f\"], [0.2222222222222222, \"#7201a8\"], [0.3333333333333333, \"#9c179e\"], [0.4444444444444444, \"#bd3786\"], [0.5555555555555556, \"#d8576b\"], [0.6666666666666666, \"#ed7953\"], [0.7777777777777778, \"#fb9f3a\"], [0.8888888888888888, \"#fdca26\"], [1.0, \"#f0f921\"]], \"type\": \"heatmapgl\"}], \"histogram\": [{\"marker\": {\"colorbar\": {\"outlinewidth\": 0, \"ticks\": \"\"}}, \"type\": \"histogram\"}], \"histogram2d\": [{\"colorbar\": {\"outlinewidth\": 0, \"ticks\": \"\"}, \"colorscale\": [[0.0, \"#0d0887\"], [0.1111111111111111, \"#46039f\"], [0.2222222222222222, \"#7201a8\"], [0.3333333333333333, \"#9c179e\"], [0.4444444444444444, \"#bd3786\"], [0.5555555555555556, \"#d8576b\"], [0.6666666666666666, \"#ed7953\"], [0.7777777777777778, \"#fb9f3a\"], [0.8888888888888888, \"#fdca26\"], [1.0, \"#f0f921\"]], \"type\": \"histogram2d\"}], \"histogram2dcontour\": [{\"colorbar\": {\"outlinewidth\": 0, \"ticks\": \"\"}, \"colorscale\": [[0.0, \"#0d0887\"], [0.1111111111111111, \"#46039f\"], [0.2222222222222222, \"#7201a8\"], [0.3333333333333333, \"#9c179e\"], [0.4444444444444444, \"#bd3786\"], [0.5555555555555556, \"#d8576b\"], [0.6666666666666666, \"#ed7953\"], [0.7777777777777778, \"#fb9f3a\"], [0.8888888888888888, \"#fdca26\"], [1.0, \"#f0f921\"]], \"type\": \"histogram2dcontour\"}], \"mesh3d\": [{\"colorbar\": {\"outlinewidth\": 0, \"ticks\": \"\"}, \"type\": \"mesh3d\"}], \"parcoords\": [{\"line\": {\"colorbar\": {\"outlinewidth\": 0, \"ticks\": \"\"}}, \"type\": \"parcoords\"}], \"scatter\": [{\"marker\": {\"colorbar\": {\"outlinewidth\": 0, \"ticks\": \"\"}}, \"type\": \"scatter\"}], \"scatter3d\": [{\"line\": {\"colorbar\": {\"outlinewidth\": 0, \"ticks\": \"\"}}, \"marker\": {\"colorbar\": {\"outlinewidth\": 0, \"ticks\": \"\"}}, \"type\": \"scatter3d\"}], \"scattercarpet\": [{\"marker\": {\"colorbar\": {\"outlinewidth\": 0, \"ticks\": \"\"}}, \"type\": \"scattercarpet\"}], \"scattergeo\": [{\"marker\": {\"colorbar\": {\"outlinewidth\": 0, \"ticks\": \"\"}}, \"type\": \"scattergeo\"}], \"scattergl\": [{\"marker\": {\"colorbar\": {\"outlinewidth\": 0, \"ticks\": \"\"}}, \"type\": \"scattergl\"}], \"scattermapbox\": [{\"marker\": {\"colorbar\": {\"outlinewidth\": 0, \"ticks\": \"\"}}, \"type\": \"scattermapbox\"}], \"scatterpolar\": [{\"marker\": {\"colorbar\": {\"outlinewidth\": 0, \"ticks\": \"\"}}, \"type\": \"scatterpolar\"}], \"scatterpolargl\": [{\"marker\": {\"colorbar\": {\"outlinewidth\": 0, \"ticks\": \"\"}}, \"type\": \"scatterpolargl\"}], \"scatterternary\": [{\"marker\": {\"colorbar\": {\"outlinewidth\": 0, \"ticks\": \"\"}}, \"type\": \"scatterternary\"}], \"surface\": [{\"colorbar\": {\"outlinewidth\": 0, \"ticks\": \"\"}, \"colorscale\": [[0.0, \"#0d0887\"], [0.1111111111111111, \"#46039f\"], [0.2222222222222222, \"#7201a8\"], [0.3333333333333333, \"#9c179e\"], [0.4444444444444444, \"#bd3786\"], [0.5555555555555556, \"#d8576b\"], [0.6666666666666666, \"#ed7953\"], [0.7777777777777778, \"#fb9f3a\"], [0.8888888888888888, \"#fdca26\"], [1.0, \"#f0f921\"]], \"type\": \"surface\"}], \"table\": [{\"cells\": {\"fill\": {\"color\": \"#EBF0F8\"}, \"line\": {\"color\": \"white\"}}, \"header\": {\"fill\": {\"color\": \"#C8D4E3\"}, \"line\": {\"color\": \"white\"}}, \"type\": \"table\"}]}, \"layout\": {\"annotationdefaults\": {\"arrowcolor\": \"#2a3f5f\", \"arrowhead\": 0, \"arrowwidth\": 1}, \"colorscale\": {\"diverging\": [[0, \"#8e0152\"], [0.1, \"#c51b7d\"], [0.2, \"#de77ae\"], [0.3, \"#f1b6da\"], [0.4, \"#fde0ef\"], [0.5, \"#f7f7f7\"], [0.6, \"#e6f5d0\"], [0.7, \"#b8e186\"], [0.8, \"#7fbc41\"], [0.9, \"#4d9221\"], [1, \"#276419\"]], \"sequential\": [[0.0, \"#0d0887\"], [0.1111111111111111, \"#46039f\"], [0.2222222222222222, \"#7201a8\"], [0.3333333333333333, \"#9c179e\"], [0.4444444444444444, \"#bd3786\"], [0.5555555555555556, \"#d8576b\"], [0.6666666666666666, \"#ed7953\"], [0.7777777777777778, \"#fb9f3a\"], [0.8888888888888888, \"#fdca26\"], [1.0, \"#f0f921\"]], \"sequentialminus\": [[0.0, \"#0d0887\"], [0.1111111111111111, \"#46039f\"], [0.2222222222222222, \"#7201a8\"], [0.3333333333333333, \"#9c179e\"], [0.4444444444444444, \"#bd3786\"], [0.5555555555555556, \"#d8576b\"], [0.6666666666666666, \"#ed7953\"], [0.7777777777777778, \"#fb9f3a\"], [0.8888888888888888, \"#fdca26\"], [1.0, \"#f0f921\"]]}, \"colorway\": [\"#636efa\", \"#EF553B\", \"#00cc96\", \"#ab63fa\", \"#FFA15A\", \"#19d3f3\", \"#FF6692\", \"#B6E880\", \"#FF97FF\", \"#FECB52\"], \"font\": {\"color\": \"#2a3f5f\"}, \"geo\": {\"bgcolor\": \"white\", \"lakecolor\": \"white\", \"landcolor\": \"#E5ECF6\", \"showlakes\": true, \"showland\": true, \"subunitcolor\": \"white\"}, \"hoverlabel\": {\"align\": \"left\"}, \"hovermode\": \"closest\", \"mapbox\": {\"style\": \"light\"}, \"paper_bgcolor\": \"white\", \"plot_bgcolor\": \"#E5ECF6\", \"polar\": {\"angularaxis\": {\"gridcolor\": \"white\", \"linecolor\": \"white\", \"ticks\": \"\"}, \"bgcolor\": \"#E5ECF6\", \"radialaxis\": {\"gridcolor\": \"white\", \"linecolor\": \"white\", \"ticks\": \"\"}}, \"scene\": {\"xaxis\": {\"backgroundcolor\": \"#E5ECF6\", \"gridcolor\": \"white\", \"gridwidth\": 2, \"linecolor\": \"white\", \"showbackground\": true, \"ticks\": \"\", \"zerolinecolor\": \"white\"}, \"yaxis\": {\"backgroundcolor\": \"#E5ECF6\", \"gridcolor\": \"white\", \"gridwidth\": 2, \"linecolor\": \"white\", \"showbackground\": true, \"ticks\": \"\", \"zerolinecolor\": \"white\"}, \"zaxis\": {\"backgroundcolor\": \"#E5ECF6\", \"gridcolor\": \"white\", \"gridwidth\": 2, \"linecolor\": \"white\", \"showbackground\": true, \"ticks\": \"\", \"zerolinecolor\": \"white\"}}, \"shapedefaults\": {\"line\": {\"color\": \"#2a3f5f\"}}, \"ternary\": {\"aaxis\": {\"gridcolor\": \"white\", \"linecolor\": \"white\", \"ticks\": \"\"}, \"baxis\": {\"gridcolor\": \"white\", \"linecolor\": \"white\", \"ticks\": \"\"}, \"bgcolor\": \"#E5ECF6\", \"caxis\": {\"gridcolor\": \"white\", \"linecolor\": \"white\", \"ticks\": \"\"}}, \"title\": {\"x\": 0.05}, \"xaxis\": {\"automargin\": true, \"gridcolor\": \"white\", \"linecolor\": \"white\", \"ticks\": \"\", \"zerolinecolor\": \"white\", \"zerolinewidth\": 2}, \"yaxis\": {\"automargin\": true, \"gridcolor\": \"white\", \"linecolor\": \"white\", \"ticks\": \"\", \"zerolinecolor\": \"white\", \"zerolinewidth\": 2}}}, \"title\": {\"text\": \"BusinessTravel distribution in employes attrition \"}},\n",
       "                        {\"responsive\": true}\n",
       "                    ).then(function(){\n",
       "                            \n",
<<<<<<< HEAD
       "var gd = document.getElementById('5783989c-4e56-4449-95d3-7543c5973165');\n",
=======
       "var gd = document.getElementById('d2cb4de3-4c0d-41e6-ad02-1c67f918e8c1');\n",
>>>>>>> a083f58117c24ecf875146665f41926c284f5015
       "var x = new MutationObserver(function (mutations, observer) {{\n",
       "        var display = window.getComputedStyle(gd).display;\n",
       "        if (!display || display === 'none') {{\n",
       "            console.log([gd, 'removed!']);\n",
       "            Plotly.purge(gd);\n",
       "            observer.disconnect();\n",
       "        }}\n",
       "}});\n",
       "\n",
       "// Listen for the removal of the full notebook cells\n",
       "var notebookContainer = gd.closest('#notebook-container');\n",
       "if (notebookContainer) {{\n",
       "    x.observe(notebookContainer, {childList: true});\n",
       "}}\n",
       "\n",
       "// Listen for the clearing of the current output cell\n",
       "var outputEl = gd.closest('.output');\n",
       "if (outputEl) {{\n",
       "    x.observe(outputEl, {childList: true});\n",
       "}}\n",
       "\n",
       "                        })\n",
       "                };\n",
       "                });\n",
       "            </script>\n",
       "        </div>"
      ]
     },
     "metadata": {},
     "output_type": "display_data"
    }
   ],
   "source": [
    "plot(\"BusinessTravel\")"
   ]
  },
  {
   "cell_type": "markdown",
   "metadata": {},
   "source": [
    "___\n",
    "* **Plotando o gráfico de pessoas que tem atrito e não tem atrito com a empresa, relacionando-as a Área de Formação dos funcionários:**"
   ]
  },
  {
   "cell_type": "code",
<<<<<<< HEAD
   "execution_count": 71,
=======
   "execution_count": 456,
>>>>>>> a083f58117c24ecf875146665f41926c284f5015
   "metadata": {},
   "outputs": [
    {
     "data": {
      "image/png": "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\n",
      "text/plain": [
       "<Figure size 432x288 with 1 Axes>"
      ]
     },
     "metadata": {
      "needs_background": "light"
     },
     "output_type": "display_data"
    }
   ],
   "source": [
    "sns.barplot(x='Attrition',y=\"Attrition\",hue=\"EducationField\", data=IBM, estimator=lambda x: len(x) / len(IBM) * 100);\n",
    "plt.ylabel('Frequência Relativa (%)');\n"
   ]
  },
  {
   "cell_type": "markdown",
   "metadata": {},
   "source": [
    "___\n",
    "* **Plotando o gráfico de pessoas que tem atrito e não tem atrito com a empresa, relacionando-as a Área de Trabalho dos funcionários:**"
   ]
  },
  {
   "cell_type": "code",
<<<<<<< HEAD
   "execution_count": 72,
=======
   "execution_count": 457,
>>>>>>> a083f58117c24ecf875146665f41926c284f5015
   "metadata": {},
   "outputs": [
    {
     "data": {
      "application/vnd.plotly.v1+json": {
       "config": {
        "linkText": "Export to plot.ly",
        "plotlyServerURL": "https://plot.ly",
        "showLink": false
       },
       "data": [
        {
         "domain": {
          "x": [
           0,
           0.48
          ]
         },
         "hoverinfo": "label+percent+name",
         "labels": [
          "Laboratory Technician",
          "Sales Executive",
          "Research Scientist",
          "Sales Representative",
          "Human Resources",
          "Manufacturing Director",
          "Healthcare Representative",
          "Manager",
          "Research Director"
         ],
         "marker": {
          "colors": [
           "darkblue",
           "darkorange",
           "darkgreen",
           "darkred",
           "lightgrey",
           "orange",
           "white",
           "lightpink"
          ],
          "line": {
           "width": 1.5
          }
         },
         "name": "attrition employes",
         "opacity": 0.8,
         "textfont": {
          "size": 15
         },
         "type": "pie",
         "values": [
          62,
          57,
          47,
          33,
          12,
          10,
          9,
          5,
          2
         ]
        },
        {
         "domain": {
          "x": [
           0.52,
           1
          ]
         },
         "hoverinfo": "label+percent+name",
         "labels": [
          "Sales Executive",
          "Research Scientist",
          "Laboratory Technician",
          "Manufacturing Director",
          "Healthcare Representative",
          "Manager",
          "Research Director",
          "Sales Representative",
          "Human Resources"
         ],
         "marker": {
          "colors": [
           "darkblue",
           "darkorange",
           "darkgreen",
           "darkred",
           "lightgrey",
           "orange",
           "white",
           "lightpink"
          ],
          "line": {
           "width": 1.5
          }
         },
         "name": "Non attrition employes",
         "opacity": 0.8,
         "textfont": {
          "size": 15
         },
         "type": "pie",
         "values": [
          269,
          245,
          197,
          135,
          122,
          97,
          78,
          50,
          40
         ]
        }
       ],
       "layout": {
        "annotations": [
         {
          "font": {
           "size": 13
          },
          "showarrow": false,
          "text": "Yes_attrition",
          "x": 0.22,
          "y": -0.1
         },
         {
          "font": {
           "size": 13
          },
          "showarrow": false,
          "text": "No_attrition",
          "x": 0.8,
          "y": -0.1
         }
        ],
        "template": {
         "data": {
          "bar": [
           {
            "error_x": {
             "color": "#2a3f5f"
            },
            "error_y": {
             "color": "#2a3f5f"
            },
            "marker": {
             "line": {
              "color": "#E5ECF6",
              "width": 0.5
             }
            },
            "type": "bar"
           }
          ],
          "barpolar": [
           {
            "marker": {
             "line": {
              "color": "#E5ECF6",
              "width": 0.5
             }
            },
            "type": "barpolar"
           }
          ],
          "carpet": [
           {
            "aaxis": {
             "endlinecolor": "#2a3f5f",
             "gridcolor": "white",
             "linecolor": "white",
             "minorgridcolor": "white",
             "startlinecolor": "#2a3f5f"
            },
            "baxis": {
             "endlinecolor": "#2a3f5f",
             "gridcolor": "white",
             "linecolor": "white",
             "minorgridcolor": "white",
             "startlinecolor": "#2a3f5f"
            },
            "type": "carpet"
           }
          ],
          "choropleth": [
           {
            "colorbar": {
             "outlinewidth": 0,
             "ticks": ""
            },
            "type": "choropleth"
           }
          ],
          "contour": [
           {
            "colorbar": {
             "outlinewidth": 0,
             "ticks": ""
            },
            "colorscale": [
             [
              0,
              "#0d0887"
             ],
             [
              0.1111111111111111,
              "#46039f"
             ],
             [
              0.2222222222222222,
              "#7201a8"
             ],
             [
              0.3333333333333333,
              "#9c179e"
             ],
             [
              0.4444444444444444,
              "#bd3786"
             ],
             [
              0.5555555555555556,
              "#d8576b"
             ],
             [
              0.6666666666666666,
              "#ed7953"
             ],
             [
              0.7777777777777778,
              "#fb9f3a"
             ],
             [
              0.8888888888888888,
              "#fdca26"
             ],
             [
              1,
              "#f0f921"
             ]
            ],
            "type": "contour"
           }
          ],
          "contourcarpet": [
           {
            "colorbar": {
             "outlinewidth": 0,
             "ticks": ""
            },
            "type": "contourcarpet"
           }
          ],
          "heatmap": [
           {
            "colorbar": {
             "outlinewidth": 0,
             "ticks": ""
            },
            "colorscale": [
             [
              0,
              "#0d0887"
             ],
             [
              0.1111111111111111,
              "#46039f"
             ],
             [
              0.2222222222222222,
              "#7201a8"
             ],
             [
              0.3333333333333333,
              "#9c179e"
             ],
             [
              0.4444444444444444,
              "#bd3786"
             ],
             [
              0.5555555555555556,
              "#d8576b"
             ],
             [
              0.6666666666666666,
              "#ed7953"
             ],
             [
              0.7777777777777778,
              "#fb9f3a"
             ],
             [
              0.8888888888888888,
              "#fdca26"
             ],
             [
              1,
              "#f0f921"
             ]
            ],
            "type": "heatmap"
           }
          ],
          "heatmapgl": [
           {
            "colorbar": {
             "outlinewidth": 0,
             "ticks": ""
            },
            "colorscale": [
             [
              0,
              "#0d0887"
             ],
             [
              0.1111111111111111,
              "#46039f"
             ],
             [
              0.2222222222222222,
              "#7201a8"
             ],
             [
              0.3333333333333333,
              "#9c179e"
             ],
             [
              0.4444444444444444,
              "#bd3786"
             ],
             [
              0.5555555555555556,
              "#d8576b"
             ],
             [
              0.6666666666666666,
              "#ed7953"
             ],
             [
              0.7777777777777778,
              "#fb9f3a"
             ],
             [
              0.8888888888888888,
              "#fdca26"
             ],
             [
              1,
              "#f0f921"
             ]
            ],
            "type": "heatmapgl"
           }
          ],
          "histogram": [
           {
            "marker": {
             "colorbar": {
              "outlinewidth": 0,
              "ticks": ""
             }
            },
            "type": "histogram"
           }
          ],
          "histogram2d": [
           {
            "colorbar": {
             "outlinewidth": 0,
             "ticks": ""
            },
            "colorscale": [
             [
              0,
              "#0d0887"
             ],
             [
              0.1111111111111111,
              "#46039f"
             ],
             [
              0.2222222222222222,
              "#7201a8"
             ],
             [
              0.3333333333333333,
              "#9c179e"
             ],
             [
              0.4444444444444444,
              "#bd3786"
             ],
             [
              0.5555555555555556,
              "#d8576b"
             ],
             [
              0.6666666666666666,
              "#ed7953"
             ],
             [
              0.7777777777777778,
              "#fb9f3a"
             ],
             [
              0.8888888888888888,
              "#fdca26"
             ],
             [
              1,
              "#f0f921"
             ]
            ],
            "type": "histogram2d"
           }
          ],
          "histogram2dcontour": [
           {
            "colorbar": {
             "outlinewidth": 0,
             "ticks": ""
            },
            "colorscale": [
             [
              0,
              "#0d0887"
             ],
             [
              0.1111111111111111,
              "#46039f"
             ],
             [
              0.2222222222222222,
              "#7201a8"
             ],
             [
              0.3333333333333333,
              "#9c179e"
             ],
             [
              0.4444444444444444,
              "#bd3786"
             ],
             [
              0.5555555555555556,
              "#d8576b"
             ],
             [
              0.6666666666666666,
              "#ed7953"
             ],
             [
              0.7777777777777778,
              "#fb9f3a"
             ],
             [
              0.8888888888888888,
              "#fdca26"
             ],
             [
              1,
              "#f0f921"
             ]
            ],
            "type": "histogram2dcontour"
           }
          ],
          "mesh3d": [
           {
            "colorbar": {
             "outlinewidth": 0,
             "ticks": ""
            },
            "type": "mesh3d"
           }
          ],
          "parcoords": [
           {
            "line": {
             "colorbar": {
              "outlinewidth": 0,
              "ticks": ""
             }
            },
            "type": "parcoords"
           }
          ],
          "scatter": [
           {
            "marker": {
             "colorbar": {
              "outlinewidth": 0,
              "ticks": ""
             }
            },
            "type": "scatter"
           }
          ],
          "scatter3d": [
           {
            "line": {
             "colorbar": {
              "outlinewidth": 0,
              "ticks": ""
             }
            },
            "marker": {
             "colorbar": {
              "outlinewidth": 0,
              "ticks": ""
             }
            },
            "type": "scatter3d"
           }
          ],
          "scattercarpet": [
           {
            "marker": {
             "colorbar": {
              "outlinewidth": 0,
              "ticks": ""
             }
            },
            "type": "scattercarpet"
           }
          ],
          "scattergeo": [
           {
            "marker": {
             "colorbar": {
              "outlinewidth": 0,
              "ticks": ""
             }
            },
            "type": "scattergeo"
           }
          ],
          "scattergl": [
           {
            "marker": {
             "colorbar": {
              "outlinewidth": 0,
              "ticks": ""
             }
            },
            "type": "scattergl"
           }
          ],
          "scattermapbox": [
           {
            "marker": {
             "colorbar": {
              "outlinewidth": 0,
              "ticks": ""
             }
            },
            "type": "scattermapbox"
           }
          ],
          "scatterpolar": [
           {
            "marker": {
             "colorbar": {
              "outlinewidth": 0,
              "ticks": ""
             }
            },
            "type": "scatterpolar"
           }
          ],
          "scatterpolargl": [
           {
            "marker": {
             "colorbar": {
              "outlinewidth": 0,
              "ticks": ""
             }
            },
            "type": "scatterpolargl"
           }
          ],
          "scatterternary": [
           {
            "marker": {
             "colorbar": {
              "outlinewidth": 0,
              "ticks": ""
             }
            },
            "type": "scatterternary"
           }
          ],
          "surface": [
           {
            "colorbar": {
             "outlinewidth": 0,
             "ticks": ""
            },
            "colorscale": [
             [
              0,
              "#0d0887"
             ],
             [
              0.1111111111111111,
              "#46039f"
             ],
             [
              0.2222222222222222,
              "#7201a8"
             ],
             [
              0.3333333333333333,
              "#9c179e"
             ],
             [
              0.4444444444444444,
              "#bd3786"
             ],
             [
              0.5555555555555556,
              "#d8576b"
             ],
             [
              0.6666666666666666,
              "#ed7953"
             ],
             [
              0.7777777777777778,
              "#fb9f3a"
             ],
             [
              0.8888888888888888,
              "#fdca26"
             ],
             [
              1,
              "#f0f921"
             ]
            ],
            "type": "surface"
           }
          ],
          "table": [
           {
            "cells": {
             "fill": {
              "color": "#EBF0F8"
             },
             "line": {
              "color": "white"
             }
            },
            "header": {
             "fill": {
              "color": "#C8D4E3"
             },
             "line": {
              "color": "white"
             }
            },
            "type": "table"
           }
          ]
         },
         "layout": {
          "annotationdefaults": {
           "arrowcolor": "#2a3f5f",
           "arrowhead": 0,
           "arrowwidth": 1
          },
          "colorscale": {
           "diverging": [
            [
             0,
             "#8e0152"
            ],
            [
             0.1,
             "#c51b7d"
            ],
            [
             0.2,
             "#de77ae"
            ],
            [
             0.3,
             "#f1b6da"
            ],
            [
             0.4,
             "#fde0ef"
            ],
            [
             0.5,
             "#f7f7f7"
            ],
            [
             0.6,
             "#e6f5d0"
            ],
            [
             0.7,
             "#b8e186"
            ],
            [
             0.8,
             "#7fbc41"
            ],
            [
             0.9,
             "#4d9221"
            ],
            [
             1,
             "#276419"
            ]
           ],
           "sequential": [
            [
             0,
             "#0d0887"
            ],
            [
             0.1111111111111111,
             "#46039f"
            ],
            [
             0.2222222222222222,
             "#7201a8"
            ],
            [
             0.3333333333333333,
             "#9c179e"
            ],
            [
             0.4444444444444444,
             "#bd3786"
            ],
            [
             0.5555555555555556,
             "#d8576b"
            ],
            [
             0.6666666666666666,
             "#ed7953"
            ],
            [
             0.7777777777777778,
             "#fb9f3a"
            ],
            [
             0.8888888888888888,
             "#fdca26"
            ],
            [
             1,
             "#f0f921"
            ]
           ],
           "sequentialminus": [
            [
             0,
             "#0d0887"
            ],
            [
             0.1111111111111111,
             "#46039f"
            ],
            [
             0.2222222222222222,
             "#7201a8"
            ],
            [
             0.3333333333333333,
             "#9c179e"
            ],
            [
             0.4444444444444444,
             "#bd3786"
            ],
            [
             0.5555555555555556,
             "#d8576b"
            ],
            [
             0.6666666666666666,
             "#ed7953"
            ],
            [
             0.7777777777777778,
             "#fb9f3a"
            ],
            [
             0.8888888888888888,
             "#fdca26"
            ],
            [
             1,
             "#f0f921"
            ]
           ]
          },
          "colorway": [
           "#636efa",
           "#EF553B",
           "#00cc96",
           "#ab63fa",
           "#FFA15A",
           "#19d3f3",
           "#FF6692",
           "#B6E880",
           "#FF97FF",
           "#FECB52"
          ],
          "font": {
           "color": "#2a3f5f"
          },
          "geo": {
           "bgcolor": "white",
           "lakecolor": "white",
           "landcolor": "#E5ECF6",
           "showlakes": true,
           "showland": true,
           "subunitcolor": "white"
          },
          "hoverlabel": {
           "align": "left"
          },
          "hovermode": "closest",
          "mapbox": {
           "style": "light"
          },
          "paper_bgcolor": "white",
          "plot_bgcolor": "#E5ECF6",
          "polar": {
           "angularaxis": {
            "gridcolor": "white",
            "linecolor": "white",
            "ticks": ""
           },
           "bgcolor": "#E5ECF6",
           "radialaxis": {
            "gridcolor": "white",
            "linecolor": "white",
            "ticks": ""
           }
          },
          "scene": {
           "xaxis": {
            "backgroundcolor": "#E5ECF6",
            "gridcolor": "white",
            "gridwidth": 2,
            "linecolor": "white",
            "showbackground": true,
            "ticks": "",
            "zerolinecolor": "white"
           },
           "yaxis": {
            "backgroundcolor": "#E5ECF6",
            "gridcolor": "white",
            "gridwidth": 2,
            "linecolor": "white",
            "showbackground": true,
            "ticks": "",
            "zerolinecolor": "white"
           },
           "zaxis": {
            "backgroundcolor": "#E5ECF6",
            "gridcolor": "white",
            "gridwidth": 2,
            "linecolor": "white",
            "showbackground": true,
            "ticks": "",
            "zerolinecolor": "white"
           }
          },
          "shapedefaults": {
           "line": {
            "color": "#2a3f5f"
           }
          },
          "ternary": {
           "aaxis": {
            "gridcolor": "white",
            "linecolor": "white",
            "ticks": ""
           },
           "baxis": {
            "gridcolor": "white",
            "linecolor": "white",
            "ticks": ""
           },
           "bgcolor": "#E5ECF6",
           "caxis": {
            "gridcolor": "white",
            "linecolor": "white",
            "ticks": ""
           }
          },
          "title": {
           "x": 0.05
          },
          "xaxis": {
           "automargin": true,
           "gridcolor": "white",
           "linecolor": "white",
           "ticks": "",
           "zerolinecolor": "white",
           "zerolinewidth": 2
          },
          "yaxis": {
           "automargin": true,
           "gridcolor": "white",
           "linecolor": "white",
           "ticks": "",
           "zerolinecolor": "white",
           "zerolinewidth": 2
          }
         }
        },
        "title": {
         "text": "JobRole distribution in employes attrition "
        }
       }
      },
      "text/html": [
       "<div>\n",
       "        \n",
       "        \n",
<<<<<<< HEAD
       "            <div id=\"409a6e68-bb21-4d6d-8a13-3d8f3c8143d6\" class=\"plotly-graph-div\" style=\"height:525px; width:100%;\"></div>\n",
=======
       "            <div id=\"02367cbd-a52e-4038-afc4-a20bf7bbd7ed\" class=\"plotly-graph-div\" style=\"height:525px; width:100%;\"></div>\n",
>>>>>>> a083f58117c24ecf875146665f41926c284f5015
       "            <script type=\"text/javascript\">\n",
       "                require([\"plotly\"], function(Plotly) {\n",
       "                    window.PLOTLYENV=window.PLOTLYENV || {};\n",
       "                    \n",
<<<<<<< HEAD
       "                if (document.getElementById(\"409a6e68-bb21-4d6d-8a13-3d8f3c8143d6\")) {\n",
       "                    Plotly.newPlot(\n",
       "                        '409a6e68-bb21-4d6d-8a13-3d8f3c8143d6',\n",
=======
       "                if (document.getElementById(\"02367cbd-a52e-4038-afc4-a20bf7bbd7ed\")) {\n",
       "                    Plotly.newPlot(\n",
       "                        '02367cbd-a52e-4038-afc4-a20bf7bbd7ed',\n",
>>>>>>> a083f58117c24ecf875146665f41926c284f5015
       "                        [{\"domain\": {\"x\": [0, 0.48]}, \"hoverinfo\": \"label+percent+name\", \"labels\": [\"Laboratory Technician\", \"Sales Executive\", \"Research Scientist\", \"Sales Representative\", \"Human Resources\", \"Manufacturing Director\", \"Healthcare Representative\", \"Manager\", \"Research Director\"], \"marker\": {\"colors\": [\"darkblue\", \"darkorange\", \"darkgreen\", \"darkred\", \"lightgrey\", \"orange\", \"white\", \"lightpink\"], \"line\": {\"width\": 1.5}}, \"name\": \"attrition employes\", \"opacity\": 0.8, \"textfont\": {\"size\": 15}, \"type\": \"pie\", \"values\": [62, 57, 47, 33, 12, 10, 9, 5, 2]}, {\"domain\": {\"x\": [0.52, 1]}, \"hoverinfo\": \"label+percent+name\", \"labels\": [\"Sales Executive\", \"Research Scientist\", \"Laboratory Technician\", \"Manufacturing Director\", \"Healthcare Representative\", \"Manager\", \"Research Director\", \"Sales Representative\", \"Human Resources\"], \"marker\": {\"colors\": [\"darkblue\", \"darkorange\", \"darkgreen\", \"darkred\", \"lightgrey\", \"orange\", \"white\", \"lightpink\"], \"line\": {\"width\": 1.5}}, \"name\": \"Non attrition employes\", \"opacity\": 0.8, \"textfont\": {\"size\": 15}, \"type\": \"pie\", \"values\": [269, 245, 197, 135, 122, 97, 78, 50, 40]}],\n",
       "                        {\"annotations\": [{\"font\": {\"size\": 13}, \"showarrow\": false, \"text\": \"Yes_attrition\", \"x\": 0.22, \"y\": -0.1}, {\"font\": {\"size\": 13}, \"showarrow\": false, \"text\": \"No_attrition\", \"x\": 0.8, \"y\": -0.1}], \"template\": {\"data\": {\"bar\": [{\"error_x\": {\"color\": \"#2a3f5f\"}, \"error_y\": {\"color\": \"#2a3f5f\"}, \"marker\": {\"line\": {\"color\": \"#E5ECF6\", \"width\": 0.5}}, \"type\": \"bar\"}], \"barpolar\": [{\"marker\": {\"line\": {\"color\": \"#E5ECF6\", \"width\": 0.5}}, \"type\": \"barpolar\"}], \"carpet\": [{\"aaxis\": {\"endlinecolor\": \"#2a3f5f\", \"gridcolor\": \"white\", \"linecolor\": \"white\", \"minorgridcolor\": \"white\", \"startlinecolor\": \"#2a3f5f\"}, \"baxis\": {\"endlinecolor\": \"#2a3f5f\", \"gridcolor\": \"white\", \"linecolor\": \"white\", \"minorgridcolor\": \"white\", \"startlinecolor\": \"#2a3f5f\"}, \"type\": \"carpet\"}], \"choropleth\": [{\"colorbar\": {\"outlinewidth\": 0, \"ticks\": \"\"}, \"type\": \"choropleth\"}], \"contour\": [{\"colorbar\": {\"outlinewidth\": 0, \"ticks\": \"\"}, \"colorscale\": [[0.0, \"#0d0887\"], [0.1111111111111111, \"#46039f\"], [0.2222222222222222, \"#7201a8\"], [0.3333333333333333, \"#9c179e\"], [0.4444444444444444, \"#bd3786\"], [0.5555555555555556, \"#d8576b\"], [0.6666666666666666, \"#ed7953\"], [0.7777777777777778, \"#fb9f3a\"], [0.8888888888888888, \"#fdca26\"], [1.0, \"#f0f921\"]], \"type\": \"contour\"}], \"contourcarpet\": [{\"colorbar\": {\"outlinewidth\": 0, \"ticks\": \"\"}, \"type\": \"contourcarpet\"}], \"heatmap\": [{\"colorbar\": {\"outlinewidth\": 0, \"ticks\": \"\"}, \"colorscale\": [[0.0, \"#0d0887\"], [0.1111111111111111, \"#46039f\"], [0.2222222222222222, \"#7201a8\"], [0.3333333333333333, \"#9c179e\"], [0.4444444444444444, \"#bd3786\"], [0.5555555555555556, \"#d8576b\"], [0.6666666666666666, \"#ed7953\"], [0.7777777777777778, \"#fb9f3a\"], [0.8888888888888888, \"#fdca26\"], [1.0, \"#f0f921\"]], \"type\": \"heatmap\"}], \"heatmapgl\": [{\"colorbar\": {\"outlinewidth\": 0, \"ticks\": \"\"}, \"colorscale\": [[0.0, \"#0d0887\"], [0.1111111111111111, \"#46039f\"], [0.2222222222222222, \"#7201a8\"], [0.3333333333333333, \"#9c179e\"], [0.4444444444444444, \"#bd3786\"], [0.5555555555555556, \"#d8576b\"], [0.6666666666666666, \"#ed7953\"], [0.7777777777777778, \"#fb9f3a\"], [0.8888888888888888, \"#fdca26\"], [1.0, \"#f0f921\"]], \"type\": \"heatmapgl\"}], \"histogram\": [{\"marker\": {\"colorbar\": {\"outlinewidth\": 0, \"ticks\": \"\"}}, \"type\": \"histogram\"}], \"histogram2d\": [{\"colorbar\": {\"outlinewidth\": 0, \"ticks\": \"\"}, \"colorscale\": [[0.0, \"#0d0887\"], [0.1111111111111111, \"#46039f\"], [0.2222222222222222, \"#7201a8\"], [0.3333333333333333, \"#9c179e\"], [0.4444444444444444, \"#bd3786\"], [0.5555555555555556, \"#d8576b\"], [0.6666666666666666, \"#ed7953\"], [0.7777777777777778, \"#fb9f3a\"], [0.8888888888888888, \"#fdca26\"], [1.0, \"#f0f921\"]], \"type\": \"histogram2d\"}], \"histogram2dcontour\": [{\"colorbar\": {\"outlinewidth\": 0, \"ticks\": \"\"}, \"colorscale\": [[0.0, \"#0d0887\"], [0.1111111111111111, \"#46039f\"], [0.2222222222222222, \"#7201a8\"], [0.3333333333333333, \"#9c179e\"], [0.4444444444444444, \"#bd3786\"], [0.5555555555555556, \"#d8576b\"], [0.6666666666666666, \"#ed7953\"], [0.7777777777777778, \"#fb9f3a\"], [0.8888888888888888, \"#fdca26\"], [1.0, \"#f0f921\"]], \"type\": \"histogram2dcontour\"}], \"mesh3d\": [{\"colorbar\": {\"outlinewidth\": 0, \"ticks\": \"\"}, \"type\": \"mesh3d\"}], \"parcoords\": [{\"line\": {\"colorbar\": {\"outlinewidth\": 0, \"ticks\": \"\"}}, \"type\": \"parcoords\"}], \"scatter\": [{\"marker\": {\"colorbar\": {\"outlinewidth\": 0, \"ticks\": \"\"}}, \"type\": \"scatter\"}], \"scatter3d\": [{\"line\": {\"colorbar\": {\"outlinewidth\": 0, \"ticks\": \"\"}}, \"marker\": {\"colorbar\": {\"outlinewidth\": 0, \"ticks\": \"\"}}, \"type\": \"scatter3d\"}], \"scattercarpet\": [{\"marker\": {\"colorbar\": {\"outlinewidth\": 0, \"ticks\": \"\"}}, \"type\": \"scattercarpet\"}], \"scattergeo\": [{\"marker\": {\"colorbar\": {\"outlinewidth\": 0, \"ticks\": \"\"}}, \"type\": \"scattergeo\"}], \"scattergl\": [{\"marker\": {\"colorbar\": {\"outlinewidth\": 0, \"ticks\": \"\"}}, \"type\": \"scattergl\"}], \"scattermapbox\": [{\"marker\": {\"colorbar\": {\"outlinewidth\": 0, \"ticks\": \"\"}}, \"type\": \"scattermapbox\"}], \"scatterpolar\": [{\"marker\": {\"colorbar\": {\"outlinewidth\": 0, \"ticks\": \"\"}}, \"type\": \"scatterpolar\"}], \"scatterpolargl\": [{\"marker\": {\"colorbar\": {\"outlinewidth\": 0, \"ticks\": \"\"}}, \"type\": \"scatterpolargl\"}], \"scatterternary\": [{\"marker\": {\"colorbar\": {\"outlinewidth\": 0, \"ticks\": \"\"}}, \"type\": \"scatterternary\"}], \"surface\": [{\"colorbar\": {\"outlinewidth\": 0, \"ticks\": \"\"}, \"colorscale\": [[0.0, \"#0d0887\"], [0.1111111111111111, \"#46039f\"], [0.2222222222222222, \"#7201a8\"], [0.3333333333333333, \"#9c179e\"], [0.4444444444444444, \"#bd3786\"], [0.5555555555555556, \"#d8576b\"], [0.6666666666666666, \"#ed7953\"], [0.7777777777777778, \"#fb9f3a\"], [0.8888888888888888, \"#fdca26\"], [1.0, \"#f0f921\"]], \"type\": \"surface\"}], \"table\": [{\"cells\": {\"fill\": {\"color\": \"#EBF0F8\"}, \"line\": {\"color\": \"white\"}}, \"header\": {\"fill\": {\"color\": \"#C8D4E3\"}, \"line\": {\"color\": \"white\"}}, \"type\": \"table\"}]}, \"layout\": {\"annotationdefaults\": {\"arrowcolor\": \"#2a3f5f\", \"arrowhead\": 0, \"arrowwidth\": 1}, \"colorscale\": {\"diverging\": [[0, \"#8e0152\"], [0.1, \"#c51b7d\"], [0.2, \"#de77ae\"], [0.3, \"#f1b6da\"], [0.4, \"#fde0ef\"], [0.5, \"#f7f7f7\"], [0.6, \"#e6f5d0\"], [0.7, \"#b8e186\"], [0.8, \"#7fbc41\"], [0.9, \"#4d9221\"], [1, \"#276419\"]], \"sequential\": [[0.0, \"#0d0887\"], [0.1111111111111111, \"#46039f\"], [0.2222222222222222, \"#7201a8\"], [0.3333333333333333, \"#9c179e\"], [0.4444444444444444, \"#bd3786\"], [0.5555555555555556, \"#d8576b\"], [0.6666666666666666, \"#ed7953\"], [0.7777777777777778, \"#fb9f3a\"], [0.8888888888888888, \"#fdca26\"], [1.0, \"#f0f921\"]], \"sequentialminus\": [[0.0, \"#0d0887\"], [0.1111111111111111, \"#46039f\"], [0.2222222222222222, \"#7201a8\"], [0.3333333333333333, \"#9c179e\"], [0.4444444444444444, \"#bd3786\"], [0.5555555555555556, \"#d8576b\"], [0.6666666666666666, \"#ed7953\"], [0.7777777777777778, \"#fb9f3a\"], [0.8888888888888888, \"#fdca26\"], [1.0, \"#f0f921\"]]}, \"colorway\": [\"#636efa\", \"#EF553B\", \"#00cc96\", \"#ab63fa\", \"#FFA15A\", \"#19d3f3\", \"#FF6692\", \"#B6E880\", \"#FF97FF\", \"#FECB52\"], \"font\": {\"color\": \"#2a3f5f\"}, \"geo\": {\"bgcolor\": \"white\", \"lakecolor\": \"white\", \"landcolor\": \"#E5ECF6\", \"showlakes\": true, \"showland\": true, \"subunitcolor\": \"white\"}, \"hoverlabel\": {\"align\": \"left\"}, \"hovermode\": \"closest\", \"mapbox\": {\"style\": \"light\"}, \"paper_bgcolor\": \"white\", \"plot_bgcolor\": \"#E5ECF6\", \"polar\": {\"angularaxis\": {\"gridcolor\": \"white\", \"linecolor\": \"white\", \"ticks\": \"\"}, \"bgcolor\": \"#E5ECF6\", \"radialaxis\": {\"gridcolor\": \"white\", \"linecolor\": \"white\", \"ticks\": \"\"}}, \"scene\": {\"xaxis\": {\"backgroundcolor\": \"#E5ECF6\", \"gridcolor\": \"white\", \"gridwidth\": 2, \"linecolor\": \"white\", \"showbackground\": true, \"ticks\": \"\", \"zerolinecolor\": \"white\"}, \"yaxis\": {\"backgroundcolor\": \"#E5ECF6\", \"gridcolor\": \"white\", \"gridwidth\": 2, \"linecolor\": \"white\", \"showbackground\": true, \"ticks\": \"\", \"zerolinecolor\": \"white\"}, \"zaxis\": {\"backgroundcolor\": \"#E5ECF6\", \"gridcolor\": \"white\", \"gridwidth\": 2, \"linecolor\": \"white\", \"showbackground\": true, \"ticks\": \"\", \"zerolinecolor\": \"white\"}}, \"shapedefaults\": {\"line\": {\"color\": \"#2a3f5f\"}}, \"ternary\": {\"aaxis\": {\"gridcolor\": \"white\", \"linecolor\": \"white\", \"ticks\": \"\"}, \"baxis\": {\"gridcolor\": \"white\", \"linecolor\": \"white\", \"ticks\": \"\"}, \"bgcolor\": \"#E5ECF6\", \"caxis\": {\"gridcolor\": \"white\", \"linecolor\": \"white\", \"ticks\": \"\"}}, \"title\": {\"x\": 0.05}, \"xaxis\": {\"automargin\": true, \"gridcolor\": \"white\", \"linecolor\": \"white\", \"ticks\": \"\", \"zerolinecolor\": \"white\", \"zerolinewidth\": 2}, \"yaxis\": {\"automargin\": true, \"gridcolor\": \"white\", \"linecolor\": \"white\", \"ticks\": \"\", \"zerolinecolor\": \"white\", \"zerolinewidth\": 2}}}, \"title\": {\"text\": \"JobRole distribution in employes attrition \"}},\n",
       "                        {\"responsive\": true}\n",
       "                    ).then(function(){\n",
       "                            \n",
<<<<<<< HEAD
       "var gd = document.getElementById('409a6e68-bb21-4d6d-8a13-3d8f3c8143d6');\n",
=======
       "var gd = document.getElementById('02367cbd-a52e-4038-afc4-a20bf7bbd7ed');\n",
>>>>>>> a083f58117c24ecf875146665f41926c284f5015
       "var x = new MutationObserver(function (mutations, observer) {{\n",
       "        var display = window.getComputedStyle(gd).display;\n",
       "        if (!display || display === 'none') {{\n",
       "            console.log([gd, 'removed!']);\n",
       "            Plotly.purge(gd);\n",
       "            observer.disconnect();\n",
       "        }}\n",
       "}});\n",
       "\n",
       "// Listen for the removal of the full notebook cells\n",
       "var notebookContainer = gd.closest('#notebook-container');\n",
       "if (notebookContainer) {{\n",
       "    x.observe(notebookContainer, {childList: true});\n",
       "}}\n",
       "\n",
       "// Listen for the clearing of the current output cell\n",
       "var outputEl = gd.closest('.output');\n",
       "if (outputEl) {{\n",
       "    x.observe(outputEl, {childList: true});\n",
       "}}\n",
       "\n",
       "                        })\n",
       "                };\n",
       "                });\n",
       "            </script>\n",
       "        </div>"
      ]
     },
     "metadata": {},
     "output_type": "display_data"
    }
   ],
   "source": [
    "plot(\"JobRole\")"
   ]
  },
  {
   "cell_type": "markdown",
   "metadata": {},
   "source": [
    "Podemos ver que mesmo a maior quantidade de pessoas que tem atrito são técnicos de laboratorio, mesmo "
   ]
  },
  {
   "cell_type": "markdown",
   "metadata": {},
   "source": [
    "___\n",
    "* **Plotando o gráfico de pessoas que tem atrito e não tem atrito, comparando-as se fazem hora extra ou não:**"
   ]
  },
  {
   "cell_type": "code",
<<<<<<< HEAD
   "execution_count": 73,
=======
   "execution_count": 458,
>>>>>>> a083f58117c24ecf875146665f41926c284f5015
   "metadata": {
    "scrolled": true
   },
   "outputs": [
    {
     "data": {
      "image/png": "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\n",
      "text/plain": [
       "<Figure size 432x288 with 1 Axes>"
      ]
     },
     "metadata": {
      "needs_background": "light"
     },
     "output_type": "display_data"
    }
   ],
   "source": [
    "sns.barplot(x='Attrition',y=\"Attrition\",hue=\"OverTime\", data=IBM, estimator=lambda x: len(x) / len(IBM) * 100);\n",
    "plt.ylabel('Frequência Relativa (%)');"
   ]
  },
  {
   "cell_type": "markdown",
   "metadata": {},
   "source": [
    "Uma coisa interessante enquanto analisavamos nossas variáveis que não pensamos que seria assim, é que a maior quantidade das pessoas que não trabalham hora extra permanecem na empresa, sendo que o grupo acreditava que seria o contrário, otimo insight para a continuação do projeto"
   ]
  },
  {
   "cell_type": "markdown",
   "metadata": {},
   "source": [
    "___\n",
    "* **Plotando o gráfico de pessoas que tem atrito e não tem atrito com a empresa, relacionando-as com a perfomance do indivíduo:**\n",
    "\n",
    "___\n",
    "Legenda:\n",
    "\n",
    "PerformanceRating: \n",
    "* **1: Low** \n",
    "* **2: Good**\n",
    "* **3: Excellent** \n",
    "* **4: Outstanding**"
   ]
  },
  {
   "cell_type": "code",
<<<<<<< HEAD
   "execution_count": 74,
=======
   "execution_count": 459,
>>>>>>> a083f58117c24ecf875146665f41926c284f5015
   "metadata": {},
   "outputs": [
    {
     "data": {
      "application/vnd.plotly.v1+json": {
       "config": {
        "linkText": "Export to plot.ly",
        "plotlyServerURL": "https://plot.ly",
        "showLink": false
       },
       "data": [
        {
         "domain": {
          "x": [
           0,
           0.48
          ]
         },
         "hoverinfo": "label+percent+name",
         "labels": [
          3,
          4
         ],
         "marker": {
          "colors": [
           "darkblue",
           "darkorange",
           "darkgreen",
           "darkred",
           "lightgrey",
           "orange",
           "white",
           "lightpink"
          ],
          "line": {
           "width": 1.5
          }
         },
         "name": "attrition employes",
         "opacity": 0.8,
         "textfont": {
          "size": 15
         },
         "type": "pie",
         "values": [
          200,
          37
         ]
        },
        {
         "domain": {
          "x": [
           0.52,
           1
          ]
         },
         "hoverinfo": "label+percent+name",
         "labels": [
          3,
          4
         ],
         "marker": {
          "colors": [
           "darkblue",
           "darkorange",
           "darkgreen",
           "darkred",
           "lightgrey",
           "orange",
           "white",
           "lightpink"
          ],
          "line": {
           "width": 1.5
          }
         },
         "name": "Non attrition employes",
         "opacity": 0.8,
         "textfont": {
          "size": 15
         },
         "type": "pie",
         "values": [
          1044,
          189
         ]
        }
       ],
       "layout": {
        "annotations": [
         {
          "font": {
           "size": 13
          },
          "showarrow": false,
          "text": "Yes_attrition",
          "x": 0.22,
          "y": -0.1
         },
         {
          "font": {
           "size": 13
          },
          "showarrow": false,
          "text": "No_attrition",
          "x": 0.8,
          "y": -0.1
         }
        ],
        "template": {
         "data": {
          "bar": [
           {
            "error_x": {
             "color": "#2a3f5f"
            },
            "error_y": {
             "color": "#2a3f5f"
            },
            "marker": {
             "line": {
              "color": "#E5ECF6",
              "width": 0.5
             }
            },
            "type": "bar"
           }
          ],
          "barpolar": [
           {
            "marker": {
             "line": {
              "color": "#E5ECF6",
              "width": 0.5
             }
            },
            "type": "barpolar"
           }
          ],
          "carpet": [
           {
            "aaxis": {
             "endlinecolor": "#2a3f5f",
             "gridcolor": "white",
             "linecolor": "white",
             "minorgridcolor": "white",
             "startlinecolor": "#2a3f5f"
            },
            "baxis": {
             "endlinecolor": "#2a3f5f",
             "gridcolor": "white",
             "linecolor": "white",
             "minorgridcolor": "white",
             "startlinecolor": "#2a3f5f"
            },
            "type": "carpet"
           }
          ],
          "choropleth": [
           {
            "colorbar": {
             "outlinewidth": 0,
             "ticks": ""
            },
            "type": "choropleth"
           }
          ],
          "contour": [
           {
            "colorbar": {
             "outlinewidth": 0,
             "ticks": ""
            },
            "colorscale": [
             [
              0,
              "#0d0887"
             ],
             [
              0.1111111111111111,
              "#46039f"
             ],
             [
              0.2222222222222222,
              "#7201a8"
             ],
             [
              0.3333333333333333,
              "#9c179e"
             ],
             [
              0.4444444444444444,
              "#bd3786"
             ],
             [
              0.5555555555555556,
              "#d8576b"
             ],
             [
              0.6666666666666666,
              "#ed7953"
             ],
             [
              0.7777777777777778,
              "#fb9f3a"
             ],
             [
              0.8888888888888888,
              "#fdca26"
             ],
             [
              1,
              "#f0f921"
             ]
            ],
            "type": "contour"
           }
          ],
          "contourcarpet": [
           {
            "colorbar": {
             "outlinewidth": 0,
             "ticks": ""
            },
            "type": "contourcarpet"
           }
          ],
          "heatmap": [
           {
            "colorbar": {
             "outlinewidth": 0,
             "ticks": ""
            },
            "colorscale": [
             [
              0,
              "#0d0887"
             ],
             [
              0.1111111111111111,
              "#46039f"
             ],
             [
              0.2222222222222222,
              "#7201a8"
             ],
             [
              0.3333333333333333,
              "#9c179e"
             ],
             [
              0.4444444444444444,
              "#bd3786"
             ],
             [
              0.5555555555555556,
              "#d8576b"
             ],
             [
              0.6666666666666666,
              "#ed7953"
             ],
             [
              0.7777777777777778,
              "#fb9f3a"
             ],
             [
              0.8888888888888888,
              "#fdca26"
             ],
             [
              1,
              "#f0f921"
             ]
            ],
            "type": "heatmap"
           }
          ],
          "heatmapgl": [
           {
            "colorbar": {
             "outlinewidth": 0,
             "ticks": ""
            },
            "colorscale": [
             [
              0,
              "#0d0887"
             ],
             [
              0.1111111111111111,
              "#46039f"
             ],
             [
              0.2222222222222222,
              "#7201a8"
             ],
             [
              0.3333333333333333,
              "#9c179e"
             ],
             [
              0.4444444444444444,
              "#bd3786"
             ],
             [
              0.5555555555555556,
              "#d8576b"
             ],
             [
              0.6666666666666666,
              "#ed7953"
             ],
             [
              0.7777777777777778,
              "#fb9f3a"
             ],
             [
              0.8888888888888888,
              "#fdca26"
             ],
             [
              1,
              "#f0f921"
             ]
            ],
            "type": "heatmapgl"
           }
          ],
          "histogram": [
           {
            "marker": {
             "colorbar": {
              "outlinewidth": 0,
              "ticks": ""
             }
            },
            "type": "histogram"
           }
          ],
          "histogram2d": [
           {
            "colorbar": {
             "outlinewidth": 0,
             "ticks": ""
            },
            "colorscale": [
             [
              0,
              "#0d0887"
             ],
             [
              0.1111111111111111,
              "#46039f"
             ],
             [
              0.2222222222222222,
              "#7201a8"
             ],
             [
              0.3333333333333333,
              "#9c179e"
             ],
             [
              0.4444444444444444,
              "#bd3786"
             ],
             [
              0.5555555555555556,
              "#d8576b"
             ],
             [
              0.6666666666666666,
              "#ed7953"
             ],
             [
              0.7777777777777778,
              "#fb9f3a"
             ],
             [
              0.8888888888888888,
              "#fdca26"
             ],
             [
              1,
              "#f0f921"
             ]
            ],
            "type": "histogram2d"
           }
          ],
          "histogram2dcontour": [
           {
            "colorbar": {
             "outlinewidth": 0,
             "ticks": ""
            },
            "colorscale": [
             [
              0,
              "#0d0887"
             ],
             [
              0.1111111111111111,
              "#46039f"
             ],
             [
              0.2222222222222222,
              "#7201a8"
             ],
             [
              0.3333333333333333,
              "#9c179e"
             ],
             [
              0.4444444444444444,
              "#bd3786"
             ],
             [
              0.5555555555555556,
              "#d8576b"
             ],
             [
              0.6666666666666666,
              "#ed7953"
             ],
             [
              0.7777777777777778,
              "#fb9f3a"
             ],
             [
              0.8888888888888888,
              "#fdca26"
             ],
             [
              1,
              "#f0f921"
             ]
            ],
            "type": "histogram2dcontour"
           }
          ],
          "mesh3d": [
           {
            "colorbar": {
             "outlinewidth": 0,
             "ticks": ""
            },
            "type": "mesh3d"
           }
          ],
          "parcoords": [
           {
            "line": {
             "colorbar": {
              "outlinewidth": 0,
              "ticks": ""
             }
            },
            "type": "parcoords"
           }
          ],
          "scatter": [
           {
            "marker": {
             "colorbar": {
              "outlinewidth": 0,
              "ticks": ""
             }
            },
            "type": "scatter"
           }
          ],
          "scatter3d": [
           {
            "line": {
             "colorbar": {
              "outlinewidth": 0,
              "ticks": ""
             }
            },
            "marker": {
             "colorbar": {
              "outlinewidth": 0,
              "ticks": ""
             }
            },
            "type": "scatter3d"
           }
          ],
          "scattercarpet": [
           {
            "marker": {
             "colorbar": {
              "outlinewidth": 0,
              "ticks": ""
             }
            },
            "type": "scattercarpet"
           }
          ],
          "scattergeo": [
           {
            "marker": {
             "colorbar": {
              "outlinewidth": 0,
              "ticks": ""
             }
            },
            "type": "scattergeo"
           }
          ],
          "scattergl": [
           {
            "marker": {
             "colorbar": {
              "outlinewidth": 0,
              "ticks": ""
             }
            },
            "type": "scattergl"
           }
          ],
          "scattermapbox": [
           {
            "marker": {
             "colorbar": {
              "outlinewidth": 0,
              "ticks": ""
             }
            },
            "type": "scattermapbox"
           }
          ],
          "scatterpolar": [
           {
            "marker": {
             "colorbar": {
              "outlinewidth": 0,
              "ticks": ""
             }
            },
            "type": "scatterpolar"
           }
          ],
          "scatterpolargl": [
           {
            "marker": {
             "colorbar": {
              "outlinewidth": 0,
              "ticks": ""
             }
            },
            "type": "scatterpolargl"
           }
          ],
          "scatterternary": [
           {
            "marker": {
             "colorbar": {
              "outlinewidth": 0,
              "ticks": ""
             }
            },
            "type": "scatterternary"
           }
          ],
          "surface": [
           {
            "colorbar": {
             "outlinewidth": 0,
             "ticks": ""
            },
            "colorscale": [
             [
              0,
              "#0d0887"
             ],
             [
              0.1111111111111111,
              "#46039f"
             ],
             [
              0.2222222222222222,
              "#7201a8"
             ],
             [
              0.3333333333333333,
              "#9c179e"
             ],
             [
              0.4444444444444444,
              "#bd3786"
             ],
             [
              0.5555555555555556,
              "#d8576b"
             ],
             [
              0.6666666666666666,
              "#ed7953"
             ],
             [
              0.7777777777777778,
              "#fb9f3a"
             ],
             [
              0.8888888888888888,
              "#fdca26"
             ],
             [
              1,
              "#f0f921"
             ]
            ],
            "type": "surface"
           }
          ],
          "table": [
           {
            "cells": {
             "fill": {
              "color": "#EBF0F8"
             },
             "line": {
              "color": "white"
             }
            },
            "header": {
             "fill": {
              "color": "#C8D4E3"
             },
             "line": {
              "color": "white"
             }
            },
            "type": "table"
           }
          ]
         },
         "layout": {
          "annotationdefaults": {
           "arrowcolor": "#2a3f5f",
           "arrowhead": 0,
           "arrowwidth": 1
          },
          "colorscale": {
           "diverging": [
            [
             0,
             "#8e0152"
            ],
            [
             0.1,
             "#c51b7d"
            ],
            [
             0.2,
             "#de77ae"
            ],
            [
             0.3,
             "#f1b6da"
            ],
            [
             0.4,
             "#fde0ef"
            ],
            [
             0.5,
             "#f7f7f7"
            ],
            [
             0.6,
             "#e6f5d0"
            ],
            [
             0.7,
             "#b8e186"
            ],
            [
             0.8,
             "#7fbc41"
            ],
            [
             0.9,
             "#4d9221"
            ],
            [
             1,
             "#276419"
            ]
           ],
           "sequential": [
            [
             0,
             "#0d0887"
            ],
            [
             0.1111111111111111,
             "#46039f"
            ],
            [
             0.2222222222222222,
             "#7201a8"
            ],
            [
             0.3333333333333333,
             "#9c179e"
            ],
            [
             0.4444444444444444,
             "#bd3786"
            ],
            [
             0.5555555555555556,
             "#d8576b"
            ],
            [
             0.6666666666666666,
             "#ed7953"
            ],
            [
             0.7777777777777778,
             "#fb9f3a"
            ],
            [
             0.8888888888888888,
             "#fdca26"
            ],
            [
             1,
             "#f0f921"
            ]
           ],
           "sequentialminus": [
            [
             0,
             "#0d0887"
            ],
            [
             0.1111111111111111,
             "#46039f"
            ],
            [
             0.2222222222222222,
             "#7201a8"
            ],
            [
             0.3333333333333333,
             "#9c179e"
            ],
            [
             0.4444444444444444,
             "#bd3786"
            ],
            [
             0.5555555555555556,
             "#d8576b"
            ],
            [
             0.6666666666666666,
             "#ed7953"
            ],
            [
             0.7777777777777778,
             "#fb9f3a"
            ],
            [
             0.8888888888888888,
             "#fdca26"
            ],
            [
             1,
             "#f0f921"
            ]
           ]
          },
          "colorway": [
           "#636efa",
           "#EF553B",
           "#00cc96",
           "#ab63fa",
           "#FFA15A",
           "#19d3f3",
           "#FF6692",
           "#B6E880",
           "#FF97FF",
           "#FECB52"
          ],
          "font": {
           "color": "#2a3f5f"
          },
          "geo": {
           "bgcolor": "white",
           "lakecolor": "white",
           "landcolor": "#E5ECF6",
           "showlakes": true,
           "showland": true,
           "subunitcolor": "white"
          },
          "hoverlabel": {
           "align": "left"
          },
          "hovermode": "closest",
          "mapbox": {
           "style": "light"
          },
          "paper_bgcolor": "white",
          "plot_bgcolor": "#E5ECF6",
          "polar": {
           "angularaxis": {
            "gridcolor": "white",
            "linecolor": "white",
            "ticks": ""
           },
           "bgcolor": "#E5ECF6",
           "radialaxis": {
            "gridcolor": "white",
            "linecolor": "white",
            "ticks": ""
           }
          },
          "scene": {
           "xaxis": {
            "backgroundcolor": "#E5ECF6",
            "gridcolor": "white",
            "gridwidth": 2,
            "linecolor": "white",
            "showbackground": true,
            "ticks": "",
            "zerolinecolor": "white"
           },
           "yaxis": {
            "backgroundcolor": "#E5ECF6",
            "gridcolor": "white",
            "gridwidth": 2,
            "linecolor": "white",
            "showbackground": true,
            "ticks": "",
            "zerolinecolor": "white"
           },
           "zaxis": {
            "backgroundcolor": "#E5ECF6",
            "gridcolor": "white",
            "gridwidth": 2,
            "linecolor": "white",
            "showbackground": true,
            "ticks": "",
            "zerolinecolor": "white"
           }
          },
          "shapedefaults": {
           "line": {
            "color": "#2a3f5f"
           }
          },
          "ternary": {
           "aaxis": {
            "gridcolor": "white",
            "linecolor": "white",
            "ticks": ""
           },
           "baxis": {
            "gridcolor": "white",
            "linecolor": "white",
            "ticks": ""
           },
           "bgcolor": "#E5ECF6",
           "caxis": {
            "gridcolor": "white",
            "linecolor": "white",
            "ticks": ""
           }
          },
          "title": {
           "x": 0.05
          },
          "xaxis": {
           "automargin": true,
           "gridcolor": "white",
           "linecolor": "white",
           "ticks": "",
           "zerolinecolor": "white",
           "zerolinewidth": 2
          },
          "yaxis": {
           "automargin": true,
           "gridcolor": "white",
           "linecolor": "white",
           "ticks": "",
           "zerolinecolor": "white",
           "zerolinewidth": 2
          }
         }
        },
        "title": {
         "text": "PerformanceRating distribution in employes attrition "
        }
       }
      },
      "text/html": [
       "<div>\n",
       "        \n",
       "        \n",
<<<<<<< HEAD
       "            <div id=\"47379737-09fb-4fbb-8928-b3353136d489\" class=\"plotly-graph-div\" style=\"height:525px; width:100%;\"></div>\n",
=======
       "            <div id=\"50740d88-1c59-4554-9e57-2fe0b3869344\" class=\"plotly-graph-div\" style=\"height:525px; width:100%;\"></div>\n",
>>>>>>> a083f58117c24ecf875146665f41926c284f5015
       "            <script type=\"text/javascript\">\n",
       "                require([\"plotly\"], function(Plotly) {\n",
       "                    window.PLOTLYENV=window.PLOTLYENV || {};\n",
       "                    \n",
<<<<<<< HEAD
       "                if (document.getElementById(\"47379737-09fb-4fbb-8928-b3353136d489\")) {\n",
       "                    Plotly.newPlot(\n",
       "                        '47379737-09fb-4fbb-8928-b3353136d489',\n",
=======
       "                if (document.getElementById(\"50740d88-1c59-4554-9e57-2fe0b3869344\")) {\n",
       "                    Plotly.newPlot(\n",
       "                        '50740d88-1c59-4554-9e57-2fe0b3869344',\n",
>>>>>>> a083f58117c24ecf875146665f41926c284f5015
       "                        [{\"domain\": {\"x\": [0, 0.48]}, \"hoverinfo\": \"label+percent+name\", \"labels\": [3, 4], \"marker\": {\"colors\": [\"darkblue\", \"darkorange\", \"darkgreen\", \"darkred\", \"lightgrey\", \"orange\", \"white\", \"lightpink\"], \"line\": {\"width\": 1.5}}, \"name\": \"attrition employes\", \"opacity\": 0.8, \"textfont\": {\"size\": 15}, \"type\": \"pie\", \"values\": [200, 37]}, {\"domain\": {\"x\": [0.52, 1]}, \"hoverinfo\": \"label+percent+name\", \"labels\": [3, 4], \"marker\": {\"colors\": [\"darkblue\", \"darkorange\", \"darkgreen\", \"darkred\", \"lightgrey\", \"orange\", \"white\", \"lightpink\"], \"line\": {\"width\": 1.5}}, \"name\": \"Non attrition employes\", \"opacity\": 0.8, \"textfont\": {\"size\": 15}, \"type\": \"pie\", \"values\": [1044, 189]}],\n",
       "                        {\"annotations\": [{\"font\": {\"size\": 13}, \"showarrow\": false, \"text\": \"Yes_attrition\", \"x\": 0.22, \"y\": -0.1}, {\"font\": {\"size\": 13}, \"showarrow\": false, \"text\": \"No_attrition\", \"x\": 0.8, \"y\": -0.1}], \"template\": {\"data\": {\"bar\": [{\"error_x\": {\"color\": \"#2a3f5f\"}, \"error_y\": {\"color\": \"#2a3f5f\"}, \"marker\": {\"line\": {\"color\": \"#E5ECF6\", \"width\": 0.5}}, \"type\": \"bar\"}], \"barpolar\": [{\"marker\": {\"line\": {\"color\": \"#E5ECF6\", \"width\": 0.5}}, \"type\": \"barpolar\"}], \"carpet\": [{\"aaxis\": {\"endlinecolor\": \"#2a3f5f\", \"gridcolor\": \"white\", \"linecolor\": \"white\", \"minorgridcolor\": \"white\", \"startlinecolor\": \"#2a3f5f\"}, \"baxis\": {\"endlinecolor\": \"#2a3f5f\", \"gridcolor\": \"white\", \"linecolor\": \"white\", \"minorgridcolor\": \"white\", \"startlinecolor\": \"#2a3f5f\"}, \"type\": \"carpet\"}], \"choropleth\": [{\"colorbar\": {\"outlinewidth\": 0, \"ticks\": \"\"}, \"type\": \"choropleth\"}], \"contour\": [{\"colorbar\": {\"outlinewidth\": 0, \"ticks\": \"\"}, \"colorscale\": [[0.0, \"#0d0887\"], [0.1111111111111111, \"#46039f\"], [0.2222222222222222, \"#7201a8\"], [0.3333333333333333, \"#9c179e\"], [0.4444444444444444, \"#bd3786\"], [0.5555555555555556, \"#d8576b\"], [0.6666666666666666, \"#ed7953\"], [0.7777777777777778, \"#fb9f3a\"], [0.8888888888888888, \"#fdca26\"], [1.0, \"#f0f921\"]], \"type\": \"contour\"}], \"contourcarpet\": [{\"colorbar\": {\"outlinewidth\": 0, \"ticks\": \"\"}, \"type\": \"contourcarpet\"}], \"heatmap\": [{\"colorbar\": {\"outlinewidth\": 0, \"ticks\": \"\"}, \"colorscale\": [[0.0, \"#0d0887\"], [0.1111111111111111, \"#46039f\"], [0.2222222222222222, \"#7201a8\"], [0.3333333333333333, \"#9c179e\"], [0.4444444444444444, \"#bd3786\"], [0.5555555555555556, \"#d8576b\"], [0.6666666666666666, \"#ed7953\"], [0.7777777777777778, \"#fb9f3a\"], [0.8888888888888888, \"#fdca26\"], [1.0, \"#f0f921\"]], \"type\": \"heatmap\"}], \"heatmapgl\": [{\"colorbar\": {\"outlinewidth\": 0, \"ticks\": \"\"}, \"colorscale\": [[0.0, \"#0d0887\"], [0.1111111111111111, \"#46039f\"], [0.2222222222222222, \"#7201a8\"], [0.3333333333333333, \"#9c179e\"], [0.4444444444444444, \"#bd3786\"], [0.5555555555555556, \"#d8576b\"], [0.6666666666666666, \"#ed7953\"], [0.7777777777777778, \"#fb9f3a\"], [0.8888888888888888, \"#fdca26\"], [1.0, \"#f0f921\"]], \"type\": \"heatmapgl\"}], \"histogram\": [{\"marker\": {\"colorbar\": {\"outlinewidth\": 0, \"ticks\": \"\"}}, \"type\": \"histogram\"}], \"histogram2d\": [{\"colorbar\": {\"outlinewidth\": 0, \"ticks\": \"\"}, \"colorscale\": [[0.0, \"#0d0887\"], [0.1111111111111111, \"#46039f\"], [0.2222222222222222, \"#7201a8\"], [0.3333333333333333, \"#9c179e\"], [0.4444444444444444, \"#bd3786\"], [0.5555555555555556, \"#d8576b\"], [0.6666666666666666, \"#ed7953\"], [0.7777777777777778, \"#fb9f3a\"], [0.8888888888888888, \"#fdca26\"], [1.0, \"#f0f921\"]], \"type\": \"histogram2d\"}], \"histogram2dcontour\": [{\"colorbar\": {\"outlinewidth\": 0, \"ticks\": \"\"}, \"colorscale\": [[0.0, \"#0d0887\"], [0.1111111111111111, \"#46039f\"], [0.2222222222222222, \"#7201a8\"], [0.3333333333333333, \"#9c179e\"], [0.4444444444444444, \"#bd3786\"], [0.5555555555555556, \"#d8576b\"], [0.6666666666666666, \"#ed7953\"], [0.7777777777777778, \"#fb9f3a\"], [0.8888888888888888, \"#fdca26\"], [1.0, \"#f0f921\"]], \"type\": \"histogram2dcontour\"}], \"mesh3d\": [{\"colorbar\": {\"outlinewidth\": 0, \"ticks\": \"\"}, \"type\": \"mesh3d\"}], \"parcoords\": [{\"line\": {\"colorbar\": {\"outlinewidth\": 0, \"ticks\": \"\"}}, \"type\": \"parcoords\"}], \"scatter\": [{\"marker\": {\"colorbar\": {\"outlinewidth\": 0, \"ticks\": \"\"}}, \"type\": \"scatter\"}], \"scatter3d\": [{\"line\": {\"colorbar\": {\"outlinewidth\": 0, \"ticks\": \"\"}}, \"marker\": {\"colorbar\": {\"outlinewidth\": 0, \"ticks\": \"\"}}, \"type\": \"scatter3d\"}], \"scattercarpet\": [{\"marker\": {\"colorbar\": {\"outlinewidth\": 0, \"ticks\": \"\"}}, \"type\": \"scattercarpet\"}], \"scattergeo\": [{\"marker\": {\"colorbar\": {\"outlinewidth\": 0, \"ticks\": \"\"}}, \"type\": \"scattergeo\"}], \"scattergl\": [{\"marker\": {\"colorbar\": {\"outlinewidth\": 0, \"ticks\": \"\"}}, \"type\": \"scattergl\"}], \"scattermapbox\": [{\"marker\": {\"colorbar\": {\"outlinewidth\": 0, \"ticks\": \"\"}}, \"type\": \"scattermapbox\"}], \"scatterpolar\": [{\"marker\": {\"colorbar\": {\"outlinewidth\": 0, \"ticks\": \"\"}}, \"type\": \"scatterpolar\"}], \"scatterpolargl\": [{\"marker\": {\"colorbar\": {\"outlinewidth\": 0, \"ticks\": \"\"}}, \"type\": \"scatterpolargl\"}], \"scatterternary\": [{\"marker\": {\"colorbar\": {\"outlinewidth\": 0, \"ticks\": \"\"}}, \"type\": \"scatterternary\"}], \"surface\": [{\"colorbar\": {\"outlinewidth\": 0, \"ticks\": \"\"}, \"colorscale\": [[0.0, \"#0d0887\"], [0.1111111111111111, \"#46039f\"], [0.2222222222222222, \"#7201a8\"], [0.3333333333333333, \"#9c179e\"], [0.4444444444444444, \"#bd3786\"], [0.5555555555555556, \"#d8576b\"], [0.6666666666666666, \"#ed7953\"], [0.7777777777777778, \"#fb9f3a\"], [0.8888888888888888, \"#fdca26\"], [1.0, \"#f0f921\"]], \"type\": \"surface\"}], \"table\": [{\"cells\": {\"fill\": {\"color\": \"#EBF0F8\"}, \"line\": {\"color\": \"white\"}}, \"header\": {\"fill\": {\"color\": \"#C8D4E3\"}, \"line\": {\"color\": \"white\"}}, \"type\": \"table\"}]}, \"layout\": {\"annotationdefaults\": {\"arrowcolor\": \"#2a3f5f\", \"arrowhead\": 0, \"arrowwidth\": 1}, \"colorscale\": {\"diverging\": [[0, \"#8e0152\"], [0.1, \"#c51b7d\"], [0.2, \"#de77ae\"], [0.3, \"#f1b6da\"], [0.4, \"#fde0ef\"], [0.5, \"#f7f7f7\"], [0.6, \"#e6f5d0\"], [0.7, \"#b8e186\"], [0.8, \"#7fbc41\"], [0.9, \"#4d9221\"], [1, \"#276419\"]], \"sequential\": [[0.0, \"#0d0887\"], [0.1111111111111111, \"#46039f\"], [0.2222222222222222, \"#7201a8\"], [0.3333333333333333, \"#9c179e\"], [0.4444444444444444, \"#bd3786\"], [0.5555555555555556, \"#d8576b\"], [0.6666666666666666, \"#ed7953\"], [0.7777777777777778, \"#fb9f3a\"], [0.8888888888888888, \"#fdca26\"], [1.0, \"#f0f921\"]], \"sequentialminus\": [[0.0, \"#0d0887\"], [0.1111111111111111, \"#46039f\"], [0.2222222222222222, \"#7201a8\"], [0.3333333333333333, \"#9c179e\"], [0.4444444444444444, \"#bd3786\"], [0.5555555555555556, \"#d8576b\"], [0.6666666666666666, \"#ed7953\"], [0.7777777777777778, \"#fb9f3a\"], [0.8888888888888888, \"#fdca26\"], [1.0, \"#f0f921\"]]}, \"colorway\": [\"#636efa\", \"#EF553B\", \"#00cc96\", \"#ab63fa\", \"#FFA15A\", \"#19d3f3\", \"#FF6692\", \"#B6E880\", \"#FF97FF\", \"#FECB52\"], \"font\": {\"color\": \"#2a3f5f\"}, \"geo\": {\"bgcolor\": \"white\", \"lakecolor\": \"white\", \"landcolor\": \"#E5ECF6\", \"showlakes\": true, \"showland\": true, \"subunitcolor\": \"white\"}, \"hoverlabel\": {\"align\": \"left\"}, \"hovermode\": \"closest\", \"mapbox\": {\"style\": \"light\"}, \"paper_bgcolor\": \"white\", \"plot_bgcolor\": \"#E5ECF6\", \"polar\": {\"angularaxis\": {\"gridcolor\": \"white\", \"linecolor\": \"white\", \"ticks\": \"\"}, \"bgcolor\": \"#E5ECF6\", \"radialaxis\": {\"gridcolor\": \"white\", \"linecolor\": \"white\", \"ticks\": \"\"}}, \"scene\": {\"xaxis\": {\"backgroundcolor\": \"#E5ECF6\", \"gridcolor\": \"white\", \"gridwidth\": 2, \"linecolor\": \"white\", \"showbackground\": true, \"ticks\": \"\", \"zerolinecolor\": \"white\"}, \"yaxis\": {\"backgroundcolor\": \"#E5ECF6\", \"gridcolor\": \"white\", \"gridwidth\": 2, \"linecolor\": \"white\", \"showbackground\": true, \"ticks\": \"\", \"zerolinecolor\": \"white\"}, \"zaxis\": {\"backgroundcolor\": \"#E5ECF6\", \"gridcolor\": \"white\", \"gridwidth\": 2, \"linecolor\": \"white\", \"showbackground\": true, \"ticks\": \"\", \"zerolinecolor\": \"white\"}}, \"shapedefaults\": {\"line\": {\"color\": \"#2a3f5f\"}}, \"ternary\": {\"aaxis\": {\"gridcolor\": \"white\", \"linecolor\": \"white\", \"ticks\": \"\"}, \"baxis\": {\"gridcolor\": \"white\", \"linecolor\": \"white\", \"ticks\": \"\"}, \"bgcolor\": \"#E5ECF6\", \"caxis\": {\"gridcolor\": \"white\", \"linecolor\": \"white\", \"ticks\": \"\"}}, \"title\": {\"x\": 0.05}, \"xaxis\": {\"automargin\": true, \"gridcolor\": \"white\", \"linecolor\": \"white\", \"ticks\": \"\", \"zerolinecolor\": \"white\", \"zerolinewidth\": 2}, \"yaxis\": {\"automargin\": true, \"gridcolor\": \"white\", \"linecolor\": \"white\", \"ticks\": \"\", \"zerolinecolor\": \"white\", \"zerolinewidth\": 2}}}, \"title\": {\"text\": \"PerformanceRating distribution in employes attrition \"}},\n",
       "                        {\"responsive\": true}\n",
       "                    ).then(function(){\n",
       "                            \n",
<<<<<<< HEAD
       "var gd = document.getElementById('47379737-09fb-4fbb-8928-b3353136d489');\n",
=======
       "var gd = document.getElementById('50740d88-1c59-4554-9e57-2fe0b3869344');\n",
>>>>>>> a083f58117c24ecf875146665f41926c284f5015
       "var x = new MutationObserver(function (mutations, observer) {{\n",
       "        var display = window.getComputedStyle(gd).display;\n",
       "        if (!display || display === 'none') {{\n",
       "            console.log([gd, 'removed!']);\n",
       "            Plotly.purge(gd);\n",
       "            observer.disconnect();\n",
       "        }}\n",
       "}});\n",
       "\n",
       "// Listen for the removal of the full notebook cells\n",
       "var notebookContainer = gd.closest('#notebook-container');\n",
       "if (notebookContainer) {{\n",
       "    x.observe(notebookContainer, {childList: true});\n",
       "}}\n",
       "\n",
       "// Listen for the clearing of the current output cell\n",
       "var outputEl = gd.closest('.output');\n",
       "if (outputEl) {{\n",
       "    x.observe(outputEl, {childList: true});\n",
       "}}\n",
       "\n",
       "                        })\n",
       "                };\n",
       "                });\n",
       "            </script>\n",
       "        </div>"
      ]
     },
     "metadata": {},
     "output_type": "display_data"
    }
   ],
   "source": [
    "plot(\"PerformanceRating\")"
   ]
  },
  {
   "cell_type": "markdown",
   "metadata": {},
   "source": [
    "O gráfico acima mostra que perfomance rating não é uma variável muito imporante para definir se o empregado terá ou não atrito com a empresa, o que nós fará a não considera-lo"
   ]
  },
  {
   "cell_type": "markdown",
   "metadata": {},
   "source": [
    "___\n",
    "* **Plotando o gráfico de pessoas que tem atrito e não tem atrito com a empresa, relacionando-as com StockOptionLevel (a empresa fornece ao funcionário a opção de adquirir as ações da empresa a um valor pré-determinado passado um certo período de tempo) :**"
   ]
  },
  {
   "cell_type": "code",
<<<<<<< HEAD
   "execution_count": 75,
=======
   "execution_count": 460,
>>>>>>> a083f58117c24ecf875146665f41926c284f5015
   "metadata": {
    "scrolled": false
   },
   "outputs": [
    {
     "data": {
      "application/vnd.plotly.v1+json": {
       "config": {
        "linkText": "Export to plot.ly",
        "plotlyServerURL": "https://plot.ly",
        "showLink": false
       },
       "data": [
        {
         "domain": {
          "x": [
           0,
           0.48
          ]
         },
         "hoverinfo": "label+percent+name",
         "labels": [
          0,
          1,
          3,
          2
         ],
         "marker": {
          "colors": [
           "darkblue",
           "darkorange",
           "darkgreen",
           "darkred",
           "lightgrey",
           "orange",
           "white",
           "lightpink"
          ],
          "line": {
           "width": 1.5
          }
         },
         "name": "attrition employes",
         "opacity": 0.8,
         "textfont": {
          "size": 15
         },
         "type": "pie",
         "values": [
          154,
          56,
          15,
          12
         ]
        },
        {
         "domain": {
          "x": [
           0.52,
           1
          ]
         },
         "hoverinfo": "label+percent+name",
         "labels": [
          1,
          0,
          2,
          3
         ],
         "marker": {
          "colors": [
           "darkblue",
           "darkorange",
           "darkgreen",
           "darkred",
           "lightgrey",
           "orange",
           "white",
           "lightpink"
          ],
          "line": {
           "width": 1.5
          }
         },
         "name": "Non attrition employes",
         "opacity": 0.8,
         "textfont": {
          "size": 15
         },
         "type": "pie",
         "values": [
          540,
          477,
          146,
          70
         ]
        }
       ],
       "layout": {
        "annotations": [
         {
          "font": {
           "size": 13
          },
          "showarrow": false,
          "text": "Yes_attrition",
          "x": 0.22,
          "y": -0.1
         },
         {
          "font": {
           "size": 13
          },
          "showarrow": false,
          "text": "No_attrition",
          "x": 0.8,
          "y": -0.1
         }
        ],
        "template": {
         "data": {
          "bar": [
           {
            "error_x": {
             "color": "#2a3f5f"
            },
            "error_y": {
             "color": "#2a3f5f"
            },
            "marker": {
             "line": {
              "color": "#E5ECF6",
              "width": 0.5
             }
            },
            "type": "bar"
           }
          ],
          "barpolar": [
           {
            "marker": {
             "line": {
              "color": "#E5ECF6",
              "width": 0.5
             }
            },
            "type": "barpolar"
           }
          ],
          "carpet": [
           {
            "aaxis": {
             "endlinecolor": "#2a3f5f",
             "gridcolor": "white",
             "linecolor": "white",
             "minorgridcolor": "white",
             "startlinecolor": "#2a3f5f"
            },
            "baxis": {
             "endlinecolor": "#2a3f5f",
             "gridcolor": "white",
             "linecolor": "white",
             "minorgridcolor": "white",
             "startlinecolor": "#2a3f5f"
            },
            "type": "carpet"
           }
          ],
          "choropleth": [
           {
            "colorbar": {
             "outlinewidth": 0,
             "ticks": ""
            },
            "type": "choropleth"
           }
          ],
          "contour": [
           {
            "colorbar": {
             "outlinewidth": 0,
             "ticks": ""
            },
            "colorscale": [
             [
              0,
              "#0d0887"
             ],
             [
              0.1111111111111111,
              "#46039f"
             ],
             [
              0.2222222222222222,
              "#7201a8"
             ],
             [
              0.3333333333333333,
              "#9c179e"
             ],
             [
              0.4444444444444444,
              "#bd3786"
             ],
             [
              0.5555555555555556,
              "#d8576b"
             ],
             [
              0.6666666666666666,
              "#ed7953"
             ],
             [
              0.7777777777777778,
              "#fb9f3a"
             ],
             [
              0.8888888888888888,
              "#fdca26"
             ],
             [
              1,
              "#f0f921"
             ]
            ],
            "type": "contour"
           }
          ],
          "contourcarpet": [
           {
            "colorbar": {
             "outlinewidth": 0,
             "ticks": ""
            },
            "type": "contourcarpet"
           }
          ],
          "heatmap": [
           {
            "colorbar": {
             "outlinewidth": 0,
             "ticks": ""
            },
            "colorscale": [
             [
              0,
              "#0d0887"
             ],
             [
              0.1111111111111111,
              "#46039f"
             ],
             [
              0.2222222222222222,
              "#7201a8"
             ],
             [
              0.3333333333333333,
              "#9c179e"
             ],
             [
              0.4444444444444444,
              "#bd3786"
             ],
             [
              0.5555555555555556,
              "#d8576b"
             ],
             [
              0.6666666666666666,
              "#ed7953"
             ],
             [
              0.7777777777777778,
              "#fb9f3a"
             ],
             [
              0.8888888888888888,
              "#fdca26"
             ],
             [
              1,
              "#f0f921"
             ]
            ],
            "type": "heatmap"
           }
          ],
          "heatmapgl": [
           {
            "colorbar": {
             "outlinewidth": 0,
             "ticks": ""
            },
            "colorscale": [
             [
              0,
              "#0d0887"
             ],
             [
              0.1111111111111111,
              "#46039f"
             ],
             [
              0.2222222222222222,
              "#7201a8"
             ],
             [
              0.3333333333333333,
              "#9c179e"
             ],
             [
              0.4444444444444444,
              "#bd3786"
             ],
             [
              0.5555555555555556,
              "#d8576b"
             ],
             [
              0.6666666666666666,
              "#ed7953"
             ],
             [
              0.7777777777777778,
              "#fb9f3a"
             ],
             [
              0.8888888888888888,
              "#fdca26"
             ],
             [
              1,
              "#f0f921"
             ]
            ],
            "type": "heatmapgl"
           }
          ],
          "histogram": [
           {
            "marker": {
             "colorbar": {
              "outlinewidth": 0,
              "ticks": ""
             }
            },
            "type": "histogram"
           }
          ],
          "histogram2d": [
           {
            "colorbar": {
             "outlinewidth": 0,
             "ticks": ""
            },
            "colorscale": [
             [
              0,
              "#0d0887"
             ],
             [
              0.1111111111111111,
              "#46039f"
             ],
             [
              0.2222222222222222,
              "#7201a8"
             ],
             [
              0.3333333333333333,
              "#9c179e"
             ],
             [
              0.4444444444444444,
              "#bd3786"
             ],
             [
              0.5555555555555556,
              "#d8576b"
             ],
             [
              0.6666666666666666,
              "#ed7953"
             ],
             [
              0.7777777777777778,
              "#fb9f3a"
             ],
             [
              0.8888888888888888,
              "#fdca26"
             ],
             [
              1,
              "#f0f921"
             ]
            ],
            "type": "histogram2d"
           }
          ],
          "histogram2dcontour": [
           {
            "colorbar": {
             "outlinewidth": 0,
             "ticks": ""
            },
            "colorscale": [
             [
              0,
              "#0d0887"
             ],
             [
              0.1111111111111111,
              "#46039f"
             ],
             [
              0.2222222222222222,
              "#7201a8"
             ],
             [
              0.3333333333333333,
              "#9c179e"
             ],
             [
              0.4444444444444444,
              "#bd3786"
             ],
             [
              0.5555555555555556,
              "#d8576b"
             ],
             [
              0.6666666666666666,
              "#ed7953"
             ],
             [
              0.7777777777777778,
              "#fb9f3a"
             ],
             [
              0.8888888888888888,
              "#fdca26"
             ],
             [
              1,
              "#f0f921"
             ]
            ],
            "type": "histogram2dcontour"
           }
          ],
          "mesh3d": [
           {
            "colorbar": {
             "outlinewidth": 0,
             "ticks": ""
            },
            "type": "mesh3d"
           }
          ],
          "parcoords": [
           {
            "line": {
             "colorbar": {
              "outlinewidth": 0,
              "ticks": ""
             }
            },
            "type": "parcoords"
           }
          ],
          "scatter": [
           {
            "marker": {
             "colorbar": {
              "outlinewidth": 0,
              "ticks": ""
             }
            },
            "type": "scatter"
           }
          ],
          "scatter3d": [
           {
            "line": {
             "colorbar": {
              "outlinewidth": 0,
              "ticks": ""
             }
            },
            "marker": {
             "colorbar": {
              "outlinewidth": 0,
              "ticks": ""
             }
            },
            "type": "scatter3d"
           }
          ],
          "scattercarpet": [
           {
            "marker": {
             "colorbar": {
              "outlinewidth": 0,
              "ticks": ""
             }
            },
            "type": "scattercarpet"
           }
          ],
          "scattergeo": [
           {
            "marker": {
             "colorbar": {
              "outlinewidth": 0,
              "ticks": ""
             }
            },
            "type": "scattergeo"
           }
          ],
          "scattergl": [
           {
            "marker": {
             "colorbar": {
              "outlinewidth": 0,
              "ticks": ""
             }
            },
            "type": "scattergl"
           }
          ],
          "scattermapbox": [
           {
            "marker": {
             "colorbar": {
              "outlinewidth": 0,
              "ticks": ""
             }
            },
            "type": "scattermapbox"
           }
          ],
          "scatterpolar": [
           {
            "marker": {
             "colorbar": {
              "outlinewidth": 0,
              "ticks": ""
             }
            },
            "type": "scatterpolar"
           }
          ],
          "scatterpolargl": [
           {
            "marker": {
             "colorbar": {
              "outlinewidth": 0,
              "ticks": ""
             }
            },
            "type": "scatterpolargl"
           }
          ],
          "scatterternary": [
           {
            "marker": {
             "colorbar": {
              "outlinewidth": 0,
              "ticks": ""
             }
            },
            "type": "scatterternary"
           }
          ],
          "surface": [
           {
            "colorbar": {
             "outlinewidth": 0,
             "ticks": ""
            },
            "colorscale": [
             [
              0,
              "#0d0887"
             ],
             [
              0.1111111111111111,
              "#46039f"
             ],
             [
              0.2222222222222222,
              "#7201a8"
             ],
             [
              0.3333333333333333,
              "#9c179e"
             ],
             [
              0.4444444444444444,
              "#bd3786"
             ],
             [
              0.5555555555555556,
              "#d8576b"
             ],
             [
              0.6666666666666666,
              "#ed7953"
             ],
             [
              0.7777777777777778,
              "#fb9f3a"
             ],
             [
              0.8888888888888888,
              "#fdca26"
             ],
             [
              1,
              "#f0f921"
             ]
            ],
            "type": "surface"
           }
          ],
          "table": [
           {
            "cells": {
             "fill": {
              "color": "#EBF0F8"
             },
             "line": {
              "color": "white"
             }
            },
            "header": {
             "fill": {
              "color": "#C8D4E3"
             },
             "line": {
              "color": "white"
             }
            },
            "type": "table"
           }
          ]
         },
         "layout": {
          "annotationdefaults": {
           "arrowcolor": "#2a3f5f",
           "arrowhead": 0,
           "arrowwidth": 1
          },
          "colorscale": {
           "diverging": [
            [
             0,
             "#8e0152"
            ],
            [
             0.1,
             "#c51b7d"
            ],
            [
             0.2,
             "#de77ae"
            ],
            [
             0.3,
             "#f1b6da"
            ],
            [
             0.4,
             "#fde0ef"
            ],
            [
             0.5,
             "#f7f7f7"
            ],
            [
             0.6,
             "#e6f5d0"
            ],
            [
             0.7,
             "#b8e186"
            ],
            [
             0.8,
             "#7fbc41"
            ],
            [
             0.9,
             "#4d9221"
            ],
            [
             1,
             "#276419"
            ]
           ],
           "sequential": [
            [
             0,
             "#0d0887"
            ],
            [
             0.1111111111111111,
             "#46039f"
            ],
            [
             0.2222222222222222,
             "#7201a8"
            ],
            [
             0.3333333333333333,
             "#9c179e"
            ],
            [
             0.4444444444444444,
             "#bd3786"
            ],
            [
             0.5555555555555556,
             "#d8576b"
            ],
            [
             0.6666666666666666,
             "#ed7953"
            ],
            [
             0.7777777777777778,
             "#fb9f3a"
            ],
            [
             0.8888888888888888,
             "#fdca26"
            ],
            [
             1,
             "#f0f921"
            ]
           ],
           "sequentialminus": [
            [
             0,
             "#0d0887"
            ],
            [
             0.1111111111111111,
             "#46039f"
            ],
            [
             0.2222222222222222,
             "#7201a8"
            ],
            [
             0.3333333333333333,
             "#9c179e"
            ],
            [
             0.4444444444444444,
             "#bd3786"
            ],
            [
             0.5555555555555556,
             "#d8576b"
            ],
            [
             0.6666666666666666,
             "#ed7953"
            ],
            [
             0.7777777777777778,
             "#fb9f3a"
            ],
            [
             0.8888888888888888,
             "#fdca26"
            ],
            [
             1,
             "#f0f921"
            ]
           ]
          },
          "colorway": [
           "#636efa",
           "#EF553B",
           "#00cc96",
           "#ab63fa",
           "#FFA15A",
           "#19d3f3",
           "#FF6692",
           "#B6E880",
           "#FF97FF",
           "#FECB52"
          ],
          "font": {
           "color": "#2a3f5f"
          },
          "geo": {
           "bgcolor": "white",
           "lakecolor": "white",
           "landcolor": "#E5ECF6",
           "showlakes": true,
           "showland": true,
           "subunitcolor": "white"
          },
          "hoverlabel": {
           "align": "left"
          },
          "hovermode": "closest",
          "mapbox": {
           "style": "light"
          },
          "paper_bgcolor": "white",
          "plot_bgcolor": "#E5ECF6",
          "polar": {
           "angularaxis": {
            "gridcolor": "white",
            "linecolor": "white",
            "ticks": ""
           },
           "bgcolor": "#E5ECF6",
           "radialaxis": {
            "gridcolor": "white",
            "linecolor": "white",
            "ticks": ""
           }
          },
          "scene": {
           "xaxis": {
            "backgroundcolor": "#E5ECF6",
            "gridcolor": "white",
            "gridwidth": 2,
            "linecolor": "white",
            "showbackground": true,
            "ticks": "",
            "zerolinecolor": "white"
           },
           "yaxis": {
            "backgroundcolor": "#E5ECF6",
            "gridcolor": "white",
            "gridwidth": 2,
            "linecolor": "white",
            "showbackground": true,
            "ticks": "",
            "zerolinecolor": "white"
           },
           "zaxis": {
            "backgroundcolor": "#E5ECF6",
            "gridcolor": "white",
            "gridwidth": 2,
            "linecolor": "white",
            "showbackground": true,
            "ticks": "",
            "zerolinecolor": "white"
           }
          },
          "shapedefaults": {
           "line": {
            "color": "#2a3f5f"
           }
          },
          "ternary": {
           "aaxis": {
            "gridcolor": "white",
            "linecolor": "white",
            "ticks": ""
           },
           "baxis": {
            "gridcolor": "white",
            "linecolor": "white",
            "ticks": ""
           },
           "bgcolor": "#E5ECF6",
           "caxis": {
            "gridcolor": "white",
            "linecolor": "white",
            "ticks": ""
           }
          },
          "title": {
           "x": 0.05
          },
          "xaxis": {
           "automargin": true,
           "gridcolor": "white",
           "linecolor": "white",
           "ticks": "",
           "zerolinecolor": "white",
           "zerolinewidth": 2
          },
          "yaxis": {
           "automargin": true,
           "gridcolor": "white",
           "linecolor": "white",
           "ticks": "",
           "zerolinecolor": "white",
           "zerolinewidth": 2
          }
         }
        },
        "title": {
         "text": "StockOptionLevel distribution in employes attrition "
        }
       }
      },
      "text/html": [
       "<div>\n",
       "        \n",
       "        \n",
<<<<<<< HEAD
       "            <div id=\"887407b9-4454-4406-b4f9-91aaeabba630\" class=\"plotly-graph-div\" style=\"height:525px; width:100%;\"></div>\n",
=======
       "            <div id=\"737b26e2-7ce7-454c-8e16-b1f760bc2d2d\" class=\"plotly-graph-div\" style=\"height:525px; width:100%;\"></div>\n",
>>>>>>> a083f58117c24ecf875146665f41926c284f5015
       "            <script type=\"text/javascript\">\n",
       "                require([\"plotly\"], function(Plotly) {\n",
       "                    window.PLOTLYENV=window.PLOTLYENV || {};\n",
       "                    \n",
<<<<<<< HEAD
       "                if (document.getElementById(\"887407b9-4454-4406-b4f9-91aaeabba630\")) {\n",
       "                    Plotly.newPlot(\n",
       "                        '887407b9-4454-4406-b4f9-91aaeabba630',\n",
=======
       "                if (document.getElementById(\"737b26e2-7ce7-454c-8e16-b1f760bc2d2d\")) {\n",
       "                    Plotly.newPlot(\n",
       "                        '737b26e2-7ce7-454c-8e16-b1f760bc2d2d',\n",
>>>>>>> a083f58117c24ecf875146665f41926c284f5015
       "                        [{\"domain\": {\"x\": [0, 0.48]}, \"hoverinfo\": \"label+percent+name\", \"labels\": [0, 1, 3, 2], \"marker\": {\"colors\": [\"darkblue\", \"darkorange\", \"darkgreen\", \"darkred\", \"lightgrey\", \"orange\", \"white\", \"lightpink\"], \"line\": {\"width\": 1.5}}, \"name\": \"attrition employes\", \"opacity\": 0.8, \"textfont\": {\"size\": 15}, \"type\": \"pie\", \"values\": [154, 56, 15, 12]}, {\"domain\": {\"x\": [0.52, 1]}, \"hoverinfo\": \"label+percent+name\", \"labels\": [1, 0, 2, 3], \"marker\": {\"colors\": [\"darkblue\", \"darkorange\", \"darkgreen\", \"darkred\", \"lightgrey\", \"orange\", \"white\", \"lightpink\"], \"line\": {\"width\": 1.5}}, \"name\": \"Non attrition employes\", \"opacity\": 0.8, \"textfont\": {\"size\": 15}, \"type\": \"pie\", \"values\": [540, 477, 146, 70]}],\n",
       "                        {\"annotations\": [{\"font\": {\"size\": 13}, \"showarrow\": false, \"text\": \"Yes_attrition\", \"x\": 0.22, \"y\": -0.1}, {\"font\": {\"size\": 13}, \"showarrow\": false, \"text\": \"No_attrition\", \"x\": 0.8, \"y\": -0.1}], \"template\": {\"data\": {\"bar\": [{\"error_x\": {\"color\": \"#2a3f5f\"}, \"error_y\": {\"color\": \"#2a3f5f\"}, \"marker\": {\"line\": {\"color\": \"#E5ECF6\", \"width\": 0.5}}, \"type\": \"bar\"}], \"barpolar\": [{\"marker\": {\"line\": {\"color\": \"#E5ECF6\", \"width\": 0.5}}, \"type\": \"barpolar\"}], \"carpet\": [{\"aaxis\": {\"endlinecolor\": \"#2a3f5f\", \"gridcolor\": \"white\", \"linecolor\": \"white\", \"minorgridcolor\": \"white\", \"startlinecolor\": \"#2a3f5f\"}, \"baxis\": {\"endlinecolor\": \"#2a3f5f\", \"gridcolor\": \"white\", \"linecolor\": \"white\", \"minorgridcolor\": \"white\", \"startlinecolor\": \"#2a3f5f\"}, \"type\": \"carpet\"}], \"choropleth\": [{\"colorbar\": {\"outlinewidth\": 0, \"ticks\": \"\"}, \"type\": \"choropleth\"}], \"contour\": [{\"colorbar\": {\"outlinewidth\": 0, \"ticks\": \"\"}, \"colorscale\": [[0.0, \"#0d0887\"], [0.1111111111111111, \"#46039f\"], [0.2222222222222222, \"#7201a8\"], [0.3333333333333333, \"#9c179e\"], [0.4444444444444444, \"#bd3786\"], [0.5555555555555556, \"#d8576b\"], [0.6666666666666666, \"#ed7953\"], [0.7777777777777778, \"#fb9f3a\"], [0.8888888888888888, \"#fdca26\"], [1.0, \"#f0f921\"]], \"type\": \"contour\"}], \"contourcarpet\": [{\"colorbar\": {\"outlinewidth\": 0, \"ticks\": \"\"}, \"type\": \"contourcarpet\"}], \"heatmap\": [{\"colorbar\": {\"outlinewidth\": 0, \"ticks\": \"\"}, \"colorscale\": [[0.0, \"#0d0887\"], [0.1111111111111111, \"#46039f\"], [0.2222222222222222, \"#7201a8\"], [0.3333333333333333, \"#9c179e\"], [0.4444444444444444, \"#bd3786\"], [0.5555555555555556, \"#d8576b\"], [0.6666666666666666, \"#ed7953\"], [0.7777777777777778, \"#fb9f3a\"], [0.8888888888888888, \"#fdca26\"], [1.0, \"#f0f921\"]], \"type\": \"heatmap\"}], \"heatmapgl\": [{\"colorbar\": {\"outlinewidth\": 0, \"ticks\": \"\"}, \"colorscale\": [[0.0, \"#0d0887\"], [0.1111111111111111, \"#46039f\"], [0.2222222222222222, \"#7201a8\"], [0.3333333333333333, \"#9c179e\"], [0.4444444444444444, \"#bd3786\"], [0.5555555555555556, \"#d8576b\"], [0.6666666666666666, \"#ed7953\"], [0.7777777777777778, \"#fb9f3a\"], [0.8888888888888888, \"#fdca26\"], [1.0, \"#f0f921\"]], \"type\": \"heatmapgl\"}], \"histogram\": [{\"marker\": {\"colorbar\": {\"outlinewidth\": 0, \"ticks\": \"\"}}, \"type\": \"histogram\"}], \"histogram2d\": [{\"colorbar\": {\"outlinewidth\": 0, \"ticks\": \"\"}, \"colorscale\": [[0.0, \"#0d0887\"], [0.1111111111111111, \"#46039f\"], [0.2222222222222222, \"#7201a8\"], [0.3333333333333333, \"#9c179e\"], [0.4444444444444444, \"#bd3786\"], [0.5555555555555556, \"#d8576b\"], [0.6666666666666666, \"#ed7953\"], [0.7777777777777778, \"#fb9f3a\"], [0.8888888888888888, \"#fdca26\"], [1.0, \"#f0f921\"]], \"type\": \"histogram2d\"}], \"histogram2dcontour\": [{\"colorbar\": {\"outlinewidth\": 0, \"ticks\": \"\"}, \"colorscale\": [[0.0, \"#0d0887\"], [0.1111111111111111, \"#46039f\"], [0.2222222222222222, \"#7201a8\"], [0.3333333333333333, \"#9c179e\"], [0.4444444444444444, \"#bd3786\"], [0.5555555555555556, \"#d8576b\"], [0.6666666666666666, \"#ed7953\"], [0.7777777777777778, \"#fb9f3a\"], [0.8888888888888888, \"#fdca26\"], [1.0, \"#f0f921\"]], \"type\": \"histogram2dcontour\"}], \"mesh3d\": [{\"colorbar\": {\"outlinewidth\": 0, \"ticks\": \"\"}, \"type\": \"mesh3d\"}], \"parcoords\": [{\"line\": {\"colorbar\": {\"outlinewidth\": 0, \"ticks\": \"\"}}, \"type\": \"parcoords\"}], \"scatter\": [{\"marker\": {\"colorbar\": {\"outlinewidth\": 0, \"ticks\": \"\"}}, \"type\": \"scatter\"}], \"scatter3d\": [{\"line\": {\"colorbar\": {\"outlinewidth\": 0, \"ticks\": \"\"}}, \"marker\": {\"colorbar\": {\"outlinewidth\": 0, \"ticks\": \"\"}}, \"type\": \"scatter3d\"}], \"scattercarpet\": [{\"marker\": {\"colorbar\": {\"outlinewidth\": 0, \"ticks\": \"\"}}, \"type\": \"scattercarpet\"}], \"scattergeo\": [{\"marker\": {\"colorbar\": {\"outlinewidth\": 0, \"ticks\": \"\"}}, \"type\": \"scattergeo\"}], \"scattergl\": [{\"marker\": {\"colorbar\": {\"outlinewidth\": 0, \"ticks\": \"\"}}, \"type\": \"scattergl\"}], \"scattermapbox\": [{\"marker\": {\"colorbar\": {\"outlinewidth\": 0, \"ticks\": \"\"}}, \"type\": \"scattermapbox\"}], \"scatterpolar\": [{\"marker\": {\"colorbar\": {\"outlinewidth\": 0, \"ticks\": \"\"}}, \"type\": \"scatterpolar\"}], \"scatterpolargl\": [{\"marker\": {\"colorbar\": {\"outlinewidth\": 0, \"ticks\": \"\"}}, \"type\": \"scatterpolargl\"}], \"scatterternary\": [{\"marker\": {\"colorbar\": {\"outlinewidth\": 0, \"ticks\": \"\"}}, \"type\": \"scatterternary\"}], \"surface\": [{\"colorbar\": {\"outlinewidth\": 0, \"ticks\": \"\"}, \"colorscale\": [[0.0, \"#0d0887\"], [0.1111111111111111, \"#46039f\"], [0.2222222222222222, \"#7201a8\"], [0.3333333333333333, \"#9c179e\"], [0.4444444444444444, \"#bd3786\"], [0.5555555555555556, \"#d8576b\"], [0.6666666666666666, \"#ed7953\"], [0.7777777777777778, \"#fb9f3a\"], [0.8888888888888888, \"#fdca26\"], [1.0, \"#f0f921\"]], \"type\": \"surface\"}], \"table\": [{\"cells\": {\"fill\": {\"color\": \"#EBF0F8\"}, \"line\": {\"color\": \"white\"}}, \"header\": {\"fill\": {\"color\": \"#C8D4E3\"}, \"line\": {\"color\": \"white\"}}, \"type\": \"table\"}]}, \"layout\": {\"annotationdefaults\": {\"arrowcolor\": \"#2a3f5f\", \"arrowhead\": 0, \"arrowwidth\": 1}, \"colorscale\": {\"diverging\": [[0, \"#8e0152\"], [0.1, \"#c51b7d\"], [0.2, \"#de77ae\"], [0.3, \"#f1b6da\"], [0.4, \"#fde0ef\"], [0.5, \"#f7f7f7\"], [0.6, \"#e6f5d0\"], [0.7, \"#b8e186\"], [0.8, \"#7fbc41\"], [0.9, \"#4d9221\"], [1, \"#276419\"]], \"sequential\": [[0.0, \"#0d0887\"], [0.1111111111111111, \"#46039f\"], [0.2222222222222222, \"#7201a8\"], [0.3333333333333333, \"#9c179e\"], [0.4444444444444444, \"#bd3786\"], [0.5555555555555556, \"#d8576b\"], [0.6666666666666666, \"#ed7953\"], [0.7777777777777778, \"#fb9f3a\"], [0.8888888888888888, \"#fdca26\"], [1.0, \"#f0f921\"]], \"sequentialminus\": [[0.0, \"#0d0887\"], [0.1111111111111111, \"#46039f\"], [0.2222222222222222, \"#7201a8\"], [0.3333333333333333, \"#9c179e\"], [0.4444444444444444, \"#bd3786\"], [0.5555555555555556, \"#d8576b\"], [0.6666666666666666, \"#ed7953\"], [0.7777777777777778, \"#fb9f3a\"], [0.8888888888888888, \"#fdca26\"], [1.0, \"#f0f921\"]]}, \"colorway\": [\"#636efa\", \"#EF553B\", \"#00cc96\", \"#ab63fa\", \"#FFA15A\", \"#19d3f3\", \"#FF6692\", \"#B6E880\", \"#FF97FF\", \"#FECB52\"], \"font\": {\"color\": \"#2a3f5f\"}, \"geo\": {\"bgcolor\": \"white\", \"lakecolor\": \"white\", \"landcolor\": \"#E5ECF6\", \"showlakes\": true, \"showland\": true, \"subunitcolor\": \"white\"}, \"hoverlabel\": {\"align\": \"left\"}, \"hovermode\": \"closest\", \"mapbox\": {\"style\": \"light\"}, \"paper_bgcolor\": \"white\", \"plot_bgcolor\": \"#E5ECF6\", \"polar\": {\"angularaxis\": {\"gridcolor\": \"white\", \"linecolor\": \"white\", \"ticks\": \"\"}, \"bgcolor\": \"#E5ECF6\", \"radialaxis\": {\"gridcolor\": \"white\", \"linecolor\": \"white\", \"ticks\": \"\"}}, \"scene\": {\"xaxis\": {\"backgroundcolor\": \"#E5ECF6\", \"gridcolor\": \"white\", \"gridwidth\": 2, \"linecolor\": \"white\", \"showbackground\": true, \"ticks\": \"\", \"zerolinecolor\": \"white\"}, \"yaxis\": {\"backgroundcolor\": \"#E5ECF6\", \"gridcolor\": \"white\", \"gridwidth\": 2, \"linecolor\": \"white\", \"showbackground\": true, \"ticks\": \"\", \"zerolinecolor\": \"white\"}, \"zaxis\": {\"backgroundcolor\": \"#E5ECF6\", \"gridcolor\": \"white\", \"gridwidth\": 2, \"linecolor\": \"white\", \"showbackground\": true, \"ticks\": \"\", \"zerolinecolor\": \"white\"}}, \"shapedefaults\": {\"line\": {\"color\": \"#2a3f5f\"}}, \"ternary\": {\"aaxis\": {\"gridcolor\": \"white\", \"linecolor\": \"white\", \"ticks\": \"\"}, \"baxis\": {\"gridcolor\": \"white\", \"linecolor\": \"white\", \"ticks\": \"\"}, \"bgcolor\": \"#E5ECF6\", \"caxis\": {\"gridcolor\": \"white\", \"linecolor\": \"white\", \"ticks\": \"\"}}, \"title\": {\"x\": 0.05}, \"xaxis\": {\"automargin\": true, \"gridcolor\": \"white\", \"linecolor\": \"white\", \"ticks\": \"\", \"zerolinecolor\": \"white\", \"zerolinewidth\": 2}, \"yaxis\": {\"automargin\": true, \"gridcolor\": \"white\", \"linecolor\": \"white\", \"ticks\": \"\", \"zerolinecolor\": \"white\", \"zerolinewidth\": 2}}}, \"title\": {\"text\": \"StockOptionLevel distribution in employes attrition \"}},\n",
       "                        {\"responsive\": true}\n",
       "                    ).then(function(){\n",
       "                            \n",
<<<<<<< HEAD
       "var gd = document.getElementById('887407b9-4454-4406-b4f9-91aaeabba630');\n",
=======
       "var gd = document.getElementById('737b26e2-7ce7-454c-8e16-b1f760bc2d2d');\n",
>>>>>>> a083f58117c24ecf875146665f41926c284f5015
       "var x = new MutationObserver(function (mutations, observer) {{\n",
       "        var display = window.getComputedStyle(gd).display;\n",
       "        if (!display || display === 'none') {{\n",
       "            console.log([gd, 'removed!']);\n",
       "            Plotly.purge(gd);\n",
       "            observer.disconnect();\n",
       "        }}\n",
       "}});\n",
       "\n",
       "// Listen for the removal of the full notebook cells\n",
       "var notebookContainer = gd.closest('#notebook-container');\n",
       "if (notebookContainer) {{\n",
       "    x.observe(notebookContainer, {childList: true});\n",
       "}}\n",
       "\n",
       "// Listen for the clearing of the current output cell\n",
       "var outputEl = gd.closest('.output');\n",
       "if (outputEl) {{\n",
       "    x.observe(outputEl, {childList: true});\n",
       "}}\n",
       "\n",
       "                        })\n",
       "                };\n",
       "                });\n",
       "            </script>\n",
       "        </div>"
      ]
     },
     "metadata": {},
     "output_type": "display_data"
    },
    {
     "data": {
      "image/png": "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\n",
      "text/plain": [
       "<Figure size 432x288 with 1 Axes>"
      ]
     },
     "metadata": {
      "needs_background": "light"
     },
     "output_type": "display_data"
    }
   ],
   "source": [
    "sns.barplot(x='Attrition',y=\"Attrition\",hue=\"StockOptionLevel\", data=IBM, estimator=lambda x: len(x) / len(IBM) * 100);\n",
    "plot('StockOptionLevel')\n",
    "plt.ylabel('Frequência Relativa (%)');"
   ]
  },
  {
   "cell_type": "markdown",
   "metadata": {},
   "source": [
    "Os gráficos acima mostram que quando maior o StockOptionLevel da pessoa, menor a chance dele sair da empresa, talvez um desses motivos seja que o funcionário sente-se \"um pouco dono da empresa\", além disso mesmo a maior quantidade de pessoas que não tem atrito com a empresa estando no level 1, a maior frequencia das pessoas que tem atrito são as que não tem stock option."
   ]
  },
  {
   "cell_type": "markdown",
   "metadata": {},
   "source": [
    "___\n",
    "* **Plotando o gráfico de pessoas que tem atrito e não tem atrito com a empresa, relacionando-as com o equilíbrio na vida de trabalho e vida pessoal:**\n",
    "___\n",
    "Legenda:\n",
    "\n",
    "WorkLifeBalance: \n",
    "* **1: Bad** \n",
    "* **2: Good**\n",
    "* **3: Better** \n",
    "* **4: Best**"
   ]
  },
  {
   "cell_type": "code",
<<<<<<< HEAD
   "execution_count": 76,
=======
   "execution_count": 461,
>>>>>>> a083f58117c24ecf875146665f41926c284f5015
   "metadata": {},
   "outputs": [
    {
     "data": {
      "application/vnd.plotly.v1+json": {
       "config": {
        "linkText": "Export to plot.ly",
        "plotlyServerURL": "https://plot.ly",
        "showLink": false
       },
       "data": [
        {
         "domain": {
          "x": [
           0,
           0.48
          ]
         },
         "hoverinfo": "label+percent+name",
         "labels": [
          3,
          2,
          4,
          1
         ],
         "marker": {
          "colors": [
           "darkblue",
           "darkorange",
           "darkgreen",
           "darkred",
           "lightgrey",
           "orange",
           "white",
           "lightpink"
          ],
          "line": {
           "width": 1.5
          }
         },
         "name": "attrition employes",
         "opacity": 0.8,
         "textfont": {
          "size": 15
         },
         "type": "pie",
         "values": [
          127,
          58,
          27,
          25
         ]
        },
        {
         "domain": {
          "x": [
           0.52,
           1
          ]
         },
         "hoverinfo": "label+percent+name",
         "labels": [
          3,
          2,
          4,
          1
         ],
         "marker": {
          "colors": [
           "darkblue",
           "darkorange",
           "darkgreen",
           "darkred",
           "lightgrey",
           "orange",
           "white",
           "lightpink"
          ],
          "line": {
           "width": 1.5
          }
         },
         "name": "Non attrition employes",
         "opacity": 0.8,
         "textfont": {
          "size": 15
         },
         "type": "pie",
         "values": [
          766,
          286,
          126,
          55
         ]
        }
       ],
       "layout": {
        "annotations": [
         {
          "font": {
           "size": 13
          },
          "showarrow": false,
          "text": "Yes_attrition",
          "x": 0.22,
          "y": -0.1
         },
         {
          "font": {
           "size": 13
          },
          "showarrow": false,
          "text": "No_attrition",
          "x": 0.8,
          "y": -0.1
         }
        ],
        "template": {
         "data": {
          "bar": [
           {
            "error_x": {
             "color": "#2a3f5f"
            },
            "error_y": {
             "color": "#2a3f5f"
            },
            "marker": {
             "line": {
              "color": "#E5ECF6",
              "width": 0.5
             }
            },
            "type": "bar"
           }
          ],
          "barpolar": [
           {
            "marker": {
             "line": {
              "color": "#E5ECF6",
              "width": 0.5
             }
            },
            "type": "barpolar"
           }
          ],
          "carpet": [
           {
            "aaxis": {
             "endlinecolor": "#2a3f5f",
             "gridcolor": "white",
             "linecolor": "white",
             "minorgridcolor": "white",
             "startlinecolor": "#2a3f5f"
            },
            "baxis": {
             "endlinecolor": "#2a3f5f",
             "gridcolor": "white",
             "linecolor": "white",
             "minorgridcolor": "white",
             "startlinecolor": "#2a3f5f"
            },
            "type": "carpet"
           }
          ],
          "choropleth": [
           {
            "colorbar": {
             "outlinewidth": 0,
             "ticks": ""
            },
            "type": "choropleth"
           }
          ],
          "contour": [
           {
            "colorbar": {
             "outlinewidth": 0,
             "ticks": ""
            },
            "colorscale": [
             [
              0,
              "#0d0887"
             ],
             [
              0.1111111111111111,
              "#46039f"
             ],
             [
              0.2222222222222222,
              "#7201a8"
             ],
             [
              0.3333333333333333,
              "#9c179e"
             ],
             [
              0.4444444444444444,
              "#bd3786"
             ],
             [
              0.5555555555555556,
              "#d8576b"
             ],
             [
              0.6666666666666666,
              "#ed7953"
             ],
             [
              0.7777777777777778,
              "#fb9f3a"
             ],
             [
              0.8888888888888888,
              "#fdca26"
             ],
             [
              1,
              "#f0f921"
             ]
            ],
            "type": "contour"
           }
          ],
          "contourcarpet": [
           {
            "colorbar": {
             "outlinewidth": 0,
             "ticks": ""
            },
            "type": "contourcarpet"
           }
          ],
          "heatmap": [
           {
            "colorbar": {
             "outlinewidth": 0,
             "ticks": ""
            },
            "colorscale": [
             [
              0,
              "#0d0887"
             ],
             [
              0.1111111111111111,
              "#46039f"
             ],
             [
              0.2222222222222222,
              "#7201a8"
             ],
             [
              0.3333333333333333,
              "#9c179e"
             ],
             [
              0.4444444444444444,
              "#bd3786"
             ],
             [
              0.5555555555555556,
              "#d8576b"
             ],
             [
              0.6666666666666666,
              "#ed7953"
             ],
             [
              0.7777777777777778,
              "#fb9f3a"
             ],
             [
              0.8888888888888888,
              "#fdca26"
             ],
             [
              1,
              "#f0f921"
             ]
            ],
            "type": "heatmap"
           }
          ],
          "heatmapgl": [
           {
            "colorbar": {
             "outlinewidth": 0,
             "ticks": ""
            },
            "colorscale": [
             [
              0,
              "#0d0887"
             ],
             [
              0.1111111111111111,
              "#46039f"
             ],
             [
              0.2222222222222222,
              "#7201a8"
             ],
             [
              0.3333333333333333,
              "#9c179e"
             ],
             [
              0.4444444444444444,
              "#bd3786"
             ],
             [
              0.5555555555555556,
              "#d8576b"
             ],
             [
              0.6666666666666666,
              "#ed7953"
             ],
             [
              0.7777777777777778,
              "#fb9f3a"
             ],
             [
              0.8888888888888888,
              "#fdca26"
             ],
             [
              1,
              "#f0f921"
             ]
            ],
            "type": "heatmapgl"
           }
          ],
          "histogram": [
           {
            "marker": {
             "colorbar": {
              "outlinewidth": 0,
              "ticks": ""
             }
            },
            "type": "histogram"
           }
          ],
          "histogram2d": [
           {
            "colorbar": {
             "outlinewidth": 0,
             "ticks": ""
            },
            "colorscale": [
             [
              0,
              "#0d0887"
             ],
             [
              0.1111111111111111,
              "#46039f"
             ],
             [
              0.2222222222222222,
              "#7201a8"
             ],
             [
              0.3333333333333333,
              "#9c179e"
             ],
             [
              0.4444444444444444,
              "#bd3786"
             ],
             [
              0.5555555555555556,
              "#d8576b"
             ],
             [
              0.6666666666666666,
              "#ed7953"
             ],
             [
              0.7777777777777778,
              "#fb9f3a"
             ],
             [
              0.8888888888888888,
              "#fdca26"
             ],
             [
              1,
              "#f0f921"
             ]
            ],
            "type": "histogram2d"
           }
          ],
          "histogram2dcontour": [
           {
            "colorbar": {
             "outlinewidth": 0,
             "ticks": ""
            },
            "colorscale": [
             [
              0,
              "#0d0887"
             ],
             [
              0.1111111111111111,
              "#46039f"
             ],
             [
              0.2222222222222222,
              "#7201a8"
             ],
             [
              0.3333333333333333,
              "#9c179e"
             ],
             [
              0.4444444444444444,
              "#bd3786"
             ],
             [
              0.5555555555555556,
              "#d8576b"
             ],
             [
              0.6666666666666666,
              "#ed7953"
             ],
             [
              0.7777777777777778,
              "#fb9f3a"
             ],
             [
              0.8888888888888888,
              "#fdca26"
             ],
             [
              1,
              "#f0f921"
             ]
            ],
            "type": "histogram2dcontour"
           }
          ],
          "mesh3d": [
           {
            "colorbar": {
             "outlinewidth": 0,
             "ticks": ""
            },
            "type": "mesh3d"
           }
          ],
          "parcoords": [
           {
            "line": {
             "colorbar": {
              "outlinewidth": 0,
              "ticks": ""
             }
            },
            "type": "parcoords"
           }
          ],
          "scatter": [
           {
            "marker": {
             "colorbar": {
              "outlinewidth": 0,
              "ticks": ""
             }
            },
            "type": "scatter"
           }
          ],
          "scatter3d": [
           {
            "line": {
             "colorbar": {
              "outlinewidth": 0,
              "ticks": ""
             }
            },
            "marker": {
             "colorbar": {
              "outlinewidth": 0,
              "ticks": ""
             }
            },
            "type": "scatter3d"
           }
          ],
          "scattercarpet": [
           {
            "marker": {
             "colorbar": {
              "outlinewidth": 0,
              "ticks": ""
             }
            },
            "type": "scattercarpet"
           }
          ],
          "scattergeo": [
           {
            "marker": {
             "colorbar": {
              "outlinewidth": 0,
              "ticks": ""
             }
            },
            "type": "scattergeo"
           }
          ],
          "scattergl": [
           {
            "marker": {
             "colorbar": {
              "outlinewidth": 0,
              "ticks": ""
             }
            },
            "type": "scattergl"
           }
          ],
          "scattermapbox": [
           {
            "marker": {
             "colorbar": {
              "outlinewidth": 0,
              "ticks": ""
             }
            },
            "type": "scattermapbox"
           }
          ],
          "scatterpolar": [
           {
            "marker": {
             "colorbar": {
              "outlinewidth": 0,
              "ticks": ""
             }
            },
            "type": "scatterpolar"
           }
          ],
          "scatterpolargl": [
           {
            "marker": {
             "colorbar": {
              "outlinewidth": 0,
              "ticks": ""
             }
            },
            "type": "scatterpolargl"
           }
          ],
          "scatterternary": [
           {
            "marker": {
             "colorbar": {
              "outlinewidth": 0,
              "ticks": ""
             }
            },
            "type": "scatterternary"
           }
          ],
          "surface": [
           {
            "colorbar": {
             "outlinewidth": 0,
             "ticks": ""
            },
            "colorscale": [
             [
              0,
              "#0d0887"
             ],
             [
              0.1111111111111111,
              "#46039f"
             ],
             [
              0.2222222222222222,
              "#7201a8"
             ],
             [
              0.3333333333333333,
              "#9c179e"
             ],
             [
              0.4444444444444444,
              "#bd3786"
             ],
             [
              0.5555555555555556,
              "#d8576b"
             ],
             [
              0.6666666666666666,
              "#ed7953"
             ],
             [
              0.7777777777777778,
              "#fb9f3a"
             ],
             [
              0.8888888888888888,
              "#fdca26"
             ],
             [
              1,
              "#f0f921"
             ]
            ],
            "type": "surface"
           }
          ],
          "table": [
           {
            "cells": {
             "fill": {
              "color": "#EBF0F8"
             },
             "line": {
              "color": "white"
             }
            },
            "header": {
             "fill": {
              "color": "#C8D4E3"
             },
             "line": {
              "color": "white"
             }
            },
            "type": "table"
           }
          ]
         },
         "layout": {
          "annotationdefaults": {
           "arrowcolor": "#2a3f5f",
           "arrowhead": 0,
           "arrowwidth": 1
          },
          "colorscale": {
           "diverging": [
            [
             0,
             "#8e0152"
            ],
            [
             0.1,
             "#c51b7d"
            ],
            [
             0.2,
             "#de77ae"
            ],
            [
             0.3,
             "#f1b6da"
            ],
            [
             0.4,
             "#fde0ef"
            ],
            [
             0.5,
             "#f7f7f7"
            ],
            [
             0.6,
             "#e6f5d0"
            ],
            [
             0.7,
             "#b8e186"
            ],
            [
             0.8,
             "#7fbc41"
            ],
            [
             0.9,
             "#4d9221"
            ],
            [
             1,
             "#276419"
            ]
           ],
           "sequential": [
            [
             0,
             "#0d0887"
            ],
            [
             0.1111111111111111,
             "#46039f"
            ],
            [
             0.2222222222222222,
             "#7201a8"
            ],
            [
             0.3333333333333333,
             "#9c179e"
            ],
            [
             0.4444444444444444,
             "#bd3786"
            ],
            [
             0.5555555555555556,
             "#d8576b"
            ],
            [
             0.6666666666666666,
             "#ed7953"
            ],
            [
             0.7777777777777778,
             "#fb9f3a"
            ],
            [
             0.8888888888888888,
             "#fdca26"
            ],
            [
             1,
             "#f0f921"
            ]
           ],
           "sequentialminus": [
            [
             0,
             "#0d0887"
            ],
            [
             0.1111111111111111,
             "#46039f"
            ],
            [
             0.2222222222222222,
             "#7201a8"
            ],
            [
             0.3333333333333333,
             "#9c179e"
            ],
            [
             0.4444444444444444,
             "#bd3786"
            ],
            [
             0.5555555555555556,
             "#d8576b"
            ],
            [
             0.6666666666666666,
             "#ed7953"
            ],
            [
             0.7777777777777778,
             "#fb9f3a"
            ],
            [
             0.8888888888888888,
             "#fdca26"
            ],
            [
             1,
             "#f0f921"
            ]
           ]
          },
          "colorway": [
           "#636efa",
           "#EF553B",
           "#00cc96",
           "#ab63fa",
           "#FFA15A",
           "#19d3f3",
           "#FF6692",
           "#B6E880",
           "#FF97FF",
           "#FECB52"
          ],
          "font": {
           "color": "#2a3f5f"
          },
          "geo": {
           "bgcolor": "white",
           "lakecolor": "white",
           "landcolor": "#E5ECF6",
           "showlakes": true,
           "showland": true,
           "subunitcolor": "white"
          },
          "hoverlabel": {
           "align": "left"
          },
          "hovermode": "closest",
          "mapbox": {
           "style": "light"
          },
          "paper_bgcolor": "white",
          "plot_bgcolor": "#E5ECF6",
          "polar": {
           "angularaxis": {
            "gridcolor": "white",
            "linecolor": "white",
            "ticks": ""
           },
           "bgcolor": "#E5ECF6",
           "radialaxis": {
            "gridcolor": "white",
            "linecolor": "white",
            "ticks": ""
           }
          },
          "scene": {
           "xaxis": {
            "backgroundcolor": "#E5ECF6",
            "gridcolor": "white",
            "gridwidth": 2,
            "linecolor": "white",
            "showbackground": true,
            "ticks": "",
            "zerolinecolor": "white"
           },
           "yaxis": {
            "backgroundcolor": "#E5ECF6",
            "gridcolor": "white",
            "gridwidth": 2,
            "linecolor": "white",
            "showbackground": true,
            "ticks": "",
            "zerolinecolor": "white"
           },
           "zaxis": {
            "backgroundcolor": "#E5ECF6",
            "gridcolor": "white",
            "gridwidth": 2,
            "linecolor": "white",
            "showbackground": true,
            "ticks": "",
            "zerolinecolor": "white"
           }
          },
          "shapedefaults": {
           "line": {
            "color": "#2a3f5f"
           }
          },
          "ternary": {
           "aaxis": {
            "gridcolor": "white",
            "linecolor": "white",
            "ticks": ""
           },
           "baxis": {
            "gridcolor": "white",
            "linecolor": "white",
            "ticks": ""
           },
           "bgcolor": "#E5ECF6",
           "caxis": {
            "gridcolor": "white",
            "linecolor": "white",
            "ticks": ""
           }
          },
          "title": {
           "x": 0.05
          },
          "xaxis": {
           "automargin": true,
           "gridcolor": "white",
           "linecolor": "white",
           "ticks": "",
           "zerolinecolor": "white",
           "zerolinewidth": 2
          },
          "yaxis": {
           "automargin": true,
           "gridcolor": "white",
           "linecolor": "white",
           "ticks": "",
           "zerolinecolor": "white",
           "zerolinewidth": 2
          }
         }
        },
        "title": {
         "text": "WorkLifeBalance distribution in employes attrition "
        }
       }
      },
      "text/html": [
       "<div>\n",
       "        \n",
       "        \n",
<<<<<<< HEAD
       "            <div id=\"5ff77a0e-e6af-4537-81c2-535b74655b7f\" class=\"plotly-graph-div\" style=\"height:525px; width:100%;\"></div>\n",
=======
       "            <div id=\"9f9b99a9-379e-47d2-b7e3-93d868abbaa0\" class=\"plotly-graph-div\" style=\"height:525px; width:100%;\"></div>\n",
>>>>>>> a083f58117c24ecf875146665f41926c284f5015
       "            <script type=\"text/javascript\">\n",
       "                require([\"plotly\"], function(Plotly) {\n",
       "                    window.PLOTLYENV=window.PLOTLYENV || {};\n",
       "                    \n",
<<<<<<< HEAD
       "                if (document.getElementById(\"5ff77a0e-e6af-4537-81c2-535b74655b7f\")) {\n",
       "                    Plotly.newPlot(\n",
       "                        '5ff77a0e-e6af-4537-81c2-535b74655b7f',\n",
=======
       "                if (document.getElementById(\"9f9b99a9-379e-47d2-b7e3-93d868abbaa0\")) {\n",
       "                    Plotly.newPlot(\n",
       "                        '9f9b99a9-379e-47d2-b7e3-93d868abbaa0',\n",
>>>>>>> a083f58117c24ecf875146665f41926c284f5015
       "                        [{\"domain\": {\"x\": [0, 0.48]}, \"hoverinfo\": \"label+percent+name\", \"labels\": [3, 2, 4, 1], \"marker\": {\"colors\": [\"darkblue\", \"darkorange\", \"darkgreen\", \"darkred\", \"lightgrey\", \"orange\", \"white\", \"lightpink\"], \"line\": {\"width\": 1.5}}, \"name\": \"attrition employes\", \"opacity\": 0.8, \"textfont\": {\"size\": 15}, \"type\": \"pie\", \"values\": [127, 58, 27, 25]}, {\"domain\": {\"x\": [0.52, 1]}, \"hoverinfo\": \"label+percent+name\", \"labels\": [3, 2, 4, 1], \"marker\": {\"colors\": [\"darkblue\", \"darkorange\", \"darkgreen\", \"darkred\", \"lightgrey\", \"orange\", \"white\", \"lightpink\"], \"line\": {\"width\": 1.5}}, \"name\": \"Non attrition employes\", \"opacity\": 0.8, \"textfont\": {\"size\": 15}, \"type\": \"pie\", \"values\": [766, 286, 126, 55]}],\n",
       "                        {\"annotations\": [{\"font\": {\"size\": 13}, \"showarrow\": false, \"text\": \"Yes_attrition\", \"x\": 0.22, \"y\": -0.1}, {\"font\": {\"size\": 13}, \"showarrow\": false, \"text\": \"No_attrition\", \"x\": 0.8, \"y\": -0.1}], \"template\": {\"data\": {\"bar\": [{\"error_x\": {\"color\": \"#2a3f5f\"}, \"error_y\": {\"color\": \"#2a3f5f\"}, \"marker\": {\"line\": {\"color\": \"#E5ECF6\", \"width\": 0.5}}, \"type\": \"bar\"}], \"barpolar\": [{\"marker\": {\"line\": {\"color\": \"#E5ECF6\", \"width\": 0.5}}, \"type\": \"barpolar\"}], \"carpet\": [{\"aaxis\": {\"endlinecolor\": \"#2a3f5f\", \"gridcolor\": \"white\", \"linecolor\": \"white\", \"minorgridcolor\": \"white\", \"startlinecolor\": \"#2a3f5f\"}, \"baxis\": {\"endlinecolor\": \"#2a3f5f\", \"gridcolor\": \"white\", \"linecolor\": \"white\", \"minorgridcolor\": \"white\", \"startlinecolor\": \"#2a3f5f\"}, \"type\": \"carpet\"}], \"choropleth\": [{\"colorbar\": {\"outlinewidth\": 0, \"ticks\": \"\"}, \"type\": \"choropleth\"}], \"contour\": [{\"colorbar\": {\"outlinewidth\": 0, \"ticks\": \"\"}, \"colorscale\": [[0.0, \"#0d0887\"], [0.1111111111111111, \"#46039f\"], [0.2222222222222222, \"#7201a8\"], [0.3333333333333333, \"#9c179e\"], [0.4444444444444444, \"#bd3786\"], [0.5555555555555556, \"#d8576b\"], [0.6666666666666666, \"#ed7953\"], [0.7777777777777778, \"#fb9f3a\"], [0.8888888888888888, \"#fdca26\"], [1.0, \"#f0f921\"]], \"type\": \"contour\"}], \"contourcarpet\": [{\"colorbar\": {\"outlinewidth\": 0, \"ticks\": \"\"}, \"type\": \"contourcarpet\"}], \"heatmap\": [{\"colorbar\": {\"outlinewidth\": 0, \"ticks\": \"\"}, \"colorscale\": [[0.0, \"#0d0887\"], [0.1111111111111111, \"#46039f\"], [0.2222222222222222, \"#7201a8\"], [0.3333333333333333, \"#9c179e\"], [0.4444444444444444, \"#bd3786\"], [0.5555555555555556, \"#d8576b\"], [0.6666666666666666, \"#ed7953\"], [0.7777777777777778, \"#fb9f3a\"], [0.8888888888888888, \"#fdca26\"], [1.0, \"#f0f921\"]], \"type\": \"heatmap\"}], \"heatmapgl\": [{\"colorbar\": {\"outlinewidth\": 0, \"ticks\": \"\"}, \"colorscale\": [[0.0, \"#0d0887\"], [0.1111111111111111, \"#46039f\"], [0.2222222222222222, \"#7201a8\"], [0.3333333333333333, \"#9c179e\"], [0.4444444444444444, \"#bd3786\"], [0.5555555555555556, \"#d8576b\"], [0.6666666666666666, \"#ed7953\"], [0.7777777777777778, \"#fb9f3a\"], [0.8888888888888888, \"#fdca26\"], [1.0, \"#f0f921\"]], \"type\": \"heatmapgl\"}], \"histogram\": [{\"marker\": {\"colorbar\": {\"outlinewidth\": 0, \"ticks\": \"\"}}, \"type\": \"histogram\"}], \"histogram2d\": [{\"colorbar\": {\"outlinewidth\": 0, \"ticks\": \"\"}, \"colorscale\": [[0.0, \"#0d0887\"], [0.1111111111111111, \"#46039f\"], [0.2222222222222222, \"#7201a8\"], [0.3333333333333333, \"#9c179e\"], [0.4444444444444444, \"#bd3786\"], [0.5555555555555556, \"#d8576b\"], [0.6666666666666666, \"#ed7953\"], [0.7777777777777778, \"#fb9f3a\"], [0.8888888888888888, \"#fdca26\"], [1.0, \"#f0f921\"]], \"type\": \"histogram2d\"}], \"histogram2dcontour\": [{\"colorbar\": {\"outlinewidth\": 0, \"ticks\": \"\"}, \"colorscale\": [[0.0, \"#0d0887\"], [0.1111111111111111, \"#46039f\"], [0.2222222222222222, \"#7201a8\"], [0.3333333333333333, \"#9c179e\"], [0.4444444444444444, \"#bd3786\"], [0.5555555555555556, \"#d8576b\"], [0.6666666666666666, \"#ed7953\"], [0.7777777777777778, \"#fb9f3a\"], [0.8888888888888888, \"#fdca26\"], [1.0, \"#f0f921\"]], \"type\": \"histogram2dcontour\"}], \"mesh3d\": [{\"colorbar\": {\"outlinewidth\": 0, \"ticks\": \"\"}, \"type\": \"mesh3d\"}], \"parcoords\": [{\"line\": {\"colorbar\": {\"outlinewidth\": 0, \"ticks\": \"\"}}, \"type\": \"parcoords\"}], \"scatter\": [{\"marker\": {\"colorbar\": {\"outlinewidth\": 0, \"ticks\": \"\"}}, \"type\": \"scatter\"}], \"scatter3d\": [{\"line\": {\"colorbar\": {\"outlinewidth\": 0, \"ticks\": \"\"}}, \"marker\": {\"colorbar\": {\"outlinewidth\": 0, \"ticks\": \"\"}}, \"type\": \"scatter3d\"}], \"scattercarpet\": [{\"marker\": {\"colorbar\": {\"outlinewidth\": 0, \"ticks\": \"\"}}, \"type\": \"scattercarpet\"}], \"scattergeo\": [{\"marker\": {\"colorbar\": {\"outlinewidth\": 0, \"ticks\": \"\"}}, \"type\": \"scattergeo\"}], \"scattergl\": [{\"marker\": {\"colorbar\": {\"outlinewidth\": 0, \"ticks\": \"\"}}, \"type\": \"scattergl\"}], \"scattermapbox\": [{\"marker\": {\"colorbar\": {\"outlinewidth\": 0, \"ticks\": \"\"}}, \"type\": \"scattermapbox\"}], \"scatterpolar\": [{\"marker\": {\"colorbar\": {\"outlinewidth\": 0, \"ticks\": \"\"}}, \"type\": \"scatterpolar\"}], \"scatterpolargl\": [{\"marker\": {\"colorbar\": {\"outlinewidth\": 0, \"ticks\": \"\"}}, \"type\": \"scatterpolargl\"}], \"scatterternary\": [{\"marker\": {\"colorbar\": {\"outlinewidth\": 0, \"ticks\": \"\"}}, \"type\": \"scatterternary\"}], \"surface\": [{\"colorbar\": {\"outlinewidth\": 0, \"ticks\": \"\"}, \"colorscale\": [[0.0, \"#0d0887\"], [0.1111111111111111, \"#46039f\"], [0.2222222222222222, \"#7201a8\"], [0.3333333333333333, \"#9c179e\"], [0.4444444444444444, \"#bd3786\"], [0.5555555555555556, \"#d8576b\"], [0.6666666666666666, \"#ed7953\"], [0.7777777777777778, \"#fb9f3a\"], [0.8888888888888888, \"#fdca26\"], [1.0, \"#f0f921\"]], \"type\": \"surface\"}], \"table\": [{\"cells\": {\"fill\": {\"color\": \"#EBF0F8\"}, \"line\": {\"color\": \"white\"}}, \"header\": {\"fill\": {\"color\": \"#C8D4E3\"}, \"line\": {\"color\": \"white\"}}, \"type\": \"table\"}]}, \"layout\": {\"annotationdefaults\": {\"arrowcolor\": \"#2a3f5f\", \"arrowhead\": 0, \"arrowwidth\": 1}, \"colorscale\": {\"diverging\": [[0, \"#8e0152\"], [0.1, \"#c51b7d\"], [0.2, \"#de77ae\"], [0.3, \"#f1b6da\"], [0.4, \"#fde0ef\"], [0.5, \"#f7f7f7\"], [0.6, \"#e6f5d0\"], [0.7, \"#b8e186\"], [0.8, \"#7fbc41\"], [0.9, \"#4d9221\"], [1, \"#276419\"]], \"sequential\": [[0.0, \"#0d0887\"], [0.1111111111111111, \"#46039f\"], [0.2222222222222222, \"#7201a8\"], [0.3333333333333333, \"#9c179e\"], [0.4444444444444444, \"#bd3786\"], [0.5555555555555556, \"#d8576b\"], [0.6666666666666666, \"#ed7953\"], [0.7777777777777778, \"#fb9f3a\"], [0.8888888888888888, \"#fdca26\"], [1.0, \"#f0f921\"]], \"sequentialminus\": [[0.0, \"#0d0887\"], [0.1111111111111111, \"#46039f\"], [0.2222222222222222, \"#7201a8\"], [0.3333333333333333, \"#9c179e\"], [0.4444444444444444, \"#bd3786\"], [0.5555555555555556, \"#d8576b\"], [0.6666666666666666, \"#ed7953\"], [0.7777777777777778, \"#fb9f3a\"], [0.8888888888888888, \"#fdca26\"], [1.0, \"#f0f921\"]]}, \"colorway\": [\"#636efa\", \"#EF553B\", \"#00cc96\", \"#ab63fa\", \"#FFA15A\", \"#19d3f3\", \"#FF6692\", \"#B6E880\", \"#FF97FF\", \"#FECB52\"], \"font\": {\"color\": \"#2a3f5f\"}, \"geo\": {\"bgcolor\": \"white\", \"lakecolor\": \"white\", \"landcolor\": \"#E5ECF6\", \"showlakes\": true, \"showland\": true, \"subunitcolor\": \"white\"}, \"hoverlabel\": {\"align\": \"left\"}, \"hovermode\": \"closest\", \"mapbox\": {\"style\": \"light\"}, \"paper_bgcolor\": \"white\", \"plot_bgcolor\": \"#E5ECF6\", \"polar\": {\"angularaxis\": {\"gridcolor\": \"white\", \"linecolor\": \"white\", \"ticks\": \"\"}, \"bgcolor\": \"#E5ECF6\", \"radialaxis\": {\"gridcolor\": \"white\", \"linecolor\": \"white\", \"ticks\": \"\"}}, \"scene\": {\"xaxis\": {\"backgroundcolor\": \"#E5ECF6\", \"gridcolor\": \"white\", \"gridwidth\": 2, \"linecolor\": \"white\", \"showbackground\": true, \"ticks\": \"\", \"zerolinecolor\": \"white\"}, \"yaxis\": {\"backgroundcolor\": \"#E5ECF6\", \"gridcolor\": \"white\", \"gridwidth\": 2, \"linecolor\": \"white\", \"showbackground\": true, \"ticks\": \"\", \"zerolinecolor\": \"white\"}, \"zaxis\": {\"backgroundcolor\": \"#E5ECF6\", \"gridcolor\": \"white\", \"gridwidth\": 2, \"linecolor\": \"white\", \"showbackground\": true, \"ticks\": \"\", \"zerolinecolor\": \"white\"}}, \"shapedefaults\": {\"line\": {\"color\": \"#2a3f5f\"}}, \"ternary\": {\"aaxis\": {\"gridcolor\": \"white\", \"linecolor\": \"white\", \"ticks\": \"\"}, \"baxis\": {\"gridcolor\": \"white\", \"linecolor\": \"white\", \"ticks\": \"\"}, \"bgcolor\": \"#E5ECF6\", \"caxis\": {\"gridcolor\": \"white\", \"linecolor\": \"white\", \"ticks\": \"\"}}, \"title\": {\"x\": 0.05}, \"xaxis\": {\"automargin\": true, \"gridcolor\": \"white\", \"linecolor\": \"white\", \"ticks\": \"\", \"zerolinecolor\": \"white\", \"zerolinewidth\": 2}, \"yaxis\": {\"automargin\": true, \"gridcolor\": \"white\", \"linecolor\": \"white\", \"ticks\": \"\", \"zerolinecolor\": \"white\", \"zerolinewidth\": 2}}}, \"title\": {\"text\": \"WorkLifeBalance distribution in employes attrition \"}},\n",
       "                        {\"responsive\": true}\n",
       "                    ).then(function(){\n",
       "                            \n",
<<<<<<< HEAD
       "var gd = document.getElementById('5ff77a0e-e6af-4537-81c2-535b74655b7f');\n",
=======
       "var gd = document.getElementById('9f9b99a9-379e-47d2-b7e3-93d868abbaa0');\n",
>>>>>>> a083f58117c24ecf875146665f41926c284f5015
       "var x = new MutationObserver(function (mutations, observer) {{\n",
       "        var display = window.getComputedStyle(gd).display;\n",
       "        if (!display || display === 'none') {{\n",
       "            console.log([gd, 'removed!']);\n",
       "            Plotly.purge(gd);\n",
       "            observer.disconnect();\n",
       "        }}\n",
       "}});\n",
       "\n",
       "// Listen for the removal of the full notebook cells\n",
       "var notebookContainer = gd.closest('#notebook-container');\n",
       "if (notebookContainer) {{\n",
       "    x.observe(notebookContainer, {childList: true});\n",
       "}}\n",
       "\n",
       "// Listen for the clearing of the current output cell\n",
       "var outputEl = gd.closest('.output');\n",
       "if (outputEl) {{\n",
       "    x.observe(outputEl, {childList: true});\n",
       "}}\n",
       "\n",
       "                        })\n",
       "                };\n",
       "                });\n",
       "            </script>\n",
       "        </div>"
      ]
     },
     "metadata": {},
     "output_type": "display_data"
    }
   ],
   "source": [
    "plot(\"WorkLifeBalance\")"
   ]
  },
  {
   "cell_type": "markdown",
   "metadata": {},
   "source": [
    "___\n",
    "* **Histograma que mostra os anos na mesma posição de trabalho:**"
   ]
  },
  {
   "cell_type": "code",
<<<<<<< HEAD
   "execution_count": 77,
=======
   "execution_count": 462,
>>>>>>> a083f58117c24ecf875146665f41926c284f5015
   "metadata": {},
   "outputs": [
    {
     "data": {
      "image/png": "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\n",
      "text/plain": [
       "<Figure size 432x288 with 1 Axes>"
      ]
     },
     "metadata": {
      "needs_background": "light"
     },
     "output_type": "display_data"
    }
   ],
   "source": [
    "sns.barplot(x='Attrition',y=\"Attrition\",hue=\"YearsInCurrentRole\", data=IBM, estimator=lambda x: len(x) / len(IBM) * 100);\n",
    "plt.ylabel('Frequência Relativa (%)');"
   ]
  },
  {
   "cell_type": "markdown",
   "metadata": {},
   "source": [
    "___\n",
    "* **Histograma que motra a frequência relativa dos funcionários desde a última promoção:**"
   ]
  },
  {
   "cell_type": "code",
<<<<<<< HEAD
   "execution_count": 78,
=======
   "execution_count": 463,
>>>>>>> a083f58117c24ecf875146665f41926c284f5015
   "metadata": {},
   "outputs": [
    {
     "data": {
      "image/png": "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\n",
      "text/plain": [
       "<Figure size 432x288 with 1 Axes>"
      ]
     },
     "metadata": {
      "needs_background": "light"
     },
     "output_type": "display_data"
    }
   ],
   "source": [
    "sns.barplot(x='Attrition',y=\"Attrition\",hue=\"YearsSinceLastPromotion\", data=IBM, estimator=lambda x: len(x) / len(IBM) * 100);\n",
    "plt.ylabel('Frequência Relativa (%)');"
   ]
  },
  {
   "cell_type": "markdown",
   "metadata": {},
   "source": [
    "___\n",
    "* **Histograma com a frequência relativa dos funcionários com seu gerente atual**"
   ]
  },
  {
   "cell_type": "code",
<<<<<<< HEAD
   "execution_count": 79,
=======
   "execution_count": 464,
>>>>>>> a083f58117c24ecf875146665f41926c284f5015
   "metadata": {},
   "outputs": [
    {
     "data": {
      "image/png": "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\n",
      "text/plain": [
       "<Figure size 432x288 with 1 Axes>"
      ]
     },
     "metadata": {
      "needs_background": "light"
     },
     "output_type": "display_data"
    }
   ],
   "source": [
    "sns.barplot(x='Attrition',y=\"Attrition\",hue=\"YearsWithCurrManager\", data=IBM, estimator=lambda x: len(x) / len(IBM) * 100);\n",
    "plt.ylabel('Frequência Relativa (%)');"
   ]
  },
  {
   "cell_type": "markdown",
   "metadata": {},
   "source": [
    "___\n",
    "* **Gráfico com a frequência relativa dos funcionários na empresa:**"
   ]
  },
  {
   "cell_type": "code",
<<<<<<< HEAD
   "execution_count": 80,
=======
   "execution_count": 465,
>>>>>>> a083f58117c24ecf875146665f41926c284f5015
   "metadata": {},
   "outputs": [
    {
     "data": {
      "image/png": "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\n",
      "text/plain": [
       "<Figure size 720x576 with 1 Axes>"
      ]
     },
     "metadata": {
      "needs_background": "light"
     },
     "output_type": "display_data"
    }
   ],
   "source": [
    "plt.figure(figsize=(10,8))\n",
    "sns.barplot(x='Attrition',y=\"Attrition\",hue=\"YearsAtCompany\", data=IBM, estimator=lambda x: len(x) / len(IBM) * 100);\n",
    "plt.legend(loc='best',bbox_to_anchor=(1,1))\n",
    "plt.ylabel('Frequência Relativa (%)');"
   ]
  },
  {
   "cell_type": "markdown",
   "metadata": {},
   "source": [
    "___\n",
    "* ### Gráficos de violino para a comparação entre variável quantitativa x qualitativa:"
   ]
  },
  {
   "cell_type": "markdown",
   "metadata": {},
   "source": [
    "Gráficos de violino são semelhantes a boxplot, mas com a adição de um gráfico de densidade de kernel adicionado a cada lado"
   ]
  },
  {
   "cell_type": "markdown",
   "metadata": {},
   "source": [
    "___\n",
    "* **Gráfico comparando Atrito na Empresa X Distância da casa dos funcionários até a empresa:**"
   ]
  },
  {
   "cell_type": "code",
<<<<<<< HEAD
   "execution_count": 81,
=======
   "execution_count": 466,
>>>>>>> a083f58117c24ecf875146665f41926c284f5015
   "metadata": {},
   "outputs": [
    {
     "data": {
      "image/png": "iVBORw0KGgoAAAANSUhEUgAAAYQAAAEKCAYAAAASByJ7AAAABHNCSVQICAgIfAhkiAAAAAlwSFlzAAALEgAACxIB0t1+/AAAADl0RVh0U29mdHdhcmUAbWF0cGxvdGxpYiB2ZXJzaW9uIDIuMi4yLCBodHRwOi8vbWF0cGxvdGxpYi5vcmcvhp/UCwAAIABJREFUeJzt3Xl8XXWZ+PHPc5fcrG2TNG3SvUALlAq1pC2LLIJg2VQQURRxQQEHZFDHnzgKODgjuAyogzoDLiw6jiAglbKUpUCLhdLS0hZaCl2TNmnS7Otdn98f9950IU1OmnvuTXKf9+t1X8k995zzfaDJefLdRVUxxhhjPJkOwBhjzNBgCcEYYwxgCcEYY0yCJQRjjDGAJQRjjDEJlhCMMcYAlhCMMcYkWEIwxhgDWEIwxhiT4Mt0AAMxduxYnTZtWqbDMMaYYWX16tV7VbWsv/OGVUKYNm0aq1atynQYxhgzrIjIDifnWZORMcYYwBKCMcaYBEsIxhhjgDQkBBHJFZGVIvKmiLwlIv+WOH6fiGwTkbWJ1xy3YzHGGHNo6ehUDgJnqWq7iPiB5SLyVOKzb6vqX9MQgzHGmH64nhA0vgNPe+KtP/GyXXmMMWaISUsfgoh4RWQtUAc8q6qvJT76DxFZJyJ3iUggHbEYY4zpXVoSgqpGVXUOMAmYLyKzge8CxwDzgBLgO71dKyJXi8gqEVlVX1+fjnCNMRlmW/tmRlpHGalqM/AisFBVazQuCPwBmH+Ia+5R1UpVrSwr63einTFmmNuwYQPnnnMOL7/8cqZDyTrpGGVUJiJjEt/nAR8BNolIReKYAJ8ANrgdizFm6NuyZQvhSITXX38906FknXSMMqoA7hcRL/EE9JCqPiEiL4hIGSDAWuDaNMRijDHmENIxymgd8MFejp/ldtnGGGOcs5nKxpghJRwOZzqErGUJwRgzpASDwUyHkLUsIRhjhpRkQohGoxmOJPtYQjDGDCnd3d2A1RQywRKCMWZI6erqAvYlBpM+lhCyUFNTE5de+inOv+ACli1blulwjDlAZ2fnAV9N+lhCyEKbNm1i7956Ojs6bPKPGXKSiaCjvS3DkWQfSwhZaMeO+PaqsdxR7NixM8PRGHOgjvb2A76a9LGEkIXeffddJFBIpGgCm9/dTCwWy3RIxvRoa2uNf7WEkHaWELLQhrfeIpRXQqxgLF2dnVRVVWU6JGN6tLXGE0J7R6eteppmlhCyTG1tLXtqa4kWVRApKgdgzZo1GY7KmH1a29oRlFgsRrvVEtLKEkKWWblyJQDRURPQQBHkFvHqq69mOCpj4rq6ugiFw0woiE9Ka2lpyXBE2cUSQpZ5edkyyB1FLG8MiBAaPZlVq1bbED8zJDQ3NwMwId8SQiZYQsgiDQ0NvLF6NcEx00AEgEjxdCKRsG1GYoaEpqYmACYXxhNCY2NjJsPJOpYQssiSJUuIxWKEx87oORYtHAd5o1j85JMZjMyYuH0JIQJYQkg3SwhZIhqN8thjfyNaVI7mjd73gQjB0pmsX7eOLVu2ZC5AY4C9e/cCMLUwimAJId3SsYVmroisFJE3ReQtEfm3xPHpIvKaiLwrIn8RkRy3Y8lmr7zyCnV1ewiNm/W+z0JlRyNeHw8//HAGIjNmn4aGBkSgOBBjVEB6EoRJj3TUEILAWap6AjAHWCgiJwE/Bu5S1RlAE3BVGmLJSqrKAw8+CHmjiBRPef8JvgDB0pksefZZ9uzZk/4AjUmor69nTAC8HigJRKivr890SFnF9YSgccnBxP7ES4GzgL8mjt8PfMLtWLLVypUree/dd+ke/wGQ3v/JQ+WzicWUP//5z2mOzph96uvrKQnEO5SLc6LU7anNcETZJS19CCLiFZG1QB3wLLAFaFbVSOKUamBiOmLJNqrK73//B8gtIlx61KHPCxQSGjuDvz/xhNUSTMbU1uymNBB/LJTmRqmrq7PZymmUloSgqlFVnQNMAuYDx/Z2Wm/XisjVIrJKRFZZ9XHgVqxYwTvvbKK7/ATwePs8N1RxAtFYjAcffDBN0Rmzj6pSV1dPaSC+tlZpbozOrm6brZxGaR1lpKrNwIvAScAYEfElPpoE7D7ENfeoaqWqVpaVlaUn0BEiFotx729/C7mj+qwdJMVrCUfz5JNPsWvXrjREaMw+jY2NhMJhxubFE8LY3PjX2lprNkqXdIwyKhORMYnv84CPABuBpcClidO+ADzudizZZtmyZWzbupWuijngcfZPHao4AUWslmDSLvngH5sb70MoS3y1hJA+6aghVABLRWQd8DrwrKo+AXwH+KaIvAeUAr9LQyxZIxaL8fs//AHyxhApPcLxdZqTT7DsaJ555hmqq6tdjNCYA9XU1AAwLlFDSH7dvbvXxgPjgnSMMlqnqh9U1eNVdbaq3pY4vlVV56vqUar6KVW1HbVTaPny5ezYvp2uihN6HVkU2PkqgZ29L2oXqjgexMsf//hHt8M0pkfywf98dYA/bs6nwK8U5IglhDSymcojkKry4B//GJ93UDK913M8nY14OnufBar+PIJjZ7JkybPU1dW5GaoxPXbt2kVJHlR3+NjZHu9eHJcbsf6sNLKEMAKtW7eOdzdvpnvc7EPOO+hPqHw2MY3x2GOPpTg6Y3pXXV3FuED4gGPjcyNUV9k2r+liCWEEevTRRxF/rqORRYeigULCY6ayaNHfCQatNc+4b1dVFePzogccG5cfpa6unnA4fIirTCpZQhhhmpqaWL58OcGSI8Hr6/+CPoTHHUNHR7stjW1c197eTnNrG+X5ByaEirwoMVXrR0gTSwgjzNKlS4lGo4TLZg76XtGiCsgdxdNPP52CyIw5tOSItoMTQnl+fKSR9SOkhyWEEeb5F15A80uI5RUP/mYiBMdMY82aNT07WRnjhmRCGJ8Yapo0PpEgdu60foR0sIQwgjQ3N/P2W28RGtPLiqaHKVIyjVgs1rMXszFuqKqqQtiXAJIK/UphjlgNIU0sIYwgq1evRlWJjJ6csnvG8kuRnDxee+21lN3TmINVVVUxNh/8vTyRyvPC7Ny5I/1BZSFLCCPI2rVrEV8OsYLS1N1UhFBhOWvWrrVVJ41rqqt2Up4b6vWz8rwI1VVVaY4oOw0oIYhIgYj0vWSmyZj16zcQLig77LkHhxItHE9jQ4Mti21coapUV1e/r7koqTw/RkNjE52dnWmOLPv0+eQQEY+IfFZEFotIHbAJqElshflTEZnR1/UmfYLBIDt37iCaPzbl944WxO/53nvvpfzexjQ1NdHZ1U35QR3KScmRR9aP4L7+/pRcChwJfBcoV9XJqjoOOA14FbhDRK5wOUbjwI4dO4jFYsTyS1J+7+SIpa1bt6b83sb0jDA6RA0hOVnNEoL7+pu59BFVfd8UQVVtBB4BHhERvyuRmQGpSrSxxnLHpP7mXj+SW2RD/4wrkpPODp6lnDTOEkLa9JkQ9k8GIlIMTN7/GlV9o7eEYdIv+UsVyy1y5f7hnEKqq+0X0qTe7t27Edm3Ic7B8nwwKmCrnqaDo7UNROSHwBeJ74WcHGqiwFnuhGUGqq6uDsnJB8/glqs4FM0pZE+ddSqb1KupqaE0F3x9NGCX5YZ79ksw7nH69LgMOFJVex8XZjKuvr6emD/PtfvHcgpornmPaDSK12sDzUzq1NTsZmyg74aGskCUHbttwya3OR2fuAE4rMZpEZksIktFZGNidNI/J47/QER2icjaxOv8w7m/iWtsaiLqy3Xt/urLRVVpbW11rQyTnfbU1lKa23v/QVJpboz6+gZisd6blUxqOK0h3A6sEZENQM9ayKr6MQfXRoBvqeobIlIErBaRZxOf3aWqPxtQxKZXzc0tqDfftftrItm0tLRQXJyCdZKMAaLRKA2NTZRO7vtBX5obJRKN0tTURGlpCidemgM4TQj3Az8G1gMDStGqWgPUJL5vE5GNwMSB3MP0r6OjHc1370GtvhwgvkyxManS3NxMLBajOND3YyX5eUNDgyUEFzlNCHtV9ZeDLUxEpgEfBF4DTgWuF5ErgVXEaxFNgy0jW3V3d6OFLo4ATnRWd3d3u1eGyTp79+4FYEw/CWFMTnwsS0NDg+sxZTOnfQirReR2ETlZROYmXwMpSEQKic9duFFVW4HfEJ/0Nod4DeI/D3Hd1SKySkRW1dfXD6TIrBGJRIhGIuBxr7NXPfFk09XV5VoZJvskl1UfldP3OlmjcmIHnG/c4bSG8MHE15P2O+Z42Gli8tojwJ9U9VEAVd2z3+f3Ak/0dq2q3gPcA1BZWWmrq/UiEonEv3ExIeDxHFiWMSnQ0tICQJG/7xpC8vOmJmtEcJPThHCeqh7QViAijhryRESA3wEbVfXO/Y5XJPoXAC4mPpLJHIZoND5CQ0VcK0PFEoJJvba2NgAK/H3/rRfwgtdjfVhuc5oQHhGRj6tqBEBEyoHFwIkOrj0V+DywXkTWJo79K3C5iMwhXtPYDlwzkMBNb9xLCMa4IfmAz/f2nRBEoMAvPQnEuMNpQvgb8FcR+STx5SsWAf/i5EJVXU7vT6onHZZtHHOxRc0a64wLOjs7yUn89d+fgFetD8tljhKCqt4rIjnEE8M04BpV/YebgRnnPIn2fXFxAxtJjDa2WcomlYLBIDleZzXbgEdtlJvL+kwIIvLN/d8Srx2sBU4SkZP27xMwmdPzkHZzR7PEvS0hmFQKhULkOPyR8nti1oflsv5qCAcvnfnYIY6bDPL5Ev+M2vf0/0HReA3B77fVzk3qRCIRvOLsDxmvKOGwLa7spv6Wv/63dAViDp/H48Hj9fY8tN0gsXiysYRgUikWizkeCiFg+3q7rL8tNO8RkdmH+KxARL4sIp9zJzQzEH6fv+eh7YpEsumpjRiTZoJaQnBZf7/dvwZuEZEPEJ8nUA/kAjOAUcDvgT+5GqFxxOf3uVpDSDZH5eTkuFeGyToej8fxALYY0jOAwrijvyajtcBliWUnKoEKoIv4JLN30hCfccjn84ObNYSY1RBM6nk8HmIOM0JMLSG4zemw03bgRXdDMYPh83kRFycLiDUZGRf4/X4iMWe9CFEVq6G6zNLtCOF1uVM5eW8bdmpSye/3E3b4YxtWsUENLrOEMGKkZ9kKcXG9JJN9AoEA4aizmm04JgQCAZcjym4DSggiUuBWIGaw0jP6wrYwNKmUm5tLOIajfoRg1JqM3OYoIYjIKSLyNrAx8f4EEfm1q5GZAYlGoyAuVvgS97aEYFIpNze+NWvQwXiIYETJy8tzOaLs5vQJchfwUaABQFXfBE53KygzcOFwpGeJajdoYnSHzRQ1qbQvIfTdFBnTeNKwhOAux08QVa066JCLYxzNQIWCQZc3yImPLgqFQu6VYbJO8gHf3U9CCEUPPN+4w+kYwioROQXQxKqnN5BoPjKZp6oEg90921y6UkYiIXR2drpWhsk+ThNC8nNLCO5yWkO4FrgOmAhUE98H+Tq3gjID09XVhaqiXhc73BL37ujocK8Mk3Xy8/OB/puMgpYQ0sLpxLS9wGGtWSQik4EHgHIgBtyjqr8QkRLgL8T3V9gOXKaqtmHqYejZRcrn3pA8TdzbdqwyqZTsQ+iOWA1hKHCUEERkOvB14g/vnmtU9WMOLo8A31LVN0SkCFgtIs8CXwSeV9U7ROQm4CbgOwML3wC0trYC+x7abkjWPpKbohuTCskHfLCf2cqWENJjIFto/g74OzCgcYeqWgPUJL5vE5GNxJuePg6cmTjtfuJLY1hCOAxNTfGKlfpy3SvE40X8AZqbm90rw2Qdp6OMkp8nzzfucJoQulX1l4MtTESmAR8EXgPGJ5IFqlojIuMGe/9slUwIMb+7vyzqy+spy5hUSM48DvUzZjG5vIXNVHaX04TwCxG5FVgCBJMHVfUNpwUlVkx9BLhRVVudLoEgIlcDVwNMmTLFaXFZpaeG4M93tZyoL5fGxkZXyzDZpSch9NNklKwh2ExldzlNCB8APg+cxb4mI02875eI+Ikngz+p6qOJw3tEpCJRO6gA6nq7VlXvAe4BqKystN0xetHY2Ih4fT1zBdwS8+Wyt6HB1TJMdkkuVhfppyE6uSKqJQR3OX2CXAwcoaoDnpUk8arA74jvoXDnfh8tAr4A3JH4+vhA723iGhsbIScfXF54Tv35NDZud7UMk12SCSHcTw0hogeeb9zhdB7Cm8CYwyzjVBK1CxFZm3idTzwRnCMi7wLnJN6bw9DQ0EDE635nm/rz6O7qJBgM9n+yMQ54PB5Hm+QkP7f9ONzl9P/ueGCTiLzOgX0I/Q47VdXlHHpt5rMdlm/60NDYSMzNEUYJ6o8P+WtsbKSiosL18kx28Ho9RLXvGkLyc9sxzV1OE8KtrkZhBqWpqRkNlLteTnIUU3NzsyUEkzIe6X+vP02cYAnBXY7+76rqS8AmoCjx2pg4ZjIsFovR3tbq7hyEhGQZNhfBpJRIzwP/UJIf2wZN7nK6H8JlwErgU8BlwGsicqmbgRln2tra4usYpTEh2Gxlk1Kq/Y6HSH6s/WUOMyhOm4y+B8xT1ToAESkDngP+6lZgxpnk2kJuLluRZOsZGTfEYrH+N4BNnGAJwV1OG+Q8yWSQ0DCAa42L2tvbAVBfGsZne/0HlGlMKkRjilf6ftB7EwkhGrVtWNzktIbwtIg8A/w58f7TwJPuhGQGoufh7ObS10niQXw5lhBMyqgqsVgMTz9VhGTCsITgLqfLX39bRD5JfE6BEF/C+jFXIzOOdHV1Abi6Oc4BvP6eMo0ZrOSWrL5+2ht8cuD5xh2OZ3mo6iPEl58wQ0h3dzewb0czt6nH11OmMYMViUQA8Hn6bjJKfm5buLqrz6eIiLRBr0OEBVBVHeVKVMaxnl8QN/dT3o+K12Yqm5RJ/izlJB74f9ycz462+M/yj94YxZTCCFfM7MSfqEFYQnBXnwlBVYuS34vIGlX9oPshmYHoqUKnacKOisfacU3KJBNC8oG/s91HVzT+ZlPzvp/pHK8ecL5xx0CeIjbeawhKPpxV0jToSzw91XxjBivZ/Bjw9v14CXgsIaSDDR0dMdIzg9P+KjCp5DQhJGsINqDBXf31IVyy39sxB71nv70NTMal51FtCweYVEo+4HP7SQi5lhDSor+hKRft9/1LB71XwBJChiUX+xLVNKUExetNTwe2GfmSD/j+agi5iSdVZ2en2yFltf46lb+UrkDM4el5OKdpSr9ozBKCSZnkJMd8X98/v3ne+JZqlhDc5WjwuoiMAa4Epu1/jare4E5YxqmeLQU1PSN/RGO2a5VJmeQDvr8mo4A3viFgR0dHOsLKWk47lZ8kngzWA6v3e/VLRH4vInUismG/Yz8QkV0H7aBmDkMyIUgsPSN/RKO2r61JGac1BI9Avl9s2RSXOZ3emquq3zzMMu4D7gYeOOj4Xar6s8O8p0kIBBKrnMbSNDcgFrGEYFKmvb0dvxdyHLRC5vvUVtp1mdMawoMi8lURqRCRkuTLyYWq+jLQePghmr7sqyGkKyFE9yUhYwaptbWVQr+zsWuFvqjVEFzmNCGEgJ8CK9jXXLRqkGVfLyLrEk1KxYO8V9bqac9PUx8Csaj1IZiUaW1tpcAXc3RugTdKi+3W5yqnCeGbwFGqOk1VpydeRwyi3N8ARwJzgBrgPw91oohcLSKrRGRVfX39IIocmdI9ykjVhp2a1GlpbqbI56z/qzBHaWlucjmi7OY0IbwFpGy8l6ruUdWoqsaAe4H5fZx7j6pWqmplWVlZqkIwh8t2rDIp1NzcSFGOsxpCkT9Gs23f6iqnncpRYK2ILAV6FhM53GGnIlKhqjWJtxcDG/o63xxaulc7Fa/PVpw0KdPU1MzRxc4SwugcpbOrm2AwaP1YLnGaEP6WeA2YiPwZOBMYKyLVwK3AmSIyh/hs5+3ANYdzb7PfFpre9G2QYx17JhWCwSDtHZ2MHues1jk6UZNoamqivLzczdCyltMd0+4XkRxgZuLQO6rqaOsiVb28l8O/cxif6UddXXyr61hOQVrKi/oLeso0ZjAaG+ODD8cEnNUQkuc1NDRYQnCJ05nKZwL3E/9rXoDJIvKFxJBSk0Hbt29H/AHwpqcKHQ0UsWXrNlQVEVvqzhy+5CCRYocJoThRQ7DBJe5x2qn8n8C5qnqGqp4OfBS4y72wjFNvrltPOL8sPq8/DaKF42hpbmL37t1pKc+MXMkHe2mus4RQkmsJwW1OE4JfVd9JvlHVzYANRs+wbdu2UV21k8ioiWkrM1nWyy9b5dAMzp49ewAoCTibQ1PgUwK+fdeZ1HOaEFaJyO9E5MzE614crmVk3LN48WIQIVI6sCkhgZ2v4u1swNvZQN6mJwnsfNXxtZo7iljROP7+xGLbStMMSm1tLYU5Qp7DoS0iMDY3Rk1NTf8nm8PiNCF8jfhchBuAfwbeBq51KyjTv7q6Ov72t8cJlxyJ+vMGdK2nsxGJhpFoGF9bLZ7Oga0sEhx3HLt3VbNkyZIBXWfM/mpqaijLHdiijGWBCDW7ql2KyPSbm0XEC/xOVa8A7nQ/JNMfVeWXv/wlkViM4MS5aS8/UjyNWGEZ/3PPPZx88smMGTMm7TGY4a+6aidTB5gQxudH2VhTY4MaXNJvDUFVo0BZYtipGQIWLVrE8uXL6Z44Fw0Upj8AEbqmnkJLSyu3334HsZizTkFjksLhMHvq6hmXP7Bmx/F5UYLBEHv37nUpsuzmtMloO/CKiNwsIt9MvlyMyxzCa6+9xi9+8UuioycRHj87Y3HE8kvpmjSP1157ld/85jeoLWlhBmD37t3EYjEmDDAhVCTOr6qqciOsrOc0IewGnkicX7Tfy6TRm2++yfdvvplo3hg6jzgzbUNNDyU87lhC42bx8MMPc//991tSMI7t3LkTgPIBJ4R4bXTHjh0pj8n004cgIj5Vjajqv6UrINO7ZcuWcdtttxH2FdAx41zwDYEWPBGCUxYg0RD33Xcfra2tXHfddbYaqunXtm3bAAZcQygOxMjziyUEl/RXQ1iZ/EZE/svlWEwvVJWHH36Ym2+5hWCgmPajzx/wqCJXidA9/TRC44/j0Ucf5Qc/+IFthG76tX37dsbmQa7T1dQSRGBifpht27a6E1iW6y8h7N8mcaqbgZj36+zs5LbbbuNXv/oVkTGT6Zj5UdSfm+mw3i9RU+iePJ9ly5dz9TXX2F9wpk9bt7zHpPzDWzV3UkGEbVu3WhOlC/pLCPZ/PEM2b97M1ddcw9IXXyQ4qZKuI8+GdK1oepjC5bPpnLmQXXv2cvXV1/Dkk0/aL615n3A4TFV1NZMKD29i46SCKK1t7T2L45nU6S8hHJPY5nL9ft+vE5H1IrIuHQFmm2g0yp/+9CeuvfZrVNc10jlzIaGK4zPegexUdFQFbcd+jM5AMT/5yU+45ZZbaLZtD81+du7cSTQaY3LBwOYgJE0ujF+3das1G6Vafy14x6YlCgPEh9LdfvsdvP32W4SLp9E97VTwDb+NQDSngM6ZC/HXbmDZK6+wbv16/uVb3+K0007LdGhmCNiyZQsAkw+zhpC8bsuWLcybNy9lcZl+EoKq9jQEi8hUYIaqPicief1da5yLRqM88sgj3HvvvUTw0DX9dCKlRw6bWkGvRAhXfIDo6Ano9uXcfPPNnH322dxwww2MHj0609GZDNq2bRs+z8CHnCYV+pXiXKshuMHRPAQR+SrwV+B/EocmcZg7qJkD7dixg+uuv55f//rXdBWU0zbrYiJjjxreyWA/sfxS2o+5iOCED/L8C0v5/JVf4KWXXsp0WCaDtmzZwoSCGD6ns6B6MbkgxHvvbk5dUAZwPjHtOuKjjFoBVPVdYJyTC0Xk9yJSJyIb9jtWIiLPisi7ia/FAw18uItEIvzpT3/iy1ddxTvvbaPriDPoOuojaE5+pkNLPY+H0MQP0jHrY7REfNx6663ccsutNDU1ZToykwFb3nuXyQWD25d7ckGUnTuriEQOrx/C9M5pQgiqas+/oIj4cD4C6T5g4UHHbgKeV9UZwPOJ91ljx44dXHfd9dx77710F02i7biLh38TkQOx/BLaj72Q4KQTeXn5cq78gtUWsk1LSwsNjU2H3X+QNLkwQiQa7ZnxbFLDaUJ4SUT+FcgTkXOAh4G/O7kwsc3mwePDPk58S04SXz/hMI5hTVX561//ylVXfYXNW7fTdeSZdB911tCaaOY28RCqOCFeW4jmcOutt/LDH/6Q9vb2TEdm0mD79u1AfOjoYCSHrCbvZ1LDaUK4CagH1gPXAE8C3x9EueNVtQYg8fWQzU8icrWIrBKRVcN567zm5ma+c9NN3H333XQXltN23CeIlAxsY5uRJJZXTMcxFxKcOJfnX3iBL1/1Fd5+++1Mh2VcllyyYrAJoSI/ikesYznVnCaEPOD3qvopVb0U+H3imOtU9R5VrVTVyrKysnQUmXIbNmzgi1/6Mq+/voruKSfF+wr8I7CvYKA8HkIT5tBxzAXUtXRw/fVf5+GHH7bJbCPY9u3byfMJxYHBLZnu98C4fLUmoxRzmhCe58AEkAc8N4hy94hIBUDia90g7jWkPfXUU/zzjTfS3BWh/diLCI+fNeL7CgYqVjiOtmM/Rmj0JH71q1/x4x//mFBocJ2OZmjasWMHFfmRlPwKTMgLs93WNEoppwkhV1V7GnkT3w/mT9xFwBcS338BeHwQ9xqSVJX77rsv/nDLH0fbsRcRyy/JdFhDly9A15FnEZwwh6effppvf/vbtkjeCFS9cwcV+eGU3KsiP8ru3TW2t3cKOU0IHSLSs1ejiJwIdDm5UET+DKwAjhaRahG5CrgDOEdE3gXOSbwfMVSVe++9l/vuu4/w2Bl0zjx3WM44TjsRQhPn0nXEGby5bh3/8i/fts7mEaS7u5v6hkbK8w7dXNQVEXJzc7n00kvJzc2lK3LoqkR5fpRINEptba0b4WYlp7ONbwQeFpHdifcVwKedXKiqlx/io7Mdlj3sPPTQQ/zv//4vobJjCE492ZqIBihSeiRd4uXtjS9y88238NOf/gSfzybGD3e7d8cfH+P7mKHcGREuvPBCrr/+elSVlxc/dMhzx+XF71NTU8PEiRNTG2yWcvRbpqqvi8gxwNHEl8TepKqpqfeNMCtXruS///u/CRdPs2Q/tc7xAAAaPElEQVQwCJGSaXTFTmXNmmX8+te/5oYbbsh0SGaQdu3aBex7kPcm36c88cQTqCqLFy9mvO/QAwzGJ2oau3btorKyMrXBZqmBTB6fBxwPfBC4XESudCek4au9vZ0f3X47sbxiuqefZslgkCJjZxAaP4tHH32UNWvWZDocM0jJpp2yPpqM8nxKd3c3jzzyCN3d3eT1kRDGBGJ4PViTUQo5XcvoQeBnwIeIJ4Z5gKXkg9x33300NzXROe1DQ37vguEiOKkSckdx55132TIFw9yePXsI+ITCPh7yA+ERKM21hJBKThtmK4FZagPED6mtrY3HFy0iPHYGsYKxmQ5n5PD46JpYSdWWF3jllVc444wzMh2ROUx1dXWMzY2ltOI8NhCmbs+e1N0wyzltMtoAlLsZyHC3ZMkSwqEQofGzMh3KiBMpngKBQh5/fMSNTs4qe/bUUpKT2q7HkkCUPXtqUnrPbOa0hjAWeFtEVgLB5EFV/ZgrUQ1Dr776KppfTCy/NNOhjDziIVg8nTfffJOuri7y8rJo7acRpL6ujg/kDm6G8sFKAjEa61qIRqN4vd6U3jsbOU0IP3AziOEuGo2ybt16wqOnZTqUEStaVE60dj0bN25k7ty5/V9ghpRIJEJTcwvFU1ObEIoDMWKxGI2NjQzXpW2GEqfDTm2N4j7s3buXYLCbWJ7NRHZLsua1c+dOSwjDUGNjI6o66DWMDpa83969ey0hpIDTUUYnicjrItIuIiERiYpIq9vBDRc1NfE2zFigKMOROBQNHTAblOjQXzdI/XmIx9czuckML3v37gXiQ0VTaf+EYAbPaafy3cDlwLvEF7b7SuKYIf7XDzBsdjuTSKhnNugFF1yARIZ+QkAEcvJsl7VhKvnAdrOGYAbP8XoAqvqeiHhVNQr8QUT+4WJcw0oyIcSGyUY36ss5YDao+oZHIov68mhoaMh0GOYwJB/YJSlOCKNyFK9YQkgVpwmhU0RygLUi8hOgBihwL6zhpb6+HvH4wDtMFrDz5tDd2cgjjzwSf180JrPxOBT157OnbvhukpTN6uvr8Xqg0J/aqUwegTG5lhBSxWmT0ecT514PdACTgUvcCmq4qa6uRnMLbakKl2mgkD21tTZjeRiqr6+nOBB/gKdacU6E4byb4lDiNCF8QlW7VbVVVf9NVb8JXOhmYMOFqvL2xo2Ec23+gdui+WOJRMK2beIwVF9fR0mOO4m8JBClvs6Wr0gFpwnhC70c+2IK4xi2Nm7cSFNjI5FRFZkOZcSLFpWDCMuWLct0KGaA6vbUUhJwZyObkkCMuvq9tvVqCvSZEETkchH5OzBdRBbt93oRsN49YNGiRYjXR6RkWqZDGfE0J5/IqAk8+eRTBIPB/i8wQ0IsFmPv3gZKUzxLOakkECMYDNHaaiPhB6u/TuV/EO9AHgv8537H24B1gy1cRLYn7hUFIqo6rFZQ3bRpE08/8wyhcbPAm5PpcLJCqPwDNLzzNH/5y1+48kpbgX04aG5uJhyJUuJSQkgmmrq6OkaPHu1KGdmizxqCqu5Q1ReBjwDLEjOWa4BJxDfKSYUPq+qc4ZYMknsfiD+P4IQPZjqcrBEdNYFw8TQeeOBB3n777UyHYxyoq6sDYGyuO01GpYn7Jssxh89pH8LLQK6ITASeB74E3OdWUENdOBzmlltuYefOKjqmnw4+qx2kU3DqyUR8eXznpu/27MJlhq49ieWpUz0HISlZQ9hjy2APmtOEIKraSXyo6X+p6sVAKtZ5VmCJiKwWkat7LVjkahFZJSKrhsLQsra2Nv7f//sOb7zxBl3TTiU6akKmQ8o66s+j/ahzaO8Kct31X2fz5s2ZDsn0IfmXu1t9CEV+xefBhp6mgOOEICInA58DFieOpWLX81NVdS5wHnCdiJx+8Amqeo+qVqpqZaYXr9q1axf/dN31rFm7lq7ppxEZOyOj8WQzzRtN+8zzaO4M8fWv38Dy5cszHZI5hPr6egJeKEjRTmkH8wiU5FqTUSo4TQg3At8FHlPVt0TkCGDpYAtX1d2Jr3XAY8D8wd7TDarKU089xZevuorq3bV0zjzXksEQEMsvpv2YC+nyFfH973+fO++8k+7u7kyHZQ5SX19Pca678zaLc8JWQ0iBgSx//dJ+77cCNwymYBEpADyq2pb4/lzgtsHc0w0NDQ38/Oc/Z9myZUSLyumaeToaKMx0WCZBc/LpOOZ8AtWrWbRoEavfeIPv3nQTs2fPznRoJqFh715G+1O7U9rBxuTEqK63GsJg9ZkQROTnqnpjYi7C++p7g9wxbTzwmMT/bPAB/6uqTw/ifikVjUb5+9//zv/8zz10B4MEJ1USKp8N4rRSZdLG4yU4ZT6RMZPYtX05119/PRdeeCHXXHMNRUXDZEnyEaypqYGKHHf6D5JG58RY39DsahnZoL8awoOJrz9LdcGJWsYJqb5vKmzatIm77vo577yzieioCXQddTKaa+Obh7roqAm0HXcxgV1v8MTixby8bDn/9LVrOffcc/F4LJFnSnNzCzNHuzuLuMivdHZ1EwqFyMmxUX+Hq8+EoKqrE19fEpGyxPcjtqGuubmZe++9l8VPPon48+g64gwiJUfYonXDiddPcMoCwmOPIrZjBXfccQePL1rEN268kZkzZ2Y6uqyjqnR0dpFf6m4NIT+ximpnZ6clhEHob+kKEZEfiMheYBOwWUTqReSW9ISXHrFYjMWLF/O5z13B4iefIjRuFq2zLyFSeqQlg2Eqll9KxzEX0DX9NDa9t42rr7mGX/ziF3R0dGQ6tKwSCoWIxWLket2tISTv39nZ6Wo5I11/9egbgVOBeapaqqrFwALgVBH5huvRpcH27dv5+g038NOf/pRWTyEdx32c4JQFthTFSCBCZOwMWo/7JKGyY3jssce44vNX8tJLtkV4uiSXKve53GLnEz2gPHN4+vtnuhK4XFW3JQ8k2v6vSHw2bKkqjz/+OF/5yld5+5336Jr2ITqPPo9YXnGmQzOp5sshOPVkOo69iMYg3HrrrfzoRz+yvybTIBaLNxW5XdFO3j9Znjk8/XUq+1X1fVsRqWq9iPhdisl1nZ2d3HHHj3n55ZeIjp5I1/TT0WGy/aU5fLHCMtqPvYic3WtZsmQJb739Nj+87TaOOOKITIc2Yvn98cdE1OXndPL+yfLM4emvhtDX7uvDYGf29wuFQvzr977Hy8tepnvSPDpnnGvJIJuIh9DEuXQefR676xr55xu/QVVVVaajGrGSHbzBqLtVhGAsfv9AYJhsYztE9ZcQThCR1l5ebcAH0hFgqt1++x2sXbOGrmmnEa74gHUaZ6noqArajj6P9u4Q3/zWt2hutjHsbvB4PIwqKqQ17KwTYUphhDxvjDxvjGPGhJlS6KxPoDUUv78tfz04/S1/7VXVUb28ilR12NXNqqqqWLr0BYIVJxAZe1SmwzEZprmjaT/ybOrr6nj22WczHc6IVVJSQlPQWUK4YmYnU4uiTC2K8q9zW7liprN+nuZQPPFYk9HgZNVsnRUrVgAQLrPx6CYuVjgOzS/hlVdeyXQoI9akyVPY0+3ug7q208vEiZNcLSMbZFVCyM/PB0BCNrrEJMSieCJd5BcUZDqSEWvKlCns6RTCLnUsq8KuTj9Tpk51p4AsklUJ4ayzziIvL5/c6tchYnvyZj1Vcna9gYa6+PjHBrMsl+nL0UcfTTQGO9tSsWL++zV0e2gJwjHHHOPK/bNJViWE/Px8vvWtb5LT1UDRpieQrpZMh5QRsfwS1OtHvX4iReXE8ksyHVL6RSPkbllKoHY9CxcuZN68eZmOaMSaNSu+l9bmFncSQvK+yXLM4XPnX2gI+8hHPsK4ceP43vdvRt7+G8GxRxOqOB7Nyc90aGkTnHISns5GALqOOT/D0aRZLIq//h1y96yHUCfXXnstn/70pxEbbeaasrIypk6ZzPrGrZw3JfX7Vaxv9DOqqJCjjrKBIoOVVTWEpOOPP57f/fZeFn70XHL3bqJo/V8J7HwNCbZnOjTjlmgYf91GijY8Qu7OVznuqOn84uc/5zOf+YwlgzRYcNLJbGr20xlJ7f/raAzWN+VSOW8+Xq83pffORllXQ0gaN24c3/nOd7jiiit48MEHWbJkCTl73iI6qoJQ6QwixVPBO3KHsGVFM5Eq3rZa/HvfJad5OxqNcOysWVz15S9z4oknWiJIozPOOIOHHnqINfV+Tq3oe06r07kHABub/bQG4cwzzxxkhAZAVN1dhTCVKisrddWqVa7cu7a2liVLlrD4ySfZU1uLeP2EiqcRLp5GdNQE8NhfH8OCKp7ORnxN2wk0bYXuNvLy8jn77LNYuHAhxx13nCWCDFBVPvPpyxgX2c2357Sm7L73vl3A6pYxPPa3x22Wch9EZLWqVvZ3XkZrCCKyEPgF4AV+q6p3ZCqW8vJyrrzySj7/+c+zfv16nn76aV5YupTuve8ivhxCRROJFE8hMnoS+OwHb0iJxfC21+Jr2klOy04ItiMizD3xRM4/7zw+9KEP2cMiw0SEheedzwP338/ebg9jcwc/BrUzIqysz+Oc8z5i/74pkrEagoh4gc3AOUA18DrxlVXfPtQ1btYQehMMBlm7di3Lly/n5WXLaGluBvEQLSonPHoS0dGTiOWOtuUvMkDCXXhbduFr2UVOWzUaDuL3+5k3bx6nnXYaJ598MmPGjMl0mGY/tbW1XH75Z7hoaieXHtE16Ps9Vx3ggc2F/OY3v+HYY49NQYQj13CoIcwH3kssp42I/B/wceCQCSHdAoEACxYsYMGCBXzjG99g48aNLF++nGXLX6G6aiVUrYTcQkJFE4mOnkhk1ATbR8EtGsPbXoe3ZRf+1l14OuKL8BaNGs0pZ53Jhz70ISorK8nLs4UKh6ry8nJOPulkXnxjBR+b2kXOIFphYwrP7Srg6KNn2vyDFMpkQpgI7L/MZDXxzXcOICJXA1dDfMZjpng8Ho477jiOO+44rrnmGmpra3n99ddZuXIlr69aRXf9O/HaQ2EZkVHx5BArGAuSlQO5UkK6W/G17sLbspuc9lo0EsTj8XDsrFmctODjzJ8/nxkzZth+ycPIJZ/8JP9YsYIVewKcMeHwJ4duaPSzu0P4109ean1CKZTJhNDbv+L72q9U9R7gHog3GbkdlFPl5eVcdNFFXHTRRUQiEd566y1WrlzJaytXsuW9NeiuNxBfgFBROdFEgtDcUZkOe2iLBPG11uBt3UVOWw10xzsfx5aVMf/cs1mwYAFz586lqKgow4Gaw3XiiSdyxPRpPF29ldMrgofd2vpkVT5jS0v48Ic/nNL4sl0mE0I1MHm/95OA3RmKZVB8Ph8nnHACJ5xwAl/96ldpbm7mjTfeYNWqVby28nUadvwjfmLuKEKjJhAZNYnoqIoRPazVEY3h6diLr6Uaf+tuPB31oEogN5cT586lsrKSefPmMWnSJPsrcIQQET5z+Wf50Y9+xJsNfuaMDQ/4Httavbzd6OPaay+z1U1TLJOdyj7incpnA7uIdyp/VlXfOtQ16e5UTgVVpaqqilWrVrFy5UreeGMNoVAw0bw0Lt68NHoisfzSrOicllAHvpZqvC3xWoBGgogIM2cezYIF86msrGTWrFn4fFk7RWbEi0QifPbyz1AcruV7cwe+fMzdGwp5q30MDz38VwpsUUJHhnynsqpGROR64Bniw05/31cyGK5EhClTpjBlyhQuueQSQqFQT/PSypWvs2XLagK7ViOBAoKjJhIZPWVk1R5U8XTU42uuIqe1GuloAKCktJSTzj2befPmceKJJzJqlDWnZQufz8dln/4Md999N++2+Jgx2vlEtNpOD6/XBbj8sxdbMnCBTUzLsMbGRlauXMmKFSt4beVKuru6EI+XcFEFkTGTiRRPRf3DbJ2lWARfyy58zTvJaa1GQ13xTvnZszn1lFNYsGAB06ZNs2agLNbV1cVln7qUo3Kb+MbxbY6v+8OmApbXF/J///cXSktLXYxwZBnyNQQTV1JSwsKFC1m4cCHhcJj169ezYsUKli9/hZodK2DHivi8h5LpQzs5xCL4WqrxNW4jp6UajYYpKCjkpNNO4ZRTTmHevHlWCzA98vLyuOSTl3L//fezu8PDhIL+J6q1hoTltbl89PyFlgxcYjWEIWzbtm28+OKLvLB0KVU7dwIQLSonVHoUkZLpmW9WUsXbuju+VlBLFRoNU1Q0ijPOOJ0zzzyTOXPmWF+AOaSmpiYuu+xTfKisnS8d09Hv+Y9uzeNv2/N54IEHMjoEfTiyGsIIMH36dKZPn86XvvSlnuTw3PPPs2v7cqTqNYLF0wmXzSRWUJbWDmkJdeDf+y6Bhnehu42CwiLOOn8hZ5xxhiUB41hxcTEf/ehCnnnqCS49spMi/6H/OA1F4YWafE45+WRLBi6y39xhIpkcvvjFL/LWW2/xxBNP8MLSpYT2bkbzS+geP5tI6RGuToTztNcRqFmHr6UKVJk790QuvPACTj31VFtLxhyWSy65hCeeeIKXdwe4YOqh90pYWZdDazA+sc24xxLCMCMizJ49m9mzZ/P1r3+dpUuX8tDDD7Nz28tQs4bu8R8gPHZG6lZnVcXbVkOg5k28rTUUFBZx8ec+x/nnn8+ECRNSU4bJWkcccQRzTjiBFzav5bwp3XgOUdF9fnc+kydN5MQTT0xvgFnGEsIwVlBQwIUXXsj555/PihUreOCBB3nnnX+QW7uOrskLiIyZMqimJE9XM7k7V+BtrWFMcQmXf+1rXHTRReTnD9GObTMsXXjRRfz7v7/JxiYfx5W8fwhqdbuXLS1e/ulzH7eRaS6zhDACeDweTj31VE455RRWr17N3Xf/iu3vPU9k9CS6p5w08CUzohFydq8lULeB/Lw8vnLDDVxwwQXWLGRccdppp1FYkM+ymiDHlbx/18JltQG8Xg/nnntuBqLLLrYq2AgiIlRWVvLb397LddddR0FwL0UbF+Ft2un8Ht2tFG56gkDtOj56zjn86Y9/5JJLLrFkYFwTCAQ448wPs7ohQDB64Gcxhdfq8pg/b74tZ54GVkMYgXw+H5/61Kc4/fTT+f7NN/Pu5ucIjT8uvndDX2IR8mrfJD/Hz60/+Qnz589PT8Am65199tksXryYdQ05zBu3b4vNLa0+GrvhrLPPzmB02cMSwgg2fvx47v6v/+LOO+/kmWeecXTN1GnT+Y//+HcmTpzocnTG7HP88cdTVFjAmr3dBySEN+pz8Ho9nHzyyRmMLntYQhjhAoEA3/3ud/na175GJNL/mjHFxcV4vbZ/tEkvn8/HgpNOZuWy54hpR89oozcbAxx//PEUFhZmNsAsYQkhS1j7qxnqKisree6556ju8DKlMEpLSKhu93Be5bxMh5Y1rFPZGDMkzJ07F4CNTfElWd5p9h9w3LjPEoIxZkgYN24cZaUlbGmNN1y81+Ijx+9nxowZGY4se1hCMMYMGcfMOo6tbTkAbG2LJwNbGyt9LCEYY4aMGTNmUN8pdEegqsPHUVY7SKuMJAQR+YGI7BKRtYnX+ZmIwxgztEyfPh0FNjTl0BWOvzfpk8m62F2q+rMMlm+MGWImTZoEwEu7Awe8N+lhjXPGmCFjwoQJ5OXm8mZDfI0uqyGkVyYTwvUiciWwCviWqjZlMBZjzBAQCAT43z//mebmZoqKimyrzDRzbQtNEXkOKO/lo+8BrwJ7AQV+CFSo6pcPcZ+rgasBpkyZcuKOHTtcidcYY0Yqp1toZnxPZRGZBjyhqrP7Ozfb9lQ2xphUcJoQMjXKqGK/txcDGzIRhzHGmH0y1YfwExGZQ7zJaDtwTYbiMMYYk5CRhKCqn89EucYYYw7NZiobY4wBLCEYY4xJsIRgjDEGGALDTgdCROoBm4iQOmOJzwcxZqixn83UmqqqZf2dNKwSgkktEVnlZGyyMelmP5uZYU1GxhhjAEsIxhhjEiwhZLd7Mh2AMYdgP5sZYH0IxhhjAKshGGOMSbCEkIVEZKGIvCMi74nITZmOx5gkEfm9iNSJiC14mQGWELKMiHiBXwHnAbOAy0VkVmajMqbHfcDCTAeRrSwhZJ/5wHuqulVVQ8D/AR/PcEzGAKCqLwONmY4jW1lCyD4Tgar93lcnjhljspwlhOwjvRyzoWbGGEsIWagamLzf+0nA7gzFYowZQiwhZJ/XgRkiMl1EcoDPAIsyHJMxZgiwhJBlVDUCXA88A2wEHlLVtzIblTFxIvJnYAVwtIhUi8hVmY4pm9hMZWOMMYDVEIwxxiRYQjDGGANYQjDGGJNgCcEYYwxgCcEYY0yCJQST1UTkYhFRETkm8X6aiHx2v8/niMj5fVxfKSK/THx/poicst9n14rIlW7Gb0wqWUIw2e5yYDnxCXoA04DP7vf5HKDXhCAiPlVdpao3JA6dCfQkBFX9b1V9INUBG+MWm4dgspaIFALvAB8GFqnqMSLyKnAssA34M3AdkAfsAm5PfDaBeOLYS3yrx38hPtnvVSAK1ANfB84G2lX1ZyIyB/hvIB/YAnxZVZtE5EXgtUQMY4CrVHWZ6//xxvTCaggmm30CeFpVNwONIjIXuAlYpqpzVPXHwC3AXxLv/5K47kTg46raU5NQ1e3EH/h3Jc49+KH+APAdVT0eWA/cut9nPlWdD9x40HFj0soSgslmlxPfD4LE18sdXrdIVbucFiIio4ExqvpS4tD9wOn7nfJo4utq4jUPYzLCl+kAjMkEESkFzgJmi4gCXuLLgD/p4PKOFIcTTHyNYr+TJoOshmCy1aXAA6o6VVWnqepk4v0GMaBov/PaDnrfl17PVdUWoElETksc+jzw0sHnGZNplhBMtroceOygY48QH20UEZE3ReQbwFJgloisFZFP93PPvwMXJ8497aDPvgD8VETWER+5dNvg/xOMSS0bZWSMMQawGoIxxpgESwjGGGMASwjGGGMSLCEYY4wBLCEYY4xJsIRgjDEGsIRgjDEmwRKCMcYYAP4/Dy5xoZPeHc0AAAAASUVORK5CYII=\n",
      "text/plain": [
       "<Figure size 432x288 with 1 Axes>"
      ]
     },
     "metadata": {
      "needs_background": "light"
     },
     "output_type": "display_data"
    }
   ],
   "source": [
    "sns.violinplot(x=\"Attrition\", y=\"DistanceFromHome\", data=IBM, scale='count');\n",
    "plt.ylabel('DistanceFromHome (km)');"
   ]
  },
  {
   "cell_type": "markdown",
   "metadata": {},
   "source": [
    "___\n",
    "* **Gráfico comparando Atrito na Empresa X Salário Mensal em U$ dos funcionários:**"
   ]
  },
  {
   "cell_type": "code",
<<<<<<< HEAD
   "execution_count": 82,
=======
   "execution_count": 467,
>>>>>>> a083f58117c24ecf875146665f41926c284f5015
   "metadata": {},
   "outputs": [
    {
     "data": {
      "image/png": "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\n",
      "text/plain": [
       "<Figure size 432x288 with 1 Axes>"
      ]
     },
     "metadata": {
      "needs_background": "light"
     },
     "output_type": "display_data"
    }
   ],
   "source": [
    "sns.violinplot(x=\"Attrition\", y=\"MonthlyIncome\", data=IBM,scale=\"count\");\n",
    "plt.ylabel('MonthlyIncome (U$)');"
   ]
  },
  {
   "cell_type": "markdown",
   "metadata": {},
   "source": [
    "___\n",
    "* **Gráfico comparando Atrito na Empresa X Renda por hora em U$ dos funcionários:**"
   ]
  },
  {
   "cell_type": "code",
<<<<<<< HEAD
   "execution_count": 83,
=======
   "execution_count": 468,
>>>>>>> a083f58117c24ecf875146665f41926c284f5015
   "metadata": {},
   "outputs": [
    {
     "data": {
      "image/png": "iVBORw0KGgoAAAANSUhEUgAAAYgAAAEKCAYAAAAIO8L1AAAABHNCSVQICAgIfAhkiAAAAAlwSFlzAAALEgAACxIB0t1+/AAAADl0RVh0U29mdHdhcmUAbWF0cGxvdGxpYiB2ZXJzaW9uIDIuMi4yLCBodHRwOi8vbWF0cGxvdGxpYi5vcmcvhp/UCwAAIABJREFUeJzt3Xl8VPW9//HXZ/bshIRAQoCwpLKJqAEV96p1Aa221ValUvWntS63eu21i/d2sbe37e1te1ultdZW0Vq1V63igq1FWWUVkR1E9jUJIWSf9fv7YyZsHUJIzswJcz7Px4MHmTOTcz6aMO/5fs93EWMMSiml1NFcdheglFKqZ9KAUEoplZQGhFJKqaQ0IJRSSiWlAaGUUiopDQillFJJaUAopZRKSgNCKaVUUhoQSimlkvLYXUB3FBcXm4qKCrvLUEqpk8oHH3xQa4zpc7zXndQBUVFRwdKlS+0uQymlTioisrUzr9MuJqWUUklpQCillEpKA0IppVRSGhBKKaWS0oBQSimVlAaEUkqppDQglFJKJaUBoZTq8WKxGLo9cvppQCilerR58+bx6U9/mh8+8ojdpTiOBoRSqkf7+OOPAVi7do3NlTiPBoRSqkdrbGwEoLm52eZKnEcDQinVo9XX1wPQ2NRMNBq1uRpn0YBQSvVo+/fXAWCM4cCBAzZX4ywaEEqpHq2muhq3xEcw7du3z+ZqnEUDQinVYxljqKmpYVh+BIC9e/faXJGznNT7QajuC4VCvPrqq7S1tR08NmbMGMaOHWtjVUrF1dXVEQyFGVEWZv0BL7t377a7JEfRgHC4N954g9/85jdHHMvJzeP//vIi2dnZNlWlVNyuXbsAGJofIcsr7Ny50+aKnEW7mBwsFArx3J+fJ5bXl8aqr9BY9RWaR0yiuamR1157ze7ylGLbtm0AlOZEKc2KHHys0kMDwsGefvpp9tXW0FZ2OogLxEUst4RoQTlPT5umzXlluy1btuB1Q3EgRll2mC2bPrG7JEfRgHCoFStW8PzzzxMqriSaX3bEc62DJhAKR/nxj39CJBKxqUKlYOPHHzMgJ4pLYGBulLr6A9TV1dldlmNoQDjQ1q1b+fZ3HsYE8gkOGP9Pzxt/Li0Dz2bFio/42c9+poukKVvEYjE+/ngDg3LDAAzKi39YaV96Q6WeBoTDbNu2jQe/8Q1aQhGahl0GHn/S10WKKwmWnc7f/vY3Hn30UZ3BqtJu+/btNDW3MCQxxLUiL4IIrFmjazKliwaEgyxfvpyvfe1u9h1oomnYZzCB/A5fHyobS6jvKF555RW+973vHTEUVqlUaw+CYQXxgMjyQHlujNWrVtlZlqNoQDhANBrlhRde4MEHH6Q55qFx+CRiOUXH/0YRggPPom3gWcybN4+7vnY3mzZtSn3BShH/QJPrE0qzD7VeT8kPsWrVSr03liYaEBlu9+7d3P/AAzz++OME8/vTOHwixp93QucI9x1FS+VlbN25mzvuvJMXX3yRWCyWooqVis+g/nDZBwwvaMMlh44PLwzTFgyxfv16+4pzEA2IDNXW1sa0adOYMuUrrFqzjtbB59M69JJj3nM4nmivATSOvJZgbhm//e1vufOrX2XlypUWV61U3Pbt26muqWVUYfiI4yMKwwiwZMkSewpzGA2IDBOLxXj33XeZ/OUv89RTT9GcU0rjyGuJFFeCyPFP0AHjzaJ12CW0DrmQjdt2cd999/GDHzzCnj17LKpeqbj2ABjd+8iAyPMaBudHWbx4kR1lOY4utZEhYrEYc+bM4emnp7Fly2ZMThGtp1xJNL/U2guJECkaSmOvgfj2rGTW7DnMmTObK664gsmTJ1NaavH1lCMtWPA+/XIMfbP/uStzTO8gr61dR319Pb169bKhOufQgDjJRSIRZs2axbRnnmX7tq2Q1YvWwRcQKRoSnx2dKm4vof5nEC7+FL49K3lzxtvMmPE2l1/+GW688UYGDhyYumurjNbS0sJHy5dzaWnyUXOnF4d4dUs2Cxcu5Iorrkhzdc6iAXGSamho4I033uDll19h375aTHYhbUMuItK7IrXBcBTjzyU46BxCpWPw7V7J2397hxkzZjD+rLO44frrOfPMM5Fudm0pZ1m0aBHhSJQz+oSSPj8oL0phAObNm6sBkWIaECeZTZs28dprrzFjxtuEQkGi+aUEKy8lWjCg2/cYusP4cggOOptQ2Wl4q9ex5MMVLF60iEEVFXzh85/nkksu0dVhVafMnTuXPB9UFiQfyuoSOLOojbmLF9Pa2kpWVlaaK3QODYiTQDAYZPbs2bz62musWb0aXG7CvYcQ6juKWHZvu8s7gvFmEep/OqHSU/HUbWbL3tX8/Oc/Z+pvfsMVl1/O1VdfzdChQ+0uU/VQwWCQBe/PZ3zRkcNbj1bVJ8g/dgZYvHgxF154YfoKdJiUBYSI/BGYBFQbY0YnjvUGXgQqgC3ADcaY/RLvg/gVcBXQAnzFGLMsVbWdLDZv3sxbb73FWzPeprmpEbIKaBswjkhRJcYbsLu8jrk8RIoraSoahqupmnDNOl6b/jqvvvoqI0aO5Jqrr+aiiy7ST3/qCB988AGtbUHGlSTvXmp3Sq8IeT6YPXu2BkQKpbIF8TTwGPDMYce+Bcw0xvxERL6VePxN4EqgMvHnLOC3ib8dp6Wlhffee4/X33iDdWvXgstFuGAg4VPOJZpXams3UpeIEMvrS1teX9oiZ+Gt3cjazRtY+9Of8qtf/ZpLL72EiRMnMnz4cL1XoZg1axY5Phh51PyHo7ldcGZxGwven08wGMTv79r8HtWxlAWEMWaOiFQcdfizwEWJr6cBs4gHxGeBZ0x82dCFItJLREqNMY7YkMAYw+rVq3nrrbeYOfNdgsE2TFYvggPGEykaivFmyKdsT4Bwv9GE+47C3bSXcO3HvDnjb7zxxhsMqqhg0sSJXHbZZTp00aHC4TDz583l9N5teDoxzmJcnxCzdgVZsmQJ5513XuoLdKB034Po2/6mb4zZLSIlieP9ge2HvW5H4lhGB0RdXR1///vfeePNN9mxfTvi9hIsHEx4yKeI5fRJa2vBv20hAMGBZ6f+YiJE8/oRzetH28Cz8O7bxObaj5k6dSqPP/445513HldddRVVVVW43e7U16N6hGXLltHc0sq4YUd2L/1pQ3xww+RPtRxxfERhmBwfzJkzRwMiRXrKTepk74RJNyEQkTuBO4GTcqx9LBZj6dKlvP7668yf/z6xWJRYXl+CFecR6T0Y3F5b6nK12LQJi9tHuGQ44ZLhuFr2463dwJz3FzF79myKivtw9aSJXHXVVZSUlBz/XOqkNnv2bLI8/zx7eltT8rcpjwtO793G/HlziUQieDw95e0sc6T7/+je9q4jESkFqhPHdwADDntdObAr2QmMMU8ATwBUVVWdNDvZ1NbWMmPGDKa//jo11dWIN0CwZATh4k8Ry9IuFYBYdiHBgWcRLK/CU7+NvbUbePrpp5k2bRpnnXUW11xzDePHj9c3ggwUjUZ5f95cTusdxHsC03jO7BNi3p5Wli9fTlVVVeoKdKh0/0ubDkwBfpL4+7XDjt8rIi8Qvzl9IBPuPxhjWLlyJa+88gpz5swhFosRzS8jNPQiIr0GgUu7T5JyuYn0Hkyk92Ak2Ii3ZgMLl61g4cKFFPfpw+euu46JEydSUFBgd6XKIqtXr6a+oZEzBnQ8eulop/YO43fDvHnzNCBSIJXDXJ8nfkO6WER2AN8jHgx/EZHbgW3A9YmXv0V8iOtG4sNcb01VXekQDAaZOXMmL738Mps++QTx+An2GUmoZPhxN+lRRzL+PELlZxIqOx3PgW3srV7LE088wVNPPcWll17K5z//eYYNG2Z3maqbFixYgFvgtKKORy8dzeeGUYUh3p8/j69//es6Es5iqRzFdOMxnrokyWsNcE+qakmXlpYWpk+fzgsvvkj9/v2Y7N4EB00gXDTUtnsLGcPlIlJYQaSwIn6vonoNb/89vqzHuHHj+fKXJzNmzBi7q1RdtOD9+ZzSK0yW58R7jccWh1i2rpbNmzczZMiQFFTnXNqZa4HGxkZeeuklXnrpZZqbm4jmlxE85ayTc97CSSCWXUiw4lyC5VX4qtex9KOVLFnyL4waPZopt9zCuHHj9JPkSaS6upotW7dx47AT615qNyZxU3vJkiUaEBbTgOiGcDjM9OnTeerpp2lqbCRSOJDgwIuJ5faxuzRn8PgJlZ1GqO8ovLUbWP3xKh566CHOOOMMvva1r1FZWWl3haoTPvjgAwBG9T6x7qV2vQMx+ufGWLJ4MV/84hetLM3xNCC66P333+fRRx9j9+5dRPPLaBv56c7t86ys5/YQ7juScJ9T8Nas48OVH3HHnXdy+Wc+w1133UVhYaHdFaoOLF++nDwfDMiJHv/FxzCiV5C5ib2qdZSbdXRHuRPU0NDAj370I77zne+w60ArLZWX0fKpyzUcegKXm3DfUTSM/jzBvqP5+zv/4JYpU5g1a5bdlakOLP9wGcMLgt3qjR3RK0JQ96q2nAbECVi2bBm3TPkK7/xjJsGysTSNuIZoL3uX2VZJePyEBoyjaeQ1HIj6+P73v88PfvADWlpajv+9Kq1qa2vZW11DZa/kS3t3VmVBvHtq9erVVpSlEjQgOmn69Ol84xvfYH/Q0DziakL9z9B5DD1cLKuQ5hGTCPY/g/dmzeLue+5l7969dpelDrN27VoAhuZ3LyB6+Q3FWbBmzRorylIJGhCd8Pvf/55f/OIXhPLKaBo+UbuTTibiIlQ2lpbKy9i6fQd3fvWrbN682e6qVMKGDRsQgUG53QsIgMG5QT5ev86CqlQ7DYjjeOGFF3juuecI9fkUrZWXgttnd0mqC6IF5TQNn8iBlhDf+Ma/UV1dffxvUim3ceNGSnMMPgsa4wNzo+zcvUe7Ei2kAdGBOXPm8PjjjxMuHExw0IS07vWsrBfLKqS58jLqDjTwjX/7N4LBoN0lOd6WzZsoz+7a/Iej9c+Nj4Latm2bJedTGhDHVFdXx3//7GfEcoppG3KBhkOGiGUX0TzkIrZt3cqTTz5pdzmOFgwG2bO3mrLsrg9vPVxZdrybauvWrZacT2lAHNPUqVNpbm6hdfD5ejM6w0QLygmVDOf/XnpJh0XaaM+ePRhj6GdRQJRkxRBg166kC0GrLtCASGLLli3MfPdd2kpGEsvSSVaZKFhehXj8PPXUU3aX4lh79uwBoE9WzJLzeVzQO0sDwkoaEEm88MILiMtDuN+pdpeiUsXto61kJAsXLmTTpk12V+NI7QMFevutCQiA3r4ItbU1lp3P6TQgjtLc3My7775HsPcQjDdgdzkqhcJ9hoPLxYwZM+wuxZFqa2sRoMBnXUAU+qPU6Ag1y2hAHGXevHmEQkHCxbrQW6Yz3gDhggH87e/vEI1a0w+uOm///v3k+ASPhe9C+b4Y9fX11p3Q4TQgjjJnzlzw5xLL0RVZnSBSOJiGA/U6A9cGBw4cIN/C1gNAvtfQ1NxCJNL9iXdKA+IIwWCQJUuWECoo1/WVHCLSqxxcLt5//327S3GcxsZGctzWttxyvPENh5qamiw9r1NpQBxmxYoVhEJBIgUD7C5FpYvbRzS3L+8vWGB3JY7T1NhAlsfaFkS2O34+DQhraEAcZtGiRYjLQzS/1O5SVBqF88vZumWLLr+RZq2tLQTcJ77FaEcCiS1LW1tbLT2vU2lAHGbBwoWE8/qCSzcccZJoQTkAixcvtrkSZ2lrbcNvcUD4E3NaNSCsoQGRsHPnTnbu2EEk8WahnCOW1Qv8uSxcuNDuUhwlFArhtfgdyOuKB0443LXtS9WRNCASFiT6oPX+gwOJEMovZ8mSpbqAXxqFI5GDb+hWaR8yGwpZswCg02lAJMybPx+yCzGBfLtLUTaI9BpAMNjG8uXL7S7FMSKRKB6LBwu6JR44Oq/FGhoQxIfbrVixgmC+di85VTS/FHF7mT9/vt2lOEY0FsUl1rYg3InA0XkQ1tCAID56KRaNEikcZHcpyi4uD6G8MubNn48x1r5pqeRMzGD1bCOdvWQtDQhg/vz5iC9LZ087XKRwIHX79ukS4Olk8Tt6+/zWWMza+RVO5fiAiEQiLFq8ON69pLOnHS2aGKCgo5l6jj9tyGZro5utjW7+a1k+f9qQ3anvE/23bAnHB8SaNWtoaW4++OagnMt4A8RyS3RWdTodpzdvW5OH1qiL1qiLdfVetjV1PEdJewet1eH/bREJAJOA84EyoBVYBbxpjFmd+vJS74MPPgARIg6ePe3fthB3yz4Asta9RSy7N8GBZ9tclT3C+WV8vOEjGhsbycvLs7ucjCYuOV4+dP3c2oKwxDFbECLyfWA+cA6wCPgd8BcgAvxERN4RkTHpKDKVli//iFh2EXj8dpdiG1dLHRINI9EwnsY9uFrq7C7JNtG8UowxrFy50u5SMp4gWH2buv3OgwaENTpqQSwxxnz/GM/9QkRKgIHWl5Q+0WiUdevXEcmvsLsU1UNEc4pBhPXr1zNhwgS7y8lo4hLru4QS53O5HN97boljBoQx5s2OvtEYUw2c1Kub7dmzh2BbG7F+RXaXonoKtxeyCvjkk0/sriTjuUSweqyRjl2yVocxKyKjRKRP4usiEXlSRF4QkZHpKS+12jc3jwUKbK5E9SQRbx47duy0u4yMJyLHvUl9otpbJG6329oTO9Tx2mGPH/b1j4A9wF+BP3bnoiLygIisFpFVIvK8iAREZLCILBKRj0XkRRHxdecanVFXF+9rj3k7N3ROOUPMl82+Oufeh0kXSUELQgcxWaujm9TfA4YBX0t8fR3gBoYD5SLyXRG54EQvKCL9gX8BqowxoxPn/BLwU+CXxphKYD9w+4me+0QdXBLY7U31pdTJxO2lrbXF7ioyXipvJOtNamscMyCMMT8g3mL4MzATWGWM+Xbi+GZjzCPGmDldvK4HyBIRD5AN7AY+DbyUeH4acG0Xz91ph36J9HOHOoxBJ00qxXHmQQCPAHOAMPFP+YjIKKC2qxc0xuwUkf8BthGfV/F34AOg3hjTvsLWDqB/su8XkTuBOwEGDuzeIKqsrKz4F9EwaCNCtYuFD/1uqJQxxvq1mA4/t+q+Du9BGGP+aowpM8YMMsYsSBxbbYy5rqsXFJFC4LPAYOKT73KAK5Nd/hg1PWGMqTLGVPXp0721k0pKSgBwBRu7dR6VWVzBRvr162d3GRkvlQGhrHHMFoSInHHUIQPUGmO2d/OalxLvoqpJXOcVYALQS0Q8iVZEObCrm9c5rkGD4qu3ulr3H9x2UjmcMXiDB6gYNNruSjJeLGZwWZwQ7efT/SCs0VEX08+THOudGF10ozGmqzurbAPOFpFs4l1MlwBLgfeALwAvAFOA17p4/k4rLCykX2kpOxr3EO53aqovp04CEmzABJsZNWqU3aVkvFTuB6EBYY2OJspdnOy4iFQBvwZOeART4ryLROQlYBnxZTs+BJ4A3gReEJH/TBz7Q1fOf6LGjxvH3rdm0BqNgPt4t2RUpvPU7wCgqqrK5koyWywWIxqNHdwi1CqeRODohkHWOOEfjzFmKZDbnYsaY75njBlujBltjPmyMSZojNlkjBlvjBlmjLneGJOWzYEvvvhiTCSMp35rOi6nejh/3UaGVVbSv3/SMRLKIu1v4B6LWxDtgRMOhy09r1OdcECISF8yaFzoaaedRknffvhr1tldirKZq6kGad7HVVcmGzOhrBQMxj//eS2e8Ox1xd+aQqGQtSd2qI5uUj/KPwdBb+I3lL+eyqLSyeVyccP1X+Cxxx7D1VRNLLfE7pKUTXx7VpCdk8MVV1xhdykZrz0gfC5rP2v6EoHT1tZm6XmdqqMWxFLi8xPa/ywFngfONsa8noba0uaqq64iNy+PwK4P7S5F2cTVvA/v/q187rrryM7WpVdSrf0NPOC2NiD8icDRgLBGRzepp6WzEDtlZ2cz5ZZbmDp1Ku4DO4kWaP+z0wR2LiUnJ5cvfvGLdpfiCO3L3PgtDgi3K95t1dKiS6VYoaO1mF4XkatF5J/mGIvIEBF5RERuS2156fPZz36WkpK+ZO1YAkYXDXYSd/123Ad2MmXKLbqLXJo0NzcDkGVxQABkeUQDwiIddTHdQXyr0XUiskRE3hKRd0VkE/Hd5T4wxnRrVdeexOfzcd999yItdXir19pdjkqXWJTsHYvpX17Oddd1eYEAdYLa38ADnhQEhNscDCDVPR11Me0BHgIeEpEKoJT4xLYNxpiMjOfzzjuPM6uqWLb8QyK9B2N0GfCM59uzEloP8MD9/4HXqwtypUtTUxMA2SkIiGxPVFsQFunUMFdjzBZjzAJjzPJMDQeIr+76wP334yKGf9tiu8tRKSZtDQR2r+Ciiy7SiXFplsqAyHJHaWxssPy8TqQbtx6lvLycm2+6CW/dJtwNu+0uR6VQYPsifD4P99xzj92lOE4qAyLHY2hs0ICwggZEEjfddBN9SkrI2r5Ib1hnKHf9djz127n1K1+hu6sCqxPX2NiI3yOWL7UB8dBpatQVmq3QqR+PiGSJyCmpLqanCAQC3HP33UhLHZ7ajXaXo6xmYmTtXEppaRmf//zn7a7GkRobG8nxpmZBhmyvoak5Y3vC0+q4ASEiVwPLgbcTj8eKyPRUF2a3Cy+8kOEjRpC1+0OI6cqQmcSz7xOkZT9f/eqdemPaJo2NjWS7U9M6z/EYQuHwwdnaqus604L4PjAeqAdILPNdkbqSegYR4fbbboNgM9592orIGMaQtWclFYOHcOGFF9pdjWM1NTWR407NB68cT+zgNVT3dCYgIsaYAymvpAeqqqpi2LBK/NVrQLcwzAjuhp3QWs+XJ9+sG9vbqKmxgawU3KCGQze+NSC6rzMBsUpEbgLcIlKZWMTv/RTX1SOICNdcczXSsh9Xyz67y1EW8NZuJCc3jwsu6NJ2Jsoizc3NKRnBBIcCQifLdV9nAuI+YBQQBP4MHCCDVnM9nosvvhiXy4Vnv+4XcdKLxfAd2M6nL75I7z3YLJUBEdCAsExnAmKiMeZhY8y4xJ9/B65JdWE9RV5eHpWVn8LTtNfuUlQ3uVpqMdEwZ555pt2lOF5ra1tKltmAQ+s76Wzq7utMQHy7k8cy1qhRI/G07NP7ECc5d0sdACNGjLC5EmcLhUJEolHLl/pu1x48GhDd19GGQVcCVwH9ReTXhz2VT3wvaccoKSnBRMMQDYHHb3c5qosk1IzL5aK4uNjuUhytfa8Gq5f6btcePLonRPcdMyCAXcQ3CbqG+IZB7RqBB1JZVE+TmxvfgluiYYwGxElLomH8gQBut8X7XKoT0v7GbfVucu3ag0fnQXRfR6u5fgR8JCJ/NsY4egfwaDQxXtulK5Oc1MRFNKKTHu3W/sadqhaE13XkdVTXddSCaFchIj8GRgKB9oPGmCEpq6qH2b9/PwDGra2Hk5nx+AmFgrS0tOi2ojZqf+P2pujzlkviO8tpQHRfZ35ETwG/JX7f4WLgGeDZVBbV0+zcuRMJ5IIrQ7smoiECgQBf+MIXCAQC8XstGSgWiO8Wt2vXLpsrcbZQKP775e1EF1NrRI743WyNdG5yo88lB6+juq4zAZFljJkJiDFmqzHm+8CnU1tWz7J6zRrCgUK7y0gZiYSYNGkS9957LxMnTkQimfkPK5pdBMC6detsrsTZIpH4GJfOrOTaEpEjfjdbOhkQHjcaEBboTBdTm4i4gI9F5F5gJ1CS2rJ6jrq6Onbt3Em0PHPHzhuPjzfeeANjDG+++SbGk5ndL8afj3iz+Oijj5g0aZLd5ThWOBy/pdmZFkS2xxzxu9m3k3MnvK5DQaS6rjMtiPuBbOBfgDOBLwNTUllUT7Jo0SIAIvnlNleSQm4fbW1tvPzyy/ERJm6f3RWlhgihvFIWLlpMLKb7fNil/Y3b3YnGQJbHHPG72dn1m9xiDgaR6rrjBoQxZokxpskYs8MYc6sx5nOAY7Zamz//fcSfQyy7t92lKAtEeg2gseEAa9assbsUx2p/4/akaJgrxMNHWxDd12FAiMg5IvIFESlJPB4jIn8G5qWlOpu1tLSwcOFCggWDQFf+zAiRXgMQl5tZs2bZXYpjnUgLoqs8YjQgLHDMgBCRnwF/BD4PvCki3wPeARYBlekpz17z588nEgkT6V1hdynKKm4fofz+zHz3Xe1mssnBm9SSwhaESwPCCh3dpJ4InG6MaRORQuIzq8cYYz5OT2n2mzlzJvhzieb2tbsUZaFI7yHs3zSLFStWMHbsWLvLcZyDLYgUzjv1SEwDwgId/YhajTFtAMaY/cB6J4VDY2MjS5YsIdSrQruXMkyk1wDE7eW9996zuxRHOnQPInXX8KAtCCt09CMaKiLTE39eJz6juv1xxu9JvWDBAqLRKGHtXso8bi+h/P7Mmj370DIqKm0OBkSKu5hCIZ1J3V0ddTF99qjH/2PVRUWkF/AkMBowwG3AeuBF4vtdbwFuSLRcbDFv3jzw5xDL6WNXCSqFIoWDOLBpC+vWrWPUqFF2l+Moh2ZSp+4aXhe06kS5bjvmj8gYM9sYMxvIA+a2Pz7seHf8CnjbGDMcOA1YC3wLmGmMqQRmJh7bIhKJsGTJUkJ5/bV7KUNFCspB5OA8F5U+6Rjm6nUZwhoQ3daZDP8S8VnU/y0i3d5pRUTygQuAPwAYY0LGmHriLZZpiZdNA67t7rW6auPGjbS2thDNL7OrBJVqHj+x7GI+XL7c7kocJxwOI4AnhZ+9vC5dasMKnZkoNxk4HfgEeEpEFojInSKS18VrDgFqEuf6UESeFJEcoK8xZnfimrs5xnIeiWsvFZGlNTU1XSyhYytXrgQgmqejlzJZJLeEdWvX6ozbNAsGg3jdqW2ce11GV3O1QKd6AY0xDcDLwAtAKXAdsExE7uvCNT3AGcBvjTGnA82cQHeSMeYJY0yVMaaqT5/U3B/YtGkT4s/G+HJScn7VM0RzigmHw+zcudPuUhwlGAziS+UsOcDngqC2ILrtuAEhIleLyF+BdwEvMN4YcyXxewff6MI1dwA7jDHtnb8vEQ+MvSJSmrhmKVDdhXNbYvPmzYT9BXZdXqVJLNALgC1btthbiMOEQiF8KdosqJ3PbQgGNSC6qzOKbn7RAAAZ30lEQVQtiOuBXxpjxhhjfmaMqQYwxrQQH310Qowxe4DtInJK4tAlwBpgOocWAZwCvHai57bK3upqYr5cuy6v0iTmj/+MU9VVqZJra2vDl+LNGX0uQygcxpjUBlGmO+5y38aYWzp4bmYXr3sf8JyI+IBNwK3Ew+ovInI7sI14MKWdMYYD9fWYvhm8equKc/vA5aaurs7uShwlGAzic6V2mZPD96UOBALHebU6lmMGhIg0Ep+j8E9PAcYYk9/VixpjlgNVSZ66pKvntEo4HI6v0ePy2l2KSjURxO2JL3Gu0qatrQ1/igPCl9j8UQOie44ZEMaYro5SOqm1j2gxrhS3gVXP4HLrcMg0a2trxZvqgEjMsWhra6OgQO8ndtXxlvt2iciqdBXTE7jd8Y8eon2XzmAMHk9nNlZUVgmm4R5E+251OtS1ezr8MRljYsBHIjIwTfXY7uCbRUzX6HGEWBSvV7sT0ykUDKZhFFP8bw2I7unMR6dSYLWILCY+ZwEAY8w1KavKRh6PB5/PTyimk6cynjGYSIicHJ3vkk6hUCil6zDBoRaEdh92T2cC4gcpr6KHyc7JoSmiv1gZLxr/EKABkV6hcBhPILUtCK9oQFihM8Ncu7sw30mnID+fmgPaNM10EomPXsrP7/KAPNUFkUgkpXtBwKHNiHQ59+7pzEzqRhFpSPxpE5GoiDSkozi7FBTk44pqQGQ6icY/XeblOXLAnm2i0SjuFO4FAYf2u9aA6J7OtCCO+NcjItcC41NWUQ+Qn5+PO7rD7jJUirW3IDQg0ssYk/JV9NvPrzOpu+eEG3rGmFeBT6eglh4jJycH0ZvUGU8S9yByc3VZlUwjiTm+sVhq51tkuuO2IETkc4c9dBGfAZ3RsZyVlXXwBqbKYLH4nsVZWVk2F+IsIkKqP9jHTLwJ0T6vSXVNZ0YxXX3Y1xHi24EevR1pRnG73WD0k0emk8TPWN9E0svtdhM1qe1jiiUCyKUrInRLZ+5B3JqOQpRSzuDxeIik+PNX+/l1EmT3dGYUU7mI/FVEqkVkr4i8LCIZvdRpKBQCly6/kOmMxFsOOlY+vXw+H+FYalsQ7ef3+XwpvU6m60z76yniezWUAf2B1xPHMlZLSwu4NSAynjv+6bK1tdXmQpwlKyuLYDS1AdGWOL/eX+qezgREH2PMU8aYSOLP00Bq9vrsIfbv30/ErUsEZ7qYJ/4z1v0g0is7O4fWFE9P0ICwRmcColZEJouIO/FnMrAv1YXZaW91DTGv/mJlOuPLBqC2ttbmSpwlNy+P1mhqBwa0ROIBoXNcuqczAXEbcAOwB9gNfIEubDV6sojFYlTv3YPx6S9WpjPeHBBh9+7ddpfiKHl5eTRFUhsQTWHB5XKRnZ2d0utkus6MYtoGZOTKrcnU1tbGd5UL6Po8Gc/lgkAeO3futLsSRykoKKAp1Ll7EANzI2xtjIfJoLwoA3Mjnfq+xrCLgvxcJNVTtjNcR1uOPkoHE+KMMf+Skopstm3bNgBiAd2Fygkivny2bN1qdxmOUlhYSGvEEIoe2rfhWCZ/qoVtTfG3qe+c0fkl4BpDLnoV9OpOmYqOWxBLD/v6B8D3UlxLj7B9+3ZAA8IpYoECduz4mFgsppOq0qR3794AHAi56JOVmgkR9WEXRX1KUnJuJ+loT+pp7V+LyP2HP85kO3bsQNxejN6kdoRYoIBwKERtbS0lJfqGkg5FRUUA1KcyIEIehiWuo7qusx+ZMnrtpcPt2bOHmD+PlC832YPEsntj3F6M20skrx+x7N52l5Q2MX98MMKePXtsrsQ5+vSJj5LfH0xNiy1moL7t0HVU1+lssKNUV1cT9Tpr5ENw4Nm4WuJzAVqHX2VzNenVPtS1pqbG5kqco/2Ne19bagKiISREDRQXF6fk/E7S0U3qRg61HLIP2yRIAGOMychhPo1NzRidJOcYxu0HErPnVVrk5uaSFfCzry01M9hr2+J3vrXLsPs6ugfhyIkA4XAIXLpHsVOYxI1pXY8pfUSEkpIS9rU0puT87S2Tvn37puT8TqLDNo6ie0E4S/umQbokQ3r1Ky2jNpiaHu5aDQjLaEAcpXdhIa6wLt7mFJL4WffqpWPm06m0tPRgV5DVatrc5OVk606BFtCAOMqQIUPwtNbphkEO4W6JLys2ePBgmytxln79+tEcNjSHrR8tWNvqol9pmeXndSINiKOMHDkSEw3jas7o9QhVgrthD/kFvejXr5/dpThKaWkpADUpGMlUE/RSWqYBYQUNiKOcc845uD0evHWb7C5FpVo0jK9hOxdfdKGu2ZNmZYk38JpWa7uZYgZqWoX+/ftbel6n0oA4Sl5eHudOmIC/biNEdGRLJvPWbMBEI3zmM5+xuxTHaW9BVLda+xZUH3QRiaEtQotoQCRx8803Y8JBfHtX212KSpVohKy9Kzlt7FhGjRpldzWOk5ubS35eLtUWtyDaA0dbENawLSASmw99KCJvJB4PFpFFIvKxiLwoIrZtJnvKKadw/vnnE9i7Cmnr/AqS6uTh3/UhJtTC/7v9drtLcaz+/cvZa3FAtJ+vTO9BWMLOFsTXgbWHPf4p8EtjTCWwH7D1X+59992H3+cha+t8MI5ZisoRXE01+PauYuLEiZx66ql2l+NY/cvLqW7zWnrOva1uPG63zqK2iC0BISLlwETgycRjAT4NvJR4yTTgWjtqa1dSUsK999yDu2E3vt0f2VmKslIkSM7mWRQVFXPXXXfZXY2j9e/fn32tELJwf+q9LS769euLx6PLzFnBrhbE/wIPAe2TDYqAemNM+3ZROwDbOxEnTpzIpZdein/nMtz12+0uR3WXiZG1aTbucAv/+cNHdL9imw0cOBADlt6H2N3qZeCgCsvO53RpDwgRmQRUG2M+OPxwkpcm7dcRkTtFZKmILE31CpwiwoMPPsiQoUPJ2TRL50aczIzBv3UBngM7eOCBBxgxYoTdFTleeXk5ALtbrAmImIm3IAYMGGDJ+ZQ9LYhzgWtEZAvwAvGupf8FeolIe7uwHNiV7JuNMU8YY6qMMVXpWO89KyuL//7pTynq3Yvcje/oTeuTlG/Xcnw167n55puZNGmS3eUo4i0IgF3N1gRETauLcAwGDRpkyfmUDQFhjPm2MabcGFMBfAl41xhzM/Ae8IXEy6YAr6W7tmMpLi7mf372M3L9HnI3vI0Em+wuSZ0A7+6V+Hd9yOWXX87tOmqpx8jKyqJvSTE7LQqIXYmWiAaEdXrSPIhvAv8qIhuJ35P4g831HKGiooJf/OLnZHsMuRtmIMHULFWsrOXds5LAjiVcfPHFPPTQQ7rvdA8zeMgwdrRYM5Jpe1O8A0LX1bKOrf9ajDGzjDGTEl9vMsaMN8YMM8Zcb4wJ2llbMpWVlfzi5z8nx23IXf8W0nrA7pLUsRiDb+eHBLYv4aKLLuLhhx/G7U7N6qGq64YOHcru5njXUHdta3LTr6QP2dnO2hEylfTj1AkaPnw4v/71r8gPeMlb/yauJt2qsscxMfzbFh3sVvqP//gPHfbYQ1VWVhI1WNLNtK3ZR+Upwy2oSrXTgOiCoUOHMvWxR+nTuxe5G2boENieJBYh8MksfNVruOGGG/jmN7+pLYcerLKyEoDNDd0L8NaIsLdZDp5PWUMDoosGDBjAb38zlSGDB5O98R9496zWGdc2k1ALOetn4N2/hbvvvpu7775b7zn0cGVlZeTl5rCpmwGxqcGNAR2+bDH919MNRUVFPPrrX3HeuecS2L4I/5Z5EIsc9/uU9VzNteSue52scCM//OEPueGGG+wuSXWCiDBy1Cg2NnZv6bVPGuI3uocP1y4mK2lAdFN2djaPPPIIt9xyC77aj8ld95bOlUgnY/BWryVn3ZsU52czdepjnH/++XZXpU7A6NGnsrPJRVM3dpdbX++hYtBAnR1vMQ0IC7hcLm677TZ+9KMfkUMreWtfx1O32e6yMl8kSGDTLAJbFzB+XBV/ePJJhg0bZndV6gS1L5i4ob5r3UzRGGxs8DHmtLFWlqXQgLDUueeeyx+efJLKoRVkffIegU1zdNOhFHE37CJvzWv467dyxx138JMf/5iCggK7y1JdMGLECHxeL2vruzYfYkujh9YInH766RZXpjQgLFZaWspvpk5lypQp+PdvIm/Nq7gP7LC7rMwRDePfupDs9W9TVlzAb37zG26++Wa9GX0S8/v9jD51NKv3+7v0/av3x4Nl7FhtQVhN/1WlgMfj4dZbb+XRRx+lf59eZG/4O4FPZiHhVrtLO6m567eRt/qv+GrWct111/HHP/xBb0pmiHHjxrOjyUVd8MTfklbW+Rg2dAiFhYUpqMzZNCBSaNSoUTz1xz8yZcoUAge2krf6FbzVa8FYMG3UQSTYSNbGmWR//A8GlRYz9bHH+PrXv04gELC7NGWR8ePHA7By34l1M7VEhI0HPIwbf1YqynI8DYgU8/l83Hrrrfzxj3/ktFEjCGxdQO6a6bgbdttdWs8XDePbsZS8Va+Q3byHO+64gyd//3vdQzoDDRkyhD5FvfnoBANiVZ2XqIFzzjknRZU5m64/kCaDBg3il7/8JXPnzuWxx6ZSvX4GkV4DCJZXEcvSpvERTAxvzQaydi/HhFq45NJL+epXv0o6lndX9hARzp5wLu/MeINwrAlvJz+6Lq/1kpeTw8iRI1NboENpQKSRiHDBBRdw1lln8dJLL/GnPz2HZ/WrhIuGESw7HePPtbtEexmDZ/9WsnYtg9Z6Rowcxd13f43Ro0fbXZlKg3PPPZfXX3+dtfu9jCkKH/f10RgsrwtwzoUTdK2tFNH/qzbw+/0HN6557rnnePmVV/DVbSJYfAqhsjEYr8NWozQG94EdBHZ9iKu5lgEDBnLXXf/GhAkTiG9Xrpzg9NNPJ+D3sazWd0RADMxNvjrBxgYPTSGYMGFCukp0HA0IGxUUFHD33Xfzuc99jmeeeYa3334b/74NBPsMJ9TvVIw3y+4SU8sY3I27CexchqupmpKSvtx67ze57LLL9BOhA/n9fsaNP4sPl8zlFtOMK/HZYPKnWpK+/oMaH16Pm7PO0hvUqaL/CnuAfv368dBDD3HTTTcxbdo0/vGPf+CvWZ8IitFpCYpYdu+UX+MgY3A37CKwezmuxr0UFRUz5c5/5corr8TrtWbzGHVyOv/885k7dy6bGz0MzT/2umbGwLJ9Ac4440zd/yGFNCB6kPLych5++GEmT57Ms88+y8yZM/HXrCPY55SUtyiCA89O2bkPOhgMH+JqrKaoqJgv338/V155JX5/1yZJqcxy9tln43K5WFbj7TAgdjS7qW4RbrnggjRW5zwaED3QoEGD+Pd//3duueUWnn322USLYl38HkXpqSffPQpjcDfsJLBrOa6maoqK+3DL/3uAK6+8Ep+ve6t4qsySn5/PaWPGsGzjMq4feuyJpctqfIjo8NZU04DowQYOHMjDDz/MlClTeOaZZ3jnnXfw165PBMWYnn+PIkkwTLnzX7niiis0GNQxnXveeTy2fDl7W1z0zU4+qfTDfX5GDB9OUVFRmqtzFp0odxIoLy/nO9/5Ds8++yyfufQS/NVryFv5f/i2L4VIm93lJeVu2E3O+rfI3vB3SrIMDz74IC88/2euueYaDQfVofZRSR/uS/57Uh8UNjW4mXDueeksy5G0BXESKS8v59vf/jY333wzTz/9NO++9x6B2nW0lYwi1G80uO2/wetqriWwYynuhl0U9i5iyv33c9VVV2koqE4rKytj4IByVuzbzBUD/vkD0IpEcJx9dhrumzmcBsRJaODAgXz3u99l8uTJPPXUU8ydOxd/7Xrayk4nXFwJkv6GoQQb8e/4AG/dJvLy87nlnnu45ppr9Oaz6pKzz5nAKy/tIBgF/1Fbiq+o81LUu5ChQ4faU5yDaBfTSWzIkCH88Ic/ZOrUqYwcNpjAlvnkrnktves8RcP4ti8ld9UrZDduZ/Lkybzw/PNcf/31Gg6qy8aNG0ckBuuO2iMiZmD1/vh8CZ1EmXragsgAo0aNYurUx5g3bx6PJtZ5CvceQnDAeIwvRSOejMFTv5Ws7Ysh2MRll13GHXfcQUlJSWqupxxlzJgxeL0eVtV5Oe2wWdVbGt00h6GqqsrG6pxDAyJDiAjnn38+48eP589//jPPPfdnfKt30DLgLCJFw8DCT1sSbiWwdT6e/duoqBjMv/7rfzFmzBjLzq+U3+9n5MiRrN+8HDg0k7q9RaG7x6WHdjFlGL/fz6233srTTz/F6BHDydo8l6xP3rVssyL3/m3krXkVf+Mu7rrrLp588vcaDiolxo49na2NLlojhz7crK/3Ut6/TIe3pokGRIYqLy/nf//3l9x11134G3eSu3Y6rqaarp/QxPBvX0z2xn9QUV7K7594gi996Uu6ZpJKmdGjR2MMfNIQ/x0zBjY2+Bh9qn4gSRcNiAzmdrv50pe+xO8ef5w+BbnkrH8Lz75PTvxEkRDZH/8D355VXHvttTzxu98xZMgQ6wtW6jAjRowA4JMD8YCoaXPRGEL3fkgjDQgHGDZsGL9/4necOnoUWZtm4927pvPfHAmSu+FtvI27efDBB7n//vt1QT2VFrm5ufQvK2VrU3yc65bGeFCccsopdpblKBoQDtGrVy9+8fOfM+HccwlsWxjfG/t4IkFyN/wNT7CeH//4v7j66qtTX6hSh/nUKcPZ2hwfLr210Y3L5WLw4ME2V+UcGhAO4vV6+cH3v8+ECRMIbF2Au377sV9sYmRvmoUnWM9//ehHuua+ssXgwYOpaYFgFHY0eyjvX6az8tNIA8JhvF4v3/3udxk8ZAg5W+Ygwcakr/Pt/BD3gZ08cP/9Gg7KNhUVFQDsbnGzu9VLxWC995VOaQ8IERkgIu+JyFoRWS0iX08c7y0i74jIx4m/C9Ndm1MEAgF+9J//ScDjJmvrgvjwkMO4Wvbh37OCyy+/nEmTJtlUpVLx0XgAu5rd1LQIAwYMsLkiZ7GjBREBHjTGjADOBu4RkZHAt4CZxphKYGbisUqRsrIybrvtVtwHduCp33boCWPI2raIvLw87r33XvsKVAooLS0F4vMfoubQY5UeaQ8IY8xuY8yyxNeNwFqgP/BZYFriZdOAa9Ndm9Ncd911lPXvj3/3RwdbEe7GPbga9/D/br+dvLw8mytUTpeVlUV+Xi4bEkNd+/XrZ3NFzmLrPQgRqQBOBxYBfY0xuyEeIoAu6pNiHo+HL95wA67mWnLWTidn7etkbZpNbl4eV1xxhd3lKQVAnz592NnsOfi1Sh/bpsGKSC7wMnC/MaahsyszisidwJ0QX/Zadc/ll1/OqlWraGhoOHjssssu05VYVY9RVNyHTzZtjn+tS2yklS0BISJe4uHwnDHmlcThvSJSaozZLSKlQHWy7zXGPAE8AVBVVWWSvUZ1XiAQ4OGHH7a7DKWOqbAwPl7F6/WQk5NjczXOYscoJgH+AKw1xvzisKemA1MSX08BXkt3bUqpnqegoACA/Lxc3QMizexoQZwLfBlYKSLLE8e+A/wE+IuI3A5sA663oTalVA/TPlgiEEjR3ibqmNIeEMaYecCxPgZcks5alFI9X3u3ksul83rTTf+PK6V6tPahrQMHDbK5EufRxfyVUj3aOeecw5/+9Ccd4moDDQilVI8mIgeX3FDppV1MSimlktKAUEoplZQGhFJKqaQ0IJRSSiWlAaGUUiopDQillFJJaUAopZRKSow5eRdEFZEaYKvddWSQYqDW7iKUSkJ/N601yBhz3JmHJ3VAKGuJyFJjTJXddSh1NP3dtId2MSmllEpKA0IppVRSGhDqcE/YXYBSx6C/mzbQexBKKaWS0haEUkqppDQgFCJyhYisF5GNIvItu+tRqp2I/FFEqkVkld21OJEGhMOJiBuYClwJjARuFJGR9lal1EFPA1fYXYRTaUCo8cBGY8wmY0wIeAH4rM01KQWAMWYOUGd3HU6lAaH6A9sPe7wjcUwp5XAaEEqSHNOhbUopDQjFDmDAYY/LgV021aKU6kE0INQSoFJEBouID/gSMN3mmpRSPYAGhMMZYyLAvcDfgLXAX4wxq+2tSqk4EXkeWACcIiI7ROR2u2tyEp1JrZRSKiltQSillEpKA0IppVRSGhBKKaWS0oBQSimVlAaEUkqppDQglDqMiFwnIkZEhiceV4jITYc9P1ZErurg+6tE5NeJry8SkQmHPXeXiNySyvqVspIGhFJHuhGYR3zCIEAFcNNhz48FkgaEiHiMMUuNMf+SOHQRcDAgjDGPG2OesbpgpVJF50EolSAiucB64GJgujFmuIgsBEYAm4HngXuALGAn8OPEc2XEg6SW+NaY3yA++XAhEAVqgPuAS4AmY8z/iMhY4HEgG/gEuM0Ys19EZgGLEjX0Am43xsxN+X+8UkloC0KpQ64F3jbGbADqROQM4FvAXGPMWGPMT4HvAi8mHr+Y+L4zgc8aYw62NIwxW4gHwC8Trz36Tf4Z4JvGmDHASuB7hz3nMcaMB+4/6rhSaaUBodQhNxLfD4PE3zd28vumG2NaO3sRESkAehljZicOTQMuOOwlryT+/oB4y0QpW3jsLkCpnkBEioBPA6NFxABu4suev9WJb2+2uJxg4u8o+m9U2UhbEErFfQF4xhgzyBhTYYwZQPy+QwzIO+x1jUc97kjS1xpjDgD7ReT8xKEvA7OPfp1SdtOAUCruRuCvRx17mfhopoiIfCQiDwDvASNFZLmIfPE453wduC7x2vOPem4K8DMRWUF8ZNQj3f9PUMpaOopJKaVUUtqCUEoplZQGhFJKqaQ0IJRSSiWlAaGUUiopDQillFJJaUAopZRKSgNCKaVUUhoQSimlkvr/eK+lWdd7CGsAAAAASUVORK5CYII=\n",
      "text/plain": [
       "<Figure size 432x288 with 1 Axes>"
      ]
     },
     "metadata": {
      "needs_background": "light"
     },
     "output_type": "display_data"
    }
   ],
   "source": [
    "sns.violinplot(x=\"Attrition\", y=\"HourlyRate\", data=IBM,scale='count');\n",
    "plt.ylabel('HourlyRate (U$)');"
   ]
  },
  {
   "cell_type": "markdown",
   "metadata": {},
   "source": [
    "___\n",
    "* **Gráfico comparando Atrito na Empresa X Porcentagem de aumento de salário dos funcionários:**"
   ]
  },
  {
   "cell_type": "code",
<<<<<<< HEAD
   "execution_count": 84,
=======
   "execution_count": 469,
>>>>>>> a083f58117c24ecf875146665f41926c284f5015
   "metadata": {},
   "outputs": [
    {
     "data": {
      "image/png": "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\n",
      "text/plain": [
       "<Figure size 432x288 with 1 Axes>"
      ]
     },
     "metadata": {
      "needs_background": "light"
     },
     "output_type": "display_data"
    }
   ],
   "source": [
    "sns.violinplot(x=\"Attrition\", y=\"PercentSalaryHike\", data=IBM, scale='count');"
   ]
  },
  {
   "cell_type": "markdown",
   "metadata": {},
   "source": [
    "___\n",
    "* **Gráfico comparando Atrito na Empresa X Renda por mês em U$ dos funcionários:**"
   ]
  },
  {
   "cell_type": "code",
<<<<<<< HEAD
   "execution_count": 85,
=======
   "execution_count": 470,
>>>>>>> a083f58117c24ecf875146665f41926c284f5015
   "metadata": {},
   "outputs": [
    {
     "data": {
      "image/png": "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\n",
      "text/plain": [
       "<Figure size 432x288 with 1 Axes>"
      ]
     },
     "metadata": {
      "needs_background": "light"
     },
     "output_type": "display_data"
    }
   ],
   "source": [
    "sns.violinplot(x=\"Attrition\", y=\"MonthlyRate\", data=IBM, scale='count');"
   ]
  },
  {
   "cell_type": "markdown",
   "metadata": {},
   "source": [
    "___\n",
    "* ## **Decision Tree**"
   ]
  },
  {
   "cell_type": "code",
<<<<<<< HEAD
   "execution_count": 86,
=======
   "execution_count": 471,
>>>>>>> a083f58117c24ecf875146665f41926c284f5015
   "metadata": {},
   "outputs": [
    {
     "data": {
      "text/plain": [
       "'\\nfrom sklearn import tree\\nfrom sklearn.tree import DecisionTreeClassifier\\n'"
      ]
     },
     "execution_count": 471,
     "metadata": {},
     "output_type": "execute_result"
    }
   ],
   "source": [
    "'''\n",
    "from sklearn import tree\n",
    "from sklearn.tree import DecisionTreeClassifier\n",
    "'''"
   ]
  },
  {
   "cell_type": "code",
<<<<<<< HEAD
   "execution_count": 87,
=======
   "execution_count": 472,
>>>>>>> a083f58117c24ecf875146665f41926c284f5015
   "metadata": {},
   "outputs": [],
   "source": [
    "\n",
    "x = IBM['Attrition']\n",
    "y = IBM[['JobInvolvement','JobLevel','EnvironmentSatisfaction','Education','DistanceFromHome','Department','BusinessTravel','HourlyRate','MonthlyIncome']]"
   ]
  },
  {
   "cell_type": "code",
   "execution_count": null,
   "metadata": {},
   "outputs": [],
   "source": []
  },
  {
   "cell_type": "code",
<<<<<<< HEAD
   "execution_count": 88,
=======
   "execution_count": 473,
>>>>>>> a083f58117c24ecf875146665f41926c284f5015
   "metadata": {},
   "outputs": [
    {
     "data": {
      "text/plain": [
       "\"\\nX = IBM[['MonthlyIncome','Age','DistanceFromHome','Department']]\\ny = IBM['Attrition']\\ndecisiontree = tree.DecisionTreeClassifier(random_state=0, max_depth=2)\\ndecisiontree = decisiontree.fit(X,y)\\npd.crosstab(decisiontree,target_val,normalize='columns')\\n\""
      ]
     },
     "execution_count": 473,
     "metadata": {},
     "output_type": "execute_result"
    }
   ],
   "source": [
    "'''\n",
    "X = IBM[['MonthlyIncome','Age','DistanceFromHome','Department']]\n",
    "y = IBM['Attrition']\n",
    "decisiontree = tree.DecisionTreeClassifier(random_state=0, max_depth=2)\n",
    "decisiontree = decisiontree.fit(X,y)\n",
    "pd.crosstab(decisiontree,target_val,normalize='columns')\n",
    "'''"
   ]
  },
  {
   "cell_type": "markdown",
   "metadata": {},
   "source": [
    "___\n",
    "* ## *Preparando nosso dataset para podermos utilizar ml*\n",
    "\n",
    "\n",
    "\n"
   ]
  },
  {
   "cell_type": "code",
   "execution_count": null,
   "metadata": {},
   "outputs": [],
   "source": []
  },
  {
   "cell_type": "code",
<<<<<<< HEAD
   "execution_count": 89,
=======
   "execution_count": 474,
>>>>>>> a083f58117c24ecf875146665f41926c284f5015
   "metadata": {},
   "outputs": [
    {
     "data": {
      "text/html": [
       "<div>\n",
       "<style scoped>\n",
       "    .dataframe tbody tr th:only-of-type {\n",
       "        vertical-align: middle;\n",
       "    }\n",
       "\n",
       "    .dataframe tbody tr th {\n",
       "        vertical-align: top;\n",
       "    }\n",
       "\n",
       "    .dataframe thead th {\n",
       "        text-align: right;\n",
       "    }\n",
       "</style>\n",
       "<table border=\"1\" class=\"dataframe\">\n",
       "  <thead>\n",
       "    <tr style=\"text-align: right;\">\n",
       "      <th></th>\n",
       "      <th>Age</th>\n",
       "      <th>BusinessTravel</th>\n",
       "      <th>Department</th>\n",
       "      <th>DistanceFromHome</th>\n",
       "      <th>Education</th>\n",
       "      <th>EducationField</th>\n",
       "      <th>EmployeeNumber</th>\n",
       "      <th>EnvironmentSatisfaction</th>\n",
       "      <th>Gender</th>\n",
       "      <th>HourlyRate</th>\n",
       "      <th>...</th>\n",
       "      <th>PerformanceRating</th>\n",
       "      <th>RelationshipSatisfaction</th>\n",
       "      <th>StockOptionLevel</th>\n",
       "      <th>TotalWorkingYears</th>\n",
       "      <th>TrainingTimesLastYear</th>\n",
       "      <th>WorkLifeBalance</th>\n",
       "      <th>YearsAtCompany</th>\n",
       "      <th>YearsInCurrentRole</th>\n",
       "      <th>YearsSinceLastPromotion</th>\n",
       "      <th>YearsWithCurrManager</th>\n",
       "    </tr>\n",
       "  </thead>\n",
       "  <tbody>\n",
       "    <tr>\n",
       "      <th>0</th>\n",
       "      <td>41</td>\n",
       "      <td>Travel_Rarely</td>\n",
       "      <td>Sales</td>\n",
       "      <td>1</td>\n",
       "      <td>2</td>\n",
       "      <td>Life Sciences</td>\n",
       "      <td>1</td>\n",
       "      <td>2</td>\n",
       "      <td>Female</td>\n",
       "      <td>94</td>\n",
       "      <td>...</td>\n",
       "      <td>3</td>\n",
       "      <td>1</td>\n",
       "      <td>0</td>\n",
       "      <td>8</td>\n",
       "      <td>0</td>\n",
       "      <td>1</td>\n",
       "      <td>6</td>\n",
       "      <td>4</td>\n",
       "      <td>0</td>\n",
       "      <td>5</td>\n",
       "    </tr>\n",
       "    <tr>\n",
       "      <th>1</th>\n",
       "      <td>49</td>\n",
       "      <td>Travel_Frequently</td>\n",
       "      <td>Research &amp; Development</td>\n",
       "      <td>8</td>\n",
       "      <td>1</td>\n",
       "      <td>Life Sciences</td>\n",
       "      <td>2</td>\n",
       "      <td>3</td>\n",
       "      <td>Male</td>\n",
       "      <td>61</td>\n",
       "      <td>...</td>\n",
       "      <td>4</td>\n",
       "      <td>4</td>\n",
       "      <td>1</td>\n",
       "      <td>10</td>\n",
       "      <td>3</td>\n",
       "      <td>3</td>\n",
       "      <td>10</td>\n",
       "      <td>7</td>\n",
       "      <td>1</td>\n",
       "      <td>7</td>\n",
       "    </tr>\n",
       "    <tr>\n",
       "      <th>2</th>\n",
       "      <td>37</td>\n",
       "      <td>Travel_Rarely</td>\n",
       "      <td>Research &amp; Development</td>\n",
       "      <td>2</td>\n",
       "      <td>2</td>\n",
       "      <td>Other</td>\n",
       "      <td>4</td>\n",
       "      <td>4</td>\n",
       "      <td>Male</td>\n",
       "      <td>92</td>\n",
       "      <td>...</td>\n",
       "      <td>3</td>\n",
       "      <td>2</td>\n",
       "      <td>0</td>\n",
       "      <td>7</td>\n",
       "      <td>3</td>\n",
       "      <td>3</td>\n",
       "      <td>0</td>\n",
       "      <td>0</td>\n",
       "      <td>0</td>\n",
       "      <td>0</td>\n",
       "    </tr>\n",
       "    <tr>\n",
       "      <th>3</th>\n",
       "      <td>33</td>\n",
       "      <td>Travel_Frequently</td>\n",
       "      <td>Research &amp; Development</td>\n",
       "      <td>3</td>\n",
       "      <td>4</td>\n",
       "      <td>Life Sciences</td>\n",
       "      <td>5</td>\n",
       "      <td>4</td>\n",
       "      <td>Female</td>\n",
       "      <td>56</td>\n",
       "      <td>...</td>\n",
       "      <td>3</td>\n",
       "      <td>3</td>\n",
       "      <td>0</td>\n",
       "      <td>8</td>\n",
       "      <td>3</td>\n",
       "      <td>3</td>\n",
       "      <td>8</td>\n",
       "      <td>7</td>\n",
       "      <td>3</td>\n",
       "      <td>0</td>\n",
       "    </tr>\n",
       "    <tr>\n",
       "      <th>4</th>\n",
       "      <td>27</td>\n",
       "      <td>Travel_Rarely</td>\n",
       "      <td>Research &amp; Development</td>\n",
       "      <td>2</td>\n",
       "      <td>1</td>\n",
       "      <td>Medical</td>\n",
       "      <td>7</td>\n",
       "      <td>1</td>\n",
       "      <td>Male</td>\n",
       "      <td>40</td>\n",
       "      <td>...</td>\n",
       "      <td>3</td>\n",
       "      <td>4</td>\n",
       "      <td>1</td>\n",
       "      <td>6</td>\n",
       "      <td>3</td>\n",
       "      <td>3</td>\n",
       "      <td>2</td>\n",
       "      <td>2</td>\n",
       "      <td>2</td>\n",
       "      <td>2</td>\n",
       "    </tr>\n",
       "  </tbody>\n",
       "</table>\n",
       "<p>5 rows × 30 columns</p>\n",
       "</div>"
      ],
      "text/plain": [
       "   Age     BusinessTravel              Department  DistanceFromHome  \\\n",
       "0   41      Travel_Rarely                   Sales                 1   \n",
       "1   49  Travel_Frequently  Research & Development                 8   \n",
       "2   37      Travel_Rarely  Research & Development                 2   \n",
       "3   33  Travel_Frequently  Research & Development                 3   \n",
       "4   27      Travel_Rarely  Research & Development                 2   \n",
       "\n",
       "   Education EducationField  EmployeeNumber  EnvironmentSatisfaction  Gender  \\\n",
       "0          2  Life Sciences               1                        2  Female   \n",
       "1          1  Life Sciences               2                        3    Male   \n",
       "2          2          Other               4                        4    Male   \n",
       "3          4  Life Sciences               5                        4  Female   \n",
       "4          1        Medical               7                        1    Male   \n",
       "\n",
       "   HourlyRate          ...           PerformanceRating  \\\n",
       "0          94          ...                           3   \n",
       "1          61          ...                           4   \n",
       "2          92          ...                           3   \n",
       "3          56          ...                           3   \n",
       "4          40          ...                           3   \n",
       "\n",
       "   RelationshipSatisfaction StockOptionLevel  TotalWorkingYears  \\\n",
       "0                         1                0                  8   \n",
       "1                         4                1                 10   \n",
       "2                         2                0                  7   \n",
       "3                         3                0                  8   \n",
       "4                         4                1                  6   \n",
       "\n",
       "  TrainingTimesLastYear  WorkLifeBalance  YearsAtCompany  YearsInCurrentRole  \\\n",
       "0                     0                1               6                   4   \n",
       "1                     3                3              10                   7   \n",
       "2                     3                3               0                   0   \n",
       "3                     3                3               8                   7   \n",
       "4                     3                3               2                   2   \n",
       "\n",
       "  YearsSinceLastPromotion  YearsWithCurrManager  \n",
       "0                       0                     5  \n",
       "1                       1                     7  \n",
       "2                       0                     0  \n",
       "3                       3                     0  \n",
       "4                       2                     2  \n",
       "\n",
       "[5 rows x 30 columns]"
      ]
     },
<<<<<<< HEAD
     "execution_count": 89,
=======
     "execution_count": 474,
>>>>>>> a083f58117c24ecf875146665f41926c284f5015
     "metadata": {},
     "output_type": "execute_result"
    }
   ],
   "source": [
    "#Para utilizar esses metódos e outros, devemos trocar nossas  variaveis categoricas em dummys e separar o nosso teste(data) \n",
    "#com o target, que será o que procuramos, ou seja: Attrition\n",
    "quali = []\n",
    "\n",
    "teste=IBM.drop([\"Attrition\"], axis=1)\n",
    "teste.head()"
   ]
  },
  {
   "cell_type": "code",
<<<<<<< HEAD
   "execution_count": null,
   "metadata": {},
   "outputs": [],
   "source": []
  },
  {
   "cell_type": "code",
   "execution_count": null,
   "metadata": {},
   "outputs": [],
   "source": []
  },
  {
   "cell_type": "code",
   "execution_count": 90,
=======
   "execution_count": 475,
>>>>>>> a083f58117c24ecf875146665f41926c284f5015
   "metadata": {},
   "outputs": [],
   "source": [
    "teste = pd.get_dummies(teste)\n"
   ]
  },
  {
   "cell_type": "code",
<<<<<<< HEAD
   "execution_count": 91,
=======
   "execution_count": 476,
>>>>>>> a083f58117c24ecf875146665f41926c284f5015
   "metadata": {},
   "outputs": [],
   "source": [
    "target=IBM['Attrition']\n"
   ]
  },
  {
   "cell_type": "code",
<<<<<<< HEAD
   "execution_count": 92,
=======
   "execution_count": 477,
>>>>>>> a083f58117c24ecf875146665f41926c284f5015
   "metadata": {},
   "outputs": [],
   "source": [
    "#Splita nosso teste e target em treino e teste, como pode-se notar, o train_size é o tamanho de sua amostra de treino, que\n",
    "#deve ser maior do que sua teste, o recomendado é 66%, pelo livro hands-on machine learning with scikit-learn and tensorflow\n",
    "#ou 75%\n",
    "train, test, target_train, target_val = train_test_split(teste, target, train_size= 0.66,random_state=0);\n",
    "\n"
   ]
  },
  {
   "cell_type": "markdown",
   "metadata": {},
   "source": [
    "<img src=\"files/img/smote.png\">"
   ]
  },
  {
   "cell_type": "code",
<<<<<<< HEAD
   "execution_count": 93,
=======
   "execution_count": 478,
>>>>>>> a083f58117c24ecf875146665f41926c284f5015
   "metadata": {},
   "outputs": [],
   "source": [
    "#SMOTE-balanceia as variaveis, como vimos em nossa análise exploratoria, a quantidade de pessoas que não tem attriton é mui\n",
    "#to superior as que tem attrition(84%, 16%),uma amostra desbalanceada, e por tal motivo, é necessário utilizar alguma \n",
    "#técnica para balancear nossa amostra, pode-se utilizar SMOTE(oversampler) ou NearMiss(undersampler)\n",
    "\n",
    "oversampler=SMOTE(random_state=0)\n",
    "smote_train, smote_target = oversampler.fit_sample(train,target_train)\n"
   ]
  },
  {
   "cell_type": "code",
<<<<<<< HEAD
   "execution_count": 94,
   "metadata": {},
   "outputs": [
    {
     "data": {
      "text/plain": [
       "array([813, 813], dtype=int64)"
      ]
     },
     "execution_count": 94,
     "metadata": {},
     "output_type": "execute_result"
=======
   "execution_count": 479,
   "metadata": {},
   "outputs": [
    {
     "name": "stdout",
     "output_type": "stream",
     "text": [
      "Amostra original= [813 157]\n",
      "Amostra após utilizar o smote: [813 813]\n"
     ]
>>>>>>> a083f58117c24ecf875146665f41926c284f5015
    }
   ],
   "source": [
    "bin1 = np.bincount(target_train)\n",
    "bin2 = np.bincount(smote_target)\n",
    "print('Amostra original=',bin1)\n",
    "print('Amostra após utilizar o smote:',bin2)\n",
    "#Pode-se ver que o SMOTE para balancear a quantidade de attriton e no attriton, criou novas \"amostras\" sinteticas"
   ]
  },
  {
   "cell_type": "markdown",
   "metadata": {},
   "source": [
    "___\n",
    "* ## *Random Forest*\n",
    "\n",
    "**O que é?**\n",
    "\n",
    "Random Forest é um algoritmo de aprendizagem supervisionada que cria uma floresta de um modo aleatório, unindo diversas árvores de decisão, utilizando  o metódo de bagging. Esse algoritmo é muito utilizado atualmente ja que ele pode ser utilizado para tarefas de regressão e classificação\n"
   ]
  },
  {
   "cell_type": "code",
<<<<<<< HEAD
   "execution_count": 95,
=======
   "execution_count": null,
   "metadata": {
    "scrolled": true
   },
   "outputs": [],
   "source": []
  },
  {
   "cell_type": "code",
   "execution_count": null,
   "metadata": {},
   "outputs": [],
   "source": []
  },
  {
   "cell_type": "code",
   "execution_count": 510,
>>>>>>> a083f58117c24ecf875146665f41926c284f5015
   "metadata": {
    "scrolled": true
   },
   "outputs": [
    {
     "name": "stderr",
     "output_type": "stream",
     "text": [
      "[Parallel(n_jobs=-1)]: Using backend ThreadingBackend with 8 concurrent workers.\n",
      "[Parallel(n_jobs=-1)]: Done  34 tasks      | elapsed:    0.0s\n",
<<<<<<< HEAD
      "[Parallel(n_jobs=-1)]: Done 184 tasks      | elapsed:    0.2s\n",
      "[Parallel(n_jobs=-1)]: Done 434 tasks      | elapsed:    0.6s\n",
      "[Parallel(n_jobs=-1)]: Done 784 tasks      | elapsed:    1.2s\n",
      "[Parallel(n_jobs=-1)]: Done 1000 out of 1000 | elapsed:    1.6s finished\n",
=======
      "[Parallel(n_jobs=-1)]: Done 184 tasks      | elapsed:    0.0s\n",
      "[Parallel(n_jobs=-1)]: Done 434 tasks      | elapsed:    0.1s\n",
      "[Parallel(n_jobs=-1)]: Done 784 tasks      | elapsed:    0.2s\n",
      "[Parallel(n_jobs=-1)]: Done 1000 out of 1000 | elapsed:    0.3s finished\n",
>>>>>>> a083f58117c24ecf875146665f41926c284f5015
      "[Parallel(n_jobs=8)]: Using backend ThreadingBackend with 8 concurrent workers.\n",
      "[Parallel(n_jobs=8)]: Done  34 tasks      | elapsed:    0.0s\n",
      "[Parallel(n_jobs=8)]: Done 184 tasks      | elapsed:    0.1s\n",
      "[Parallel(n_jobs=8)]: Done 434 tasks      | elapsed:    0.3s\n",
      "[Parallel(n_jobs=8)]: Done 784 tasks      | elapsed:    0.5s\n",
      "[Parallel(n_jobs=8)]: Done 1000 out of 1000 | elapsed:    0.7s finished\n"
     ]
    },
    {
     "data": {
      "text/plain": [
       "0.868"
      ]
     },
<<<<<<< HEAD
     "execution_count": 95,
=======
     "execution_count": 510,
>>>>>>> a083f58117c24ecf875146665f41926c284f5015
     "metadata": {},
     "output_type": "execute_result"
    }
   ],
   "source": [
    "seed = 0   # We set our random seed to zero for reproducibility\n",
    "# Random Forest parameters\n",
    "rf2_params = {\n",
    "    'n_jobs': -1,\n",
    "    'n_estimators': 1000,\n",
    "    'warm_start': True, \n",
    "    'max_features': 0.2,\n",
    "    'max_depth': 6,\n",
    "    'min_samples_leaf': 2,\n",
    "    'max_features' : 'sqrt',\n",
    "    'random_state' : seed,\n",
    "    'verbose': 1\n",
    "}\n",
    "\n",
    "rf2 = RandomForestClassifier(**rf2_params)\n",
    "rf2.fit(smote_train, smote_target)\n",
    "rf2_predictions = rf2.predict(test)\n",
    "accuracy_score(target_val, rf2_predictions)"
   ]
  },
  {
   "cell_type": "code",
<<<<<<< HEAD
   "execution_count": 96,
=======
   "execution_count": 511,
>>>>>>> a083f58117c24ecf875146665f41926c284f5015
   "metadata": {},
   "outputs": [
    {
     "data": {
      "application/vnd.plotly.v1+json": {
       "config": {
        "plotlyServerURL": "https://plot.ly"
       },
       "data": [
        {
         "hoverlabel": {
          "namelength": 0
         },
         "hovertemplate": "x=%{x}<br>y=%{y}<br>color=%{marker.color}",
         "legendgroup": "",
         "marker": {
          "color": [
           0.06349372471753924,
           0.03133133497806292,
           0.010641578469858148,
           0.03506325662462227,
           0.030237691006565322,
           0.035365581625912475,
           0.019335530352764724,
           0.03461877748731082,
           0.018897824237587055,
           0.08728582901080853,
           0.037258858509905575,
           0.0277188526758474,
           0.027493805474427865,
           0.0023677471177516005,
           0.01719588677999985,
           0.029739868008936327,
           0.05704439141125584,
           0.013882831867330546,
           0.025110835143810354,
           0.04682410258983447,
           0.024402451010680403,
           0.017567679661984525,
           0.03723255090265674,
           0.0032483927550205575,
           0.016809610366772806,
           0.006405070177863389,
           0.0019299806632364855,
           0.0074830795470423395,
           0.007563016978639453,
           0.004305168297008319,
           0.0046467385472963975,
           0.005706279731152079,
           0.005749641511487782,
           0.0017440126391527666,
           0.008259902249776884,
           0.00522183467325817,
           0.005274890430851453,
           0.0015052688562452168,
           0.0020817803193689736,
           0.008699579821054453,
           0.0009033470314301655,
           0.001780654496920547,
           0.0008916012081994571,
           0.005210257676738443,
           0.006328508526277888,
           0.013277396981308878,
           0.00387758731400526,
           0.007256298648708057,
           0.019771303180493097,
           0.05843807277723102,
           0.05551973492800662
          ],
          "coloraxis": "coloraxis",
          "symbol": "circle"
         },
         "mode": "markers",
         "name": "",
         "showlegend": false,
         "type": "scatter",
         "x": [
          "Age",
          "DistanceFromHome",
          "Education",
          "EmployeeNumber",
          "EnvironmentSatisfaction",
          "HourlyRate",
          "JobInvolvement",
          "JobLevel",
          "JobSatisfaction",
          "MonthlyIncome",
          "MonthlyRate",
          "NumCompaniesWorked",
          "PercentSalaryHike",
          "PerformanceRating",
          "RelationshipSatisfaction",
          "StockOptionLevel",
          "TotalWorkingYears",
          "TrainingTimesLastYear",
          "WorkLifeBalance",
          "YearsAtCompany",
          "YearsInCurrentRole",
          "YearsSinceLastPromotion",
          "YearsWithCurrManager",
          "BusinessTravel_Non-Travel",
          "BusinessTravel_Travel_Frequently",
          "BusinessTravel_Travel_Rarely",
          "Department_Human Resources",
          "Department_Research & Development",
          "Department_Sales",
          "EducationField_Human Resources",
          "EducationField_Life Sciences",
          "EducationField_Marketing",
          "EducationField_Medical",
          "EducationField_Other",
          "EducationField_Technical Degree",
          "Gender_Female",
          "Gender_Male",
          "JobRole_Healthcare Representative",
          "JobRole_Human Resources",
          "JobRole_Laboratory Technician",
          "JobRole_Manager",
          "JobRole_Manufacturing Director",
          "JobRole_Research Director",
          "JobRole_Research Scientist",
          "JobRole_Sales Executive",
          "JobRole_Sales Representative",
          "MaritalStatus_Divorced",
          "MaritalStatus_Married",
          "MaritalStatus_Single",
          "OverTime_No",
          "OverTime_Yes"
         ],
         "xaxis": "x",
         "y": [
          0.06349372471753924,
          0.03133133497806292,
          0.010641578469858148,
          0.03506325662462227,
          0.030237691006565322,
          0.035365581625912475,
          0.019335530352764724,
          0.03461877748731082,
          0.018897824237587055,
          0.08728582901080853,
          0.037258858509905575,
          0.0277188526758474,
          0.027493805474427865,
          0.0023677471177516005,
          0.01719588677999985,
          0.029739868008936327,
          0.05704439141125584,
          0.013882831867330546,
          0.025110835143810354,
          0.04682410258983447,
          0.024402451010680403,
          0.017567679661984525,
          0.03723255090265674,
          0.0032483927550205575,
          0.016809610366772806,
          0.006405070177863389,
          0.0019299806632364855,
          0.0074830795470423395,
          0.007563016978639453,
          0.004305168297008319,
          0.0046467385472963975,
          0.005706279731152079,
          0.005749641511487782,
          0.0017440126391527666,
          0.008259902249776884,
          0.00522183467325817,
          0.005274890430851453,
          0.0015052688562452168,
          0.0020817803193689736,
          0.008699579821054453,
          0.0009033470314301655,
          0.001780654496920547,
          0.0008916012081994571,
          0.005210257676738443,
          0.006328508526277888,
          0.013277396981308878,
          0.00387758731400526,
          0.007256298648708057,
          0.019771303180493097,
          0.05843807277723102,
          0.05551973492800662
         ],
         "yaxis": "y"
        }
       ],
       "layout": {
        "coloraxis": {
         "colorbar": {
          "title": {
           "text": "color"
          }
         },
         "colorscale": [
          [
           0,
           "#00224e"
          ],
          [
           0.1111111111111111,
           "#123570"
          ],
          [
           0.2222222222222222,
           "#3b496c"
          ],
          [
           0.3333333333333333,
           "#575d6d"
          ],
          [
           0.4444444444444444,
           "#707173"
          ],
          [
           0.5555555555555556,
           "#8a8678"
          ],
          [
           0.6666666666666666,
           "#a59c74"
          ],
          [
           0.7777777777777778,
           "#c3b369"
          ],
          [
           0.8888888888888888,
           "#e1cc55"
          ],
          [
           1,
           "#fee838"
          ]
         ]
        },
        "height": 600,
        "legend": {
         "tracegroupgap": 0
        },
        "margin": {
         "t": 60
        },
        "template": {
         "data": {
          "bar": [
           {
            "error_x": {
             "color": "#2a3f5f"
            },
            "error_y": {
             "color": "#2a3f5f"
            },
            "marker": {
             "line": {
              "color": "#E5ECF6",
              "width": 0.5
             }
            },
            "type": "bar"
           }
          ],
          "barpolar": [
           {
            "marker": {
             "line": {
              "color": "#E5ECF6",
              "width": 0.5
             }
            },
            "type": "barpolar"
           }
          ],
          "carpet": [
           {
            "aaxis": {
             "endlinecolor": "#2a3f5f",
             "gridcolor": "white",
             "linecolor": "white",
             "minorgridcolor": "white",
             "startlinecolor": "#2a3f5f"
            },
            "baxis": {
             "endlinecolor": "#2a3f5f",
             "gridcolor": "white",
             "linecolor": "white",
             "minorgridcolor": "white",
             "startlinecolor": "#2a3f5f"
            },
            "type": "carpet"
           }
          ],
          "choropleth": [
           {
            "colorbar": {
             "outlinewidth": 0,
             "ticks": ""
            },
            "type": "choropleth"
           }
          ],
          "contour": [
           {
            "colorbar": {
             "outlinewidth": 0,
             "ticks": ""
            },
            "colorscale": [
             [
              0,
              "#0d0887"
             ],
             [
              0.1111111111111111,
              "#46039f"
             ],
             [
              0.2222222222222222,
              "#7201a8"
             ],
             [
              0.3333333333333333,
              "#9c179e"
             ],
             [
              0.4444444444444444,
              "#bd3786"
             ],
             [
              0.5555555555555556,
              "#d8576b"
             ],
             [
              0.6666666666666666,
              "#ed7953"
             ],
             [
              0.7777777777777778,
              "#fb9f3a"
             ],
             [
              0.8888888888888888,
              "#fdca26"
             ],
             [
              1,
              "#f0f921"
             ]
            ],
            "type": "contour"
           }
          ],
          "contourcarpet": [
           {
            "colorbar": {
             "outlinewidth": 0,
             "ticks": ""
            },
            "type": "contourcarpet"
           }
          ],
          "heatmap": [
           {
            "colorbar": {
             "outlinewidth": 0,
             "ticks": ""
            },
            "colorscale": [
             [
              0,
              "#0d0887"
             ],
             [
              0.1111111111111111,
              "#46039f"
             ],
             [
              0.2222222222222222,
              "#7201a8"
             ],
             [
              0.3333333333333333,
              "#9c179e"
             ],
             [
              0.4444444444444444,
              "#bd3786"
             ],
             [
              0.5555555555555556,
              "#d8576b"
             ],
             [
              0.6666666666666666,
              "#ed7953"
             ],
             [
              0.7777777777777778,
              "#fb9f3a"
             ],
             [
              0.8888888888888888,
              "#fdca26"
             ],
             [
              1,
              "#f0f921"
             ]
            ],
            "type": "heatmap"
           }
          ],
          "heatmapgl": [
           {
            "colorbar": {
             "outlinewidth": 0,
             "ticks": ""
            },
            "colorscale": [
             [
              0,
              "#0d0887"
             ],
             [
              0.1111111111111111,
              "#46039f"
             ],
             [
              0.2222222222222222,
              "#7201a8"
             ],
             [
              0.3333333333333333,
              "#9c179e"
             ],
             [
              0.4444444444444444,
              "#bd3786"
             ],
             [
              0.5555555555555556,
              "#d8576b"
             ],
             [
              0.6666666666666666,
              "#ed7953"
             ],
             [
              0.7777777777777778,
              "#fb9f3a"
             ],
             [
              0.8888888888888888,
              "#fdca26"
             ],
             [
              1,
              "#f0f921"
             ]
            ],
            "type": "heatmapgl"
           }
          ],
          "histogram": [
           {
            "marker": {
             "colorbar": {
              "outlinewidth": 0,
              "ticks": ""
             }
            },
            "type": "histogram"
           }
          ],
          "histogram2d": [
           {
            "colorbar": {
             "outlinewidth": 0,
             "ticks": ""
            },
            "colorscale": [
             [
              0,
              "#0d0887"
             ],
             [
              0.1111111111111111,
              "#46039f"
             ],
             [
              0.2222222222222222,
              "#7201a8"
             ],
             [
              0.3333333333333333,
              "#9c179e"
             ],
             [
              0.4444444444444444,
              "#bd3786"
             ],
             [
              0.5555555555555556,
              "#d8576b"
             ],
             [
              0.6666666666666666,
              "#ed7953"
             ],
             [
              0.7777777777777778,
              "#fb9f3a"
             ],
             [
              0.8888888888888888,
              "#fdca26"
             ],
             [
              1,
              "#f0f921"
             ]
            ],
            "type": "histogram2d"
           }
          ],
          "histogram2dcontour": [
           {
            "colorbar": {
             "outlinewidth": 0,
             "ticks": ""
            },
            "colorscale": [
             [
              0,
              "#0d0887"
             ],
             [
              0.1111111111111111,
              "#46039f"
             ],
             [
              0.2222222222222222,
              "#7201a8"
             ],
             [
              0.3333333333333333,
              "#9c179e"
             ],
             [
              0.4444444444444444,
              "#bd3786"
             ],
             [
              0.5555555555555556,
              "#d8576b"
             ],
             [
              0.6666666666666666,
              "#ed7953"
             ],
             [
              0.7777777777777778,
              "#fb9f3a"
             ],
             [
              0.8888888888888888,
              "#fdca26"
             ],
             [
              1,
              "#f0f921"
             ]
            ],
            "type": "histogram2dcontour"
           }
          ],
          "mesh3d": [
           {
            "colorbar": {
             "outlinewidth": 0,
             "ticks": ""
            },
            "type": "mesh3d"
           }
          ],
          "parcoords": [
           {
            "line": {
             "colorbar": {
              "outlinewidth": 0,
              "ticks": ""
             }
            },
            "type": "parcoords"
           }
          ],
          "scatter": [
           {
            "marker": {
             "colorbar": {
              "outlinewidth": 0,
              "ticks": ""
             }
            },
            "type": "scatter"
           }
          ],
          "scatter3d": [
           {
            "line": {
             "colorbar": {
              "outlinewidth": 0,
              "ticks": ""
             }
            },
            "marker": {
             "colorbar": {
              "outlinewidth": 0,
              "ticks": ""
             }
            },
            "type": "scatter3d"
           }
          ],
          "scattercarpet": [
           {
            "marker": {
             "colorbar": {
              "outlinewidth": 0,
              "ticks": ""
             }
            },
            "type": "scattercarpet"
           }
          ],
          "scattergeo": [
           {
            "marker": {
             "colorbar": {
              "outlinewidth": 0,
              "ticks": ""
             }
            },
            "type": "scattergeo"
           }
          ],
          "scattergl": [
           {
            "marker": {
             "colorbar": {
              "outlinewidth": 0,
              "ticks": ""
             }
            },
            "type": "scattergl"
           }
          ],
          "scattermapbox": [
           {
            "marker": {
             "colorbar": {
              "outlinewidth": 0,
              "ticks": ""
             }
            },
            "type": "scattermapbox"
           }
          ],
          "scatterpolar": [
           {
            "marker": {
             "colorbar": {
              "outlinewidth": 0,
              "ticks": ""
             }
            },
            "type": "scatterpolar"
           }
          ],
          "scatterpolargl": [
           {
            "marker": {
             "colorbar": {
              "outlinewidth": 0,
              "ticks": ""
             }
            },
            "type": "scatterpolargl"
           }
          ],
          "scatterternary": [
           {
            "marker": {
             "colorbar": {
              "outlinewidth": 0,
              "ticks": ""
             }
            },
            "type": "scatterternary"
           }
          ],
          "surface": [
           {
            "colorbar": {
             "outlinewidth": 0,
             "ticks": ""
            },
            "colorscale": [
             [
              0,
              "#0d0887"
             ],
             [
              0.1111111111111111,
              "#46039f"
             ],
             [
              0.2222222222222222,
              "#7201a8"
             ],
             [
              0.3333333333333333,
              "#9c179e"
             ],
             [
              0.4444444444444444,
              "#bd3786"
             ],
             [
              0.5555555555555556,
              "#d8576b"
             ],
             [
              0.6666666666666666,
              "#ed7953"
             ],
             [
              0.7777777777777778,
              "#fb9f3a"
             ],
             [
              0.8888888888888888,
              "#fdca26"
             ],
             [
              1,
              "#f0f921"
             ]
            ],
            "type": "surface"
           }
          ],
          "table": [
           {
            "cells": {
             "fill": {
              "color": "#EBF0F8"
             },
             "line": {
              "color": "white"
             }
            },
            "header": {
             "fill": {
              "color": "#C8D4E3"
             },
             "line": {
              "color": "white"
             }
            },
            "type": "table"
           }
          ]
         },
         "layout": {
          "annotationdefaults": {
           "arrowcolor": "#2a3f5f",
           "arrowhead": 0,
           "arrowwidth": 1
          },
          "colorscale": {
           "diverging": [
            [
             0,
             "#8e0152"
            ],
            [
             0.1,
             "#c51b7d"
            ],
            [
             0.2,
             "#de77ae"
            ],
            [
             0.3,
             "#f1b6da"
            ],
            [
             0.4,
             "#fde0ef"
            ],
            [
             0.5,
             "#f7f7f7"
            ],
            [
             0.6,
             "#e6f5d0"
            ],
            [
             0.7,
             "#b8e186"
            ],
            [
             0.8,
             "#7fbc41"
            ],
            [
             0.9,
             "#4d9221"
            ],
            [
             1,
             "#276419"
            ]
           ],
           "sequential": [
            [
             0,
             "#0d0887"
            ],
            [
             0.1111111111111111,
             "#46039f"
            ],
            [
             0.2222222222222222,
             "#7201a8"
            ],
            [
             0.3333333333333333,
             "#9c179e"
            ],
            [
             0.4444444444444444,
             "#bd3786"
            ],
            [
             0.5555555555555556,
             "#d8576b"
            ],
            [
             0.6666666666666666,
             "#ed7953"
            ],
            [
             0.7777777777777778,
             "#fb9f3a"
            ],
            [
             0.8888888888888888,
             "#fdca26"
            ],
            [
             1,
             "#f0f921"
            ]
           ],
           "sequentialminus": [
            [
             0,
             "#0d0887"
            ],
            [
             0.1111111111111111,
             "#46039f"
            ],
            [
             0.2222222222222222,
             "#7201a8"
            ],
            [
             0.3333333333333333,
             "#9c179e"
            ],
            [
             0.4444444444444444,
             "#bd3786"
            ],
            [
             0.5555555555555556,
             "#d8576b"
            ],
            [
             0.6666666666666666,
             "#ed7953"
            ],
            [
             0.7777777777777778,
             "#fb9f3a"
            ],
            [
             0.8888888888888888,
             "#fdca26"
            ],
            [
             1,
             "#f0f921"
            ]
           ]
          },
          "colorway": [
           "#636efa",
           "#EF553B",
           "#00cc96",
           "#ab63fa",
           "#FFA15A",
           "#19d3f3",
           "#FF6692",
           "#B6E880",
           "#FF97FF",
           "#FECB52"
          ],
          "font": {
           "color": "#2a3f5f"
          },
          "geo": {
           "bgcolor": "white",
           "lakecolor": "white",
           "landcolor": "#E5ECF6",
           "showlakes": true,
           "showland": true,
           "subunitcolor": "white"
          },
          "hoverlabel": {
           "align": "left"
          },
          "hovermode": "closest",
          "mapbox": {
           "style": "light"
          },
          "paper_bgcolor": "white",
          "plot_bgcolor": "#E5ECF6",
          "polar": {
           "angularaxis": {
            "gridcolor": "white",
            "linecolor": "white",
            "ticks": ""
           },
           "bgcolor": "#E5ECF6",
           "radialaxis": {
            "gridcolor": "white",
            "linecolor": "white",
            "ticks": ""
           }
          },
          "scene": {
           "xaxis": {
            "backgroundcolor": "#E5ECF6",
            "gridcolor": "white",
            "gridwidth": 2,
            "linecolor": "white",
            "showbackground": true,
            "ticks": "",
            "zerolinecolor": "white"
           },
           "yaxis": {
            "backgroundcolor": "#E5ECF6",
            "gridcolor": "white",
            "gridwidth": 2,
            "linecolor": "white",
            "showbackground": true,
            "ticks": "",
            "zerolinecolor": "white"
           },
           "zaxis": {
            "backgroundcolor": "#E5ECF6",
            "gridcolor": "white",
            "gridwidth": 2,
            "linecolor": "white",
            "showbackground": true,
            "ticks": "",
            "zerolinecolor": "white"
           }
          },
          "shapedefaults": {
           "line": {
            "color": "#2a3f5f"
           }
          },
          "ternary": {
           "aaxis": {
            "gridcolor": "white",
            "linecolor": "white",
            "ticks": ""
           },
           "baxis": {
            "gridcolor": "white",
            "linecolor": "white",
            "ticks": ""
           },
           "bgcolor": "#E5ECF6",
           "caxis": {
            "gridcolor": "white",
            "linecolor": "white",
            "ticks": ""
           }
          },
          "title": {
           "x": 0.05
          },
          "xaxis": {
           "automargin": true,
           "gridcolor": "white",
           "linecolor": "white",
           "ticks": "",
           "zerolinecolor": "white",
           "zerolinewidth": 2
          },
          "yaxis": {
           "automargin": true,
           "gridcolor": "white",
           "linecolor": "white",
           "ticks": "",
           "zerolinecolor": "white",
           "zerolinewidth": 2
          }
         }
        },
        "xaxis": {
         "anchor": "y",
         "domain": [
          0,
          0.98
         ],
         "title": {
          "text": "x"
         }
        },
        "yaxis": {
         "anchor": "x",
         "domain": [
          0,
          1
         ],
         "title": {
          "text": "y"
         }
        }
       }
      },
      "text/html": [
       "<div>\n",
       "        \n",
       "        \n",
<<<<<<< HEAD
       "            <div id=\"b69af2ea-165d-4815-b906-814b16a0745c\" class=\"plotly-graph-div\" style=\"height:600px; width:100%;\"></div>\n",
=======
       "            <div id=\"f7678cdf-1948-4366-bfbc-111c3d71e8eb\" class=\"plotly-graph-div\" style=\"height:600px; width:100%;\"></div>\n",
>>>>>>> a083f58117c24ecf875146665f41926c284f5015
       "            <script type=\"text/javascript\">\n",
       "                require([\"plotly\"], function(Plotly) {\n",
       "                    window.PLOTLYENV=window.PLOTLYENV || {};\n",
       "                    \n",
<<<<<<< HEAD
       "                if (document.getElementById(\"b69af2ea-165d-4815-b906-814b16a0745c\")) {\n",
       "                    Plotly.newPlot(\n",
       "                        'b69af2ea-165d-4815-b906-814b16a0745c',\n",
       "                        [{\"hoverlabel\": {\"namelength\": 0}, \"hovertemplate\": \"x=%{x}<br>y=%{y}<br>color=%{marker.color}\", \"legendgroup\": \"\", \"marker\": {\"color\": [0.02489249564790817, 0.010832522649744054, 0.013418920897882613, 0.01463898707862178, 0.02610794176111394, 0.012307273384043279, 0.023100336575241496, 0.04782554286328887, 0.04008157680394208, 0.047305933902873236, 0.016392487600796937, 0.006340758023036282, 0.009825634950763358, 0.002032563930122908, 0.023510345212303604, 0.06625483220409428, 0.030962376714639812, 0.0097157264689436, 0.019688471831478246, 0.024797919519284322, 0.018565792235307063, 0.008181137200856182, 0.03036540643213361, 0.009487620412440924, 0.0027614546478480304, 0.017990109906946272, 0.001618804026337567, 0.03416723872432478, 0.007870524012172338, 0.0003106493948157319, 0.036447218336221235, 0.002712992758157315, 0.05400624358737344, 0.001912199690441657, 0.00261902011447978, 0.01174628625490949, 0.006256786951980055, 0.002415191130921625, 0.001571256815333941, 0.003220131123137464, 0.0018704148963140969, 0.005125104496090478, 0.0007688043801786763, 0.013847362393992804, 0.0046126567418219655, 0.001015786909072275, 0.022020701861681178, 0.038515450214811314, 0.007275564664397032, 0.16494994118818468, 0.01573950047719423], \"coloraxis\": \"coloraxis\", \"symbol\": \"circle\"}, \"mode\": \"markers\", \"name\": \"\", \"showlegend\": false, \"type\": \"scatter\", \"x\": [\"Age\", \"DistanceFromHome\", \"Education\", \"EmployeeNumber\", \"EnvironmentSatisfaction\", \"HourlyRate\", \"JobInvolvement\", \"JobLevel\", \"JobSatisfaction\", \"MonthlyIncome\", \"MonthlyRate\", \"NumCompaniesWorked\", \"PercentSalaryHike\", \"PerformanceRating\", \"RelationshipSatisfaction\", \"StockOptionLevel\", \"TotalWorkingYears\", \"TrainingTimesLastYear\", \"WorkLifeBalance\", \"YearsAtCompany\", \"YearsInCurrentRole\", \"YearsSinceLastPromotion\", \"YearsWithCurrManager\", \"BusinessTravel_Non-Travel\", \"BusinessTravel_Travel_Frequently\", \"BusinessTravel_Travel_Rarely\", \"Department_Human Resources\", \"Department_Research & Development\", \"Department_Sales\", \"EducationField_Human Resources\", \"EducationField_Life Sciences\", \"EducationField_Marketing\", \"EducationField_Medical\", \"EducationField_Other\", \"EducationField_Technical Degree\", \"Gender_Female\", \"Gender_Male\", \"JobRole_Healthcare Representative\", \"JobRole_Human Resources\", \"JobRole_Laboratory Technician\", \"JobRole_Manager\", \"JobRole_Manufacturing Director\", \"JobRole_Research Director\", \"JobRole_Research Scientist\", \"JobRole_Sales Executive\", \"JobRole_Sales Representative\", \"MaritalStatus_Divorced\", \"MaritalStatus_Married\", \"MaritalStatus_Single\", \"OverTime_No\", \"OverTime_Yes\"], \"xaxis\": \"x\", \"y\": [0.02489249564790817, 0.010832522649744054, 0.013418920897882613, 0.01463898707862178, 0.02610794176111394, 0.012307273384043279, 0.023100336575241496, 0.04782554286328887, 0.04008157680394208, 0.047305933902873236, 0.016392487600796937, 0.006340758023036282, 0.009825634950763358, 0.002032563930122908, 0.023510345212303604, 0.06625483220409428, 0.030962376714639812, 0.0097157264689436, 0.019688471831478246, 0.024797919519284322, 0.018565792235307063, 0.008181137200856182, 0.03036540643213361, 0.009487620412440924, 0.0027614546478480304, 0.017990109906946272, 0.001618804026337567, 0.03416723872432478, 0.007870524012172338, 0.0003106493948157319, 0.036447218336221235, 0.002712992758157315, 0.05400624358737344, 0.001912199690441657, 0.00261902011447978, 0.01174628625490949, 0.006256786951980055, 0.002415191130921625, 0.001571256815333941, 0.003220131123137464, 0.0018704148963140969, 0.005125104496090478, 0.0007688043801786763, 0.013847362393992804, 0.0046126567418219655, 0.001015786909072275, 0.022020701861681178, 0.038515450214811314, 0.007275564664397032, 0.16494994118818468, 0.01573950047719423], \"yaxis\": \"y\"}],\n",
=======
       "                if (document.getElementById(\"f7678cdf-1948-4366-bfbc-111c3d71e8eb\")) {\n",
       "                    Plotly.newPlot(\n",
       "                        'f7678cdf-1948-4366-bfbc-111c3d71e8eb',\n",
       "                        [{\"hoverlabel\": {\"namelength\": 0}, \"hovertemplate\": \"x=%{x}<br>y=%{y}<br>color=%{marker.color}\", \"legendgroup\": \"\", \"marker\": {\"color\": [0.06349372471753924, 0.03133133497806292, 0.010641578469858148, 0.03506325662462227, 0.030237691006565322, 0.035365581625912475, 0.019335530352764724, 0.03461877748731082, 0.018897824237587055, 0.08728582901080853, 0.037258858509905575, 0.0277188526758474, 0.027493805474427865, 0.0023677471177516005, 0.01719588677999985, 0.029739868008936327, 0.05704439141125584, 0.013882831867330546, 0.025110835143810354, 0.04682410258983447, 0.024402451010680403, 0.017567679661984525, 0.03723255090265674, 0.0032483927550205575, 0.016809610366772806, 0.006405070177863389, 0.0019299806632364855, 0.0074830795470423395, 0.007563016978639453, 0.004305168297008319, 0.0046467385472963975, 0.005706279731152079, 0.005749641511487782, 0.0017440126391527666, 0.008259902249776884, 0.00522183467325817, 0.005274890430851453, 0.0015052688562452168, 0.0020817803193689736, 0.008699579821054453, 0.0009033470314301655, 0.001780654496920547, 0.0008916012081994571, 0.005210257676738443, 0.006328508526277888, 0.013277396981308878, 0.00387758731400526, 0.007256298648708057, 0.019771303180493097, 0.05843807277723102, 0.05551973492800662], \"coloraxis\": \"coloraxis\", \"symbol\": \"circle\"}, \"mode\": \"markers\", \"name\": \"\", \"showlegend\": false, \"type\": \"scatter\", \"x\": [\"Age\", \"DistanceFromHome\", \"Education\", \"EmployeeNumber\", \"EnvironmentSatisfaction\", \"HourlyRate\", \"JobInvolvement\", \"JobLevel\", \"JobSatisfaction\", \"MonthlyIncome\", \"MonthlyRate\", \"NumCompaniesWorked\", \"PercentSalaryHike\", \"PerformanceRating\", \"RelationshipSatisfaction\", \"StockOptionLevel\", \"TotalWorkingYears\", \"TrainingTimesLastYear\", \"WorkLifeBalance\", \"YearsAtCompany\", \"YearsInCurrentRole\", \"YearsSinceLastPromotion\", \"YearsWithCurrManager\", \"BusinessTravel_Non-Travel\", \"BusinessTravel_Travel_Frequently\", \"BusinessTravel_Travel_Rarely\", \"Department_Human Resources\", \"Department_Research & Development\", \"Department_Sales\", \"EducationField_Human Resources\", \"EducationField_Life Sciences\", \"EducationField_Marketing\", \"EducationField_Medical\", \"EducationField_Other\", \"EducationField_Technical Degree\", \"Gender_Female\", \"Gender_Male\", \"JobRole_Healthcare Representative\", \"JobRole_Human Resources\", \"JobRole_Laboratory Technician\", \"JobRole_Manager\", \"JobRole_Manufacturing Director\", \"JobRole_Research Director\", \"JobRole_Research Scientist\", \"JobRole_Sales Executive\", \"JobRole_Sales Representative\", \"MaritalStatus_Divorced\", \"MaritalStatus_Married\", \"MaritalStatus_Single\", \"OverTime_No\", \"OverTime_Yes\"], \"xaxis\": \"x\", \"y\": [0.06349372471753924, 0.03133133497806292, 0.010641578469858148, 0.03506325662462227, 0.030237691006565322, 0.035365581625912475, 0.019335530352764724, 0.03461877748731082, 0.018897824237587055, 0.08728582901080853, 0.037258858509905575, 0.0277188526758474, 0.027493805474427865, 0.0023677471177516005, 0.01719588677999985, 0.029739868008936327, 0.05704439141125584, 0.013882831867330546, 0.025110835143810354, 0.04682410258983447, 0.024402451010680403, 0.017567679661984525, 0.03723255090265674, 0.0032483927550205575, 0.016809610366772806, 0.006405070177863389, 0.0019299806632364855, 0.0074830795470423395, 0.007563016978639453, 0.004305168297008319, 0.0046467385472963975, 0.005706279731152079, 0.005749641511487782, 0.0017440126391527666, 0.008259902249776884, 0.00522183467325817, 0.005274890430851453, 0.0015052688562452168, 0.0020817803193689736, 0.008699579821054453, 0.0009033470314301655, 0.001780654496920547, 0.0008916012081994571, 0.005210257676738443, 0.006328508526277888, 0.013277396981308878, 0.00387758731400526, 0.007256298648708057, 0.019771303180493097, 0.05843807277723102, 0.05551973492800662], \"yaxis\": \"y\"}],\n",
>>>>>>> a083f58117c24ecf875146665f41926c284f5015
       "                        {\"coloraxis\": {\"colorbar\": {\"title\": {\"text\": \"color\"}}, \"colorscale\": [[0.0, \"#00224e\"], [0.1111111111111111, \"#123570\"], [0.2222222222222222, \"#3b496c\"], [0.3333333333333333, \"#575d6d\"], [0.4444444444444444, \"#707173\"], [0.5555555555555556, \"#8a8678\"], [0.6666666666666666, \"#a59c74\"], [0.7777777777777778, \"#c3b369\"], [0.8888888888888888, \"#e1cc55\"], [1.0, \"#fee838\"]]}, \"height\": 600, \"legend\": {\"tracegroupgap\": 0}, \"margin\": {\"t\": 60}, \"template\": {\"data\": {\"bar\": [{\"error_x\": {\"color\": \"#2a3f5f\"}, \"error_y\": {\"color\": \"#2a3f5f\"}, \"marker\": {\"line\": {\"color\": \"#E5ECF6\", \"width\": 0.5}}, \"type\": \"bar\"}], \"barpolar\": [{\"marker\": {\"line\": {\"color\": \"#E5ECF6\", \"width\": 0.5}}, \"type\": \"barpolar\"}], \"carpet\": [{\"aaxis\": {\"endlinecolor\": \"#2a3f5f\", \"gridcolor\": \"white\", \"linecolor\": \"white\", \"minorgridcolor\": \"white\", \"startlinecolor\": \"#2a3f5f\"}, \"baxis\": {\"endlinecolor\": \"#2a3f5f\", \"gridcolor\": \"white\", \"linecolor\": \"white\", \"minorgridcolor\": \"white\", \"startlinecolor\": \"#2a3f5f\"}, \"type\": \"carpet\"}], \"choropleth\": [{\"colorbar\": {\"outlinewidth\": 0, \"ticks\": \"\"}, \"type\": \"choropleth\"}], \"contour\": [{\"colorbar\": {\"outlinewidth\": 0, \"ticks\": \"\"}, \"colorscale\": [[0.0, \"#0d0887\"], [0.1111111111111111, \"#46039f\"], [0.2222222222222222, \"#7201a8\"], [0.3333333333333333, \"#9c179e\"], [0.4444444444444444, \"#bd3786\"], [0.5555555555555556, \"#d8576b\"], [0.6666666666666666, \"#ed7953\"], [0.7777777777777778, \"#fb9f3a\"], [0.8888888888888888, \"#fdca26\"], [1.0, \"#f0f921\"]], \"type\": \"contour\"}], \"contourcarpet\": [{\"colorbar\": {\"outlinewidth\": 0, \"ticks\": \"\"}, \"type\": \"contourcarpet\"}], \"heatmap\": [{\"colorbar\": {\"outlinewidth\": 0, \"ticks\": \"\"}, \"colorscale\": [[0.0, \"#0d0887\"], [0.1111111111111111, \"#46039f\"], [0.2222222222222222, \"#7201a8\"], [0.3333333333333333, \"#9c179e\"], [0.4444444444444444, \"#bd3786\"], [0.5555555555555556, \"#d8576b\"], [0.6666666666666666, \"#ed7953\"], [0.7777777777777778, \"#fb9f3a\"], [0.8888888888888888, \"#fdca26\"], [1.0, \"#f0f921\"]], \"type\": \"heatmap\"}], \"heatmapgl\": [{\"colorbar\": {\"outlinewidth\": 0, \"ticks\": \"\"}, \"colorscale\": [[0.0, \"#0d0887\"], [0.1111111111111111, \"#46039f\"], [0.2222222222222222, \"#7201a8\"], [0.3333333333333333, \"#9c179e\"], [0.4444444444444444, \"#bd3786\"], [0.5555555555555556, \"#d8576b\"], [0.6666666666666666, \"#ed7953\"], [0.7777777777777778, \"#fb9f3a\"], [0.8888888888888888, \"#fdca26\"], [1.0, \"#f0f921\"]], \"type\": \"heatmapgl\"}], \"histogram\": [{\"marker\": {\"colorbar\": {\"outlinewidth\": 0, \"ticks\": \"\"}}, \"type\": \"histogram\"}], \"histogram2d\": [{\"colorbar\": {\"outlinewidth\": 0, \"ticks\": \"\"}, \"colorscale\": [[0.0, \"#0d0887\"], [0.1111111111111111, \"#46039f\"], [0.2222222222222222, \"#7201a8\"], [0.3333333333333333, \"#9c179e\"], [0.4444444444444444, \"#bd3786\"], [0.5555555555555556, \"#d8576b\"], [0.6666666666666666, \"#ed7953\"], [0.7777777777777778, \"#fb9f3a\"], [0.8888888888888888, \"#fdca26\"], [1.0, \"#f0f921\"]], \"type\": \"histogram2d\"}], \"histogram2dcontour\": [{\"colorbar\": {\"outlinewidth\": 0, \"ticks\": \"\"}, \"colorscale\": [[0.0, \"#0d0887\"], [0.1111111111111111, \"#46039f\"], [0.2222222222222222, \"#7201a8\"], [0.3333333333333333, \"#9c179e\"], [0.4444444444444444, \"#bd3786\"], [0.5555555555555556, \"#d8576b\"], [0.6666666666666666, \"#ed7953\"], [0.7777777777777778, \"#fb9f3a\"], [0.8888888888888888, \"#fdca26\"], [1.0, \"#f0f921\"]], \"type\": \"histogram2dcontour\"}], \"mesh3d\": [{\"colorbar\": {\"outlinewidth\": 0, \"ticks\": \"\"}, \"type\": \"mesh3d\"}], \"parcoords\": [{\"line\": {\"colorbar\": {\"outlinewidth\": 0, \"ticks\": \"\"}}, \"type\": \"parcoords\"}], \"scatter\": [{\"marker\": {\"colorbar\": {\"outlinewidth\": 0, \"ticks\": \"\"}}, \"type\": \"scatter\"}], \"scatter3d\": [{\"line\": {\"colorbar\": {\"outlinewidth\": 0, \"ticks\": \"\"}}, \"marker\": {\"colorbar\": {\"outlinewidth\": 0, \"ticks\": \"\"}}, \"type\": \"scatter3d\"}], \"scattercarpet\": [{\"marker\": {\"colorbar\": {\"outlinewidth\": 0, \"ticks\": \"\"}}, \"type\": \"scattercarpet\"}], \"scattergeo\": [{\"marker\": {\"colorbar\": {\"outlinewidth\": 0, \"ticks\": \"\"}}, \"type\": \"scattergeo\"}], \"scattergl\": [{\"marker\": {\"colorbar\": {\"outlinewidth\": 0, \"ticks\": \"\"}}, \"type\": \"scattergl\"}], \"scattermapbox\": [{\"marker\": {\"colorbar\": {\"outlinewidth\": 0, \"ticks\": \"\"}}, \"type\": \"scattermapbox\"}], \"scatterpolar\": [{\"marker\": {\"colorbar\": {\"outlinewidth\": 0, \"ticks\": \"\"}}, \"type\": \"scatterpolar\"}], \"scatterpolargl\": [{\"marker\": {\"colorbar\": {\"outlinewidth\": 0, \"ticks\": \"\"}}, \"type\": \"scatterpolargl\"}], \"scatterternary\": [{\"marker\": {\"colorbar\": {\"outlinewidth\": 0, \"ticks\": \"\"}}, \"type\": \"scatterternary\"}], \"surface\": [{\"colorbar\": {\"outlinewidth\": 0, \"ticks\": \"\"}, \"colorscale\": [[0.0, \"#0d0887\"], [0.1111111111111111, \"#46039f\"], [0.2222222222222222, \"#7201a8\"], [0.3333333333333333, \"#9c179e\"], [0.4444444444444444, \"#bd3786\"], [0.5555555555555556, \"#d8576b\"], [0.6666666666666666, \"#ed7953\"], [0.7777777777777778, \"#fb9f3a\"], [0.8888888888888888, \"#fdca26\"], [1.0, \"#f0f921\"]], \"type\": \"surface\"}], \"table\": [{\"cells\": {\"fill\": {\"color\": \"#EBF0F8\"}, \"line\": {\"color\": \"white\"}}, \"header\": {\"fill\": {\"color\": \"#C8D4E3\"}, \"line\": {\"color\": \"white\"}}, \"type\": \"table\"}]}, \"layout\": {\"annotationdefaults\": {\"arrowcolor\": \"#2a3f5f\", \"arrowhead\": 0, \"arrowwidth\": 1}, \"colorscale\": {\"diverging\": [[0, \"#8e0152\"], [0.1, \"#c51b7d\"], [0.2, \"#de77ae\"], [0.3, \"#f1b6da\"], [0.4, \"#fde0ef\"], [0.5, \"#f7f7f7\"], [0.6, \"#e6f5d0\"], [0.7, \"#b8e186\"], [0.8, \"#7fbc41\"], [0.9, \"#4d9221\"], [1, \"#276419\"]], \"sequential\": [[0.0, \"#0d0887\"], [0.1111111111111111, \"#46039f\"], [0.2222222222222222, \"#7201a8\"], [0.3333333333333333, \"#9c179e\"], [0.4444444444444444, \"#bd3786\"], [0.5555555555555556, \"#d8576b\"], [0.6666666666666666, \"#ed7953\"], [0.7777777777777778, \"#fb9f3a\"], [0.8888888888888888, \"#fdca26\"], [1.0, \"#f0f921\"]], \"sequentialminus\": [[0.0, \"#0d0887\"], [0.1111111111111111, \"#46039f\"], [0.2222222222222222, \"#7201a8\"], [0.3333333333333333, \"#9c179e\"], [0.4444444444444444, \"#bd3786\"], [0.5555555555555556, \"#d8576b\"], [0.6666666666666666, \"#ed7953\"], [0.7777777777777778, \"#fb9f3a\"], [0.8888888888888888, \"#fdca26\"], [1.0, \"#f0f921\"]]}, \"colorway\": [\"#636efa\", \"#EF553B\", \"#00cc96\", \"#ab63fa\", \"#FFA15A\", \"#19d3f3\", \"#FF6692\", \"#B6E880\", \"#FF97FF\", \"#FECB52\"], \"font\": {\"color\": \"#2a3f5f\"}, \"geo\": {\"bgcolor\": \"white\", \"lakecolor\": \"white\", \"landcolor\": \"#E5ECF6\", \"showlakes\": true, \"showland\": true, \"subunitcolor\": \"white\"}, \"hoverlabel\": {\"align\": \"left\"}, \"hovermode\": \"closest\", \"mapbox\": {\"style\": \"light\"}, \"paper_bgcolor\": \"white\", \"plot_bgcolor\": \"#E5ECF6\", \"polar\": {\"angularaxis\": {\"gridcolor\": \"white\", \"linecolor\": \"white\", \"ticks\": \"\"}, \"bgcolor\": \"#E5ECF6\", \"radialaxis\": {\"gridcolor\": \"white\", \"linecolor\": \"white\", \"ticks\": \"\"}}, \"scene\": {\"xaxis\": {\"backgroundcolor\": \"#E5ECF6\", \"gridcolor\": \"white\", \"gridwidth\": 2, \"linecolor\": \"white\", \"showbackground\": true, \"ticks\": \"\", \"zerolinecolor\": \"white\"}, \"yaxis\": {\"backgroundcolor\": \"#E5ECF6\", \"gridcolor\": \"white\", \"gridwidth\": 2, \"linecolor\": \"white\", \"showbackground\": true, \"ticks\": \"\", \"zerolinecolor\": \"white\"}, \"zaxis\": {\"backgroundcolor\": \"#E5ECF6\", \"gridcolor\": \"white\", \"gridwidth\": 2, \"linecolor\": \"white\", \"showbackground\": true, \"ticks\": \"\", \"zerolinecolor\": \"white\"}}, \"shapedefaults\": {\"line\": {\"color\": \"#2a3f5f\"}}, \"ternary\": {\"aaxis\": {\"gridcolor\": \"white\", \"linecolor\": \"white\", \"ticks\": \"\"}, \"baxis\": {\"gridcolor\": \"white\", \"linecolor\": \"white\", \"ticks\": \"\"}, \"bgcolor\": \"#E5ECF6\", \"caxis\": {\"gridcolor\": \"white\", \"linecolor\": \"white\", \"ticks\": \"\"}}, \"title\": {\"x\": 0.05}, \"xaxis\": {\"automargin\": true, \"gridcolor\": \"white\", \"linecolor\": \"white\", \"ticks\": \"\", \"zerolinecolor\": \"white\", \"zerolinewidth\": 2}, \"yaxis\": {\"automargin\": true, \"gridcolor\": \"white\", \"linecolor\": \"white\", \"ticks\": \"\", \"zerolinecolor\": \"white\", \"zerolinewidth\": 2}}}, \"xaxis\": {\"anchor\": \"y\", \"domain\": [0.0, 0.98], \"title\": {\"text\": \"x\"}}, \"yaxis\": {\"anchor\": \"x\", \"domain\": [0.0, 1.0], \"title\": {\"text\": \"y\"}}},\n",
       "                        {\"responsive\": true}\n",
       "                    ).then(function(){\n",
       "                            \n",
<<<<<<< HEAD
       "var gd = document.getElementById('b69af2ea-165d-4815-b906-814b16a0745c');\n",
=======
       "var gd = document.getElementById('f7678cdf-1948-4366-bfbc-111c3d71e8eb');\n",
>>>>>>> a083f58117c24ecf875146665f41926c284f5015
       "var x = new MutationObserver(function (mutations, observer) {{\n",
       "        var display = window.getComputedStyle(gd).display;\n",
       "        if (!display || display === 'none') {{\n",
       "            console.log([gd, 'removed!']);\n",
       "            Plotly.purge(gd);\n",
       "            observer.disconnect();\n",
       "        }}\n",
       "}});\n",
       "\n",
       "// Listen for the removal of the full notebook cells\n",
       "var notebookContainer = gd.closest('#notebook-container');\n",
       "if (notebookContainer) {{\n",
       "    x.observe(notebookContainer, {childList: true});\n",
       "}}\n",
       "\n",
       "// Listen for the clearing of the current output cell\n",
       "var outputEl = gd.closest('.output');\n",
       "if (outputEl) {{\n",
       "    x.observe(outputEl, {childList: true});\n",
       "}}\n",
       "\n",
       "                        })\n",
       "                };\n",
       "                });\n",
       "            </script>\n",
       "        </div>"
      ]
     },
     "metadata": {},
     "output_type": "display_data"
    }
   ],
   "source": [
    "y = rf.feature_importances_\n",
    "x=teste.columns.values\n",
    "fig = px.scatter( x=x, y=y,color=y,\n",
    "                  color_continuous_scale='Cividis')\n",
    "\n",
    "fig.show()\n"
   ]
  },
  {
   "cell_type": "code",
<<<<<<< HEAD
   "execution_count": 97,
=======
   "execution_count": 512,
>>>>>>> a083f58117c24ecf875146665f41926c284f5015
   "metadata": {},
   "outputs": [
    {
     "data": {
      "text/html": [
       "<div>\n",
       "<style scoped>\n",
       "    .dataframe tbody tr th:only-of-type {\n",
       "        vertical-align: middle;\n",
       "    }\n",
       "\n",
       "    .dataframe tbody tr th {\n",
       "        vertical-align: top;\n",
       "    }\n",
       "\n",
       "    .dataframe thead th {\n",
       "        text-align: right;\n",
       "    }\n",
       "</style>\n",
       "<table border=\"1\" class=\"dataframe\">\n",
       "  <thead>\n",
       "    <tr style=\"text-align: right;\">\n",
       "      <th>Attrition</th>\n",
       "      <th>0</th>\n",
       "      <th>1</th>\n",
       "    </tr>\n",
       "    <tr>\n",
       "      <th>row_0</th>\n",
       "      <th></th>\n",
       "      <th></th>\n",
       "    </tr>\n",
       "  </thead>\n",
       "  <tbody>\n",
       "    <tr>\n",
       "      <th>0</th>\n",
       "      <td>0.900709</td>\n",
       "      <td>0.913043</td>\n",
       "    </tr>\n",
       "    <tr>\n",
       "      <th>1</th>\n",
       "      <td>0.099291</td>\n",
       "      <td>0.086957</td>\n",
       "    </tr>\n",
       "  </tbody>\n",
       "</table>\n",
       "</div>"
      ],
      "text/plain": [
       "Attrition         0         1\n",
       "row_0                        \n",
       "0          0.900709  0.913043\n",
       "1          0.099291  0.086957"
      ]
     },
<<<<<<< HEAD
     "execution_count": 97,
=======
     "execution_count": 512,
>>>>>>> a083f58117c24ecf875146665f41926c284f5015
     "metadata": {},
     "output_type": "execute_result"
    }
   ],
   "source": [
    "prediction = pd.Series(rf2_predictions)\n",
    "pd.crosstab(prediction,target_val,normalize='columns')"
   ]
  },
  {
   "cell_type": "code",
<<<<<<< HEAD
   "execution_count": 98,
=======
   "execution_count": null,
>>>>>>> a083f58117c24ecf875146665f41926c284f5015
   "metadata": {},
   "outputs": [],
   "source": []
  },
  {
   "cell_type": "markdown",
   "metadata": {},
   "source": [
    "## Gradient Boost\n",
    "\n",
    "O Gradient Boost é um grupo de algoritmos de machine learning que combina modelos de predição \"fracos\" para criar um modelo forte. (Generaliza nossa amostra)"
   ]
  },
  {
   "cell_type": "code",
<<<<<<< HEAD
   "execution_count": 99,
=======
   "execution_count": 485,
>>>>>>> a083f58117c24ecf875146665f41926c284f5015
   "metadata": {},
   "outputs": [
    {
     "data": {
      "text/plain": [
       "XGBClassifier(base_score=0.5, booster='gbtree', colsample_bylevel=1,\n",
       "              colsample_bynode=1, colsample_bytree=1, gamma=0,\n",
       "              learning_rate=0.1, max_delta_step=0, max_depth=3,\n",
       "              min_child_weight=1, missing=None, n_estimators=100, n_jobs=1,\n",
       "              nthread=None, objective='binary:logistic', random_state=0,\n",
       "              reg_alpha=0, reg_lambda=1, scale_pos_weight=1, seed=None,\n",
       "              silent=None, subsample=1, verbosity=1)"
      ]
     },
<<<<<<< HEAD
     "execution_count": 99,
=======
     "execution_count": 485,
>>>>>>> a083f58117c24ecf875146665f41926c284f5015
     "metadata": {},
     "output_type": "execute_result"
    }
   ],
   "source": [
    "gradient = XGBClassifier()\n",
    "gradient.fit(train, target_train)\n"
   ]
  },
  {
   "cell_type": "code",
<<<<<<< HEAD
   "execution_count": 100,
=======
   "execution_count": 486,
>>>>>>> a083f58117c24ecf875146665f41926c284f5015
   "metadata": {},
   "outputs": [
    {
     "name": "stdout",
     "output_type": "stream",
     "text": [
      "Accuracy: 87.60%\n"
     ]
    },
    {
     "data": {
      "text/html": [
       "<div>\n",
       "<style scoped>\n",
       "    .dataframe tbody tr th:only-of-type {\n",
       "        vertical-align: middle;\n",
       "    }\n",
       "\n",
       "    .dataframe tbody tr th {\n",
       "        vertical-align: top;\n",
       "    }\n",
       "\n",
       "    .dataframe thead th {\n",
       "        text-align: right;\n",
       "    }\n",
       "</style>\n",
       "<table border=\"1\" class=\"dataframe\">\n",
       "  <thead>\n",
       "    <tr style=\"text-align: right;\">\n",
       "      <th>Attrition</th>\n",
       "      <th>0</th>\n",
       "      <th>1</th>\n",
       "    </tr>\n",
       "    <tr>\n",
       "      <th>row_0</th>\n",
       "      <th></th>\n",
       "      <th></th>\n",
       "    </tr>\n",
       "  </thead>\n",
       "  <tbody>\n",
       "    <tr>\n",
       "      <th>0</th>\n",
       "      <td>0.980952</td>\n",
       "      <td>0.675</td>\n",
       "    </tr>\n",
       "    <tr>\n",
       "      <th>1</th>\n",
       "      <td>0.019048</td>\n",
       "      <td>0.325</td>\n",
       "    </tr>\n",
       "  </tbody>\n",
       "</table>\n",
       "</div>"
      ],
      "text/plain": [
       "Attrition         0      1\n",
       "row_0                     \n",
       "0          0.980952  0.675\n",
       "1          0.019048  0.325"
      ]
     },
<<<<<<< HEAD
     "execution_count": 100,
=======
     "execution_count": 486,
>>>>>>> a083f58117c24ecf875146665f41926c284f5015
     "metadata": {},
     "output_type": "execute_result"
    }
   ],
   "source": [
    "# make predictions for test data\n",
    "y_pred = gradient.predict(test)\n",
    "predictions = [round(value) for value in y_pred]\n",
    "\n",
    "# evaluate predictions\n",
    "accuracy = accuracy_score(y_pred, target_val)\n",
    "print(\"Accuracy: %.2f%%\" % (accuracy * 100.0))\n",
    "\n",
    "\n",
    "\n",
    "pd.crosstab(y_pred,target_val,normalize='columns')"
   ]
  },
  {
   "cell_type": "code",
<<<<<<< HEAD
   "execution_count": 101,
=======
   "execution_count": 487,
>>>>>>> a083f58117c24ecf875146665f41926c284f5015
   "metadata": {},
   "outputs": [
    {
     "data": {
      "text/plain": [
       "{'OverTime_No': 8.04813549222222,\n",
       " 'MonthlyIncome': 4.995825203450704,\n",
       " 'JobRole_Research Scientist': 4.035905638333333,\n",
       " 'MaritalStatus_Single': 6.589017867999999,\n",
       " 'TotalWorkingYears': 5.0010261175,\n",
       " 'HourlyRate': 3.1621396371428565,\n",
       " 'WorkLifeBalance': 4.107986085625,\n",
       " 'YearsAtCompany': 3.136542966666666,\n",
       " 'JobInvolvement': 3.451937500421052,\n",
       " 'StockOptionLevel': 6.280462625499999,\n",
       " 'DistanceFromHome': 3.6126385329999997,\n",
       " 'YearsWithCurrManager': 6.096704504642859,\n",
       " 'EnvironmentSatisfaction': 3.842873687407407,\n",
       " 'Age': 5.191997277475925,\n",
       " 'BusinessTravel_Travel_Frequently': 4.926074028461539,\n",
       " 'JobLevel': 8.273410414999999,\n",
       " 'YearsInCurrentRole': 2.9172763424999997,\n",
       " 'JobSatisfaction': 3.2480153457599994,\n",
       " 'NumCompaniesWorked': 4.293732775625,\n",
       " 'JobRole_Sales Executive': 6.709451544285715,\n",
       " 'RelationshipSatisfaction': 3.5085460122800005,\n",
       " 'EmployeeNumber': 3.062351009761905,\n",
       " 'BusinessTravel_Non-Travel': 2.532826527142857,\n",
       " 'PercentSalaryHike': 3.1428592046666664,\n",
       " 'MonthlyRate': 2.7805755996388886,\n",
       " 'YearsSinceLastPromotion': 3.366501533588235,\n",
       " 'JobRole_Sales Representative': 3.6823115820000005,\n",
       " 'EducationField_Technical Degree': 3.762796798333333,\n",
       " 'JobRole_Laboratory Technician': 2.938800533333333,\n",
       " 'JobRole_Manufacturing Director': 3.031598726666667,\n",
       " 'Department_Research & Development': 4.023900127999999,\n",
       " 'Education': 1.6746608,\n",
       " 'EducationField_Marketing': 3.4663617650000003,\n",
       " 'TrainingTimesLastYear': 2.354264775555555,\n",
       " 'EducationField_Life Sciences': 1.5081555433333331,\n",
       " 'Gender_Female': 2.52437536,\n",
       " 'EducationField_Medical': 2.04899359,\n",
       " 'Department_Sales': 1.86172229,\n",
       " 'MaritalStatus_Married': 3.12836838,\n",
       " 'EducationField_Human Resources': 1.46847081}"
      ]
     },
<<<<<<< HEAD
     "execution_count": 101,
=======
     "execution_count": 487,
>>>>>>> a083f58117c24ecf875146665f41926c284f5015
     "metadata": {},
     "output_type": "execute_result"
    }
   ],
   "source": [
    "gradient.get_booster().get_score(importance_type=\"gain\")\n",
    "#fazer o plotly"
   ]
  },
  {
   "cell_type": "markdown",
   "metadata": {},
   "source": [
    "## Gradient  com SMOTE\n"
   ]
  },
  {
   "cell_type": "code",
   "execution_count": 488,
   "metadata": {},
   "outputs": [
    {
     "data": {
      "text/plain": [
       "XGBClassifier(base_score=0.5, booster='gbtree', colsample_bylevel=1,\n",
       "              colsample_bynode=1, colsample_bytree=1, gamma=0,\n",
       "              learning_rate=0.1, max_delta_step=0, max_depth=3,\n",
       "              min_child_weight=1, missing=None, n_estimators=100, n_jobs=1,\n",
       "              nthread=None, objective='binary:logistic', random_state=0,\n",
       "              reg_alpha=0, reg_lambda=1, scale_pos_weight=1, seed=None,\n",
       "              silent=None, subsample=1, verbosity=1)"
      ]
     },
     "execution_count": 488,
     "metadata": {},
     "output_type": "execute_result"
    }
   ],
   "source": [
    "gradient2 = XGBClassifier()\n",
    "gradient2.fit(smote_train, smote_target)"
   ]
  },
  {
   "cell_type": "markdown",
   "metadata": {},
   "source": [
    "___\n",
    "* ## *Regressão Logistica*\n",
    "\n"
   ]
  },
  {
   "cell_type": "code",
<<<<<<< HEAD
   "execution_count": 102,
=======
   "execution_count": 489,
>>>>>>> a083f58117c24ecf875146665f41926c284f5015
   "metadata": {},
   "outputs": [],
   "source": [
    "reg = linear_model.LogisticRegression() \n"
   ]
  },
  {
   "cell_type": "code",
<<<<<<< HEAD
   "execution_count": 103,
=======
   "execution_count": 490,
>>>>>>> a083f58117c24ecf875146665f41926c284f5015
   "metadata": {},
   "outputs": [
    {
     "name": "stderr",
     "output_type": "stream",
     "text": [
      "C:\\Users\\anton\\Anaconda3\\lib\\site-packages\\sklearn\\linear_model\\logistic.py:432: FutureWarning:\n",
      "\n",
      "Default solver will be changed to 'lbfgs' in 0.22. Specify a solver to silence this warning.\n",
      "\n"
     ]
    }
   ],
   "source": [
    "reg.fit(train, target_train) \n",
    "y_pred = reg.predict(test) \n"
   ]
  },
  {
   "cell_type": "code",
<<<<<<< HEAD
   "execution_count": 104,
=======
   "execution_count": 491,
>>>>>>> a083f58117c24ecf875146665f41926c284f5015
   "metadata": {},
   "outputs": [
    {
     "data": {
      "text/plain": [
       "0.88"
      ]
     },
<<<<<<< HEAD
     "execution_count": 104,
=======
     "execution_count": 491,
>>>>>>> a083f58117c24ecf875146665f41926c284f5015
     "metadata": {},
     "output_type": "execute_result"
    }
   ],
   "source": [
    "metrics.accuracy_score(target_val,y_pred) \n"
   ]
  },
  {
   "cell_type": "code",
<<<<<<< HEAD
   "execution_count": 105,
=======
   "execution_count": 492,
>>>>>>> a083f58117c24ecf875146665f41926c284f5015
   "metadata": {
    "scrolled": false
   },
   "outputs": [
    {
     "data": {
      "text/html": [
       "<div>\n",
       "<style scoped>\n",
       "    .dataframe tbody tr th:only-of-type {\n",
       "        vertical-align: middle;\n",
       "    }\n",
       "\n",
       "    .dataframe tbody tr th {\n",
       "        vertical-align: top;\n",
       "    }\n",
       "\n",
       "    .dataframe thead th {\n",
       "        text-align: right;\n",
       "    }\n",
       "</style>\n",
       "<table border=\"1\" class=\"dataframe\">\n",
       "  <thead>\n",
       "    <tr style=\"text-align: right;\">\n",
       "      <th>Attrition</th>\n",
       "      <th>0</th>\n",
       "      <th>1</th>\n",
       "    </tr>\n",
       "    <tr>\n",
       "      <th>row_0</th>\n",
       "      <th></th>\n",
       "      <th></th>\n",
       "    </tr>\n",
       "  </thead>\n",
       "  <tbody>\n",
       "    <tr>\n",
       "      <th>0</th>\n",
       "      <td>0.990476</td>\n",
       "      <td>0.7</td>\n",
       "    </tr>\n",
       "    <tr>\n",
       "      <th>1</th>\n",
       "      <td>0.009524</td>\n",
       "      <td>0.3</td>\n",
       "    </tr>\n",
       "  </tbody>\n",
       "</table>\n",
       "</div>"
      ],
      "text/plain": [
       "Attrition         0    1\n",
       "row_0                   \n",
       "0          0.990476  0.7\n",
       "1          0.009524  0.3"
      ]
     },
<<<<<<< HEAD
     "execution_count": 105,
=======
     "execution_count": 492,
>>>>>>> a083f58117c24ecf875146665f41926c284f5015
     "metadata": {},
     "output_type": "execute_result"
    }
   ],
   "source": [
    "\n",
    "pd.crosstab(y_pred,target_val,normalize='columns')"
   ]
  },
  {
<<<<<<< HEAD
   "cell_type": "code",
   "execution_count": 106,
=======
   "cell_type": "markdown",
   "metadata": {},
   "source": [
    "# Regressão Logistica com SMOTE"
   ]
  },
  {
   "cell_type": "code",
   "execution_count": 493,
   "metadata": {},
   "outputs": [
    {
     "name": "stderr",
     "output_type": "stream",
     "text": [
      "C:\\Users\\Willian\\Anaconda3\\lib\\site-packages\\sklearn\\linear_model\\logistic.py:432: FutureWarning:\n",
      "\n",
      "Default solver will be changed to 'lbfgs' in 0.22. Specify a solver to silence this warning.\n",
      "\n"
     ]
    }
   ],
   "source": [
    "reg2 = linear_model.LogisticRegression() \n",
    "reg2.fit(smote_train, smote_target) \n",
    "y_pred2 = reg2.predict(test) \n"
   ]
  },
  {
   "cell_type": "code",
   "execution_count": 494,
   "metadata": {},
   "outputs": [
    {
     "data": {
      "text/plain": [
       "0.86"
      ]
     },
     "execution_count": 494,
     "metadata": {},
     "output_type": "execute_result"
    }
   ],
   "source": [
    "metrics.accuracy_score(target_val,y_pred2) \n"
   ]
  },
  {
   "cell_type": "code",
   "execution_count": 495,
   "metadata": {},
   "outputs": [
    {
     "data": {
      "text/html": [
       "<div>\n",
       "<style scoped>\n",
       "    .dataframe tbody tr th:only-of-type {\n",
       "        vertical-align: middle;\n",
       "    }\n",
       "\n",
       "    .dataframe tbody tr th {\n",
       "        vertical-align: top;\n",
       "    }\n",
       "\n",
       "    .dataframe thead th {\n",
       "        text-align: right;\n",
       "    }\n",
       "</style>\n",
       "<table border=\"1\" class=\"dataframe\">\n",
       "  <thead>\n",
       "    <tr style=\"text-align: right;\">\n",
       "      <th>Attrition</th>\n",
       "      <th>0</th>\n",
       "      <th>1</th>\n",
       "    </tr>\n",
       "    <tr>\n",
       "      <th>row_0</th>\n",
       "      <th></th>\n",
       "      <th></th>\n",
       "    </tr>\n",
       "  </thead>\n",
       "  <tbody>\n",
       "    <tr>\n",
       "      <th>0</th>\n",
       "      <td>0.990476</td>\n",
       "      <td>0.7</td>\n",
       "    </tr>\n",
       "    <tr>\n",
       "      <th>1</th>\n",
       "      <td>0.009524</td>\n",
       "      <td>0.3</td>\n",
       "    </tr>\n",
       "  </tbody>\n",
       "</table>\n",
       "</div>"
      ],
      "text/plain": [
       "Attrition         0    1\n",
       "row_0                   \n",
       "0          0.990476  0.7\n",
       "1          0.009524  0.3"
      ]
     },
     "execution_count": 495,
     "metadata": {},
     "output_type": "execute_result"
    }
   ],
   "source": [
    "pd.crosstab(y_pred,target_val,normalize='columns')"
   ]
  },
  {
   "cell_type": "markdown",
   "metadata": {},
   "source": [
    "* ## *SVM*\n",
    " \n",
    " \n",
    " # Colocar SVM  no final do notebook, demora"
   ]
  },
  {
   "cell_type": "code",
   "execution_count": 496,
>>>>>>> a083f58117c24ecf875146665f41926c284f5015
   "metadata": {},
   "outputs": [
    {
     "data": {
      "text/html": [
       "<div>\n",
       "<style scoped>\n",
       "    .dataframe tbody tr th:only-of-type {\n",
       "        vertical-align: middle;\n",
       "    }\n",
       "\n",
       "    .dataframe tbody tr th {\n",
       "        vertical-align: top;\n",
       "    }\n",
       "\n",
       "    .dataframe thead th {\n",
       "        text-align: right;\n",
       "    }\n",
       "</style>\n",
       "<table border=\"1\" class=\"dataframe\">\n",
       "  <thead>\n",
       "    <tr style=\"text-align: right;\">\n",
       "      <th>Attrition</th>\n",
       "      <th>0</th>\n",
       "      <th>1</th>\n",
       "    </tr>\n",
       "    <tr>\n",
       "      <th>row_0</th>\n",
       "      <th></th>\n",
       "      <th></th>\n",
       "    </tr>\n",
       "  </thead>\n",
       "  <tbody>\n",
       "    <tr>\n",
       "      <th>0</th>\n",
       "      <td>0.935714</td>\n",
       "      <td>0.6375</td>\n",
       "    </tr>\n",
       "    <tr>\n",
       "      <th>1</th>\n",
       "      <td>0.064286</td>\n",
       "      <td>0.3625</td>\n",
       "    </tr>\n",
       "  </tbody>\n",
       "</table>\n",
       "</div>"
      ],
      "text/plain": [
       "Attrition         0       1\n",
       "row_0                      \n",
       "0          0.935714  0.6375\n",
       "1          0.064286  0.3625"
      ]
     },
     "execution_count": 106,
     "metadata": {},
     "output_type": "execute_result"
    }
   ],
   "source": [
    "classifier = AdaBoostClassifier(\n",
    "    DecisionTreeClassifier(max_depth=1),\n",
    "    n_estimators=200\n",
    ")\n",
    "classifier.fit(train, target_train)\n",
    "\n",
<<<<<<< HEAD
    "predictions = classifier.predict(test)\n",
    "\n",
    "pd.crosstab(predictions,target_val,normalize='columns')"
=======
    "#svclassifier = SVC(kernel='linear')\n",
    "#svclassifier.fit(train, target_train)\n",
    "#y_pred = svclassifier.predict(test)\n"
   ]
  },
  {
   "cell_type": "code",
   "execution_count": 497,
   "metadata": {},
   "outputs": [],
   "source": [
    "#print(confusion_matrix(target_val,y_pred))\n",
    "#print(classification_report(target_val,y_pred))"
   ]
  },
  {
   "cell_type": "code",
   "execution_count": 498,
   "metadata": {},
   "outputs": [],
   "source": [
    "#pd.crosstab(y_pred,target_val,normalize='columns')"
   ]
  },
  {
   "cell_type": "code",
   "execution_count": 499,
   "metadata": {},
   "outputs": [],
   "source": [
    "#svclassifier1 = SVC(kernel='sigmoid')\n",
    "#svclassifier1.fit(train, target_train)\n",
    "#y_pred1 = svclassifier1.predict(test)"
   ]
  },
  {
   "cell_type": "code",
   "execution_count": 500,
   "metadata": {},
   "outputs": [],
   "source": [
    "#print(confusion_matrix(target_val,y_pred1))\n",
    "#print(classification_report(target_val,y_pred1))"
   ]
  },
  {
   "cell_type": "code",
   "execution_count": 501,
   "metadata": {},
   "outputs": [],
   "source": [
    "#pd.crosstab(y_pred1,target_val,normalize='columns')"
>>>>>>> a083f58117c24ecf875146665f41926c284f5015
   ]
  },
  {
   "cell_type": "markdown",
   "metadata": {},
   "source": [
    " # SVM com SMOTE"
   ]
  },
  {
   "cell_type": "code",
<<<<<<< HEAD
   "execution_count": 107,
=======
   "execution_count": 502,
>>>>>>> a083f58117c24ecf875146665f41926c284f5015
   "metadata": {},
   "outputs": [
    {
     "ename": "SyntaxError",
     "evalue": "EOF while scanning triple-quoted string literal (<ipython-input-502-32a1fb74c1ea>, line 6)",
     "output_type": "error",
     "traceback": [
      "\u001b[1;36m  File \u001b[1;32m\"<ipython-input-502-32a1fb74c1ea>\"\u001b[1;36m, line \u001b[1;32m6\u001b[0m\n\u001b[1;33m    print(classification_report(target_val,y_pred3))\u001b[0m\n\u001b[1;37m                                                    \n^\u001b[0m\n\u001b[1;31mSyntaxError\u001b[0m\u001b[1;31m:\u001b[0m EOF while scanning triple-quoted string literal\n"
     ]
    }
   ],
   "source": [
    "'''\n",
    "svclassifier2 = SVC(kernel='linear')\n",
    "svclassifier2.fit(smote_train, smote_target)\n",
    "y_pred3 = svclassifier2.predict(test)\n",
    "print(confusion_matrix(target_val,y_pred3))\n",
    "print(classification_report(target_val,y_pred3))"
   ]
  },
  {
   "cell_type": "code",
<<<<<<< HEAD
   "execution_count": 108,
=======
   "execution_count": null,
>>>>>>> a083f58117c24ecf875146665f41926c284f5015
   "metadata": {},
   "outputs": [],
   "source": [
    "'''\n",
    "pd.crosstab(y_pred3,target_val,normalize='columns')"
   ]
  },
  {
<<<<<<< HEAD
   "cell_type": "code",
   "execution_count": 109,
   "metadata": {},
   "outputs": [
    {
     "ename": "AttributeError",
     "evalue": "module 'pandas' has no attribute 'numeric'",
     "output_type": "error",
     "traceback": [
      "\u001b[1;31m---------------------------------------------------------------------------\u001b[0m",
      "\u001b[1;31mAttributeError\u001b[0m                            Traceback (most recent call last)",
      "\u001b[1;32m<ipython-input-109-da2538f05d6a>\u001b[0m in \u001b[0;36m<module>\u001b[1;34m\u001b[0m\n\u001b[0;32m      6\u001b[0m     \u001b[0mteste2\u001b[0m\u001b[1;33m[\u001b[0m\u001b[0mcol\u001b[0m\u001b[1;33m]\u001b[0m\u001b[1;33m=\u001b[0m\u001b[0mteste2\u001b[0m\u001b[1;33m[\u001b[0m\u001b[0mcol\u001b[0m\u001b[1;33m]\u001b[0m\u001b[1;33m.\u001b[0m\u001b[0mastype\u001b[0m\u001b[1;33m(\u001b[0m\u001b[0mfloat\u001b[0m\u001b[1;33m)\u001b[0m\u001b[1;33m\u001b[0m\u001b[1;33m\u001b[0m\u001b[0m\n\u001b[0;32m      7\u001b[0m     \u001b[0mteste2\u001b[0m\u001b[1;33m[\u001b[0m\u001b[1;33m[\u001b[0m\u001b[0mcol\u001b[0m\u001b[1;33m]\u001b[0m\u001b[1;33m]\u001b[0m\u001b[1;33m=\u001b[0m\u001b[0mscaler\u001b[0m\u001b[1;33m.\u001b[0m\u001b[0mfit_transform\u001b[0m\u001b[1;33m(\u001b[0m\u001b[0mteste\u001b[0m\u001b[1;33m[\u001b[0m\u001b[1;33m[\u001b[0m\u001b[0mcol\u001b[0m\u001b[1;33m]\u001b[0m\u001b[1;33m]\u001b[0m\u001b[1;33m)\u001b[0m\u001b[1;33m\u001b[0m\u001b[1;33m\u001b[0m\u001b[0m\n\u001b[1;32m----> 8\u001b[1;33m \u001b[0mteste2\u001b[0m\u001b[1;33m[\u001b[0m\u001b[1;34m'Attrition'\u001b[0m\u001b[1;33m]\u001b[0m\u001b[1;33m=\u001b[0m\u001b[0mpd\u001b[0m\u001b[1;33m.\u001b[0m\u001b[0mnumeric\u001b[0m\u001b[1;33m(\u001b[0m\u001b[0mteste\u001b[0m\u001b[1;33m[\u001b[0m\u001b[1;34m'Attrition'\u001b[0m\u001b[1;33m]\u001b[0m\u001b[1;33m,\u001b[0m\u001b[0mdowncast\u001b[0m\u001b[1;33m=\u001b[0m\u001b[1;34m'float'\u001b[0m\u001b[1;33m)\u001b[0m\u001b[1;33m\u001b[0m\u001b[1;33m\u001b[0m\u001b[0m\n\u001b[0m",
      "\u001b[1;31mAttributeError\u001b[0m: module 'pandas' has no attribute 'numeric'"
     ]
    }
   ],
=======
   "cell_type": "markdown",
   "metadata": {},
>>>>>>> a083f58117c24ecf875146665f41926c284f5015
   "source": [
    "Tentando aumentar as chancer de 1 e 1 serem verdadeiras"
   ]
  },
  {
<<<<<<< HEAD
   "cell_type": "code",
   "execution_count": null,
   "metadata": {},
   "outputs": [],
=======
   "cell_type": "markdown",
   "metadata": {},
>>>>>>> a083f58117c24ecf875146665f41926c284f5015
   "source": [
    "# sgd CLASSIFIER\n"
   ]
  },
  {
   "cell_type": "code",
   "execution_count": null,
   "metadata": {},
   "outputs": [],
   "source": [
    "from sklearn.linear_model import SGDClassifier\n"
   ]
  },
  {
   "cell_type": "code",
   "execution_count": null,
   "metadata": {},
   "outputs": [],
   "source": [
    "clf = SGDClassifier(loss=\"hinge\", penalty=\"l2\", max_iter=10000)\n",
    "clf.fit(smote_train, smote_target) \n",
    "y_pred5=clf.predict(test)"
   ]
  },
  {
   "cell_type": "code",
   "execution_count": null,
   "metadata": {},
   "outputs": [],
   "source": [
    "pd.crosstab(y_pred5,target_val,normalize='columns')"
   ]
  },
  {
<<<<<<< HEAD
   "cell_type": "code",
   "execution_count": null,
   "metadata": {},
   "outputs": [],
=======
   "cell_type": "markdown",
   "metadata": {},
>>>>>>> a083f58117c24ecf875146665f41926c284f5015
   "source": [
    "gaussian"
   ]
  },
  {
   "cell_type": "code",
   "execution_count": null,
   "metadata": {},
   "outputs": [],
   "source": [
    "from sklearn.gaussian_process import GaussianProcessRegressor"
   ]
  },
  {
   "cell_type": "code",
   "execution_count": null,
   "metadata": {},
   "outputs": [],
   "source": []
  },
  {
   "cell_type": "code",
   "execution_count": null,
   "metadata": {},
   "outputs": [],
   "source": []
  },
  {
   "cell_type": "code",
   "execution_count": null,
   "metadata": {},
   "outputs": [],
   "source": []
  }
 ],
 "metadata": {
  "kernelspec": {
   "display_name": "Python 3",
   "language": "python",
   "name": "python3"
  },
  "language_info": {
   "codemirror_mode": {
    "name": "ipython",
    "version": 3
   },
   "file_extension": ".py",
   "mimetype": "text/x-python",
   "name": "python",
   "nbconvert_exporter": "python",
   "pygments_lexer": "ipython3",
   "version": "3.7.1"
  }
 },
 "nbformat": 4,
 "nbformat_minor": 2
}
