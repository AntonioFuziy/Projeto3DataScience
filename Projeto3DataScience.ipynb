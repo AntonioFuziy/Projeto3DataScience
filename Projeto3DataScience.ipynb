{
 "cells": [
  {
   "cell_type": "markdown",
   "metadata": {},
   "source": [
    "___\n",
    "# **Insper - Ciência dos Dados**\n",
    "\n",
    "## **Projeto 3:**\n",
    "\n",
    "Membros:\n",
    "* Antonio Vieira Fuziy\n",
    "* Willian Kenzo\n",
    "* Ramon Menegatto\n",
    "* André Rocco\n",
    "\n",
    "___\n",
    "### Pergunta e Contexto:\n",
    "\n",
    "* A base de dados escolhida pelo grupo foi retirada do site Kaggle, esse DataFrame é fictício e foi criado por cientistas de dados da IBM com a finalidade de gerar um desafio para que as pessoas tentassem analisar atributos e o desempenho de funcionários da IBM HR Analytics. Assim, a partir desses dados o desafio do nosso grupo seria analisar não só o desempenho e os atributos dos funcionários da IBM, mas também tentar prever a demissão ou saída de um funcionário com auxílio de machine learning.\n",
    "\n",
    "**Link para a base de dados:** [IBM HR Analytics Employee Attrition & Performance](https://www.kaggle.com/pavansubhasht/ibm-hr-analytics-attrition-dataset)\n",
    "\n",
    "**DataFrame principal do projeto:** `IBM`\n",
    "\n",
    "* Utilizando a base de dados da empresa, formulamos a seguinte pergunta:\n",
    "\n",
    "    Qual seriam os parâmetros e as variáveis que influenciam na saída de funcionários da empresa, e a partir dessas variáveis, quais seriam os perfis das pessoas que podem acabar saindo por opinião própria ou sendo demitidas da empresa?"
   ]
  },
  {
   "cell_type": "markdown",
   "metadata": {},
   "source": [
    "___\n",
    "**Importando Bibliotecas:**"
   ]
  },
  {
   "cell_type": "code",
   "execution_count": 72,
   "metadata": {},
   "outputs": [],
   "source": [
    "import pandas as pd\n",
    "import numpy as np\n",
    "import matplotlib.pyplot as plt\n",
    "import statsmodels.api as sm\n",
    "import seaborn as sns\n",
    "import plotly.express as px\n",
    "import plotly.offline as py\n",
    "import plotly.graph_objs as go\n",
    "import plotly.tools as tls\n",
    "import plotly.figure_factory as ff\n",
    "from sklearn.ensemble import RandomForestRegressor\n",
    "from sklearn.preprocessing import StandardScaler\n",
    "from sklearn.model_selection import train_test_split\n",
    "from imblearn.over_sampling import SMOTE\n",
    "from sklearn.ensemble import RandomForestClassifier, GradientBoostingClassifier\n",
    "from sklearn.metrics import accuracy_score, log_loss\n",
    "from xgboost import XGBClassifier\n",
    "from sklearn import datasets, linear_model, metrics \n",
    "from sklearn.svm import SVC\n",
    "from sklearn.metrics import classification_report, confusion_matrix\n",
    "from sklearn.ensemble import AdaBoostClassifier\n",
    "from sklearn.tree import DecisionTreeClassifier\n",
    "from sklearn.datasets import load_breast_cancer\n",
    "from sklearn.preprocessing import LabelEncoder\n"
   ]
  },
  {
   "cell_type": "code",
   "execution_count": 73,
   "metadata": {},
   "outputs": [
    {
     "data": {
      "text/html": [
       "<div>\n",
       "<style scoped>\n",
       "    .dataframe tbody tr th:only-of-type {\n",
       "        vertical-align: middle;\n",
       "    }\n",
       "\n",
       "    .dataframe tbody tr th {\n",
       "        vertical-align: top;\n",
       "    }\n",
       "\n",
       "    .dataframe thead th {\n",
       "        text-align: right;\n",
       "    }\n",
       "</style>\n",
       "<table border=\"1\" class=\"dataframe\">\n",
       "  <thead>\n",
       "    <tr style=\"text-align: right;\">\n",
       "      <th></th>\n",
       "      <th>Age</th>\n",
       "      <th>Attrition</th>\n",
       "      <th>BusinessTravel</th>\n",
       "      <th>Department</th>\n",
       "      <th>DistanceFromHome</th>\n",
       "      <th>Education</th>\n",
       "      <th>EducationField</th>\n",
       "      <th>EmployeeNumber</th>\n",
       "      <th>EnvironmentSatisfaction</th>\n",
       "      <th>Gender</th>\n",
       "      <th>...</th>\n",
       "      <th>PerformanceRating</th>\n",
       "      <th>RelationshipSatisfaction</th>\n",
       "      <th>StockOptionLevel</th>\n",
       "      <th>TotalWorkingYears</th>\n",
       "      <th>TrainingTimesLastYear</th>\n",
       "      <th>WorkLifeBalance</th>\n",
       "      <th>YearsAtCompany</th>\n",
       "      <th>YearsInCurrentRole</th>\n",
       "      <th>YearsSinceLastPromotion</th>\n",
       "      <th>YearsWithCurrManager</th>\n",
       "    </tr>\n",
       "  </thead>\n",
       "  <tbody>\n",
       "    <tr>\n",
       "      <th>0</th>\n",
       "      <td>41</td>\n",
       "      <td>Yes</td>\n",
       "      <td>Travel_Rarely</td>\n",
       "      <td>Sales</td>\n",
       "      <td>1</td>\n",
       "      <td>2</td>\n",
       "      <td>Life Sciences</td>\n",
       "      <td>1</td>\n",
       "      <td>2</td>\n",
       "      <td>Female</td>\n",
       "      <td>...</td>\n",
       "      <td>3</td>\n",
       "      <td>1</td>\n",
       "      <td>0</td>\n",
       "      <td>8</td>\n",
       "      <td>0</td>\n",
       "      <td>1</td>\n",
       "      <td>6</td>\n",
       "      <td>4</td>\n",
       "      <td>0</td>\n",
       "      <td>5</td>\n",
       "    </tr>\n",
       "    <tr>\n",
       "      <th>1</th>\n",
       "      <td>49</td>\n",
       "      <td>No</td>\n",
       "      <td>Travel_Frequently</td>\n",
       "      <td>Research &amp; Development</td>\n",
       "      <td>8</td>\n",
       "      <td>1</td>\n",
       "      <td>Life Sciences</td>\n",
       "      <td>2</td>\n",
       "      <td>3</td>\n",
       "      <td>Male</td>\n",
       "      <td>...</td>\n",
       "      <td>4</td>\n",
       "      <td>4</td>\n",
       "      <td>1</td>\n",
       "      <td>10</td>\n",
       "      <td>3</td>\n",
       "      <td>3</td>\n",
       "      <td>10</td>\n",
       "      <td>7</td>\n",
       "      <td>1</td>\n",
       "      <td>7</td>\n",
       "    </tr>\n",
       "    <tr>\n",
       "      <th>2</th>\n",
       "      <td>37</td>\n",
       "      <td>Yes</td>\n",
       "      <td>Travel_Rarely</td>\n",
       "      <td>Research &amp; Development</td>\n",
       "      <td>2</td>\n",
       "      <td>2</td>\n",
       "      <td>Other</td>\n",
       "      <td>4</td>\n",
       "      <td>4</td>\n",
       "      <td>Male</td>\n",
       "      <td>...</td>\n",
       "      <td>3</td>\n",
       "      <td>2</td>\n",
       "      <td>0</td>\n",
       "      <td>7</td>\n",
       "      <td>3</td>\n",
       "      <td>3</td>\n",
       "      <td>0</td>\n",
       "      <td>0</td>\n",
       "      <td>0</td>\n",
       "      <td>0</td>\n",
       "    </tr>\n",
       "    <tr>\n",
       "      <th>3</th>\n",
       "      <td>33</td>\n",
       "      <td>No</td>\n",
       "      <td>Travel_Frequently</td>\n",
       "      <td>Research &amp; Development</td>\n",
       "      <td>3</td>\n",
       "      <td>4</td>\n",
       "      <td>Life Sciences</td>\n",
       "      <td>5</td>\n",
       "      <td>4</td>\n",
       "      <td>Female</td>\n",
       "      <td>...</td>\n",
       "      <td>3</td>\n",
       "      <td>3</td>\n",
       "      <td>0</td>\n",
       "      <td>8</td>\n",
       "      <td>3</td>\n",
       "      <td>3</td>\n",
       "      <td>8</td>\n",
       "      <td>7</td>\n",
       "      <td>3</td>\n",
       "      <td>0</td>\n",
       "    </tr>\n",
       "    <tr>\n",
       "      <th>4</th>\n",
       "      <td>27</td>\n",
       "      <td>No</td>\n",
       "      <td>Travel_Rarely</td>\n",
       "      <td>Research &amp; Development</td>\n",
       "      <td>2</td>\n",
       "      <td>1</td>\n",
       "      <td>Medical</td>\n",
       "      <td>7</td>\n",
       "      <td>1</td>\n",
       "      <td>Male</td>\n",
       "      <td>...</td>\n",
       "      <td>3</td>\n",
       "      <td>4</td>\n",
       "      <td>1</td>\n",
       "      <td>6</td>\n",
       "      <td>3</td>\n",
       "      <td>3</td>\n",
       "      <td>2</td>\n",
       "      <td>2</td>\n",
       "      <td>2</td>\n",
       "      <td>2</td>\n",
       "    </tr>\n",
       "  </tbody>\n",
       "</table>\n",
       "<p>5 rows × 31 columns</p>\n",
       "</div>"
      ],
      "text/plain": [
       "   Age Attrition     BusinessTravel              Department  DistanceFromHome  \\\n",
       "0   41       Yes      Travel_Rarely                   Sales                 1   \n",
       "1   49        No  Travel_Frequently  Research & Development                 8   \n",
       "2   37       Yes      Travel_Rarely  Research & Development                 2   \n",
       "3   33        No  Travel_Frequently  Research & Development                 3   \n",
       "4   27        No      Travel_Rarely  Research & Development                 2   \n",
       "\n",
       "   Education EducationField  EmployeeNumber  EnvironmentSatisfaction  Gender  \\\n",
       "0          2  Life Sciences               1                        2  Female   \n",
       "1          1  Life Sciences               2                        3    Male   \n",
       "2          2          Other               4                        4    Male   \n",
       "3          4  Life Sciences               5                        4  Female   \n",
       "4          1        Medical               7                        1    Male   \n",
       "\n",
       "          ...           PerformanceRating  RelationshipSatisfaction  \\\n",
       "0         ...                           3                         1   \n",
       "1         ...                           4                         4   \n",
       "2         ...                           3                         2   \n",
       "3         ...                           3                         3   \n",
       "4         ...                           3                         4   \n",
       "\n",
       "   StockOptionLevel TotalWorkingYears  TrainingTimesLastYear WorkLifeBalance  \\\n",
       "0                 0                 8                      0               1   \n",
       "1                 1                10                      3               3   \n",
       "2                 0                 7                      3               3   \n",
       "3                 0                 8                      3               3   \n",
       "4                 1                 6                      3               3   \n",
       "\n",
       "   YearsAtCompany  YearsInCurrentRole  YearsSinceLastPromotion  \\\n",
       "0               6                   4                        0   \n",
       "1              10                   7                        1   \n",
       "2               0                   0                        0   \n",
       "3               8                   7                        3   \n",
       "4               2                   2                        2   \n",
       "\n",
       "  YearsWithCurrManager  \n",
       "0                    5  \n",
       "1                    7  \n",
       "2                    0  \n",
       "3                    0  \n",
       "4                    2  \n",
       "\n",
       "[5 rows x 31 columns]"
      ]
     },
     "execution_count": 73,
     "metadata": {},
     "output_type": "execute_result"
    }
   ],
   "source": [
    "#Importando Excel:\n",
    "IBM_semfiltro = pd.read_csv('IBM.csv')\n",
    "\n",
    "#Filtrando colunas do DataFrame:\n",
    "IBM = IBM_semfiltro.drop(columns=['EmployeeCount','StandardHours','Over18','DailyRate'])\n",
    "\n",
    "IBM.head()"
   ]
  },
  {
   "cell_type": "code",
   "execution_count": 74,
   "metadata": {},
   "outputs": [],
   "source": [
    "#Criando DataFrame que substitui a coluna Attrition = 'Yes' por 1:\n",
    "IBM.loc[IBM['Attrition'] == 'Yes', 'Attrition'] = 1\n",
    "\n",
    "#Criando DataFrame que substitui a coluna Attrition = 'No' por 0:\n",
    "IBM.loc[IBM['Attrition'] == 'No', 'Attrition'] = 0"
   ]
  },
  {
   "cell_type": "markdown",
   "metadata": {},
   "source": [
    "___\n",
    "* **Gráfico de Correlação das variáveis do DataFrame:**\n",
    "\n",
    "___\n",
    "**Legenda:**\n",
    "* **Vermelho:  Correlação Positiva**\n",
    "* **Azul:  Correlação Negativa**"
   ]
  },
  {
   "cell_type": "code",
   "execution_count": 75,
   "metadata": {},
   "outputs": [
    {
     "data": {
      "image/png": "[encoded data removed]",
      "text/plain": [
       "<Figure size 1080x864 with 2 Axes>"
      ]
     },
     "metadata": {
      "needs_background": "light"
     },
     "output_type": "display_data"
    }
   ],
   "source": [
    "#Criando correlação das variáveis:\n",
    "corr=IBM.corr()\n",
    "\n",
    "mask = np.zeros_like(corr, dtype=np.bool)\n",
    "mask[np.triu_indices_from(mask)] = True\n",
    "\n",
    "#Setando a figura:\n",
    "f, ax = plt.subplots(figsize=(15, 12))\n",
    "\n",
    "#Gerando as cores do as corelações:\n",
    "cmap = sns.diverging_palette(220, 10, as_cmap=True)\n",
    "\n",
    "#Printando Matriz de correlação:\n",
    "sns.heatmap(corr, mask=mask, cmap=cmap, vmax=.3, center=0,\n",
    "            square=True, linewidths=.5, cbar_kws={\"shrink\": .5});"
   ]
  },
  {
   "cell_type": "markdown",
   "metadata": {},
   "source": [
    "Nesse gráfico feito por heatmap conseguimos detectar que diversas de nossas variáveis possuem correlações entre si, mesmo se consideradas baixas, como idade e anos na empresa, ou salário mensal e idade, o que já era esperado"
   ]
  },
  {
   "cell_type": "markdown",
   "metadata": {},
   "source": [
    "___\n",
    "* **Gráfico de correlação das variáveis da empresa plotado de forma diferente para ter uma visualização diferente do gráfico acima:**"
   ]
  },
  {
   "cell_type": "code",
   "execution_count": 77,
   "metadata": {},
   "outputs": [
    {
     "data": {
      "image/png": "[encoded data removed]",
      "text/plain": [
       "<Figure size 1440x720 with 1 Axes>"
      ]
     },
     "metadata": {
      "needs_background": "light"
     },
     "output_type": "display_data"
    }
   ],
   "source": [
    "continuous_columns = ['Age','DistanceFromHome', 'Education', 'EnvironmentSatisfaction','HourlyRate','JobInvolvement','JobLevel','JobSatisfaction', 'MonthlyIncome', 'MonthlyRate', 'NumCompaniesWorked','PercentSalaryHike',  'PerformanceRating', 'RelationshipSatisfaction','StockOptionLevel', 'TotalWorkingYears', 'TrainingTimesLastYear','WorkLifeBalance', 'YearsAtCompany', 'YearsInCurrentRole', 'YearsSinceLastPromotion','YearsWithCurrManager'] \n",
    "b=IBM[continuous_columns]\n",
    "\n",
    "a=b.corrwith(IBM['Attrition']).plot.bar(\n",
    "        figsize = (20,10), title = \"Correlation with E Signed\", fontsize = 15,\n",
    "        rot = 45, grid = True)\n",
    "plt.ylabel('Grau de correlação das variáveis');"
   ]
  },
  {
   "cell_type": "markdown",
   "metadata": {},
   "source": [
    "Pode-se notar que a maioria de nossas variáveis tem correlação negativa com a principal(Attrition) o que nos leva a deduzir que quando uma aumenta, a outra diminui, mas o mais importante que pode ser retirado do gráfico feito é que a maioria de nossas variáveis não tem um grande impacto, já que o grau de correlação vai de 1 a -1 e no gráfico acima o máximo que temos é de 0.18"
   ]
  },
  {
   "cell_type": "code",
   "execution_count": null,
   "metadata": {
    "scrolled": false
   },
   "outputs": [],
   "source": [
    "#Printando DataFrame para visualização dos parâmetros.\n",
    "IBM.iloc[:,0:20].head()"
   ]
  },
  {
   "cell_type": "code",
   "execution_count": null,
   "metadata": {},
   "outputs": [],
   "source": [
    "#Printando DataFrame para visualização dos parâmetros.\n",
    "IBM.iloc[:,20:35].head()"
   ]
  },
  {
   "cell_type": "code",
   "execution_count": null,
   "metadata": {},
   "outputs": [],
   "source": [
    "#DataFrame das pessoas com Sem Atrito com a empresa:\n",
    "NoAttrition = IBM.loc[(IBM['Attrition']==0)]\n",
    "\n",
    "#DataFrame das pessoas com Atrito com a empresa:\n",
    "Attrition = IBM.loc[(IBM['Attrition']==1)]"
   ]
  },
  {
   "cell_type": "code",
   "execution_count": null,
   "metadata": {},
   "outputs": [],
   "source": [
    "IBM.iloc[:,0:20].head()"
   ]
  },
  {
   "cell_type": "markdown",
   "metadata": {},
   "source": [
    "___\n",
    "* **Criando função para plotar os gráficos de pizza para comparar as variáveis qualitativas do DataFrame:**"
   ]
  },
  {
   "cell_type": "code",
   "execution_count": null,
   "metadata": {},
   "outputs": [],
   "source": [
    "#foi usado um def encontrado na internet como referencia, erro no codigo legenda errada\n",
    "def plot(va) :\n",
    "\n",
    "    colors = ['darkblue', 'darkorange', 'darkgreen', 'darkred', 'lightgrey', 'orange', 'white', 'lightpink']\n",
    "    trace1 = go.Pie(values  = Attrition[va].value_counts().values.tolist(),\n",
    "                    labels  = Attrition[va].value_counts().keys().tolist(),\n",
    "                    textfont=dict(size=15), opacity = 0.8,\n",
    "                    hoverinfo = \"label+percent+name\",\n",
    "                    domain  = dict(x = [0,.48]),\n",
    "                    name    = \"attrition employes\",\n",
    "                    marker  = dict(colors = colors, line = dict(width = 1.5)))\n",
    "    trace2 = go.Pie(values  = NoAttrition[va].value_counts().values.tolist(),\n",
    "                    labels  = NoAttrition[va].value_counts().keys().tolist(),\n",
    "                    textfont=dict(size=15), opacity = 0.8,\n",
    "                    hoverinfo = \"label+percent+name\",\n",
    "                    marker  = dict(colors = colors, line = dict(width = 1.5)),\n",
    "                    domain  = dict(x = [.52,1]),\n",
    "                    name    = \"Non attrition employes\" )\n",
    "\n",
    "    layout = go.Layout(dict(title = va + \" distribution in employes attrition \",\n",
    "                            annotations = [dict(text = \"Yes_attrition\",\n",
    "                                                font = dict(size = 13),\n",
    "                                                showarrow = False,\n",
    "                                                x = .22, y = -0.1),\n",
    "                                            dict(text = \"No_attrition\",\n",
    "                                                font = dict(size = 13),\n",
    "                                                showarrow = False,\n",
    "                                                x = .8,y = -.1)]))\n",
    "                                          \n",
    "\n",
    "    fig  = go.Figure(data = [trace1,trace2],layout = layout)\n",
    "    py.iplot(fig)"
   ]
  },
  {
   "cell_type": "markdown",
   "metadata": {},
   "source": [
    "#### **Gráfico que mostra a quantidade de pessoas com attrition e sem da empresa**\n",
    "**Estamos utilizando 1 como sendo que teve atrito e 0 como não**"
   ]
  },
  {
   "cell_type": "code",
   "execution_count": null,
   "metadata": {},
   "outputs": [],
   "source": [
    "attri=IBM.Attrition.value_counts()\n",
    "plt.figure(figsize=(15,8))\n",
    "plt.subplot(121)\n",
    "x = sns.countplot(y=\"Attrition\",  data=IBM)\n",
    "plt.subplot(122)\n",
    "attri.plot(kind='pie', colors=('#E1812D','#3174A1'), autopct=\"%.2f\", legend=False)"
   ]
  },
  {
   "cell_type": "markdown",
   "metadata": {},
   "source": [
    "Como podemos notar, existe um desequilibrio entre as duas classes, esse desequilibrio prejudicara nossas técnicas que serão utilizdas para ML, ja que tais algoritmos tem dificuldade de aprender quando uma classe predomina a outra. Para resolver tal situação será utilizada o *SMOTE*(Synthetic Minority Over-sampling TEchnique line by line).\n",
    "\n",
    "Pequeno artigo explicando como o Smoto funciona: http://rikunert.com/SMOTE_explained"
   ]
  },
  {
   "cell_type": "markdown",
   "metadata": {},
   "source": [
    "___\n",
    "* **Plotando os gráficos de pessoas que tem atrito e não tem atrito com a empresa, relacionando-as a satisfação dos funcionários com o trabalho:**\n",
    "___\n",
    "\n",
    "Legenda:\n",
    "\n",
    "JobSatisfaction: \n",
    "* **1: Low** \n",
    "* **2: Medium**\n",
    "* **3: High** \n",
    "* **4: Very High**"
   ]
  },
  {
   "cell_type": "code",
   "execution_count": null,
   "metadata": {},
   "outputs": [],
   "source": [
    "plot(\"JobSatisfaction\")"
   ]
  },
  {
   "cell_type": "markdown",
   "metadata": {},
   "source": [
    "___\n",
    "* **Plotando os gráficos de pessoas que tem atrito e não tem atrito com a empresa, relacionando-as com seu estado civil:**\n",
    "___"
   ]
  },
  {
   "cell_type": "code",
   "execution_count": null,
   "metadata": {},
   "outputs": [],
   "source": [
    "plot(\"MaritalStatus\")"
   ]
  },
  {
   "cell_type": "markdown",
   "metadata": {},
   "source": [
    "O gráfico de pizza acima mostra que a maior parte das pessoas que tem atrito com a empresa é solteiro, e a maior quantida de pessoas que não tem atrito são casados, o que pode estar a ver com que quando se está solteiro, as pessoas costumam a se arriscar mais"
   ]
  },
  {
   "cell_type": "markdown",
   "metadata": {},
   "source": [
    "___\n",
    "* **Plotando os gráficos de pessoas que tem atrito e não tem atrito com a empresa, relacionando-as a Gênero dos funcinários:**"
   ]
  },
  {
   "cell_type": "code",
   "execution_count": null,
   "metadata": {},
   "outputs": [],
   "source": [
    "plot(\"Gender\")"
   ]
  },
  {
   "cell_type": "markdown",
   "metadata": {},
   "source": [
    "___\n",
    "* **Plotando o gráfico de pessoas que tem atrito e não tem atrito com a empresa, relacionando-as ao Número de Companias que a pessoa trabalhou antes:**"
   ]
  },
  {
   "cell_type": "code",
   "execution_count": null,
   "metadata": {
    "scrolled": false
   },
   "outputs": [],
   "source": [
    "sns.barplot(x='Attrition',y=\"Attrition\",hue=\"NumCompaniesWorked\", data=IBM, estimator=lambda x: len(x) / len(IBM) * 100);\n",
    "plt.ylabel('Frequência Relativa (%)');\n"
   ]
  },
  {
   "cell_type": "markdown",
   "metadata": {},
   "source": [
    "___\n",
    "* **Plotando o gráfico de pessoas que tem atrito e não tem atrito com a empresa, relacionando-as a Frequência que a pessoa viaja a trabalho:**"
   ]
  },
  {
   "cell_type": "code",
   "execution_count": null,
   "metadata": {},
   "outputs": [],
   "source": [
    "plot(\"BusinessTravel\")"
   ]
  },
  {
   "cell_type": "markdown",
   "metadata": {},
   "source": [
    "___\n",
    "* **Plotando o gráfico de pessoas que tem atrito e não tem atrito com a empresa, relacionando-as a Área de Formação dos funcionários:**"
   ]
  },
  {
   "cell_type": "code",
   "execution_count": null,
   "metadata": {},
   "outputs": [],
   "source": [
    "sns.barplot(x='Attrition',y=\"Attrition\",hue=\"EducationField\", data=IBM, estimator=lambda x: len(x) / len(IBM) * 100);\n",
    "plt.ylabel('Frequência Relativa (%)');\n"
   ]
  },
  {
   "cell_type": "markdown",
   "metadata": {},
   "source": [
    "___\n",
    "* **Plotando o gráfico de pessoas que tem atrito e não tem atrito com a empresa, relacionando-as a Área de Trabalho dos funcionários:**"
   ]
  },
  {
   "cell_type": "code",
   "execution_count": null,
   "metadata": {},
   "outputs": [],
   "source": [
    "plot(\"JobRole\")"
   ]
  },
  {
   "cell_type": "markdown",
   "metadata": {},
   "source": [
    "Podemos ver que mesmo a maior quantidade de pessoas que tem atrito são técnicos de laboratorio, mesmo "
   ]
  },
  {
   "cell_type": "markdown",
   "metadata": {},
   "source": [
    "___\n",
    "* **Plotando o gráfico de pessoas que tem atrito e não tem atrito, comparando-as se fazem hora extra ou não:**"
   ]
  },
  {
   "cell_type": "code",
   "execution_count": null,
   "metadata": {
    "scrolled": true
   },
   "outputs": [],
   "source": [
    "sns.barplot(x='Attrition',y=\"Attrition\",hue=\"OverTime\", data=IBM, estimator=lambda x: len(x) / len(IBM) * 100);\n",
    "plt.ylabel('Frequência Relativa (%)');"
   ]
  },
  {
   "cell_type": "markdown",
   "metadata": {},
   "source": [
    "Uma coisa interessante enquanto analisavamos nossas variáveis que não pensamos que seria assim, é que a maior quantidade das pessoas que não trabalham hora extra permanecem na empresa, sendo que o grupo acreditava que seria o contrário, otimo insight para a continuação do projeto"
   ]
  },
  {
   "cell_type": "markdown",
   "metadata": {},
   "source": [
    "___\n",
    "* **Plotando o gráfico de pessoas que tem atrito e não tem atrito com a empresa, relacionando-as com a perfomance do indivíduo:**\n",
    "\n",
    "___\n",
    "Legenda:\n",
    "\n",
    "PerformanceRating: \n",
    "* **1: Low** \n",
    "* **2: Good**\n",
    "* **3: Excellent** \n",
    "* **4: Outstanding**"
   ]
  },
  {
   "cell_type": "code",
   "execution_count": null,
   "metadata": {},
   "outputs": [],
   "source": [
    "plot(\"PerformanceRating\")"
   ]
  },
  {
   "cell_type": "markdown",
   "metadata": {},
   "source": [
    "O gráfico acima mostra que perfomance rating não é uma variável muito imporante para definir se o empregado terá ou não atrito com a empresa, o que nós fará a não considera-lo"
   ]
  },
  {
   "cell_type": "markdown",
   "metadata": {},
   "source": [
    "___\n",
    "* **Plotando o gráfico de pessoas que tem atrito e não tem atrito com a empresa, relacionando-as com StockOptionLevel (a empresa fornece ao funcionário a opção de adquirir as ações da empresa a um valor pré-determinado passado um certo período de tempo) :**"
   ]
  },
  {
   "cell_type": "code",
   "execution_count": null,
   "metadata": {
    "scrolled": false
   },
   "outputs": [],
   "source": [
    "sns.barplot(x='Attrition',y=\"Attrition\",hue=\"StockOptionLevel\", data=IBM, estimator=lambda x: len(x) / len(IBM) * 100);\n",
    "plot('StockOptionLevel')\n",
    "plt.ylabel('Frequência Relativa (%)');"
   ]
  },
  {
   "cell_type": "markdown",
   "metadata": {},
   "source": [
    "Os gráficos acima mostram que quando maior o StockOptionLevel da pessoa, menor a chance dele sair da empresa, talvez um desses motivos seja que o funcionário sente-se \"um pouco dono da empresa\", além disso mesmo a maior quantidade de pessoas que não tem atrito com a empresa estando no level 1, a maior frequencia das pessoas que tem atrito são as que não tem stock option."
   ]
  },
  {
   "cell_type": "markdown",
   "metadata": {},
   "source": [
    "___\n",
    "* **Plotando o gráfico de pessoas que tem atrito e não tem atrito com a empresa, relacionando-as com o equilíbrio na vida de trabalho e vida pessoal:**\n",
    "___\n",
    "Legenda:\n",
    "\n",
    "WorkLifeBalance: \n",
    "* **1: Bad** \n",
    "* **2: Good**\n",
    "* **3: Better** \n",
    "* **4: Best**"
   ]
  },
  {
   "cell_type": "code",
   "execution_count": null,
   "metadata": {},
   "outputs": [],
   "source": [
    "plot(\"WorkLifeBalance\")"
   ]
  },
  {
   "cell_type": "markdown",
   "metadata": {},
   "source": [
    "___\n",
    "* **Histograma que mostra os anos na mesma posição de trabalho:**"
   ]
  },
  {
   "cell_type": "code",
   "execution_count": null,
   "metadata": {},
   "outputs": [],
   "source": [
    "sns.barplot(x='Attrition',y=\"Attrition\",hue=\"YearsInCurrentRole\", data=IBM, estimator=lambda x: len(x) / len(IBM) * 100);\n",
    "plt.ylabel('Frequência Relativa (%)');"
   ]
  },
  {
   "cell_type": "markdown",
   "metadata": {},
   "source": [
    "___\n",
    "* **Histograma que motra a frequência relativa dos funcionários desde a última promoção:**"
   ]
  },
  {
   "cell_type": "code",
   "execution_count": null,
   "metadata": {},
   "outputs": [],
   "source": [
    "sns.barplot(x='Attrition',y=\"Attrition\",hue=\"YearsSinceLastPromotion\", data=IBM, estimator=lambda x: len(x) / len(IBM) * 100);\n",
    "plt.ylabel('Frequência Relativa (%)');"
   ]
  },
  {
   "cell_type": "markdown",
   "metadata": {},
   "source": [
    "___\n",
    "* **Histograma com a frequência relativa dos funcionários com seu gerente atual**"
   ]
  },
  {
   "cell_type": "code",
   "execution_count": null,
   "metadata": {},
   "outputs": [],
   "source": [
    "sns.barplot(x='Attrition',y=\"Attrition\",hue=\"YearsWithCurrManager\", data=IBM, estimator=lambda x: len(x) / len(IBM) * 100);\n",
    "plt.ylabel('Frequência Relativa (%)');"
   ]
  },
  {
   "cell_type": "markdown",
   "metadata": {},
   "source": [
    "___\n",
    "* **Gráfico com a frequência relativa dos funcionários na empresa:**"
   ]
  },
  {
   "cell_type": "code",
   "execution_count": null,
   "metadata": {},
   "outputs": [],
   "source": [
    "plt.figure(figsize=(10,8))\n",
    "sns.barplot(x='Attrition',y=\"Attrition\",hue=\"YearsAtCompany\", data=IBM, estimator=lambda x: len(x) / len(IBM) * 100);\n",
    "plt.legend(loc='best',bbox_to_anchor=(1,1))\n",
    "plt.ylabel('Frequência Relativa (%)');"
   ]
  },
  {
   "cell_type": "markdown",
   "metadata": {},
   "source": [
    "___\n",
    "* ### Gráficos de violino para a comparação entre variável quantitativa x qualitativa:"
   ]
  },
  {
   "cell_type": "markdown",
   "metadata": {},
   "source": [
    "Gráficos de violino são semelhantes a boxplot, mas com a adição de um gráfico de densidade de kernel adicionado a cada lado"
   ]
  },
  {
   "cell_type": "markdown",
   "metadata": {},
   "source": [
    "___\n",
    "* **Gráfico comparando Atrito na Empresa X Distância da casa dos funcionários até a empresa:**"
   ]
  },
  {
   "cell_type": "code",
   "execution_count": null,
   "metadata": {},
   "outputs": [],
   "source": [
    "sns.violinplot(x=\"Attrition\", y=\"DistanceFromHome\", data=IBM, scale='count');\n",
    "plt.ylabel('DistanceFromHome (km)');"
   ]
  },
  {
   "cell_type": "markdown",
   "metadata": {},
   "source": [
    "___\n",
    "* **Gráfico comparando Atrito na Empresa X Salário Mensal em U$ dos funcionários:**"
   ]
  },
  {
   "cell_type": "code",
   "execution_count": null,
   "metadata": {},
   "outputs": [],
   "source": [
    "sns.violinplot(x=\"Attrition\", y=\"MonthlyIncome\", data=IBM,scale=\"count\");\n",
    "plt.ylabel('MonthlyIncome (U$)');"
   ]
  },
  {
   "cell_type": "markdown",
   "metadata": {},
   "source": [
    "___\n",
    "* **Gráfico comparando Atrito na Empresa X Renda por hora em U$ dos funcionários:**"
   ]
  },
  {
   "cell_type": "code",
   "execution_count": null,
   "metadata": {},
   "outputs": [],
   "source": [
    "sns.violinplot(x=\"Attrition\", y=\"HourlyRate\", data=IBM,scale='count');\n",
    "plt.ylabel('HourlyRate (U$)');"
   ]
  },
  {
   "cell_type": "markdown",
   "metadata": {},
   "source": [
    "___\n",
    "* **Gráfico comparando Atrito na Empresa X Porcentagem de aumento de salário dos funcionários:**"
   ]
  },
  {
   "cell_type": "code",
   "execution_count": null,
   "metadata": {},
   "outputs": [],
   "source": [
    "sns.violinplot(x=\"Attrition\", y=\"PercentSalaryHike\", data=IBM, scale='count');"
   ]
  },
  {
   "cell_type": "markdown",
   "metadata": {},
   "source": [
    "___\n",
    "* **Gráfico comparando Atrito na Empresa X Renda por mês em U$ dos funcionários:**"
   ]
  },
  {
   "cell_type": "code",
   "execution_count": null,
   "metadata": {},
   "outputs": [],
   "source": [
    "sns.violinplot(x=\"Attrition\", y=\"MonthlyRate\", data=IBM, scale='count');"
   ]
  },
  {
   "cell_type": "markdown",
   "metadata": {},
   "source": [
    "___\n",
    "* ## **Decision Tree**"
   ]
  },
  {
   "cell_type": "code",
   "execution_count": null,
   "metadata": {},
   "outputs": [],
   "source": [
    "'''\n",
    "from sklearn import tree\n",
    "from sklearn.tree import DecisionTreeClassifier\n",
    "'''"
   ]
  },
  {
   "cell_type": "code",
   "execution_count": null,
   "metadata": {},
   "outputs": [],
   "source": [
    "\n",
    "x = IBM['Attrition']\n",
    "y = IBM[['JobInvolvement','JobLevel','EnvironmentSatisfaction','Education','DistanceFromHome','Department','BusinessTravel','HourlyRate','MonthlyIncome']]"
   ]
  },
  {
   "cell_type": "code",
   "execution_count": null,
   "metadata": {},
   "outputs": [],
   "source": []
  },
  {
   "cell_type": "code",
   "execution_count": null,
   "metadata": {},
   "outputs": [],
   "source": [
    "'''\n",
    "X = IBM[['MonthlyIncome','Age','DistanceFromHome','Department']]\n",
    "y = IBM['Attrition']\n",
    "decisiontree = tree.DecisionTreeClassifier(random_state=0, max_depth=2)\n",
    "decisiontree = decisiontree.fit(X,y)\n",
    "pd.crosstab(decisiontree,target_val,normalize='columns')\n",
    "'''"
   ]
  },
  {
   "cell_type": "markdown",
   "metadata": {},
   "source": [
    "___\n",
    "* ## *Preparando nosso dataset para podermos utilizar ml*\n",
    "\n",
    "\n",
    "\n"
   ]
  },
  {
   "cell_type": "code",
   "execution_count": null,
   "metadata": {},
   "outputs": [],
   "source": []
  },
  {
   "cell_type": "code",
   "execution_count": null,
   "metadata": {},
   "outputs": [],
   "source": [
    "#Para utilizar esses metódos e outros, devemos trocar nossas  variaveis categoricas em dummys e separar o nosso teste(data) \n",
    "#com o target, que será o que procuramos, ou seja: Attrition\n",
    "quali = []\n",
    "\n",
    "teste=IBM.drop([\"Attrition\"], axis=1)\n",
    "teste.head()"
   ]
  },
  {
   "cell_type": "code",
   "execution_count": null,
   "metadata": {},
   "outputs": [],
   "source": [
    "teste = pd.get_dummies(teste)\n"
   ]
  },
  {
   "cell_type": "code",
   "execution_count": null,
   "metadata": {},
   "outputs": [],
   "source": [
    "target=IBM['Attrition']\n"
   ]
  },
  {
   "cell_type": "code",
   "execution_count": null,
   "metadata": {},
   "outputs": [],
   "source": [
    "#Splita nosso teste e target em treino e teste, como pode-se notar, o train_size é o tamanho de sua amostra de treino, que\n",
    "#deve ser maior do que sua teste, o recomendado é 66%, pelo livro hands-on machine learning with scikit-learn and tensorflow\n",
    "#ou 75%\n",
    "train, test, target_train, target_val = train_test_split(teste, target, train_size= 0.66,random_state=0);\n",
    "\n"
   ]
  },
  {
   "cell_type": "markdown",
   "metadata": {},
   "source": [
    "<img src=\"files/img/smote.png\">"
   ]
  },
  {
   "cell_type": "code",
   "execution_count": null,
   "metadata": {},
   "outputs": [],
   "source": [
    "#SMOTE-balanceia as variaveis, como vimos em nossa análise exploratoria, a quantidade de pessoas que não tem attriton é mui\n",
    "#to superior as que tem attrition(84%, 16%),uma amostra desbalanceada, e por tal motivo, é necessário utilizar alguma \n",
    "#técnica para balancear nossa amostra, pode-se utilizar SMOTE(oversampler) ou NearMiss(undersampler)\n",
    "\n",
    "oversampler=SMOTE(random_state=0)\n",
    "smote_train, smote_target = oversampler.fit_sample(train,target_train)\n"
   ]
  },
  {
   "cell_type": "code",
   "execution_count": null,
   "metadata": {},
   "outputs": [],
   "source": [
    "bin1 = np.bincount(target_train)\n",
    "bin2 = np.bincount(smote_target)\n",
    "print('Amostra original=',bin1)\n",
    "print('Amostra após utilizar o smote:',bin2)\n",
    "#Pode-se ver que o SMOTE para balancear a quantidade de attriton e no attriton, criou novas \"amostras\" sinteticas"
   ]
  },
  {
   "cell_type": "markdown",
   "metadata": {},
   "source": [
    "___\n",
    "* ## *Random Forest*\n",
    "\n",
    "**O que é?**\n",
    "\n",
    "Random Forest é um algoritmo de aprendizagem supervisionada que cria uma floresta de um modo aleatório, unindo diversas árvores de decisão, utilizando  o metódo de bagging. Esse algoritmo é muito utilizado atualmente ja que ele pode ser utilizado para tarefas de regressão e classificação\n"
   ]
  },
  {
   "cell_type": "code",
   "execution_count": null,
   "metadata": {
    "scrolled": true
   },
   "outputs": [],
   "source": []
  },
  {
   "cell_type": "code",
   "execution_count": null,
   "metadata": {},
   "outputs": [],
   "source": []
  },
  {
   "cell_type": "code",
   "execution_count": null,
   "metadata": {
    "scrolled": true
   },
   "outputs": [],
   "source": [
    "seed = 0   # We set our random seed to zero for reproducibility\n",
    "# Random Forest parameters\n",
    "rf2_params = {\n",
    "    'n_jobs': -1,\n",
    "    'n_estimators': 1000,\n",
    "    'warm_start': True, \n",
    "    'max_features': 0.2,\n",
    "    'max_depth': 6,\n",
    "    'min_samples_leaf': 2,\n",
    "    'max_features' : 'sqrt',\n",
    "    'random_state' : seed,\n",
    "    'verbose': 1\n",
    "}\n",
    "\n",
    "rf2 = RandomForestClassifier(**rf2_params)\n",
    "rf2.fit(smote_train, smote_target)\n",
    "rf2_predictions = rf2.predict(test)\n",
    "accuracy_score(target_val, rf2_predictions)"
   ]
  },
  {
   "cell_type": "code",
   "execution_count": null,
   "metadata": {},
   "outputs": [],
   "source": [
    "y = rf2.feature_importances_\n",
    "x=teste.columns.values\n",
    "fig = px.scatter( x=x, y=y,color=y,\n",
    "                  color_continuous_scale='Cividis')\n",
    "\n",
    "fig.show()\n"
   ]
  },
  {
   "cell_type": "code",
   "execution_count": null,
   "metadata": {},
   "outputs": [],
   "source": [
    "prediction = pd.Series(rf2_predictions)\n",
    "pd.crosstab(prediction,target_val,normalize='columns')"
   ]
  },
  {
   "cell_type": "code",
   "execution_count": null,
   "metadata": {},
   "outputs": [],
   "source": []
  },
  {
   "cell_type": "markdown",
   "metadata": {},
   "source": [
    "## Gradient Boost\n",
    "\n",
    "O Gradient Boost é um grupo de algoritmos de machine learning que combina modelos de predição \"fracos\" para criar um modelo forte. (Generaliza nossa amostra)"
   ]
  },
  {
   "cell_type": "code",
   "execution_count": null,
   "metadata": {},
   "outputs": [],
   "source": [
    "gradient = XGBClassifier()\n",
    "gradient.fit(train, target_train)\n"
   ]
  },
  {
   "cell_type": "code",
   "execution_count": null,
   "metadata": {},
   "outputs": [],
   "source": [
    "# make predictions for test data\n",
    "y_pred = gradient.predict(test)\n",
    "predictions = [round(value) for value in y_pred]\n",
    "\n",
    "# evaluate predictions\n",
    "accuracy = accuracy_score(y_pred, target_val)\n",
    "print(\"Accuracy: %.2f%%\" % (accuracy * 100.0))\n",
    "\n",
    "\n",
    "\n",
    "pd.crosstab(y_pred,target_val,normalize='columns')"
   ]
  },
  {
   "cell_type": "code",
   "execution_count": null,
   "metadata": {},
   "outputs": [],
   "source": [
    "gradient.get_booster().get_score(importance_type=\"gain\")\n",
    "#fazer o plotly"
   ]
  },
  {
   "cell_type": "markdown",
   "metadata": {},
   "source": [
    "## Gradient  com SMOTE\n"
   ]
  },
  {
   "cell_type": "code",
   "execution_count": null,
   "metadata": {},
   "outputs": [],
   "source": [
    "gradient2 = XGBClassifier()\n",
    "gradient2.fit(smote_train, smote_target)"
   ]
  },
  {
   "cell_type": "markdown",
   "metadata": {},
   "source": [
    "___\n",
    "* ## *Regressão Logistica*\n",
    "\n"
   ]
  },
  {
   "cell_type": "code",
   "execution_count": null,
   "metadata": {},
   "outputs": [],
   "source": [
    "reg = linear_model.LogisticRegression() \n"
   ]
  },
  {
   "cell_type": "code",
   "execution_count": null,
   "metadata": {},
   "outputs": [],
   "source": [
    "reg.fit(train, target_train) \n",
    "y_pred = reg.predict(test) \n"
   ]
  },
  {
   "cell_type": "code",
   "execution_count": null,
   "metadata": {},
   "outputs": [],
   "source": [
    "metrics.accuracy_score(target_val,y_pred) \n"
   ]
  },
  {
   "cell_type": "code",
   "execution_count": null,
   "metadata": {
    "scrolled": false
   },
   "outputs": [],
   "source": [
    "\n",
    "pd.crosstab(y_pred,target_val,normalize='columns')"
   ]
  },
  {
   "cell_type": "markdown",
   "metadata": {},
   "source": [
    "# Regressão Logistica com SMOTE"
   ]
  },
  {
   "cell_type": "code",
   "execution_count": null,
   "metadata": {},
   "outputs": [],
   "source": [
    "reg2 = linear_model.LogisticRegression() \n",
    "reg2.fit(smote_train, smote_target) \n",
    "y_pred2 = reg2.predict(test) \n"
   ]
  },
  {
   "cell_type": "code",
   "execution_count": null,
   "metadata": {},
   "outputs": [],
   "source": [
    "metrics.accuracy_score(target_val,y_pred2) \n"
   ]
  },
  {
   "cell_type": "code",
   "execution_count": null,
   "metadata": {},
   "outputs": [],
   "source": [
    "pd.crosstab(y_pred,target_val,normalize='columns')"
   ]
  },
  {
   "cell_type": "markdown",
   "metadata": {},
   "source": [
    "* ## *SVM*\n",
    " \n",
    " \n",
    " # Colocar SVM  no final do notebook, demora"
   ]
  },
  {
   "cell_type": "code",
   "execution_count": null,
   "metadata": {},
   "outputs": [],
   "source": [
    "\n",
    "#svclassifier = SVC(kernel='linear')\n",
    "#svclassifier.fit(train, target_train)\n",
    "#y_pred = svclassifier.predict(test)\n"
   ]
  },
  {
   "cell_type": "code",
   "execution_count": null,
   "metadata": {},
   "outputs": [],
   "source": [
    "#print(confusion_matrix(target_val,y_pred))\n",
    "#print(classification_report(target_val,y_pred))"
   ]
  },
  {
   "cell_type": "code",
   "execution_count": null,
   "metadata": {},
   "outputs": [],
   "source": [
    "#pd.crosstab(y_pred,target_val,normalize='columns')"
   ]
  },
  {
   "cell_type": "code",
   "execution_count": null,
   "metadata": {},
   "outputs": [],
   "source": [
    "#svclassifier1 = SVC(kernel='sigmoid')\n",
    "#svclassifier1.fit(train, target_train)\n",
    "#y_pred1 = svclassifier1.predict(test)"
   ]
  },
  {
   "cell_type": "code",
   "execution_count": null,
   "metadata": {},
   "outputs": [],
   "source": [
    "#print(confusion_matrix(target_val,y_pred1))\n",
    "#print(classification_report(target_val,y_pred1))"
   ]
  },
  {
   "cell_type": "code",
   "execution_count": null,
   "metadata": {},
   "outputs": [],
   "source": [
    "#pd.crosstab(y_pred1,target_val,normalize='columns')"
   ]
  },
  {
   "cell_type": "markdown",
   "metadata": {},
   "source": [
    "* ## Ada Boost"
   ]
  },
  {
   "cell_type": "code",
   "execution_count": null,
   "metadata": {},
   "outputs": [],
   "source": [
    "classifier = AdaBoostClassifier(\n",
    "    DecisionTreeClassifier(max_depth=1),\n",
    "    n_estimators=200\n",
    ")\n",
    "classifier.fit(smote_train, smote_target)\n",
    "\n",
    "predictions = classifier.predict(test)\n",
    "\n",
    "confusion_matrix(target_val, predictions)\n",
    "\n",
    "pd.crosstab(predictions,target_val,normalize='columns')"
   ]
  },
  {
   "cell_type": "code",
   "execution_count": null,
   "metadata": {},
   "outputs": [],
   "source": [
    "classifier = AdaBoostClassifier(\n",
    "    DecisionTreeClassifier(max_depth=1),\n",
    "    n_estimators=200\n",
    ")\n",
    "classifier.fit(train, target_train)\n",
    "\n",
    "predictions = classifier.predict(test)\n",
    "\n",
    "confusion_matrix(target_val, predictions)\n",
    "\n",
    "pd.crosstab(predictions,target_val,normalize='columns')"
   ]
  },
  {
   "cell_type": "markdown",
   "metadata": {},
   "source": [
    "# sgd CLASSIFIER\n"
   ]
  },
  {
   "cell_type": "code",
   "execution_count": null,
   "metadata": {},
   "outputs": [],
   "source": [
    "from sklearn.linear_model import SGDClassifier\n"
   ]
  },
  {
   "cell_type": "code",
   "execution_count": null,
   "metadata": {},
   "outputs": [],
   "source": [
    "clf = SGDClassifier(loss=\"hinge\", penalty=\"l2\", max_iter=10000)\n",
    "clf.fit(smote_train, smote_target) \n",
    "y_pred5=clf.predict(test)"
   ]
  },
  {
   "cell_type": "code",
   "execution_count": null,
   "metadata": {},
   "outputs": [],
   "source": [
    "pd.crosstab(y_pred5,target_val,normalize='columns')"
   ]
  },
  {
   "cell_type": "markdown",
   "metadata": {},
   "source": [
    "gaussian"
   ]
  },
  {
   "cell_type": "code",
   "execution_count": null,
   "metadata": {},
   "outputs": [],
   "source": [
    "from sklearn.gaussian_process import GaussianProcessRegressor"
   ]
  },
  {
   "cell_type": "code",
   "execution_count": null,
   "metadata": {},
   "outputs": [],
   "source": []
  },
  {
   "cell_type": "code",
   "execution_count": null,
   "metadata": {},
   "outputs": [],
   "source": []
  },
  {
   "cell_type": "code",
   "execution_count": null,
   "metadata": {},
   "outputs": [],
   "source": []
  }
 ],
 "metadata": {
  "kernelspec": {
   "display_name": "Python 3",
   "language": "python",
   "name": "python3"
  },
  "language_info": {
   "codemirror_mode": {
    "name": "ipython",
    "version": 3
   },
   "file_extension": ".py",
   "mimetype": "text/x-python",
   "name": "python",
   "nbconvert_exporter": "python",
   "pygments_lexer": "ipython3",
   "version": "3.7.1"
  }
 },
 "nbformat": 4,
 "nbformat_minor": 2
}
